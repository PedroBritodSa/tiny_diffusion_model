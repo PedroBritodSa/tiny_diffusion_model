{
 "cells": [
  {
   "cell_type": "code",
   "execution_count": 10,
   "metadata": {},
   "outputs": [],
   "source": [
    "\n",
    "import sys\n",
    "sys.path.append('/home/pedru/Documents/tiny_diffusion_model')\n",
    "\n",
    "from tiny_diffusion_model import TimeInputMLP, ScheduleLogLinear, BarnsleyFern, training_loop, moving_average, samples\n"
   ]
  },
  {
   "cell_type": "markdown",
   "metadata": {},
   "source": []
  },
  {
   "cell_type": "code",
   "execution_count": 11,
   "metadata": {},
   "outputs": [
    {
     "name": "stderr",
     "output_type": "stream",
     "text": [
      "  0%|          | 2/10000 [00:00<17:23,  9.58it/s]"
     ]
    },
    {
     "name": "stdout",
     "output_type": "stream",
     "text": [
      "Epoch 0: Loss = 0.9817\n",
      "Epoch 0: Loss = 0.9796\n",
      "Epoch 0: Loss = 0.9763\n",
      "Epoch 0: Loss = 0.9569\n",
      "Epoch 0: Loss = 0.9366\n"
     ]
    },
    {
     "name": "stderr",
     "output_type": "stream",
     "text": [
      "  0%|          | 12/10000 [00:01<14:36, 11.40it/s]"
     ]
    },
    {
     "name": "stdout",
     "output_type": "stream",
     "text": [
      "Epoch 10: Loss = 0.7908\n",
      "Epoch 10: Loss = 0.7631\n",
      "Epoch 10: Loss = 0.7722\n",
      "Epoch 10: Loss = 0.7920\n",
      "Epoch 10: Loss = 0.7609\n"
     ]
    },
    {
     "name": "stderr",
     "output_type": "stream",
     "text": [
      "  0%|          | 22/10000 [00:01<14:01, 11.85it/s]"
     ]
    },
    {
     "name": "stdout",
     "output_type": "stream",
     "text": [
      "Epoch 20: Loss = 0.7328\n",
      "Epoch 20: Loss = 0.7611\n",
      "Epoch 20: Loss = 0.7571\n",
      "Epoch 20: Loss = 0.7483\n",
      "Epoch 20: Loss = 0.7199\n"
     ]
    },
    {
     "name": "stderr",
     "output_type": "stream",
     "text": [
      "  0%|          | 32/10000 [00:02<15:02, 11.04it/s]"
     ]
    },
    {
     "name": "stdout",
     "output_type": "stream",
     "text": [
      "Epoch 30: Loss = 0.7186\n",
      "Epoch 30: Loss = 0.7514\n",
      "Epoch 30: Loss = 0.7360\n",
      "Epoch 30: Loss = 0.7403\n",
      "Epoch 30: Loss = 0.7477\n"
     ]
    },
    {
     "name": "stderr",
     "output_type": "stream",
     "text": [
      "  0%|          | 42/10000 [00:03<14:20, 11.57it/s]"
     ]
    },
    {
     "name": "stdout",
     "output_type": "stream",
     "text": [
      "Epoch 40: Loss = 0.7394\n",
      "Epoch 40: Loss = 0.7233\n",
      "Epoch 40: Loss = 0.7183\n",
      "Epoch 40: Loss = 0.7207\n",
      "Epoch 40: Loss = 0.7445\n"
     ]
    },
    {
     "name": "stderr",
     "output_type": "stream",
     "text": [
      "  1%|          | 52/10000 [00:04<12:18, 13.48it/s]"
     ]
    },
    {
     "name": "stdout",
     "output_type": "stream",
     "text": [
      "Epoch 50: Loss = 0.7177\n",
      "Epoch 50: Loss = 0.7211\n",
      "Epoch 50: Loss = 0.7284\n",
      "Epoch 50: Loss = 0.7070\n",
      "Epoch 50: Loss = 0.7158\n"
     ]
    },
    {
     "name": "stderr",
     "output_type": "stream",
     "text": [
      "  1%|          | 62/10000 [00:05<12:25, 13.34it/s]"
     ]
    },
    {
     "name": "stdout",
     "output_type": "stream",
     "text": [
      "Epoch 60: Loss = 0.6914\n",
      "Epoch 60: Loss = 0.6717\n",
      "Epoch 60: Loss = 0.7221\n",
      "Epoch 60: Loss = 0.6986\n",
      "Epoch 60: Loss = 0.7089\n"
     ]
    },
    {
     "name": "stderr",
     "output_type": "stream",
     "text": [
      "  1%|          | 72/10000 [00:06<13:05, 12.63it/s]"
     ]
    },
    {
     "name": "stdout",
     "output_type": "stream",
     "text": [
      "Epoch 70: Loss = 0.6717\n",
      "Epoch 70: Loss = 0.7454\n",
      "Epoch 70: Loss = 0.6837\n",
      "Epoch 70: Loss = 0.7117\n",
      "Epoch 70: Loss = 0.7186\n"
     ]
    },
    {
     "name": "stderr",
     "output_type": "stream",
     "text": [
      "  1%|          | 82/10000 [00:06<12:08, 13.62it/s]"
     ]
    },
    {
     "name": "stdout",
     "output_type": "stream",
     "text": [
      "Epoch 80: Loss = 0.6754\n",
      "Epoch 80: Loss = 0.7151\n",
      "Epoch 80: Loss = 0.7278\n",
      "Epoch 80: Loss = 0.6965\n",
      "Epoch 80: Loss = 0.6972\n"
     ]
    },
    {
     "name": "stderr",
     "output_type": "stream",
     "text": [
      "  1%|          | 92/10000 [00:07<12:22, 13.34it/s]"
     ]
    },
    {
     "name": "stdout",
     "output_type": "stream",
     "text": [
      "Epoch 90: Loss = 0.7323\n",
      "Epoch 90: Loss = 0.7100\n",
      "Epoch 90: Loss = 0.6927\n",
      "Epoch 90: Loss = 0.7078\n",
      "Epoch 90: Loss = 0.6892\n"
     ]
    },
    {
     "name": "stderr",
     "output_type": "stream",
     "text": [
      "  1%|          | 102/10000 [00:08<14:19, 11.52it/s]"
     ]
    },
    {
     "name": "stdout",
     "output_type": "stream",
     "text": [
      "Epoch 100: Loss = 0.6935\n",
      "Epoch 100: Loss = 0.7186\n",
      "Epoch 100: Loss = 0.7095\n",
      "Epoch 100: Loss = 0.7034\n",
      "Epoch 100: Loss = 0.7141\n"
     ]
    },
    {
     "name": "stderr",
     "output_type": "stream",
     "text": [
      "  1%|          | 112/10000 [00:09<12:25, 13.26it/s]"
     ]
    },
    {
     "name": "stdout",
     "output_type": "stream",
     "text": [
      "Epoch 110: Loss = 0.6920\n",
      "Epoch 110: Loss = 0.6924\n",
      "Epoch 110: Loss = 0.6661\n",
      "Epoch 110: Loss = 0.6725\n",
      "Epoch 110: Loss = 0.7135\n"
     ]
    },
    {
     "name": "stderr",
     "output_type": "stream",
     "text": [
      "  1%|          | 122/10000 [00:09<12:10, 13.52it/s]"
     ]
    },
    {
     "name": "stdout",
     "output_type": "stream",
     "text": [
      "Epoch 120: Loss = 0.6703\n",
      "Epoch 120: Loss = 0.6522\n",
      "Epoch 120: Loss = 0.6838\n",
      "Epoch 120: Loss = 0.6654\n",
      "Epoch 120: Loss = 0.7226\n"
     ]
    },
    {
     "name": "stderr",
     "output_type": "stream",
     "text": [
      "  1%|▏         | 132/10000 [00:10<11:40, 14.08it/s]"
     ]
    },
    {
     "name": "stdout",
     "output_type": "stream",
     "text": [
      "Epoch 130: Loss = 0.7057\n",
      "Epoch 130: Loss = 0.6769\n",
      "Epoch 130: Loss = 0.7037\n",
      "Epoch 130: Loss = 0.6861\n",
      "Epoch 130: Loss = 0.6972\n"
     ]
    },
    {
     "name": "stderr",
     "output_type": "stream",
     "text": [
      "  1%|▏         | 142/10000 [00:11<11:39, 14.09it/s]"
     ]
    },
    {
     "name": "stdout",
     "output_type": "stream",
     "text": [
      "Epoch 140: Loss = 0.6996\n",
      "Epoch 140: Loss = 0.6930\n",
      "Epoch 140: Loss = 0.6879\n",
      "Epoch 140: Loss = 0.6730\n",
      "Epoch 140: Loss = 0.7106\n"
     ]
    },
    {
     "name": "stderr",
     "output_type": "stream",
     "text": [
      "  2%|▏         | 152/10000 [00:12<12:26, 13.19it/s]"
     ]
    },
    {
     "name": "stdout",
     "output_type": "stream",
     "text": [
      "Epoch 150: Loss = 0.7098\n",
      "Epoch 150: Loss = 0.6929\n",
      "Epoch 150: Loss = 0.7034\n",
      "Epoch 150: Loss = 0.7244\n",
      "Epoch 150: Loss = 0.6867\n"
     ]
    },
    {
     "name": "stderr",
     "output_type": "stream",
     "text": [
      "  2%|▏         | 162/10000 [00:12<12:40, 12.94it/s]"
     ]
    },
    {
     "name": "stdout",
     "output_type": "stream",
     "text": [
      "Epoch 160: Loss = 0.6824\n",
      "Epoch 160: Loss = 0.6995\n",
      "Epoch 160: Loss = 0.7348\n",
      "Epoch 160: Loss = 0.6735\n",
      "Epoch 160: Loss = 0.6828\n"
     ]
    },
    {
     "name": "stderr",
     "output_type": "stream",
     "text": [
      "  2%|▏         | 172/10000 [00:13<14:56, 10.97it/s]"
     ]
    },
    {
     "name": "stdout",
     "output_type": "stream",
     "text": [
      "Epoch 170: Loss = 0.6733\n",
      "Epoch 170: Loss = 0.6836\n",
      "Epoch 170: Loss = 0.6986\n",
      "Epoch 170: Loss = 0.6692\n",
      "Epoch 170: Loss = 0.7010\n"
     ]
    },
    {
     "name": "stderr",
     "output_type": "stream",
     "text": [
      "  2%|▏         | 182/10000 [00:14<12:28, 13.12it/s]"
     ]
    },
    {
     "name": "stdout",
     "output_type": "stream",
     "text": [
      "Epoch 180: Loss = 0.7022\n",
      "Epoch 180: Loss = 0.6511\n",
      "Epoch 180: Loss = 0.6761\n",
      "Epoch 180: Loss = 0.6988\n",
      "Epoch 180: Loss = 0.7082\n"
     ]
    },
    {
     "name": "stderr",
     "output_type": "stream",
     "text": [
      "  2%|▏         | 192/10000 [00:15<11:57, 13.68it/s]"
     ]
    },
    {
     "name": "stdout",
     "output_type": "stream",
     "text": [
      "Epoch 190: Loss = 0.6818\n",
      "Epoch 190: Loss = 0.6530\n",
      "Epoch 190: Loss = 0.6472\n",
      "Epoch 190: Loss = 0.6787\n",
      "Epoch 190: Loss = 0.7264\n"
     ]
    },
    {
     "name": "stderr",
     "output_type": "stream",
     "text": [
      "  2%|▏         | 202/10000 [00:16<15:38, 10.44it/s]"
     ]
    },
    {
     "name": "stdout",
     "output_type": "stream",
     "text": [
      "Epoch 200: Loss = 0.6550\n",
      "Epoch 200: Loss = 0.6803\n",
      "Epoch 200: Loss = 0.6780\n",
      "Epoch 200: Loss = 0.7202\n",
      "Epoch 200: Loss = 0.6667\n"
     ]
    },
    {
     "name": "stderr",
     "output_type": "stream",
     "text": [
      "  2%|▏         | 212/10000 [00:17<12:49, 12.73it/s]"
     ]
    },
    {
     "name": "stdout",
     "output_type": "stream",
     "text": [
      "Epoch 210: Loss = 0.6762\n",
      "Epoch 210: Loss = 0.6341\n",
      "Epoch 210: Loss = 0.6561\n",
      "Epoch 210: Loss = 0.6930\n",
      "Epoch 210: Loss = 0.7004\n"
     ]
    },
    {
     "name": "stderr",
     "output_type": "stream",
     "text": [
      "  2%|▏         | 222/10000 [00:17<11:51, 13.75it/s]"
     ]
    },
    {
     "name": "stdout",
     "output_type": "stream",
     "text": [
      "Epoch 220: Loss = 0.7028\n",
      "Epoch 220: Loss = 0.6820\n",
      "Epoch 220: Loss = 0.6781\n",
      "Epoch 220: Loss = 0.7110\n",
      "Epoch 220: Loss = 0.6971\n"
     ]
    },
    {
     "name": "stderr",
     "output_type": "stream",
     "text": [
      "  2%|▏         | 232/10000 [00:18<13:05, 12.44it/s]"
     ]
    },
    {
     "name": "stdout",
     "output_type": "stream",
     "text": [
      "Epoch 230: Loss = 0.6877\n",
      "Epoch 230: Loss = 0.6751\n",
      "Epoch 230: Loss = 0.6822\n",
      "Epoch 230: Loss = 0.6628\n",
      "Epoch 230: Loss = 0.6875\n"
     ]
    },
    {
     "name": "stderr",
     "output_type": "stream",
     "text": [
      "  2%|▏         | 242/10000 [00:19<13:53, 11.71it/s]"
     ]
    },
    {
     "name": "stdout",
     "output_type": "stream",
     "text": [
      "Epoch 240: Loss = 0.6992\n",
      "Epoch 240: Loss = 0.6791\n",
      "Epoch 240: Loss = 0.7027\n",
      "Epoch 240: Loss = 0.6915\n",
      "Epoch 240: Loss = 0.6811\n"
     ]
    },
    {
     "name": "stderr",
     "output_type": "stream",
     "text": [
      "  3%|▎         | 252/10000 [00:20<14:51, 10.93it/s]"
     ]
    },
    {
     "name": "stdout",
     "output_type": "stream",
     "text": [
      "Epoch 250: Loss = 0.6875\n",
      "Epoch 250: Loss = 0.6705\n",
      "Epoch 250: Loss = 0.6916\n",
      "Epoch 250: Loss = 0.6907\n",
      "Epoch 250: Loss = 0.6454\n"
     ]
    },
    {
     "name": "stderr",
     "output_type": "stream",
     "text": [
      "  3%|▎         | 262/10000 [00:21<12:28, 13.01it/s]"
     ]
    },
    {
     "name": "stdout",
     "output_type": "stream",
     "text": [
      "Epoch 260: Loss = 0.6971\n",
      "Epoch 260: Loss = 0.6982\n",
      "Epoch 260: Loss = 0.6622\n",
      "Epoch 260: Loss = 0.6768\n",
      "Epoch 260: Loss = 0.6953\n"
     ]
    },
    {
     "name": "stderr",
     "output_type": "stream",
     "text": [
      "  3%|▎         | 272/10000 [00:21<12:30, 12.96it/s]"
     ]
    },
    {
     "name": "stdout",
     "output_type": "stream",
     "text": [
      "Epoch 270: Loss = 0.6910\n",
      "Epoch 270: Loss = 0.6853\n",
      "Epoch 270: Loss = 0.7112\n",
      "Epoch 270: Loss = 0.6953\n",
      "Epoch 270: Loss = 0.6442\n"
     ]
    },
    {
     "name": "stderr",
     "output_type": "stream",
     "text": [
      "  3%|▎         | 282/10000 [00:22<11:44, 13.79it/s]"
     ]
    },
    {
     "name": "stdout",
     "output_type": "stream",
     "text": [
      "Epoch 280: Loss = 0.6639\n",
      "Epoch 280: Loss = 0.6870\n",
      "Epoch 280: Loss = 0.6849\n",
      "Epoch 280: Loss = 0.6866\n",
      "Epoch 280: Loss = 0.6739\n"
     ]
    },
    {
     "name": "stderr",
     "output_type": "stream",
     "text": [
      "  3%|▎         | 292/10000 [00:23<14:03, 11.51it/s]"
     ]
    },
    {
     "name": "stdout",
     "output_type": "stream",
     "text": [
      "Epoch 290: Loss = 0.6888\n",
      "Epoch 290: Loss = 0.6856\n",
      "Epoch 290: Loss = 0.6490\n",
      "Epoch 290: Loss = 0.6985\n",
      "Epoch 290: Loss = 0.6634\n"
     ]
    },
    {
     "name": "stderr",
     "output_type": "stream",
     "text": [
      "  3%|▎         | 302/10000 [00:24<12:47, 12.64it/s]"
     ]
    },
    {
     "name": "stdout",
     "output_type": "stream",
     "text": [
      "Epoch 300: Loss = 0.7124\n",
      "Epoch 300: Loss = 0.6875\n",
      "Epoch 300: Loss = 0.7046\n",
      "Epoch 300: Loss = 0.6874\n",
      "Epoch 300: Loss = 0.6889\n"
     ]
    },
    {
     "name": "stderr",
     "output_type": "stream",
     "text": [
      "  3%|▎         | 312/10000 [00:25<13:00, 12.42it/s]"
     ]
    },
    {
     "name": "stdout",
     "output_type": "stream",
     "text": [
      "Epoch 310: Loss = 0.6783\n",
      "Epoch 310: Loss = 0.6927\n",
      "Epoch 310: Loss = 0.6649\n",
      "Epoch 310: Loss = 0.7255\n",
      "Epoch 310: Loss = 0.7315\n"
     ]
    },
    {
     "name": "stderr",
     "output_type": "stream",
     "text": [
      "  3%|▎         | 322/10000 [00:25<12:44, 12.67it/s]"
     ]
    },
    {
     "name": "stdout",
     "output_type": "stream",
     "text": [
      "Epoch 320: Loss = 0.6769\n",
      "Epoch 320: Loss = 0.6973\n",
      "Epoch 320: Loss = 0.6453\n",
      "Epoch 320: Loss = 0.6967\n",
      "Epoch 320: Loss = 0.7073\n"
     ]
    },
    {
     "name": "stderr",
     "output_type": "stream",
     "text": [
      "  3%|▎         | 332/10000 [00:26<11:48, 13.65it/s]"
     ]
    },
    {
     "name": "stdout",
     "output_type": "stream",
     "text": [
      "Epoch 330: Loss = 0.6585\n",
      "Epoch 330: Loss = 0.6704\n",
      "Epoch 330: Loss = 0.6678\n",
      "Epoch 330: Loss = 0.6908\n",
      "Epoch 330: Loss = 0.7038\n"
     ]
    },
    {
     "name": "stderr",
     "output_type": "stream",
     "text": [
      "  3%|▎         | 342/10000 [00:27<14:01, 11.47it/s]"
     ]
    },
    {
     "name": "stdout",
     "output_type": "stream",
     "text": [
      "Epoch 340: Loss = 0.7119\n",
      "Epoch 340: Loss = 0.6850\n",
      "Epoch 340: Loss = 0.6879\n",
      "Epoch 340: Loss = 0.7031\n",
      "Epoch 340: Loss = 0.6425\n"
     ]
    },
    {
     "name": "stderr",
     "output_type": "stream",
     "text": [
      "  4%|▎         | 352/10000 [00:28<14:06, 11.40it/s]"
     ]
    },
    {
     "name": "stdout",
     "output_type": "stream",
     "text": [
      "Epoch 350: Loss = 0.6854\n",
      "Epoch 350: Loss = 0.6733\n",
      "Epoch 350: Loss = 0.6848\n",
      "Epoch 350: Loss = 0.6810\n",
      "Epoch 350: Loss = 0.6622\n"
     ]
    },
    {
     "name": "stderr",
     "output_type": "stream",
     "text": [
      "  4%|▎         | 362/10000 [00:29<14:23, 11.16it/s]"
     ]
    },
    {
     "name": "stdout",
     "output_type": "stream",
     "text": [
      "Epoch 360: Loss = 0.6608\n",
      "Epoch 360: Loss = 0.6709\n",
      "Epoch 360: Loss = 0.6944\n",
      "Epoch 360: Loss = 0.7047\n",
      "Epoch 360: Loss = 0.6541\n"
     ]
    },
    {
     "name": "stderr",
     "output_type": "stream",
     "text": [
      "  4%|▎         | 372/10000 [00:30<13:29, 11.89it/s]"
     ]
    },
    {
     "name": "stdout",
     "output_type": "stream",
     "text": [
      "Epoch 370: Loss = 0.6939\n",
      "Epoch 370: Loss = 0.6933\n",
      "Epoch 370: Loss = 0.6686\n",
      "Epoch 370: Loss = 0.6722\n",
      "Epoch 370: Loss = 0.6836\n"
     ]
    },
    {
     "name": "stderr",
     "output_type": "stream",
     "text": [
      "  4%|▍         | 382/10000 [00:31<13:15, 12.09it/s]"
     ]
    },
    {
     "name": "stdout",
     "output_type": "stream",
     "text": [
      "Epoch 380: Loss = 0.6711\n",
      "Epoch 380: Loss = 0.6731\n",
      "Epoch 380: Loss = 0.6604\n",
      "Epoch 380: Loss = 0.6826\n",
      "Epoch 380: Loss = 0.6592\n"
     ]
    },
    {
     "name": "stderr",
     "output_type": "stream",
     "text": [
      "  4%|▍         | 392/10000 [00:31<13:03, 12.26it/s]"
     ]
    },
    {
     "name": "stdout",
     "output_type": "stream",
     "text": [
      "Epoch 390: Loss = 0.6653\n",
      "Epoch 390: Loss = 0.7223\n",
      "Epoch 390: Loss = 0.6984\n",
      "Epoch 390: Loss = 0.6786\n",
      "Epoch 390: Loss = 0.6824\n"
     ]
    },
    {
     "name": "stderr",
     "output_type": "stream",
     "text": [
      "  4%|▍         | 402/10000 [00:32<14:57, 10.70it/s]"
     ]
    },
    {
     "name": "stdout",
     "output_type": "stream",
     "text": [
      "Epoch 400: Loss = 0.6891\n",
      "Epoch 400: Loss = 0.6846\n",
      "Epoch 400: Loss = 0.6978\n",
      "Epoch 400: Loss = 0.6650\n",
      "Epoch 400: Loss = 0.6874\n"
     ]
    },
    {
     "name": "stderr",
     "output_type": "stream",
     "text": [
      "  4%|▍         | 412/10000 [00:33<14:44, 10.84it/s]"
     ]
    },
    {
     "name": "stdout",
     "output_type": "stream",
     "text": [
      "Epoch 410: Loss = 0.6809\n",
      "Epoch 410: Loss = 0.6615\n",
      "Epoch 410: Loss = 0.6719\n",
      "Epoch 410: Loss = 0.7134\n",
      "Epoch 410: Loss = 0.6768\n"
     ]
    },
    {
     "name": "stderr",
     "output_type": "stream",
     "text": [
      "  4%|▍         | 422/10000 [00:34<14:32, 10.98it/s]"
     ]
    },
    {
     "name": "stdout",
     "output_type": "stream",
     "text": [
      "Epoch 420: Loss = 0.7039\n",
      "Epoch 420: Loss = 0.6745\n",
      "Epoch 420: Loss = 0.6575\n",
      "Epoch 420: Loss = 0.6680\n",
      "Epoch 420: Loss = 0.7140\n"
     ]
    },
    {
     "name": "stderr",
     "output_type": "stream",
     "text": [
      "  4%|▍         | 432/10000 [00:35<13:13, 12.06it/s]"
     ]
    },
    {
     "name": "stdout",
     "output_type": "stream",
     "text": [
      "Epoch 430: Loss = 0.6889\n",
      "Epoch 430: Loss = 0.6937\n",
      "Epoch 430: Loss = 0.6646\n",
      "Epoch 430: Loss = 0.6422\n",
      "Epoch 430: Loss = 0.7175\n"
     ]
    },
    {
     "name": "stderr",
     "output_type": "stream",
     "text": [
      "  4%|▍         | 442/10000 [00:36<12:03, 13.22it/s]"
     ]
    },
    {
     "name": "stdout",
     "output_type": "stream",
     "text": [
      "Epoch 440: Loss = 0.6989\n",
      "Epoch 440: Loss = 0.7005\n",
      "Epoch 440: Loss = 0.6781\n",
      "Epoch 440: Loss = 0.7104\n",
      "Epoch 440: Loss = 0.6760\n"
     ]
    },
    {
     "name": "stderr",
     "output_type": "stream",
     "text": [
      "  5%|▍         | 452/10000 [00:36<11:34, 13.74it/s]"
     ]
    },
    {
     "name": "stdout",
     "output_type": "stream",
     "text": [
      "Epoch 450: Loss = 0.6599\n",
      "Epoch 450: Loss = 0.6715\n",
      "Epoch 450: Loss = 0.6435\n",
      "Epoch 450: Loss = 0.6922\n",
      "Epoch 450: Loss = 0.7045\n"
     ]
    },
    {
     "name": "stderr",
     "output_type": "stream",
     "text": [
      "  5%|▍         | 462/10000 [00:37<12:03, 13.18it/s]"
     ]
    },
    {
     "name": "stdout",
     "output_type": "stream",
     "text": [
      "Epoch 460: Loss = 0.6821\n",
      "Epoch 460: Loss = 0.7176\n",
      "Epoch 460: Loss = 0.6706\n",
      "Epoch 460: Loss = 0.6616\n",
      "Epoch 460: Loss = 0.6574\n"
     ]
    },
    {
     "name": "stderr",
     "output_type": "stream",
     "text": [
      "  5%|▍         | 472/10000 [00:38<12:35, 12.62it/s]"
     ]
    },
    {
     "name": "stdout",
     "output_type": "stream",
     "text": [
      "Epoch 470: Loss = 0.6589\n",
      "Epoch 470: Loss = 0.6865\n",
      "Epoch 470: Loss = 0.6831\n",
      "Epoch 470: Loss = 0.6797\n",
      "Epoch 470: Loss = 0.6832\n"
     ]
    },
    {
     "name": "stderr",
     "output_type": "stream",
     "text": [
      "  5%|▍         | 482/10000 [00:39<11:27, 13.85it/s]"
     ]
    },
    {
     "name": "stdout",
     "output_type": "stream",
     "text": [
      "Epoch 480: Loss = 0.6923\n",
      "Epoch 480: Loss = 0.6849\n",
      "Epoch 480: Loss = 0.6894\n",
      "Epoch 480: Loss = 0.6798\n",
      "Epoch 480: Loss = 0.6667\n"
     ]
    },
    {
     "name": "stderr",
     "output_type": "stream",
     "text": [
      "  5%|▍         | 492/10000 [00:40<13:39, 11.61it/s]"
     ]
    },
    {
     "name": "stdout",
     "output_type": "stream",
     "text": [
      "Epoch 490: Loss = 0.6610\n",
      "Epoch 490: Loss = 0.6570\n",
      "Epoch 490: Loss = 0.6865\n",
      "Epoch 490: Loss = 0.6871\n",
      "Epoch 490: Loss = 0.6972\n"
     ]
    },
    {
     "name": "stderr",
     "output_type": "stream",
     "text": [
      "  5%|▌         | 502/10000 [00:40<12:19, 12.84it/s]"
     ]
    },
    {
     "name": "stdout",
     "output_type": "stream",
     "text": [
      "Epoch 500: Loss = 0.6552\n",
      "Epoch 500: Loss = 0.6840\n",
      "Epoch 500: Loss = 0.7067\n",
      "Epoch 500: Loss = 0.6681\n",
      "Epoch 500: Loss = 0.6695\n"
     ]
    },
    {
     "name": "stderr",
     "output_type": "stream",
     "text": [
      "  5%|▌         | 512/10000 [00:41<11:25, 13.84it/s]"
     ]
    },
    {
     "name": "stdout",
     "output_type": "stream",
     "text": [
      "Epoch 510: Loss = 0.6556\n",
      "Epoch 510: Loss = 0.7129\n",
      "Epoch 510: Loss = 0.6527\n",
      "Epoch 510: Loss = 0.6912\n",
      "Epoch 510: Loss = 0.6520\n"
     ]
    },
    {
     "name": "stderr",
     "output_type": "stream",
     "text": [
      "  5%|▌         | 522/10000 [00:42<11:25, 13.83it/s]"
     ]
    },
    {
     "name": "stdout",
     "output_type": "stream",
     "text": [
      "Epoch 520: Loss = 0.6799\n",
      "Epoch 520: Loss = 0.6626\n",
      "Epoch 520: Loss = 0.6840\n",
      "Epoch 520: Loss = 0.6867\n",
      "Epoch 520: Loss = 0.6755\n"
     ]
    },
    {
     "name": "stderr",
     "output_type": "stream",
     "text": [
      "  5%|▌         | 532/10000 [00:43<12:32, 12.58it/s]"
     ]
    },
    {
     "name": "stdout",
     "output_type": "stream",
     "text": [
      "Epoch 530: Loss = 0.6842\n",
      "Epoch 530: Loss = 0.6414\n",
      "Epoch 530: Loss = 0.6811\n",
      "Epoch 530: Loss = 0.7014\n",
      "Epoch 530: Loss = 0.6639\n"
     ]
    },
    {
     "name": "stderr",
     "output_type": "stream",
     "text": [
      "  5%|▌         | 542/10000 [00:43<11:31, 13.67it/s]"
     ]
    },
    {
     "name": "stdout",
     "output_type": "stream",
     "text": [
      "Epoch 540: Loss = 0.6953\n",
      "Epoch 540: Loss = 0.6788\n",
      "Epoch 540: Loss = 0.7115\n",
      "Epoch 540: Loss = 0.6780\n",
      "Epoch 540: Loss = 0.7043\n"
     ]
    },
    {
     "name": "stderr",
     "output_type": "stream",
     "text": [
      "  6%|▌         | 552/10000 [00:44<14:41, 10.72it/s]"
     ]
    },
    {
     "name": "stdout",
     "output_type": "stream",
     "text": [
      "Epoch 550: Loss = 0.6845\n",
      "Epoch 550: Loss = 0.6803\n",
      "Epoch 550: Loss = 0.6726\n",
      "Epoch 550: Loss = 0.6463\n",
      "Epoch 550: Loss = 0.6805\n"
     ]
    },
    {
     "name": "stderr",
     "output_type": "stream",
     "text": [
      "  6%|▌         | 562/10000 [00:45<13:15, 11.87it/s]"
     ]
    },
    {
     "name": "stdout",
     "output_type": "stream",
     "text": [
      "Epoch 560: Loss = 0.6846\n",
      "Epoch 560: Loss = 0.6756\n",
      "Epoch 560: Loss = 0.7027\n",
      "Epoch 560: Loss = 0.6619\n",
      "Epoch 560: Loss = 0.6766\n"
     ]
    },
    {
     "name": "stderr",
     "output_type": "stream",
     "text": [
      "  6%|▌         | 572/10000 [00:46<13:01, 12.07it/s]"
     ]
    },
    {
     "name": "stdout",
     "output_type": "stream",
     "text": [
      "Epoch 570: Loss = 0.6638\n",
      "Epoch 570: Loss = 0.6437\n",
      "Epoch 570: Loss = 0.6992\n",
      "Epoch 570: Loss = 0.6786\n",
      "Epoch 570: Loss = 0.6857\n"
     ]
    },
    {
     "name": "stderr",
     "output_type": "stream",
     "text": [
      "  6%|▌         | 582/10000 [00:47<12:18, 12.75it/s]"
     ]
    },
    {
     "name": "stdout",
     "output_type": "stream",
     "text": [
      "Epoch 580: Loss = 0.6898\n",
      "Epoch 580: Loss = 0.6954\n",
      "Epoch 580: Loss = 0.6838\n",
      "Epoch 580: Loss = 0.7049\n",
      "Epoch 580: Loss = 0.7016\n"
     ]
    },
    {
     "name": "stderr",
     "output_type": "stream",
     "text": [
      "  6%|▌         | 592/10000 [00:48<12:30, 12.54it/s]"
     ]
    },
    {
     "name": "stdout",
     "output_type": "stream",
     "text": [
      "Epoch 590: Loss = 0.7039\n",
      "Epoch 590: Loss = 0.6852\n",
      "Epoch 590: Loss = 0.6779\n",
      "Epoch 590: Loss = 0.6542\n",
      "Epoch 590: Loss = 0.6729\n"
     ]
    },
    {
     "name": "stderr",
     "output_type": "stream",
     "text": [
      "  6%|▌         | 602/10000 [00:48<12:43, 12.31it/s]"
     ]
    },
    {
     "name": "stdout",
     "output_type": "stream",
     "text": [
      "Epoch 600: Loss = 0.6737\n",
      "Epoch 600: Loss = 0.6411\n",
      "Epoch 600: Loss = 0.6741\n",
      "Epoch 600: Loss = 0.6734\n",
      "Epoch 600: Loss = 0.6887\n"
     ]
    },
    {
     "name": "stderr",
     "output_type": "stream",
     "text": [
      "  6%|▌         | 612/10000 [00:49<13:04, 11.96it/s]"
     ]
    },
    {
     "name": "stdout",
     "output_type": "stream",
     "text": [
      "Epoch 610: Loss = 0.7195\n",
      "Epoch 610: Loss = 0.6821\n",
      "Epoch 610: Loss = 0.6672\n",
      "Epoch 610: Loss = 0.6839\n",
      "Epoch 610: Loss = 0.6898\n"
     ]
    },
    {
     "name": "stderr",
     "output_type": "stream",
     "text": [
      "  6%|▌         | 622/10000 [00:50<12:52, 12.14it/s]"
     ]
    },
    {
     "name": "stdout",
     "output_type": "stream",
     "text": [
      "Epoch 620: Loss = 0.6798\n",
      "Epoch 620: Loss = 0.6991\n",
      "Epoch 620: Loss = 0.6634\n",
      "Epoch 620: Loss = 0.6886\n",
      "Epoch 620: Loss = 0.7205\n"
     ]
    },
    {
     "name": "stderr",
     "output_type": "stream",
     "text": [
      "  6%|▋         | 632/10000 [00:51<11:41, 13.35it/s]"
     ]
    },
    {
     "name": "stdout",
     "output_type": "stream",
     "text": [
      "Epoch 630: Loss = 0.6476\n",
      "Epoch 630: Loss = 0.6678\n",
      "Epoch 630: Loss = 0.6524\n",
      "Epoch 630: Loss = 0.6893\n",
      "Epoch 630: Loss = 0.6769\n"
     ]
    },
    {
     "name": "stderr",
     "output_type": "stream",
     "text": [
      "  6%|▋         | 642/10000 [00:52<12:17, 12.69it/s]"
     ]
    },
    {
     "name": "stdout",
     "output_type": "stream",
     "text": [
      "Epoch 640: Loss = 0.7037\n",
      "Epoch 640: Loss = 0.6805\n",
      "Epoch 640: Loss = 0.6913\n",
      "Epoch 640: Loss = 0.7029\n",
      "Epoch 640: Loss = 0.6597\n"
     ]
    },
    {
     "name": "stderr",
     "output_type": "stream",
     "text": [
      "  7%|▋         | 652/10000 [00:53<11:55, 13.06it/s]"
     ]
    },
    {
     "name": "stdout",
     "output_type": "stream",
     "text": [
      "Epoch 650: Loss = 0.7082\n",
      "Epoch 650: Loss = 0.6934\n",
      "Epoch 650: Loss = 0.6613\n",
      "Epoch 650: Loss = 0.6818\n",
      "Epoch 650: Loss = 0.6367\n"
     ]
    },
    {
     "name": "stderr",
     "output_type": "stream",
     "text": [
      "  7%|▋         | 662/10000 [00:53<11:35, 13.43it/s]"
     ]
    },
    {
     "name": "stdout",
     "output_type": "stream",
     "text": [
      "Epoch 660: Loss = 0.6858\n",
      "Epoch 660: Loss = 0.6615\n",
      "Epoch 660: Loss = 0.6612\n",
      "Epoch 660: Loss = 0.6777\n",
      "Epoch 660: Loss = 0.6513\n"
     ]
    },
    {
     "name": "stderr",
     "output_type": "stream",
     "text": [
      "  7%|▋         | 672/10000 [00:54<11:20, 13.72it/s]"
     ]
    },
    {
     "name": "stdout",
     "output_type": "stream",
     "text": [
      "Epoch 670: Loss = 0.6513\n",
      "Epoch 670: Loss = 0.6773\n",
      "Epoch 670: Loss = 0.7033\n",
      "Epoch 670: Loss = 0.6694\n",
      "Epoch 670: Loss = 0.6874\n"
     ]
    },
    {
     "name": "stderr",
     "output_type": "stream",
     "text": [
      "  7%|▋         | 682/10000 [00:55<12:00, 12.94it/s]"
     ]
    },
    {
     "name": "stdout",
     "output_type": "stream",
     "text": [
      "Epoch 680: Loss = 0.6511\n",
      "Epoch 680: Loss = 0.6848\n",
      "Epoch 680: Loss = 0.6799\n",
      "Epoch 680: Loss = 0.6486\n",
      "Epoch 680: Loss = 0.6720\n"
     ]
    },
    {
     "name": "stderr",
     "output_type": "stream",
     "text": [
      "  7%|▋         | 692/10000 [00:56<12:56, 11.99it/s]"
     ]
    },
    {
     "name": "stdout",
     "output_type": "stream",
     "text": [
      "Epoch 690: Loss = 0.7121\n",
      "Epoch 690: Loss = 0.6619\n",
      "Epoch 690: Loss = 0.6977\n",
      "Epoch 690: Loss = 0.6909\n",
      "Epoch 690: Loss = 0.6876\n"
     ]
    },
    {
     "name": "stderr",
     "output_type": "stream",
     "text": [
      "  7%|▋         | 702/10000 [00:56<11:32, 13.43it/s]"
     ]
    },
    {
     "name": "stdout",
     "output_type": "stream",
     "text": [
      "Epoch 700: Loss = 0.6766\n",
      "Epoch 700: Loss = 0.6675\n",
      "Epoch 700: Loss = 0.6563\n",
      "Epoch 700: Loss = 0.6702\n",
      "Epoch 700: Loss = 0.6599\n"
     ]
    },
    {
     "name": "stderr",
     "output_type": "stream",
     "text": [
      "  7%|▋         | 712/10000 [00:57<11:57, 12.94it/s]"
     ]
    },
    {
     "name": "stdout",
     "output_type": "stream",
     "text": [
      "Epoch 710: Loss = 0.6503\n",
      "Epoch 710: Loss = 0.6844\n",
      "Epoch 710: Loss = 0.6707\n",
      "Epoch 710: Loss = 0.6929\n",
      "Epoch 710: Loss = 0.6559\n"
     ]
    },
    {
     "name": "stderr",
     "output_type": "stream",
     "text": [
      "  7%|▋         | 722/10000 [00:58<12:30, 12.37it/s]"
     ]
    },
    {
     "name": "stdout",
     "output_type": "stream",
     "text": [
      "Epoch 720: Loss = 0.6920\n",
      "Epoch 720: Loss = 0.6916\n",
      "Epoch 720: Loss = 0.6755\n",
      "Epoch 720: Loss = 0.6787\n",
      "Epoch 720: Loss = 0.6794\n"
     ]
    },
    {
     "name": "stderr",
     "output_type": "stream",
     "text": [
      "  7%|▋         | 732/10000 [00:59<13:21, 11.56it/s]"
     ]
    },
    {
     "name": "stdout",
     "output_type": "stream",
     "text": [
      "Epoch 730: Loss = 0.6652\n",
      "Epoch 730: Loss = 0.6940\n",
      "Epoch 730: Loss = 0.6767\n",
      "Epoch 730: Loss = 0.6513\n",
      "Epoch 730: Loss = 0.6859\n"
     ]
    },
    {
     "name": "stderr",
     "output_type": "stream",
     "text": [
      "  7%|▋         | 742/10000 [01:00<13:03, 11.81it/s]"
     ]
    },
    {
     "name": "stdout",
     "output_type": "stream",
     "text": [
      "Epoch 740: Loss = 0.7035\n",
      "Epoch 740: Loss = 0.6835\n",
      "Epoch 740: Loss = 0.6680\n",
      "Epoch 740: Loss = 0.6877\n",
      "Epoch 740: Loss = 0.6837\n"
     ]
    },
    {
     "name": "stderr",
     "output_type": "stream",
     "text": [
      "  8%|▊         | 752/10000 [01:01<14:09, 10.89it/s]"
     ]
    },
    {
     "name": "stdout",
     "output_type": "stream",
     "text": [
      "Epoch 750: Loss = 0.6707\n",
      "Epoch 750: Loss = 0.6560\n",
      "Epoch 750: Loss = 0.6782\n",
      "Epoch 750: Loss = 0.6553\n",
      "Epoch 750: Loss = 0.6993\n"
     ]
    },
    {
     "name": "stderr",
     "output_type": "stream",
     "text": [
      "  8%|▊         | 762/10000 [01:01<12:16, 12.54it/s]"
     ]
    },
    {
     "name": "stdout",
     "output_type": "stream",
     "text": [
      "Epoch 760: Loss = 0.7028\n",
      "Epoch 760: Loss = 0.6468\n",
      "Epoch 760: Loss = 0.6559\n",
      "Epoch 760: Loss = 0.6782\n",
      "Epoch 760: Loss = 0.6647\n"
     ]
    },
    {
     "name": "stderr",
     "output_type": "stream",
     "text": [
      "  8%|▊         | 772/10000 [01:02<12:35, 12.21it/s]"
     ]
    },
    {
     "name": "stdout",
     "output_type": "stream",
     "text": [
      "Epoch 770: Loss = 0.6797\n",
      "Epoch 770: Loss = 0.7124\n",
      "Epoch 770: Loss = 0.6805\n",
      "Epoch 770: Loss = 0.6960\n",
      "Epoch 770: Loss = 0.6739\n"
     ]
    },
    {
     "name": "stderr",
     "output_type": "stream",
     "text": [
      "  8%|▊         | 782/10000 [01:03<11:41, 13.15it/s]"
     ]
    },
    {
     "name": "stdout",
     "output_type": "stream",
     "text": [
      "Epoch 780: Loss = 0.6782\n",
      "Epoch 780: Loss = 0.6993\n",
      "Epoch 780: Loss = 0.6694\n",
      "Epoch 780: Loss = 0.6765\n",
      "Epoch 780: Loss = 0.6641\n"
     ]
    },
    {
     "name": "stderr",
     "output_type": "stream",
     "text": [
      "  8%|▊         | 792/10000 [01:04<12:01, 12.76it/s]"
     ]
    },
    {
     "name": "stdout",
     "output_type": "stream",
     "text": [
      "Epoch 790: Loss = 0.6730\n",
      "Epoch 790: Loss = 0.6898\n",
      "Epoch 790: Loss = 0.6869\n",
      "Epoch 790: Loss = 0.6713\n",
      "Epoch 790: Loss = 0.6450\n"
     ]
    },
    {
     "name": "stderr",
     "output_type": "stream",
     "text": [
      "  8%|▊         | 802/10000 [01:05<11:59, 12.78it/s]"
     ]
    },
    {
     "name": "stdout",
     "output_type": "stream",
     "text": [
      "Epoch 800: Loss = 0.6605\n",
      "Epoch 800: Loss = 0.6750\n",
      "Epoch 800: Loss = 0.6723\n",
      "Epoch 800: Loss = 0.6826\n",
      "Epoch 800: Loss = 0.7018\n"
     ]
    },
    {
     "name": "stderr",
     "output_type": "stream",
     "text": [
      "  8%|▊         | 812/10000 [01:05<11:53, 12.88it/s]"
     ]
    },
    {
     "name": "stdout",
     "output_type": "stream",
     "text": [
      "Epoch 810: Loss = 0.6480\n",
      "Epoch 810: Loss = 0.6731\n",
      "Epoch 810: Loss = 0.6631\n",
      "Epoch 810: Loss = 0.7023\n",
      "Epoch 810: Loss = 0.7013\n"
     ]
    },
    {
     "name": "stderr",
     "output_type": "stream",
     "text": [
      "  8%|▊         | 822/10000 [01:06<14:23, 10.63it/s]"
     ]
    },
    {
     "name": "stdout",
     "output_type": "stream",
     "text": [
      "Epoch 820: Loss = 0.6790\n",
      "Epoch 820: Loss = 0.7031\n",
      "Epoch 820: Loss = 0.6617\n",
      "Epoch 820: Loss = 0.6948\n",
      "Epoch 820: Loss = 0.6716\n"
     ]
    },
    {
     "name": "stderr",
     "output_type": "stream",
     "text": [
      "  8%|▊         | 832/10000 [01:07<12:44, 12.00it/s]"
     ]
    },
    {
     "name": "stdout",
     "output_type": "stream",
     "text": [
      "Epoch 830: Loss = 0.6433\n",
      "Epoch 830: Loss = 0.6775\n",
      "Epoch 830: Loss = 0.6704\n",
      "Epoch 830: Loss = 0.6751\n",
      "Epoch 830: Loss = 0.6617\n"
     ]
    },
    {
     "name": "stderr",
     "output_type": "stream",
     "text": [
      "  8%|▊         | 842/10000 [01:08<13:13, 11.54it/s]"
     ]
    },
    {
     "name": "stdout",
     "output_type": "stream",
     "text": [
      "Epoch 840: Loss = 0.6864\n",
      "Epoch 840: Loss = 0.6587\n",
      "Epoch 840: Loss = 0.6832\n",
      "Epoch 840: Loss = 0.6799\n",
      "Epoch 840: Loss = 0.6934\n"
     ]
    },
    {
     "name": "stderr",
     "output_type": "stream",
     "text": [
      "  9%|▊         | 852/10000 [01:09<13:01, 11.70it/s]"
     ]
    },
    {
     "name": "stdout",
     "output_type": "stream",
     "text": [
      "Epoch 850: Loss = 0.6898\n",
      "Epoch 850: Loss = 0.6623\n",
      "Epoch 850: Loss = 0.6517\n",
      "Epoch 850: Loss = 0.6770\n",
      "Epoch 850: Loss = 0.6665\n"
     ]
    },
    {
     "name": "stderr",
     "output_type": "stream",
     "text": [
      "  9%|▊         | 862/10000 [01:10<11:38, 13.08it/s]"
     ]
    },
    {
     "name": "stdout",
     "output_type": "stream",
     "text": [
      "Epoch 860: Loss = 0.6475\n",
      "Epoch 860: Loss = 0.6978\n",
      "Epoch 860: Loss = 0.6800\n",
      "Epoch 860: Loss = 0.7011\n",
      "Epoch 860: Loss = 0.6648\n"
     ]
    },
    {
     "name": "stderr",
     "output_type": "stream",
     "text": [
      "  9%|▊         | 872/10000 [01:11<11:52, 12.81it/s]"
     ]
    },
    {
     "name": "stdout",
     "output_type": "stream",
     "text": [
      "Epoch 870: Loss = 0.6684\n",
      "Epoch 870: Loss = 0.6911\n",
      "Epoch 870: Loss = 0.6755\n",
      "Epoch 870: Loss = 0.6651\n",
      "Epoch 870: Loss = 0.6680\n"
     ]
    },
    {
     "name": "stderr",
     "output_type": "stream",
     "text": [
      "  9%|▉         | 882/10000 [01:11<11:07, 13.67it/s]"
     ]
    },
    {
     "name": "stdout",
     "output_type": "stream",
     "text": [
      "Epoch 880: Loss = 0.7101\n",
      "Epoch 880: Loss = 0.6857\n",
      "Epoch 880: Loss = 0.6567\n",
      "Epoch 880: Loss = 0.6561\n",
      "Epoch 880: Loss = 0.6472\n"
     ]
    },
    {
     "name": "stderr",
     "output_type": "stream",
     "text": [
      "  9%|▉         | 892/10000 [01:12<11:04, 13.72it/s]"
     ]
    },
    {
     "name": "stdout",
     "output_type": "stream",
     "text": [
      "Epoch 890: Loss = 0.6545\n",
      "Epoch 890: Loss = 0.6847\n",
      "Epoch 890: Loss = 0.6652\n",
      "Epoch 890: Loss = 0.6734\n",
      "Epoch 890: Loss = 0.6900\n"
     ]
    },
    {
     "name": "stderr",
     "output_type": "stream",
     "text": [
      "  9%|▉         | 902/10000 [01:13<11:16, 13.44it/s]"
     ]
    },
    {
     "name": "stdout",
     "output_type": "stream",
     "text": [
      "Epoch 900: Loss = 0.6694\n",
      "Epoch 900: Loss = 0.7235\n",
      "Epoch 900: Loss = 0.6761\n",
      "Epoch 900: Loss = 0.6966\n",
      "Epoch 900: Loss = 0.6903\n"
     ]
    },
    {
     "name": "stderr",
     "output_type": "stream",
     "text": [
      "  9%|▉         | 912/10000 [01:13<11:12, 13.52it/s]"
     ]
    },
    {
     "name": "stdout",
     "output_type": "stream",
     "text": [
      "Epoch 910: Loss = 0.7013\n",
      "Epoch 910: Loss = 0.7082\n",
      "Epoch 910: Loss = 0.6824\n",
      "Epoch 910: Loss = 0.7055\n",
      "Epoch 910: Loss = 0.6823\n"
     ]
    },
    {
     "name": "stderr",
     "output_type": "stream",
     "text": [
      "  9%|▉         | 922/10000 [01:14<11:24, 13.26it/s]"
     ]
    },
    {
     "name": "stdout",
     "output_type": "stream",
     "text": [
      "Epoch 920: Loss = 0.6854\n",
      "Epoch 920: Loss = 0.6883\n",
      "Epoch 920: Loss = 0.6862\n",
      "Epoch 920: Loss = 0.6936\n",
      "Epoch 920: Loss = 0.6674\n"
     ]
    },
    {
     "name": "stderr",
     "output_type": "stream",
     "text": [
      "  9%|▉         | 932/10000 [01:15<12:22, 12.21it/s]"
     ]
    },
    {
     "name": "stdout",
     "output_type": "stream",
     "text": [
      "Epoch 930: Loss = 0.6690\n",
      "Epoch 930: Loss = 0.6708\n",
      "Epoch 930: Loss = 0.6637\n",
      "Epoch 930: Loss = 0.6877\n",
      "Epoch 930: Loss = 0.6613\n"
     ]
    },
    {
     "name": "stderr",
     "output_type": "stream",
     "text": [
      "  9%|▉         | 942/10000 [01:16<11:30, 13.11it/s]"
     ]
    },
    {
     "name": "stdout",
     "output_type": "stream",
     "text": [
      "Epoch 940: Loss = 0.6999\n",
      "Epoch 940: Loss = 0.7061\n",
      "Epoch 940: Loss = 0.6926\n",
      "Epoch 940: Loss = 0.6848\n",
      "Epoch 940: Loss = 0.6674\n"
     ]
    },
    {
     "name": "stderr",
     "output_type": "stream",
     "text": [
      " 10%|▉         | 952/10000 [01:17<12:08, 12.42it/s]"
     ]
    },
    {
     "name": "stdout",
     "output_type": "stream",
     "text": [
      "Epoch 950: Loss = 0.6881\n",
      "Epoch 950: Loss = 0.6828\n",
      "Epoch 950: Loss = 0.7081\n",
      "Epoch 950: Loss = 0.7043\n",
      "Epoch 950: Loss = 0.6410\n"
     ]
    },
    {
     "name": "stderr",
     "output_type": "stream",
     "text": [
      " 10%|▉         | 962/10000 [01:18<14:08, 10.65it/s]"
     ]
    },
    {
     "name": "stdout",
     "output_type": "stream",
     "text": [
      "Epoch 960: Loss = 0.7019\n",
      "Epoch 960: Loss = 0.6633\n",
      "Epoch 960: Loss = 0.6743\n",
      "Epoch 960: Loss = 0.6843\n",
      "Epoch 960: Loss = 0.6391\n"
     ]
    },
    {
     "name": "stderr",
     "output_type": "stream",
     "text": [
      " 10%|▉         | 972/10000 [01:19<12:31, 12.01it/s]"
     ]
    },
    {
     "name": "stdout",
     "output_type": "stream",
     "text": [
      "Epoch 970: Loss = 0.6767\n",
      "Epoch 970: Loss = 0.6968\n",
      "Epoch 970: Loss = 0.6996\n",
      "Epoch 970: Loss = 0.6442\n",
      "Epoch 970: Loss = 0.6636\n"
     ]
    },
    {
     "name": "stderr",
     "output_type": "stream",
     "text": [
      " 10%|▉         | 982/10000 [01:19<11:07, 13.50it/s]"
     ]
    },
    {
     "name": "stdout",
     "output_type": "stream",
     "text": [
      "Epoch 980: Loss = 0.6734\n",
      "Epoch 980: Loss = 0.6900\n",
      "Epoch 980: Loss = 0.6712\n",
      "Epoch 980: Loss = 0.6860\n",
      "Epoch 980: Loss = 0.6654\n"
     ]
    },
    {
     "name": "stderr",
     "output_type": "stream",
     "text": [
      " 10%|▉         | 992/10000 [01:20<11:23, 13.19it/s]"
     ]
    },
    {
     "name": "stdout",
     "output_type": "stream",
     "text": [
      "Epoch 990: Loss = 0.6486\n",
      "Epoch 990: Loss = 0.6985\n",
      "Epoch 990: Loss = 0.7019\n",
      "Epoch 990: Loss = 0.7030\n",
      "Epoch 990: Loss = 0.6805\n"
     ]
    },
    {
     "name": "stderr",
     "output_type": "stream",
     "text": [
      " 10%|█         | 1002/10000 [01:21<11:07, 13.49it/s]"
     ]
    },
    {
     "name": "stdout",
     "output_type": "stream",
     "text": [
      "Epoch 1000: Loss = 0.6875\n",
      "Epoch 1000: Loss = 0.7024\n",
      "Epoch 1000: Loss = 0.6958\n",
      "Epoch 1000: Loss = 0.6670\n",
      "Epoch 1000: Loss = 0.6998\n"
     ]
    },
    {
     "name": "stderr",
     "output_type": "stream",
     "text": [
      " 10%|█         | 1012/10000 [01:22<12:14, 12.24it/s]"
     ]
    },
    {
     "name": "stdout",
     "output_type": "stream",
     "text": [
      "Epoch 1010: Loss = 0.6706\n",
      "Epoch 1010: Loss = 0.6662\n",
      "Epoch 1010: Loss = 0.6849\n",
      "Epoch 1010: Loss = 0.6599\n",
      "Epoch 1010: Loss = 0.6787\n"
     ]
    },
    {
     "name": "stderr",
     "output_type": "stream",
     "text": [
      " 10%|█         | 1022/10000 [01:22<12:03, 12.41it/s]"
     ]
    },
    {
     "name": "stdout",
     "output_type": "stream",
     "text": [
      "Epoch 1020: Loss = 0.6767\n",
      "Epoch 1020: Loss = 0.6449\n",
      "Epoch 1020: Loss = 0.6917\n",
      "Epoch 1020: Loss = 0.6832\n",
      "Epoch 1020: Loss = 0.6405\n"
     ]
    },
    {
     "name": "stderr",
     "output_type": "stream",
     "text": [
      " 10%|█         | 1032/10000 [01:23<11:31, 12.96it/s]"
     ]
    },
    {
     "name": "stdout",
     "output_type": "stream",
     "text": [
      "Epoch 1030: Loss = 0.6884\n",
      "Epoch 1030: Loss = 0.6804\n",
      "Epoch 1030: Loss = 0.6438\n",
      "Epoch 1030: Loss = 0.7058\n",
      "Epoch 1030: Loss = 0.6776\n"
     ]
    },
    {
     "name": "stderr",
     "output_type": "stream",
     "text": [
      " 10%|█         | 1042/10000 [01:24<10:51, 13.75it/s]"
     ]
    },
    {
     "name": "stdout",
     "output_type": "stream",
     "text": [
      "Epoch 1040: Loss = 0.6415\n",
      "Epoch 1040: Loss = 0.6573\n",
      "Epoch 1040: Loss = 0.6524\n",
      "Epoch 1040: Loss = 0.6816\n",
      "Epoch 1040: Loss = 0.6880\n"
     ]
    },
    {
     "name": "stderr",
     "output_type": "stream",
     "text": [
      " 11%|█         | 1052/10000 [01:25<11:46, 12.66it/s]"
     ]
    },
    {
     "name": "stdout",
     "output_type": "stream",
     "text": [
      "Epoch 1050: Loss = 0.6623\n",
      "Epoch 1050: Loss = 0.7098\n",
      "Epoch 1050: Loss = 0.6675\n",
      "Epoch 1050: Loss = 0.6678\n",
      "Epoch 1050: Loss = 0.6549\n"
     ]
    },
    {
     "name": "stderr",
     "output_type": "stream",
     "text": [
      " 11%|█         | 1062/10000 [01:26<13:05, 11.38it/s]"
     ]
    },
    {
     "name": "stdout",
     "output_type": "stream",
     "text": [
      "Epoch 1060: Loss = 0.6574\n",
      "Epoch 1060: Loss = 0.6437\n",
      "Epoch 1060: Loss = 0.6536\n",
      "Epoch 1060: Loss = 0.6844\n",
      "Epoch 1060: Loss = 0.7095\n"
     ]
    },
    {
     "name": "stderr",
     "output_type": "stream",
     "text": [
      " 11%|█         | 1072/10000 [01:27<12:25, 11.98it/s]"
     ]
    },
    {
     "name": "stdout",
     "output_type": "stream",
     "text": [
      "Epoch 1070: Loss = 0.6742\n",
      "Epoch 1070: Loss = 0.6761\n",
      "Epoch 1070: Loss = 0.6654\n",
      "Epoch 1070: Loss = 0.6797\n",
      "Epoch 1070: Loss = 0.6744\n"
     ]
    },
    {
     "name": "stderr",
     "output_type": "stream",
     "text": [
      " 11%|█         | 1082/10000 [01:27<10:53, 13.64it/s]"
     ]
    },
    {
     "name": "stdout",
     "output_type": "stream",
     "text": [
      "Epoch 1080: Loss = 0.7476\n",
      "Epoch 1080: Loss = 0.6711\n",
      "Epoch 1080: Loss = 0.6977\n",
      "Epoch 1080: Loss = 0.6876\n",
      "Epoch 1080: Loss = 0.6733\n"
     ]
    },
    {
     "name": "stderr",
     "output_type": "stream",
     "text": [
      " 11%|█         | 1092/10000 [01:28<11:07, 13.34it/s]"
     ]
    },
    {
     "name": "stdout",
     "output_type": "stream",
     "text": [
      "Epoch 1090: Loss = 0.6999\n",
      "Epoch 1090: Loss = 0.6884\n",
      "Epoch 1090: Loss = 0.6735\n",
      "Epoch 1090: Loss = 0.6597\n",
      "Epoch 1090: Loss = 0.7026\n"
     ]
    },
    {
     "name": "stderr",
     "output_type": "stream",
     "text": [
      " 11%|█         | 1102/10000 [01:29<12:09, 12.20it/s]"
     ]
    },
    {
     "name": "stdout",
     "output_type": "stream",
     "text": [
      "Epoch 1100: Loss = 0.6757\n",
      "Epoch 1100: Loss = 0.6874\n",
      "Epoch 1100: Loss = 0.6335\n",
      "Epoch 1100: Loss = 0.7100\n",
      "Epoch 1100: Loss = 0.6656\n"
     ]
    },
    {
     "name": "stderr",
     "output_type": "stream",
     "text": [
      " 11%|█         | 1112/10000 [01:30<11:48, 12.55it/s]"
     ]
    },
    {
     "name": "stdout",
     "output_type": "stream",
     "text": [
      "Epoch 1110: Loss = 0.6382\n",
      "Epoch 1110: Loss = 0.6881\n",
      "Epoch 1110: Loss = 0.6715\n",
      "Epoch 1110: Loss = 0.6777\n",
      "Epoch 1110: Loss = 0.7092\n"
     ]
    },
    {
     "name": "stderr",
     "output_type": "stream",
     "text": [
      " 11%|█         | 1122/10000 [01:31<11:38, 12.71it/s]"
     ]
    },
    {
     "name": "stdout",
     "output_type": "stream",
     "text": [
      "Epoch 1120: Loss = 0.7077\n",
      "Epoch 1120: Loss = 0.6593\n",
      "Epoch 1120: Loss = 0.6697\n",
      "Epoch 1120: Loss = 0.6805\n",
      "Epoch 1120: Loss = 0.6514\n"
     ]
    },
    {
     "name": "stderr",
     "output_type": "stream",
     "text": [
      " 11%|█▏        | 1132/10000 [01:31<10:53, 13.57it/s]"
     ]
    },
    {
     "name": "stdout",
     "output_type": "stream",
     "text": [
      "Epoch 1130: Loss = 0.6877\n",
      "Epoch 1130: Loss = 0.6580\n",
      "Epoch 1130: Loss = 0.6874\n",
      "Epoch 1130: Loss = 0.6428\n",
      "Epoch 1130: Loss = 0.6724\n"
     ]
    },
    {
     "name": "stderr",
     "output_type": "stream",
     "text": [
      " 11%|█▏        | 1142/10000 [01:32<10:40, 13.83it/s]"
     ]
    },
    {
     "name": "stdout",
     "output_type": "stream",
     "text": [
      "Epoch 1140: Loss = 0.6860\n",
      "Epoch 1140: Loss = 0.6553\n",
      "Epoch 1140: Loss = 0.6909\n",
      "Epoch 1140: Loss = 0.6877\n",
      "Epoch 1140: Loss = 0.7083\n"
     ]
    },
    {
     "name": "stderr",
     "output_type": "stream",
     "text": [
      " 12%|█▏        | 1152/10000 [01:33<11:40, 12.63it/s]"
     ]
    },
    {
     "name": "stdout",
     "output_type": "stream",
     "text": [
      "Epoch 1150: Loss = 0.6962\n",
      "Epoch 1150: Loss = 0.6610\n",
      "Epoch 1150: Loss = 0.6592\n",
      "Epoch 1150: Loss = 0.6905\n",
      "Epoch 1150: Loss = 0.6520\n"
     ]
    },
    {
     "name": "stderr",
     "output_type": "stream",
     "text": [
      " 12%|█▏        | 1162/10000 [01:34<10:59, 13.40it/s]"
     ]
    },
    {
     "name": "stdout",
     "output_type": "stream",
     "text": [
      "Epoch 1160: Loss = 0.6795\n",
      "Epoch 1160: Loss = 0.6708\n",
      "Epoch 1160: Loss = 0.6906\n",
      "Epoch 1160: Loss = 0.6449\n",
      "Epoch 1160: Loss = 0.6917\n"
     ]
    },
    {
     "name": "stderr",
     "output_type": "stream",
     "text": [
      " 12%|█▏        | 1172/10000 [01:34<12:40, 11.60it/s]"
     ]
    },
    {
     "name": "stdout",
     "output_type": "stream",
     "text": [
      "Epoch 1170: Loss = 0.6799\n",
      "Epoch 1170: Loss = 0.6775\n",
      "Epoch 1170: Loss = 0.6573\n",
      "Epoch 1170: Loss = 0.6806\n",
      "Epoch 1170: Loss = 0.7120\n"
     ]
    },
    {
     "name": "stderr",
     "output_type": "stream",
     "text": [
      " 12%|█▏        | 1182/10000 [01:35<11:34, 12.71it/s]"
     ]
    },
    {
     "name": "stdout",
     "output_type": "stream",
     "text": [
      "Epoch 1180: Loss = 0.6652\n",
      "Epoch 1180: Loss = 0.6674\n",
      "Epoch 1180: Loss = 0.6871\n",
      "Epoch 1180: Loss = 0.6621\n",
      "Epoch 1180: Loss = 0.6800\n"
     ]
    },
    {
     "name": "stderr",
     "output_type": "stream",
     "text": [
      " 12%|█▏        | 1192/10000 [01:36<11:17, 13.00it/s]"
     ]
    },
    {
     "name": "stdout",
     "output_type": "stream",
     "text": [
      "Epoch 1190: Loss = 0.6746\n",
      "Epoch 1190: Loss = 0.6688\n",
      "Epoch 1190: Loss = 0.6687\n",
      "Epoch 1190: Loss = 0.6735\n",
      "Epoch 1190: Loss = 0.6783\n"
     ]
    },
    {
     "name": "stderr",
     "output_type": "stream",
     "text": [
      " 12%|█▏        | 1202/10000 [01:37<11:20, 12.92it/s]"
     ]
    },
    {
     "name": "stdout",
     "output_type": "stream",
     "text": [
      "Epoch 1200: Loss = 0.7092\n",
      "Epoch 1200: Loss = 0.6718\n",
      "Epoch 1200: Loss = 0.6593\n",
      "Epoch 1200: Loss = 0.6713\n",
      "Epoch 1200: Loss = 0.6635\n"
     ]
    },
    {
     "name": "stderr",
     "output_type": "stream",
     "text": [
      " 12%|█▏        | 1212/10000 [01:38<11:33, 12.67it/s]"
     ]
    },
    {
     "name": "stdout",
     "output_type": "stream",
     "text": [
      "Epoch 1210: Loss = 0.6705\n",
      "Epoch 1210: Loss = 0.7295\n",
      "Epoch 1210: Loss = 0.6371\n",
      "Epoch 1210: Loss = 0.6683\n",
      "Epoch 1210: Loss = 0.7134\n"
     ]
    },
    {
     "name": "stderr",
     "output_type": "stream",
     "text": [
      " 12%|█▏        | 1222/10000 [01:38<11:07, 13.15it/s]"
     ]
    },
    {
     "name": "stdout",
     "output_type": "stream",
     "text": [
      "Epoch 1220: Loss = 0.6722\n",
      "Epoch 1220: Loss = 0.6675\n",
      "Epoch 1220: Loss = 0.6861\n",
      "Epoch 1220: Loss = 0.6695\n",
      "Epoch 1220: Loss = 0.6682\n"
     ]
    },
    {
     "name": "stderr",
     "output_type": "stream",
     "text": [
      " 12%|█▏        | 1232/10000 [01:39<12:30, 11.68it/s]"
     ]
    },
    {
     "name": "stdout",
     "output_type": "stream",
     "text": [
      "Epoch 1230: Loss = 0.6485\n",
      "Epoch 1230: Loss = 0.6540\n",
      "Epoch 1230: Loss = 0.7112\n",
      "Epoch 1230: Loss = 0.6709\n",
      "Epoch 1230: Loss = 0.6649\n"
     ]
    },
    {
     "name": "stderr",
     "output_type": "stream",
     "text": [
      " 12%|█▏        | 1242/10000 [01:40<11:26, 12.76it/s]"
     ]
    },
    {
     "name": "stdout",
     "output_type": "stream",
     "text": [
      "Epoch 1240: Loss = 0.6862\n",
      "Epoch 1240: Loss = 0.6681\n",
      "Epoch 1240: Loss = 0.6483\n",
      "Epoch 1240: Loss = 0.6518\n",
      "Epoch 1240: Loss = 0.6513\n"
     ]
    },
    {
     "name": "stderr",
     "output_type": "stream",
     "text": [
      " 13%|█▎        | 1252/10000 [01:41<12:53, 11.31it/s]"
     ]
    },
    {
     "name": "stdout",
     "output_type": "stream",
     "text": [
      "Epoch 1250: Loss = 0.6849\n",
      "Epoch 1250: Loss = 0.6998\n",
      "Epoch 1250: Loss = 0.6792\n",
      "Epoch 1250: Loss = 0.6589\n",
      "Epoch 1250: Loss = 0.7247\n"
     ]
    },
    {
     "name": "stderr",
     "output_type": "stream",
     "text": [
      " 13%|█▎        | 1262/10000 [01:42<12:04, 12.06it/s]"
     ]
    },
    {
     "name": "stdout",
     "output_type": "stream",
     "text": [
      "Epoch 1260: Loss = 0.6619\n",
      "Epoch 1260: Loss = 0.6882\n",
      "Epoch 1260: Loss = 0.6683\n",
      "Epoch 1260: Loss = 0.6419\n",
      "Epoch 1260: Loss = 0.6722\n"
     ]
    },
    {
     "name": "stderr",
     "output_type": "stream",
     "text": [
      " 13%|█▎        | 1272/10000 [01:43<11:50, 12.28it/s]"
     ]
    },
    {
     "name": "stdout",
     "output_type": "stream",
     "text": [
      "Epoch 1270: Loss = 0.6821\n",
      "Epoch 1270: Loss = 0.6462\n",
      "Epoch 1270: Loss = 0.6881\n",
      "Epoch 1270: Loss = 0.6535\n",
      "Epoch 1270: Loss = 0.6755\n"
     ]
    },
    {
     "name": "stderr",
     "output_type": "stream",
     "text": [
      " 13%|█▎        | 1282/10000 [01:43<10:49, 13.42it/s]"
     ]
    },
    {
     "name": "stdout",
     "output_type": "stream",
     "text": [
      "Epoch 1280: Loss = 0.7012\n",
      "Epoch 1280: Loss = 0.6962\n",
      "Epoch 1280: Loss = 0.7196\n",
      "Epoch 1280: Loss = 0.6815\n",
      "Epoch 1280: Loss = 0.6888\n"
     ]
    },
    {
     "name": "stderr",
     "output_type": "stream",
     "text": [
      " 13%|█▎        | 1292/10000 [01:44<10:40, 13.59it/s]"
     ]
    },
    {
     "name": "stdout",
     "output_type": "stream",
     "text": [
      "Epoch 1290: Loss = 0.6769\n",
      "Epoch 1290: Loss = 0.6514\n",
      "Epoch 1290: Loss = 0.6437\n",
      "Epoch 1290: Loss = 0.6350\n",
      "Epoch 1290: Loss = 0.6400\n"
     ]
    },
    {
     "name": "stderr",
     "output_type": "stream",
     "text": [
      " 13%|█▎        | 1302/10000 [01:45<12:48, 11.31it/s]"
     ]
    },
    {
     "name": "stdout",
     "output_type": "stream",
     "text": [
      "Epoch 1300: Loss = 0.6583\n",
      "Epoch 1300: Loss = 0.6657\n",
      "Epoch 1300: Loss = 0.6668\n",
      "Epoch 1300: Loss = 0.6487\n",
      "Epoch 1300: Loss = 0.6614\n"
     ]
    },
    {
     "name": "stderr",
     "output_type": "stream",
     "text": [
      " 13%|█▎        | 1312/10000 [01:46<12:38, 11.46it/s]"
     ]
    },
    {
     "name": "stdout",
     "output_type": "stream",
     "text": [
      "Epoch 1310: Loss = 0.6802\n",
      "Epoch 1310: Loss = 0.7096\n",
      "Epoch 1310: Loss = 0.6989\n",
      "Epoch 1310: Loss = 0.6719\n",
      "Epoch 1310: Loss = 0.6770\n"
     ]
    },
    {
     "name": "stderr",
     "output_type": "stream",
     "text": [
      " 13%|█▎        | 1322/10000 [01:47<12:19, 11.73it/s]"
     ]
    },
    {
     "name": "stdout",
     "output_type": "stream",
     "text": [
      "Epoch 1320: Loss = 0.6800\n",
      "Epoch 1320: Loss = 0.6858\n",
      "Epoch 1320: Loss = 0.6832\n",
      "Epoch 1320: Loss = 0.6899\n",
      "Epoch 1320: Loss = 0.6588\n"
     ]
    },
    {
     "name": "stderr",
     "output_type": "stream",
     "text": [
      " 13%|█▎        | 1332/10000 [01:48<12:39, 11.41it/s]"
     ]
    },
    {
     "name": "stdout",
     "output_type": "stream",
     "text": [
      "Epoch 1330: Loss = 0.6689\n",
      "Epoch 1330: Loss = 0.6481\n",
      "Epoch 1330: Loss = 0.6988\n",
      "Epoch 1330: Loss = 0.6851\n",
      "Epoch 1330: Loss = 0.6632\n"
     ]
    },
    {
     "name": "stderr",
     "output_type": "stream",
     "text": [
      " 13%|█▎        | 1342/10000 [01:49<12:17, 11.74it/s]"
     ]
    },
    {
     "name": "stdout",
     "output_type": "stream",
     "text": [
      "Epoch 1340: Loss = 0.6667\n",
      "Epoch 1340: Loss = 0.6847\n",
      "Epoch 1340: Loss = 0.6861\n",
      "Epoch 1340: Loss = 0.6598\n",
      "Epoch 1340: Loss = 0.6553\n"
     ]
    },
    {
     "name": "stderr",
     "output_type": "stream",
     "text": [
      " 14%|█▎        | 1352/10000 [01:50<12:50, 11.22it/s]"
     ]
    },
    {
     "name": "stdout",
     "output_type": "stream",
     "text": [
      "Epoch 1350: Loss = 0.6886\n",
      "Epoch 1350: Loss = 0.6280\n",
      "Epoch 1350: Loss = 0.6372\n",
      "Epoch 1350: Loss = 0.7037\n",
      "Epoch 1350: Loss = 0.6584\n"
     ]
    },
    {
     "name": "stderr",
     "output_type": "stream",
     "text": [
      " 14%|█▎        | 1362/10000 [01:50<10:59, 13.10it/s]"
     ]
    },
    {
     "name": "stdout",
     "output_type": "stream",
     "text": [
      "Epoch 1360: Loss = 0.6788\n",
      "Epoch 1360: Loss = 0.6761\n",
      "Epoch 1360: Loss = 0.6337\n",
      "Epoch 1360: Loss = 0.6486\n",
      "Epoch 1360: Loss = 0.6413\n"
     ]
    },
    {
     "name": "stderr",
     "output_type": "stream",
     "text": [
      " 14%|█▎        | 1372/10000 [01:51<11:34, 12.42it/s]"
     ]
    },
    {
     "name": "stdout",
     "output_type": "stream",
     "text": [
      "Epoch 1370: Loss = 0.6626\n",
      "Epoch 1370: Loss = 0.6789\n",
      "Epoch 1370: Loss = 0.6772\n",
      "Epoch 1370: Loss = 0.6956\n",
      "Epoch 1370: Loss = 0.6672\n"
     ]
    },
    {
     "name": "stderr",
     "output_type": "stream",
     "text": [
      " 14%|█▍        | 1382/10000 [01:52<11:40, 12.30it/s]"
     ]
    },
    {
     "name": "stdout",
     "output_type": "stream",
     "text": [
      "Epoch 1380: Loss = 0.6788\n",
      "Epoch 1380: Loss = 0.6746\n",
      "Epoch 1380: Loss = 0.6456\n",
      "Epoch 1380: Loss = 0.6839\n",
      "Epoch 1380: Loss = 0.6495\n"
     ]
    },
    {
     "name": "stderr",
     "output_type": "stream",
     "text": [
      " 14%|█▍        | 1392/10000 [01:53<11:38, 12.32it/s]"
     ]
    },
    {
     "name": "stdout",
     "output_type": "stream",
     "text": [
      "Epoch 1390: Loss = 0.6839\n",
      "Epoch 1390: Loss = 0.6840\n",
      "Epoch 1390: Loss = 0.6558\n",
      "Epoch 1390: Loss = 0.6633\n",
      "Epoch 1390: Loss = 0.6702\n"
     ]
    },
    {
     "name": "stderr",
     "output_type": "stream",
     "text": [
      " 14%|█▍        | 1402/10000 [01:54<11:16, 12.70it/s]"
     ]
    },
    {
     "name": "stdout",
     "output_type": "stream",
     "text": [
      "Epoch 1400: Loss = 0.7025\n",
      "Epoch 1400: Loss = 0.6755\n",
      "Epoch 1400: Loss = 0.6515\n",
      "Epoch 1400: Loss = 0.6769\n",
      "Epoch 1400: Loss = 0.6738\n"
     ]
    },
    {
     "name": "stderr",
     "output_type": "stream",
     "text": [
      " 14%|█▍        | 1412/10000 [01:54<12:41, 11.27it/s]"
     ]
    },
    {
     "name": "stdout",
     "output_type": "stream",
     "text": [
      "Epoch 1410: Loss = 0.7141\n",
      "Epoch 1410: Loss = 0.6518\n",
      "Epoch 1410: Loss = 0.6992\n",
      "Epoch 1410: Loss = 0.6746\n",
      "Epoch 1410: Loss = 0.6911\n"
     ]
    },
    {
     "name": "stderr",
     "output_type": "stream",
     "text": [
      " 14%|█▍        | 1422/10000 [01:55<11:23, 12.56it/s]"
     ]
    },
    {
     "name": "stdout",
     "output_type": "stream",
     "text": [
      "Epoch 1420: Loss = 0.6635\n",
      "Epoch 1420: Loss = 0.6714\n",
      "Epoch 1420: Loss = 0.6744\n",
      "Epoch 1420: Loss = 0.6852\n",
      "Epoch 1420: Loss = 0.6929\n"
     ]
    },
    {
     "name": "stderr",
     "output_type": "stream",
     "text": [
      " 14%|█▍        | 1432/10000 [01:56<10:49, 13.19it/s]"
     ]
    },
    {
     "name": "stdout",
     "output_type": "stream",
     "text": [
      "Epoch 1430: Loss = 0.6630\n",
      "Epoch 1430: Loss = 0.6274\n",
      "Epoch 1430: Loss = 0.6792\n",
      "Epoch 1430: Loss = 0.6641\n",
      "Epoch 1430: Loss = 0.6337\n"
     ]
    },
    {
     "name": "stderr",
     "output_type": "stream",
     "text": [
      " 14%|█▍        | 1442/10000 [01:57<12:49, 11.12it/s]"
     ]
    },
    {
     "name": "stdout",
     "output_type": "stream",
     "text": [
      "Epoch 1440: Loss = 0.6678\n",
      "Epoch 1440: Loss = 0.6569\n",
      "Epoch 1440: Loss = 0.6400\n",
      "Epoch 1440: Loss = 0.6837\n",
      "Epoch 1440: Loss = 0.6372\n"
     ]
    },
    {
     "name": "stderr",
     "output_type": "stream",
     "text": [
      " 15%|█▍        | 1452/10000 [01:58<11:47, 12.08it/s]"
     ]
    },
    {
     "name": "stdout",
     "output_type": "stream",
     "text": [
      "Epoch 1450: Loss = 0.6623\n",
      "Epoch 1450: Loss = 0.7006\n",
      "Epoch 1450: Loss = 0.6535\n",
      "Epoch 1450: Loss = 0.6684\n",
      "Epoch 1450: Loss = 0.6528\n"
     ]
    },
    {
     "name": "stderr",
     "output_type": "stream",
     "text": [
      " 15%|█▍        | 1462/10000 [01:59<11:21, 12.53it/s]"
     ]
    },
    {
     "name": "stdout",
     "output_type": "stream",
     "text": [
      "Epoch 1460: Loss = 0.7048\n",
      "Epoch 1460: Loss = 0.6571\n",
      "Epoch 1460: Loss = 0.6841\n",
      "Epoch 1460: Loss = 0.6642\n",
      "Epoch 1460: Loss = 0.6634\n"
     ]
    },
    {
     "name": "stderr",
     "output_type": "stream",
     "text": [
      " 15%|█▍        | 1472/10000 [01:59<10:41, 13.30it/s]"
     ]
    },
    {
     "name": "stdout",
     "output_type": "stream",
     "text": [
      "Epoch 1470: Loss = 0.6441\n",
      "Epoch 1470: Loss = 0.6715\n",
      "Epoch 1470: Loss = 0.7042\n",
      "Epoch 1470: Loss = 0.6656\n",
      "Epoch 1470: Loss = 0.7039\n"
     ]
    },
    {
     "name": "stderr",
     "output_type": "stream",
     "text": [
      " 15%|█▍        | 1482/10000 [02:00<10:21, 13.70it/s]"
     ]
    },
    {
     "name": "stdout",
     "output_type": "stream",
     "text": [
      "Epoch 1480: Loss = 0.6744\n",
      "Epoch 1480: Loss = 0.6669\n",
      "Epoch 1480: Loss = 0.7109\n",
      "Epoch 1480: Loss = 0.6672\n",
      "Epoch 1480: Loss = 0.6939\n"
     ]
    },
    {
     "name": "stderr",
     "output_type": "stream",
     "text": [
      " 15%|█▍        | 1492/10000 [02:01<11:12, 12.65it/s]"
     ]
    },
    {
     "name": "stdout",
     "output_type": "stream",
     "text": [
      "Epoch 1490: Loss = 0.7107\n",
      "Epoch 1490: Loss = 0.6514\n",
      "Epoch 1490: Loss = 0.6797\n",
      "Epoch 1490: Loss = 0.6314\n",
      "Epoch 1490: Loss = 0.6703\n"
     ]
    },
    {
     "name": "stderr",
     "output_type": "stream",
     "text": [
      " 15%|█▌        | 1502/10000 [02:02<10:26, 13.57it/s]"
     ]
    },
    {
     "name": "stdout",
     "output_type": "stream",
     "text": [
      "Epoch 1500: Loss = 0.6917\n",
      "Epoch 1500: Loss = 0.6482\n",
      "Epoch 1500: Loss = 0.6815\n",
      "Epoch 1500: Loss = 0.7044\n",
      "Epoch 1500: Loss = 0.6624\n"
     ]
    },
    {
     "name": "stderr",
     "output_type": "stream",
     "text": [
      " 15%|█▌        | 1512/10000 [02:03<11:17, 12.53it/s]"
     ]
    },
    {
     "name": "stdout",
     "output_type": "stream",
     "text": [
      "Epoch 1510: Loss = 0.6979\n",
      "Epoch 1510: Loss = 0.6847\n",
      "Epoch 1510: Loss = 0.6461\n",
      "Epoch 1510: Loss = 0.6710\n",
      "Epoch 1510: Loss = 0.6771\n"
     ]
    },
    {
     "name": "stderr",
     "output_type": "stream",
     "text": [
      " 15%|█▌        | 1522/10000 [02:03<11:31, 12.26it/s]"
     ]
    },
    {
     "name": "stdout",
     "output_type": "stream",
     "text": [
      "Epoch 1520: Loss = 0.6734\n",
      "Epoch 1520: Loss = 0.6545\n",
      "Epoch 1520: Loss = 0.6489\n",
      "Epoch 1520: Loss = 0.6883\n",
      "Epoch 1520: Loss = 0.6498\n"
     ]
    },
    {
     "name": "stderr",
     "output_type": "stream",
     "text": [
      " 15%|█▌        | 1532/10000 [02:04<12:22, 11.40it/s]"
     ]
    },
    {
     "name": "stdout",
     "output_type": "stream",
     "text": [
      "Epoch 1530: Loss = 0.7239\n",
      "Epoch 1530: Loss = 0.7167\n",
      "Epoch 1530: Loss = 0.6878\n",
      "Epoch 1530: Loss = 0.6800\n",
      "Epoch 1530: Loss = 0.6964\n"
     ]
    },
    {
     "name": "stderr",
     "output_type": "stream",
     "text": [
      " 15%|█▌        | 1542/10000 [02:05<11:59, 11.76it/s]"
     ]
    },
    {
     "name": "stdout",
     "output_type": "stream",
     "text": [
      "Epoch 1540: Loss = 0.6543\n",
      "Epoch 1540: Loss = 0.6802\n",
      "Epoch 1540: Loss = 0.7026\n",
      "Epoch 1540: Loss = 0.6574\n",
      "Epoch 1540: Loss = 0.6549\n"
     ]
    },
    {
     "name": "stderr",
     "output_type": "stream",
     "text": [
      " 16%|█▌        | 1552/10000 [02:06<10:38, 13.24it/s]"
     ]
    },
    {
     "name": "stdout",
     "output_type": "stream",
     "text": [
      "Epoch 1550: Loss = 0.6470\n",
      "Epoch 1550: Loss = 0.6520\n",
      "Epoch 1550: Loss = 0.6888\n",
      "Epoch 1550: Loss = 0.6586\n",
      "Epoch 1550: Loss = 0.6621\n"
     ]
    },
    {
     "name": "stderr",
     "output_type": "stream",
     "text": [
      " 16%|█▌        | 1562/10000 [02:07<10:53, 12.92it/s]"
     ]
    },
    {
     "name": "stdout",
     "output_type": "stream",
     "text": [
      "Epoch 1560: Loss = 0.6975\n",
      "Epoch 1560: Loss = 0.6664\n",
      "Epoch 1560: Loss = 0.6909\n",
      "Epoch 1560: Loss = 0.6568\n",
      "Epoch 1560: Loss = 0.6935\n"
     ]
    },
    {
     "name": "stderr",
     "output_type": "stream",
     "text": [
      " 16%|█▌        | 1572/10000 [02:08<12:47, 10.97it/s]"
     ]
    },
    {
     "name": "stdout",
     "output_type": "stream",
     "text": [
      "Epoch 1570: Loss = 0.6726\n",
      "Epoch 1570: Loss = 0.6708\n",
      "Epoch 1570: Loss = 0.6678\n",
      "Epoch 1570: Loss = 0.6718\n",
      "Epoch 1570: Loss = 0.6710\n"
     ]
    },
    {
     "name": "stderr",
     "output_type": "stream",
     "text": [
      " 16%|█▌        | 1582/10000 [02:09<13:12, 10.63it/s]"
     ]
    },
    {
     "name": "stdout",
     "output_type": "stream",
     "text": [
      "Epoch 1580: Loss = 0.6855\n",
      "Epoch 1580: Loss = 0.6616\n",
      "Epoch 1580: Loss = 0.6582\n",
      "Epoch 1580: Loss = 0.6649\n",
      "Epoch 1580: Loss = 0.6792\n"
     ]
    },
    {
     "name": "stderr",
     "output_type": "stream",
     "text": [
      " 16%|█▌        | 1592/10000 [02:10<12:29, 11.22it/s]"
     ]
    },
    {
     "name": "stdout",
     "output_type": "stream",
     "text": [
      "Epoch 1590: Loss = 0.6827\n",
      "Epoch 1590: Loss = 0.7027\n",
      "Epoch 1590: Loss = 0.6880\n",
      "Epoch 1590: Loss = 0.7061\n",
      "Epoch 1590: Loss = 0.6994\n"
     ]
    },
    {
     "name": "stderr",
     "output_type": "stream",
     "text": [
      " 16%|█▌        | 1602/10000 [02:10<10:47, 12.96it/s]"
     ]
    },
    {
     "name": "stdout",
     "output_type": "stream",
     "text": [
      "Epoch 1600: Loss = 0.6814\n",
      "Epoch 1600: Loss = 0.6668\n",
      "Epoch 1600: Loss = 0.6847\n",
      "Epoch 1600: Loss = 0.6831\n",
      "Epoch 1600: Loss = 0.6885\n"
     ]
    },
    {
     "name": "stderr",
     "output_type": "stream",
     "text": [
      " 16%|█▌        | 1612/10000 [02:11<10:31, 13.29it/s]"
     ]
    },
    {
     "name": "stdout",
     "output_type": "stream",
     "text": [
      "Epoch 1610: Loss = 0.6971\n",
      "Epoch 1610: Loss = 0.6678\n",
      "Epoch 1610: Loss = 0.6419\n",
      "Epoch 1610: Loss = 0.6351\n",
      "Epoch 1610: Loss = 0.6566\n"
     ]
    },
    {
     "name": "stderr",
     "output_type": "stream",
     "text": [
      " 16%|█▌        | 1622/10000 [02:12<11:11, 12.48it/s]"
     ]
    },
    {
     "name": "stdout",
     "output_type": "stream",
     "text": [
      "Epoch 1620: Loss = 0.6711\n",
      "Epoch 1620: Loss = 0.6701\n",
      "Epoch 1620: Loss = 0.6584\n",
      "Epoch 1620: Loss = 0.6594\n",
      "Epoch 1620: Loss = 0.6709\n"
     ]
    },
    {
     "name": "stderr",
     "output_type": "stream",
     "text": [
      " 16%|█▋        | 1632/10000 [02:13<12:45, 10.93it/s]"
     ]
    },
    {
     "name": "stdout",
     "output_type": "stream",
     "text": [
      "Epoch 1630: Loss = 0.6965\n",
      "Epoch 1630: Loss = 0.6681\n",
      "Epoch 1630: Loss = 0.6932\n",
      "Epoch 1630: Loss = 0.6850\n",
      "Epoch 1630: Loss = 0.6851\n"
     ]
    },
    {
     "name": "stderr",
     "output_type": "stream",
     "text": [
      " 16%|█▋        | 1640/10000 [02:14<12:50, 10.84it/s]"
     ]
    },
    {
     "name": "stdout",
     "output_type": "stream",
     "text": [
      "Epoch 1640: Loss = 0.7068\n",
      "Epoch 1640: Loss = 0.6869\n",
      "Epoch 1640: Loss = 0.6604\n",
      "Epoch 1640: Loss = 0.6653\n",
      "Epoch 1640: Loss = 0.6445\n"
     ]
    },
    {
     "name": "stderr",
     "output_type": "stream",
     "text": [
      " 17%|█▋        | 1652/10000 [02:15<11:44, 11.85it/s]"
     ]
    },
    {
     "name": "stdout",
     "output_type": "stream",
     "text": [
      "Epoch 1650: Loss = 0.6726\n",
      "Epoch 1650: Loss = 0.6617\n",
      "Epoch 1650: Loss = 0.6738\n",
      "Epoch 1650: Loss = 0.7140\n",
      "Epoch 1650: Loss = 0.6651\n"
     ]
    },
    {
     "name": "stderr",
     "output_type": "stream",
     "text": [
      " 17%|█▋        | 1662/10000 [02:16<11:19, 12.28it/s]"
     ]
    },
    {
     "name": "stdout",
     "output_type": "stream",
     "text": [
      "Epoch 1660: Loss = 0.6970\n",
      "Epoch 1660: Loss = 0.6531\n",
      "Epoch 1660: Loss = 0.6895\n",
      "Epoch 1660: Loss = 0.6630\n",
      "Epoch 1660: Loss = 0.6893\n"
     ]
    },
    {
     "name": "stderr",
     "output_type": "stream",
     "text": [
      " 17%|█▋        | 1672/10000 [02:16<10:26, 13.30it/s]"
     ]
    },
    {
     "name": "stdout",
     "output_type": "stream",
     "text": [
      "Epoch 1670: Loss = 0.6671\n",
      "Epoch 1670: Loss = 0.6618\n",
      "Epoch 1670: Loss = 0.6625\n",
      "Epoch 1670: Loss = 0.6850\n",
      "Epoch 1670: Loss = 0.6559\n"
     ]
    },
    {
     "name": "stderr",
     "output_type": "stream",
     "text": [
      " 17%|█▋        | 1682/10000 [02:17<10:27, 13.26it/s]"
     ]
    },
    {
     "name": "stdout",
     "output_type": "stream",
     "text": [
      "Epoch 1680: Loss = 0.6645\n",
      "Epoch 1680: Loss = 0.6732\n",
      "Epoch 1680: Loss = 0.7013\n",
      "Epoch 1680: Loss = 0.6415\n",
      "Epoch 1680: Loss = 0.6892\n"
     ]
    },
    {
     "name": "stderr",
     "output_type": "stream",
     "text": [
      " 17%|█▋        | 1692/10000 [02:18<11:15, 12.30it/s]"
     ]
    },
    {
     "name": "stdout",
     "output_type": "stream",
     "text": [
      "Epoch 1690: Loss = 0.6562\n",
      "Epoch 1690: Loss = 0.6877\n",
      "Epoch 1690: Loss = 0.6522\n",
      "Epoch 1690: Loss = 0.6482\n",
      "Epoch 1690: Loss = 0.6972\n"
     ]
    },
    {
     "name": "stderr",
     "output_type": "stream",
     "text": [
      " 17%|█▋        | 1702/10000 [02:19<10:28, 13.20it/s]"
     ]
    },
    {
     "name": "stdout",
     "output_type": "stream",
     "text": [
      "Epoch 1700: Loss = 0.6826\n",
      "Epoch 1700: Loss = 0.6824\n",
      "Epoch 1700: Loss = 0.6884\n",
      "Epoch 1700: Loss = 0.6754\n",
      "Epoch 1700: Loss = 0.6758\n"
     ]
    },
    {
     "name": "stderr",
     "output_type": "stream",
     "text": [
      " 17%|█▋        | 1712/10000 [02:20<11:30, 12.01it/s]"
     ]
    },
    {
     "name": "stdout",
     "output_type": "stream",
     "text": [
      "Epoch 1710: Loss = 0.6957\n",
      "Epoch 1710: Loss = 0.6845\n",
      "Epoch 1710: Loss = 0.7024\n",
      "Epoch 1710: Loss = 0.6815\n",
      "Epoch 1710: Loss = 0.6572\n"
     ]
    },
    {
     "name": "stderr",
     "output_type": "stream",
     "text": [
      " 17%|█▋        | 1722/10000 [02:20<11:27, 12.05it/s]"
     ]
    },
    {
     "name": "stdout",
     "output_type": "stream",
     "text": [
      "Epoch 1720: Loss = 0.6817\n",
      "Epoch 1720: Loss = 0.6537\n",
      "Epoch 1720: Loss = 0.7048\n",
      "Epoch 1720: Loss = 0.6752\n",
      "Epoch 1720: Loss = 0.6679\n"
     ]
    },
    {
     "name": "stderr",
     "output_type": "stream",
     "text": [
      " 17%|█▋        | 1732/10000 [02:21<11:11, 12.31it/s]"
     ]
    },
    {
     "name": "stdout",
     "output_type": "stream",
     "text": [
      "Epoch 1730: Loss = 0.6912\n",
      "Epoch 1730: Loss = 0.6652\n",
      "Epoch 1730: Loss = 0.6511\n",
      "Epoch 1730: Loss = 0.6813\n",
      "Epoch 1730: Loss = 0.6569\n"
     ]
    },
    {
     "name": "stderr",
     "output_type": "stream",
     "text": [
      " 17%|█▋        | 1742/10000 [02:22<11:33, 11.90it/s]"
     ]
    },
    {
     "name": "stdout",
     "output_type": "stream",
     "text": [
      "Epoch 1740: Loss = 0.6572\n",
      "Epoch 1740: Loss = 0.6470\n",
      "Epoch 1740: Loss = 0.6641\n",
      "Epoch 1740: Loss = 0.6700\n",
      "Epoch 1740: Loss = 0.6643\n"
     ]
    },
    {
     "name": "stderr",
     "output_type": "stream",
     "text": [
      " 18%|█▊        | 1752/10000 [02:23<11:11, 12.28it/s]"
     ]
    },
    {
     "name": "stdout",
     "output_type": "stream",
     "text": [
      "Epoch 1750: Loss = 0.6908\n",
      "Epoch 1750: Loss = 0.6775\n",
      "Epoch 1750: Loss = 0.6832\n",
      "Epoch 1750: Loss = 0.6694\n",
      "Epoch 1750: Loss = 0.6284\n"
     ]
    },
    {
     "name": "stderr",
     "output_type": "stream",
     "text": [
      " 18%|█▊        | 1762/10000 [02:24<11:11, 12.27it/s]"
     ]
    },
    {
     "name": "stdout",
     "output_type": "stream",
     "text": [
      "Epoch 1760: Loss = 0.6422\n",
      "Epoch 1760: Loss = 0.6614\n",
      "Epoch 1760: Loss = 0.6790\n",
      "Epoch 1760: Loss = 0.6748\n",
      "Epoch 1760: Loss = 0.6952\n"
     ]
    },
    {
     "name": "stderr",
     "output_type": "stream",
     "text": [
      " 18%|█▊        | 1772/10000 [02:25<12:30, 10.96it/s]"
     ]
    },
    {
     "name": "stdout",
     "output_type": "stream",
     "text": [
      "Epoch 1770: Loss = 0.6447\n",
      "Epoch 1770: Loss = 0.6620\n",
      "Epoch 1770: Loss = 0.6747\n",
      "Epoch 1770: Loss = 0.6768\n",
      "Epoch 1770: Loss = 0.6878\n"
     ]
    },
    {
     "name": "stderr",
     "output_type": "stream",
     "text": [
      " 18%|█▊        | 1782/10000 [02:25<11:29, 11.92it/s]"
     ]
    },
    {
     "name": "stdout",
     "output_type": "stream",
     "text": [
      "Epoch 1780: Loss = 0.6570\n",
      "Epoch 1780: Loss = 0.6635\n",
      "Epoch 1780: Loss = 0.7006\n",
      "Epoch 1780: Loss = 0.6920\n",
      "Epoch 1780: Loss = 0.6698\n"
     ]
    },
    {
     "name": "stderr",
     "output_type": "stream",
     "text": [
      " 18%|█▊        | 1792/10000 [02:26<10:30, 13.02it/s]"
     ]
    },
    {
     "name": "stdout",
     "output_type": "stream",
     "text": [
      "Epoch 1790: Loss = 0.6566\n",
      "Epoch 1790: Loss = 0.6953\n",
      "Epoch 1790: Loss = 0.6869\n",
      "Epoch 1790: Loss = 0.7141\n",
      "Epoch 1790: Loss = 0.6758\n"
     ]
    },
    {
     "name": "stderr",
     "output_type": "stream",
     "text": [
      " 18%|█▊        | 1802/10000 [02:27<10:43, 12.73it/s]"
     ]
    },
    {
     "name": "stdout",
     "output_type": "stream",
     "text": [
      "Epoch 1800: Loss = 0.6525\n",
      "Epoch 1800: Loss = 0.6998\n",
      "Epoch 1800: Loss = 0.6755\n",
      "Epoch 1800: Loss = 0.6888\n",
      "Epoch 1800: Loss = 0.7106\n"
     ]
    },
    {
     "name": "stderr",
     "output_type": "stream",
     "text": [
      " 18%|█▊        | 1812/10000 [02:28<10:28, 13.03it/s]"
     ]
    },
    {
     "name": "stdout",
     "output_type": "stream",
     "text": [
      "Epoch 1810: Loss = 0.6587\n",
      "Epoch 1810: Loss = 0.6770\n",
      "Epoch 1810: Loss = 0.6918\n",
      "Epoch 1810: Loss = 0.6564\n",
      "Epoch 1810: Loss = 0.6849\n"
     ]
    },
    {
     "name": "stderr",
     "output_type": "stream",
     "text": [
      " 18%|█▊        | 1822/10000 [02:29<12:26, 10.95it/s]"
     ]
    },
    {
     "name": "stdout",
     "output_type": "stream",
     "text": [
      "Epoch 1820: Loss = 0.6564\n",
      "Epoch 1820: Loss = 0.6752\n",
      "Epoch 1820: Loss = 0.6956\n",
      "Epoch 1820: Loss = 0.6697\n",
      "Epoch 1820: Loss = 0.6615\n"
     ]
    },
    {
     "name": "stderr",
     "output_type": "stream",
     "text": [
      " 18%|█▊        | 1832/10000 [02:30<10:30, 12.96it/s]"
     ]
    },
    {
     "name": "stdout",
     "output_type": "stream",
     "text": [
      "Epoch 1830: Loss = 0.6596\n",
      "Epoch 1830: Loss = 0.6263\n",
      "Epoch 1830: Loss = 0.6809\n",
      "Epoch 1830: Loss = 0.6570\n",
      "Epoch 1830: Loss = 0.6705\n"
     ]
    },
    {
     "name": "stderr",
     "output_type": "stream",
     "text": [
      " 18%|█▊        | 1842/10000 [02:30<11:32, 11.78it/s]"
     ]
    },
    {
     "name": "stdout",
     "output_type": "stream",
     "text": [
      "Epoch 1840: Loss = 0.6501\n",
      "Epoch 1840: Loss = 0.6513\n",
      "Epoch 1840: Loss = 0.6914\n",
      "Epoch 1840: Loss = 0.7072\n",
      "Epoch 1840: Loss = 0.6519\n"
     ]
    },
    {
     "name": "stderr",
     "output_type": "stream",
     "text": [
      " 19%|█▊        | 1852/10000 [02:31<10:21, 13.12it/s]"
     ]
    },
    {
     "name": "stdout",
     "output_type": "stream",
     "text": [
      "Epoch 1850: Loss = 0.6657\n",
      "Epoch 1850: Loss = 0.6880\n",
      "Epoch 1850: Loss = 0.6436\n",
      "Epoch 1850: Loss = 0.6606\n",
      "Epoch 1850: Loss = 0.7009\n"
     ]
    },
    {
     "name": "stderr",
     "output_type": "stream",
     "text": [
      " 19%|█▊        | 1862/10000 [02:32<10:37, 12.76it/s]"
     ]
    },
    {
     "name": "stdout",
     "output_type": "stream",
     "text": [
      "Epoch 1860: Loss = 0.6435\n",
      "Epoch 1860: Loss = 0.6720\n",
      "Epoch 1860: Loss = 0.6661\n",
      "Epoch 1860: Loss = 0.6730\n",
      "Epoch 1860: Loss = 0.7028\n"
     ]
    },
    {
     "name": "stderr",
     "output_type": "stream",
     "text": [
      " 19%|█▊        | 1872/10000 [02:33<10:11, 13.28it/s]"
     ]
    },
    {
     "name": "stdout",
     "output_type": "stream",
     "text": [
      "Epoch 1870: Loss = 0.6755\n",
      "Epoch 1870: Loss = 0.6847\n",
      "Epoch 1870: Loss = 0.7172\n",
      "Epoch 1870: Loss = 0.6534\n",
      "Epoch 1870: Loss = 0.6573\n"
     ]
    },
    {
     "name": "stderr",
     "output_type": "stream",
     "text": [
      " 19%|█▉        | 1882/10000 [02:34<10:59, 12.32it/s]"
     ]
    },
    {
     "name": "stdout",
     "output_type": "stream",
     "text": [
      "Epoch 1880: Loss = 0.6785\n",
      "Epoch 1880: Loss = 0.6941\n",
      "Epoch 1880: Loss = 0.7044\n",
      "Epoch 1880: Loss = 0.6478\n",
      "Epoch 1880: Loss = 0.7230\n"
     ]
    },
    {
     "name": "stderr",
     "output_type": "stream",
     "text": [
      " 19%|█▉        | 1892/10000 [02:34<10:20, 13.06it/s]"
     ]
    },
    {
     "name": "stdout",
     "output_type": "stream",
     "text": [
      "Epoch 1890: Loss = 0.6464\n",
      "Epoch 1890: Loss = 0.6757\n",
      "Epoch 1890: Loss = 0.6493\n",
      "Epoch 1890: Loss = 0.6918\n",
      "Epoch 1890: Loss = 0.6656\n"
     ]
    },
    {
     "name": "stderr",
     "output_type": "stream",
     "text": [
      " 19%|█▉        | 1902/10000 [02:35<10:07, 13.33it/s]"
     ]
    },
    {
     "name": "stdout",
     "output_type": "stream",
     "text": [
      "Epoch 1900: Loss = 0.6730\n",
      "Epoch 1900: Loss = 0.7042\n",
      "Epoch 1900: Loss = 0.6695\n",
      "Epoch 1900: Loss = 0.6837\n",
      "Epoch 1900: Loss = 0.6710\n"
     ]
    },
    {
     "name": "stderr",
     "output_type": "stream",
     "text": [
      " 19%|█▉        | 1912/10000 [02:36<10:26, 12.90it/s]"
     ]
    },
    {
     "name": "stdout",
     "output_type": "stream",
     "text": [
      "Epoch 1910: Loss = 0.7187\n",
      "Epoch 1910: Loss = 0.6593\n",
      "Epoch 1910: Loss = 0.6658\n",
      "Epoch 1910: Loss = 0.6744\n",
      "Epoch 1910: Loss = 0.6712\n"
     ]
    },
    {
     "name": "stderr",
     "output_type": "stream",
     "text": [
      " 19%|█▉        | 1922/10000 [02:37<10:33, 12.76it/s]"
     ]
    },
    {
     "name": "stdout",
     "output_type": "stream",
     "text": [
      "Epoch 1920: Loss = 0.6354\n",
      "Epoch 1920: Loss = 0.6656\n",
      "Epoch 1920: Loss = 0.6963\n",
      "Epoch 1920: Loss = 0.6672\n",
      "Epoch 1920: Loss = 0.6695\n"
     ]
    },
    {
     "name": "stderr",
     "output_type": "stream",
     "text": [
      " 19%|█▉        | 1932/10000 [02:38<11:00, 12.21it/s]"
     ]
    },
    {
     "name": "stdout",
     "output_type": "stream",
     "text": [
      "Epoch 1930: Loss = 0.6869\n",
      "Epoch 1930: Loss = 0.6917\n",
      "Epoch 1930: Loss = 0.6918\n",
      "Epoch 1930: Loss = 0.6601\n",
      "Epoch 1930: Loss = 0.6713\n"
     ]
    },
    {
     "name": "stderr",
     "output_type": "stream",
     "text": [
      " 19%|█▉        | 1942/10000 [02:38<11:35, 11.58it/s]"
     ]
    },
    {
     "name": "stdout",
     "output_type": "stream",
     "text": [
      "Epoch 1940: Loss = 0.6699\n",
      "Epoch 1940: Loss = 0.6957\n",
      "Epoch 1940: Loss = 0.6770\n",
      "Epoch 1940: Loss = 0.6729\n",
      "Epoch 1940: Loss = 0.6751\n"
     ]
    },
    {
     "name": "stderr",
     "output_type": "stream",
     "text": [
      " 20%|█▉        | 1952/10000 [02:39<10:07, 13.25it/s]"
     ]
    },
    {
     "name": "stdout",
     "output_type": "stream",
     "text": [
      "Epoch 1950: Loss = 0.6686\n",
      "Epoch 1950: Loss = 0.6726\n",
      "Epoch 1950: Loss = 0.6822\n",
      "Epoch 1950: Loss = 0.6761\n",
      "Epoch 1950: Loss = 0.6673\n"
     ]
    },
    {
     "name": "stderr",
     "output_type": "stream",
     "text": [
      " 20%|█▉        | 1962/10000 [02:40<10:06, 13.25it/s]"
     ]
    },
    {
     "name": "stdout",
     "output_type": "stream",
     "text": [
      "Epoch 1960: Loss = 0.6951\n",
      "Epoch 1960: Loss = 0.6771\n",
      "Epoch 1960: Loss = 0.6790\n",
      "Epoch 1960: Loss = 0.6598\n",
      "Epoch 1960: Loss = 0.6689\n"
     ]
    },
    {
     "name": "stderr",
     "output_type": "stream",
     "text": [
      " 20%|█▉        | 1972/10000 [02:41<11:48, 11.34it/s]"
     ]
    },
    {
     "name": "stdout",
     "output_type": "stream",
     "text": [
      "Epoch 1970: Loss = 0.6728\n",
      "Epoch 1970: Loss = 0.6694\n",
      "Epoch 1970: Loss = 0.6644\n",
      "Epoch 1970: Loss = 0.7159\n",
      "Epoch 1970: Loss = 0.6637\n"
     ]
    },
    {
     "name": "stderr",
     "output_type": "stream",
     "text": [
      " 20%|█▉        | 1982/10000 [02:42<10:46, 12.40it/s]"
     ]
    },
    {
     "name": "stdout",
     "output_type": "stream",
     "text": [
      "Epoch 1980: Loss = 0.7137\n",
      "Epoch 1980: Loss = 0.6868\n",
      "Epoch 1980: Loss = 0.6605\n",
      "Epoch 1980: Loss = 0.6954\n",
      "Epoch 1980: Loss = 0.6516\n"
     ]
    },
    {
     "name": "stderr",
     "output_type": "stream",
     "text": [
      " 20%|█▉        | 1992/10000 [02:43<11:28, 11.62it/s]"
     ]
    },
    {
     "name": "stdout",
     "output_type": "stream",
     "text": [
      "Epoch 1990: Loss = 0.6938\n",
      "Epoch 1990: Loss = 0.6440\n",
      "Epoch 1990: Loss = 0.6958\n",
      "Epoch 1990: Loss = 0.6714\n",
      "Epoch 1990: Loss = 0.6958\n"
     ]
    },
    {
     "name": "stderr",
     "output_type": "stream",
     "text": [
      " 20%|██        | 2002/10000 [02:43<10:18, 12.94it/s]"
     ]
    },
    {
     "name": "stdout",
     "output_type": "stream",
     "text": [
      "Epoch 2000: Loss = 0.6539\n",
      "Epoch 2000: Loss = 0.6753\n",
      "Epoch 2000: Loss = 0.6598\n",
      "Epoch 2000: Loss = 0.6658\n",
      "Epoch 2000: Loss = 0.6725\n"
     ]
    },
    {
     "name": "stderr",
     "output_type": "stream",
     "text": [
      " 20%|██        | 2012/10000 [02:44<11:44, 11.34it/s]"
     ]
    },
    {
     "name": "stdout",
     "output_type": "stream",
     "text": [
      "Epoch 2010: Loss = 0.6667\n",
      "Epoch 2010: Loss = 0.6468\n",
      "Epoch 2010: Loss = 0.6959\n",
      "Epoch 2010: Loss = 0.6499\n",
      "Epoch 2010: Loss = 0.6612\n"
     ]
    },
    {
     "name": "stderr",
     "output_type": "stream",
     "text": [
      " 20%|██        | 2022/10000 [02:45<11:31, 11.53it/s]"
     ]
    },
    {
     "name": "stdout",
     "output_type": "stream",
     "text": [
      "Epoch 2020: Loss = 0.6561\n",
      "Epoch 2020: Loss = 0.6998\n",
      "Epoch 2020: Loss = 0.6532\n",
      "Epoch 2020: Loss = 0.6452\n",
      "Epoch 2020: Loss = 0.6804\n"
     ]
    },
    {
     "name": "stderr",
     "output_type": "stream",
     "text": [
      " 20%|██        | 2032/10000 [02:46<10:43, 12.38it/s]"
     ]
    },
    {
     "name": "stdout",
     "output_type": "stream",
     "text": [
      "Epoch 2030: Loss = 0.6742\n",
      "Epoch 2030: Loss = 0.6791\n",
      "Epoch 2030: Loss = 0.6702\n",
      "Epoch 2030: Loss = 0.6534\n",
      "Epoch 2030: Loss = 0.6738\n"
     ]
    },
    {
     "name": "stderr",
     "output_type": "stream",
     "text": [
      " 20%|██        | 2042/10000 [02:47<09:58, 13.29it/s]"
     ]
    },
    {
     "name": "stdout",
     "output_type": "stream",
     "text": [
      "Epoch 2040: Loss = 0.7073\n",
      "Epoch 2040: Loss = 0.6799\n",
      "Epoch 2040: Loss = 0.6654\n",
      "Epoch 2040: Loss = 0.6969\n",
      "Epoch 2040: Loss = 0.6991\n"
     ]
    },
    {
     "name": "stderr",
     "output_type": "stream",
     "text": [
      " 21%|██        | 2052/10000 [02:48<11:20, 11.68it/s]"
     ]
    },
    {
     "name": "stdout",
     "output_type": "stream",
     "text": [
      "Epoch 2050: Loss = 0.6700\n",
      "Epoch 2050: Loss = 0.6617\n",
      "Epoch 2050: Loss = 0.6290\n",
      "Epoch 2050: Loss = 0.6730\n",
      "Epoch 2050: Loss = 0.6880\n"
     ]
    },
    {
     "name": "stderr",
     "output_type": "stream",
     "text": [
      " 21%|██        | 2062/10000 [02:48<10:20, 12.79it/s]"
     ]
    },
    {
     "name": "stdout",
     "output_type": "stream",
     "text": [
      "Epoch 2060: Loss = 0.6722\n",
      "Epoch 2060: Loss = 0.6942\n",
      "Epoch 2060: Loss = 0.6939\n",
      "Epoch 2060: Loss = 0.6795\n",
      "Epoch 2060: Loss = 0.6859\n"
     ]
    },
    {
     "name": "stderr",
     "output_type": "stream",
     "text": [
      " 21%|██        | 2072/10000 [02:49<10:28, 12.61it/s]"
     ]
    },
    {
     "name": "stdout",
     "output_type": "stream",
     "text": [
      "Epoch 2070: Loss = 0.7213\n",
      "Epoch 2070: Loss = 0.6640\n",
      "Epoch 2070: Loss = 0.6800\n",
      "Epoch 2070: Loss = 0.6682\n",
      "Epoch 2070: Loss = 0.6700\n"
     ]
    },
    {
     "name": "stderr",
     "output_type": "stream",
     "text": [
      " 21%|██        | 2082/10000 [02:50<09:45, 13.52it/s]"
     ]
    },
    {
     "name": "stdout",
     "output_type": "stream",
     "text": [
      "Epoch 2080: Loss = 0.6750\n",
      "Epoch 2080: Loss = 0.6795\n",
      "Epoch 2080: Loss = 0.7102\n",
      "Epoch 2080: Loss = 0.6808\n",
      "Epoch 2080: Loss = 0.6592\n"
     ]
    },
    {
     "name": "stderr",
     "output_type": "stream",
     "text": [
      " 21%|██        | 2092/10000 [02:51<10:31, 12.52it/s]"
     ]
    },
    {
     "name": "stdout",
     "output_type": "stream",
     "text": [
      "Epoch 2090: Loss = 0.6947\n",
      "Epoch 2090: Loss = 0.6626\n",
      "Epoch 2090: Loss = 0.6485\n",
      "Epoch 2090: Loss = 0.6675\n",
      "Epoch 2090: Loss = 0.6434\n"
     ]
    },
    {
     "name": "stderr",
     "output_type": "stream",
     "text": [
      " 21%|██        | 2102/10000 [02:52<11:04, 11.89it/s]"
     ]
    },
    {
     "name": "stdout",
     "output_type": "stream",
     "text": [
      "Epoch 2100: Loss = 0.6617\n",
      "Epoch 2100: Loss = 0.6456\n",
      "Epoch 2100: Loss = 0.6916\n",
      "Epoch 2100: Loss = 0.6088\n",
      "Epoch 2100: Loss = 0.6593\n"
     ]
    },
    {
     "name": "stderr",
     "output_type": "stream",
     "text": [
      " 21%|██        | 2112/10000 [02:52<09:52, 13.32it/s]"
     ]
    },
    {
     "name": "stdout",
     "output_type": "stream",
     "text": [
      "Epoch 2110: Loss = 0.6897\n",
      "Epoch 2110: Loss = 0.7018\n",
      "Epoch 2110: Loss = 0.6699\n",
      "Epoch 2110: Loss = 0.6856\n",
      "Epoch 2110: Loss = 0.6597\n"
     ]
    },
    {
     "name": "stderr",
     "output_type": "stream",
     "text": [
      " 21%|██        | 2120/10000 [02:53<10:20, 12.70it/s]"
     ]
    },
    {
     "name": "stdout",
     "output_type": "stream",
     "text": [
      "Epoch 2120: Loss = 0.6670\n",
      "Epoch 2120: Loss = 0.6993\n",
      "Epoch 2120: Loss = 0.6695\n",
      "Epoch 2120: Loss = 0.6727\n",
      "Epoch 2120: Loss = 0.6453\n"
     ]
    },
    {
     "name": "stderr",
     "output_type": "stream",
     "text": [
      " 21%|██▏       | 2132/10000 [02:54<10:14, 12.81it/s]"
     ]
    },
    {
     "name": "stdout",
     "output_type": "stream",
     "text": [
      "Epoch 2130: Loss = 0.6756\n",
      "Epoch 2130: Loss = 0.6924\n",
      "Epoch 2130: Loss = 0.6900\n",
      "Epoch 2130: Loss = 0.7082\n",
      "Epoch 2130: Loss = 0.6624\n"
     ]
    },
    {
     "name": "stderr",
     "output_type": "stream",
     "text": [
      " 21%|██▏       | 2142/10000 [02:55<10:23, 12.60it/s]"
     ]
    },
    {
     "name": "stdout",
     "output_type": "stream",
     "text": [
      "Epoch 2140: Loss = 0.6528\n",
      "Epoch 2140: Loss = 0.6978\n",
      "Epoch 2140: Loss = 0.6747\n",
      "Epoch 2140: Loss = 0.6945\n",
      "Epoch 2140: Loss = 0.6707\n"
     ]
    },
    {
     "name": "stderr",
     "output_type": "stream",
     "text": [
      " 22%|██▏       | 2152/10000 [02:56<10:02, 13.03it/s]"
     ]
    },
    {
     "name": "stdout",
     "output_type": "stream",
     "text": [
      "Epoch 2150: Loss = 0.6902\n",
      "Epoch 2150: Loss = 0.6829\n",
      "Epoch 2150: Loss = 0.6667\n",
      "Epoch 2150: Loss = 0.6603\n",
      "Epoch 2150: Loss = 0.7007\n"
     ]
    },
    {
     "name": "stderr",
     "output_type": "stream",
     "text": [
      " 22%|██▏       | 2162/10000 [02:56<10:09, 12.85it/s]"
     ]
    },
    {
     "name": "stdout",
     "output_type": "stream",
     "text": [
      "Epoch 2160: Loss = 0.6672\n",
      "Epoch 2160: Loss = 0.6543\n",
      "Epoch 2160: Loss = 0.6994\n",
      "Epoch 2160: Loss = 0.6870\n",
      "Epoch 2160: Loss = 0.6832\n"
     ]
    },
    {
     "name": "stderr",
     "output_type": "stream",
     "text": [
      " 22%|██▏       | 2172/10000 [02:57<12:18, 10.60it/s]"
     ]
    },
    {
     "name": "stdout",
     "output_type": "stream",
     "text": [
      "Epoch 2170: Loss = 0.6675\n",
      "Epoch 2170: Loss = 0.6979\n",
      "Epoch 2170: Loss = 0.6470\n",
      "Epoch 2170: Loss = 0.6649\n",
      "Epoch 2170: Loss = 0.6562\n"
     ]
    },
    {
     "name": "stderr",
     "output_type": "stream",
     "text": [
      " 22%|██▏       | 2182/10000 [02:58<09:58, 13.06it/s]"
     ]
    },
    {
     "name": "stdout",
     "output_type": "stream",
     "text": [
      "Epoch 2180: Loss = 0.6692\n",
      "Epoch 2180: Loss = 0.6666\n",
      "Epoch 2180: Loss = 0.6725\n",
      "Epoch 2180: Loss = 0.6849\n",
      "Epoch 2180: Loss = 0.6663\n"
     ]
    },
    {
     "name": "stderr",
     "output_type": "stream",
     "text": [
      " 22%|██▏       | 2190/10000 [02:59<11:02, 11.80it/s]"
     ]
    },
    {
     "name": "stdout",
     "output_type": "stream",
     "text": [
      "Epoch 2190: Loss = 0.6538\n",
      "Epoch 2190: Loss = 0.6686\n",
      "Epoch 2190: Loss = 0.6840\n",
      "Epoch 2190: Loss = 0.6613\n",
      "Epoch 2190: Loss = 0.6808\n"
     ]
    },
    {
     "name": "stderr",
     "output_type": "stream",
     "text": [
      " 22%|██▏       | 2202/10000 [03:00<11:05, 11.71it/s]"
     ]
    },
    {
     "name": "stdout",
     "output_type": "stream",
     "text": [
      "Epoch 2200: Loss = 0.6556\n",
      "Epoch 2200: Loss = 0.6764\n",
      "Epoch 2200: Loss = 0.6740\n",
      "Epoch 2200: Loss = 0.6599\n",
      "Epoch 2200: Loss = 0.6757\n"
     ]
    },
    {
     "name": "stderr",
     "output_type": "stream",
     "text": [
      " 22%|██▏       | 2212/10000 [03:01<11:52, 10.93it/s]"
     ]
    },
    {
     "name": "stdout",
     "output_type": "stream",
     "text": [
      "Epoch 2210: Loss = 0.6731\n",
      "Epoch 2210: Loss = 0.6639\n",
      "Epoch 2210: Loss = 0.6554\n",
      "Epoch 2210: Loss = 0.6739\n",
      "Epoch 2210: Loss = 0.6997\n"
     ]
    },
    {
     "name": "stderr",
     "output_type": "stream",
     "text": [
      " 22%|██▏       | 2222/10000 [03:02<12:18, 10.53it/s]"
     ]
    },
    {
     "name": "stdout",
     "output_type": "stream",
     "text": [
      "Epoch 2220: Loss = 0.6859\n",
      "Epoch 2220: Loss = 0.6610\n",
      "Epoch 2220: Loss = 0.6980\n",
      "Epoch 2220: Loss = 0.7044\n",
      "Epoch 2220: Loss = 0.6660\n"
     ]
    },
    {
     "name": "stderr",
     "output_type": "stream",
     "text": [
      " 22%|██▏       | 2232/10000 [03:03<12:16, 10.54it/s]"
     ]
    },
    {
     "name": "stdout",
     "output_type": "stream",
     "text": [
      "Epoch 2230: Loss = 0.6841\n",
      "Epoch 2230: Loss = 0.6824\n",
      "Epoch 2230: Loss = 0.6649\n",
      "Epoch 2230: Loss = 0.6746\n",
      "Epoch 2230: Loss = 0.6912\n"
     ]
    },
    {
     "name": "stderr",
     "output_type": "stream",
     "text": [
      " 22%|██▏       | 2242/10000 [03:04<10:52, 11.88it/s]"
     ]
    },
    {
     "name": "stdout",
     "output_type": "stream",
     "text": [
      "Epoch 2240: Loss = 0.6780\n",
      "Epoch 2240: Loss = 0.6634\n",
      "Epoch 2240: Loss = 0.6850\n",
      "Epoch 2240: Loss = 0.6940\n",
      "Epoch 2240: Loss = 0.6823\n"
     ]
    },
    {
     "name": "stderr",
     "output_type": "stream",
     "text": [
      " 23%|██▎       | 2252/10000 [03:05<11:10, 11.55it/s]"
     ]
    },
    {
     "name": "stdout",
     "output_type": "stream",
     "text": [
      "Epoch 2250: Loss = 0.6678\n",
      "Epoch 2250: Loss = 0.6915\n",
      "Epoch 2250: Loss = 0.6510\n",
      "Epoch 2250: Loss = 0.6807\n",
      "Epoch 2250: Loss = 0.6905\n"
     ]
    },
    {
     "name": "stderr",
     "output_type": "stream",
     "text": [
      " 23%|██▎       | 2260/10000 [03:05<09:57, 12.96it/s]"
     ]
    },
    {
     "name": "stdout",
     "output_type": "stream",
     "text": [
      "Epoch 2260: Loss = 0.6863\n",
      "Epoch 2260: Loss = 0.6765\n",
      "Epoch 2260: Loss = 0.6623\n",
      "Epoch 2260: Loss = 0.6640\n",
      "Epoch 2260: Loss = 0.6340\n"
     ]
    },
    {
     "name": "stderr",
     "output_type": "stream",
     "text": [
      " 23%|██▎       | 2272/10000 [03:06<10:07, 12.73it/s]"
     ]
    },
    {
     "name": "stdout",
     "output_type": "stream",
     "text": [
      "Epoch 2270: Loss = 0.6675\n",
      "Epoch 2270: Loss = 0.6857\n",
      "Epoch 2270: Loss = 0.6624\n",
      "Epoch 2270: Loss = 0.6594\n",
      "Epoch 2270: Loss = 0.7030\n"
     ]
    },
    {
     "name": "stderr",
     "output_type": "stream",
     "text": [
      " 23%|██▎       | 2282/10000 [03:07<09:43, 13.24it/s]"
     ]
    },
    {
     "name": "stdout",
     "output_type": "stream",
     "text": [
      "Epoch 2280: Loss = 0.7007\n",
      "Epoch 2280: Loss = 0.6629\n",
      "Epoch 2280: Loss = 0.6667\n",
      "Epoch 2280: Loss = 0.6824\n",
      "Epoch 2280: Loss = 0.7008\n"
     ]
    },
    {
     "name": "stderr",
     "output_type": "stream",
     "text": [
      " 23%|██▎       | 2292/10000 [03:08<11:47, 10.90it/s]"
     ]
    },
    {
     "name": "stdout",
     "output_type": "stream",
     "text": [
      "Epoch 2290: Loss = 0.6638\n",
      "Epoch 2290: Loss = 0.6615\n",
      "Epoch 2290: Loss = 0.6846\n",
      "Epoch 2290: Loss = 0.6833\n",
      "Epoch 2290: Loss = 0.6614\n"
     ]
    },
    {
     "name": "stderr",
     "output_type": "stream",
     "text": [
      " 23%|██▎       | 2302/10000 [03:09<10:57, 11.70it/s]"
     ]
    },
    {
     "name": "stdout",
     "output_type": "stream",
     "text": [
      "Epoch 2300: Loss = 0.6405\n",
      "Epoch 2300: Loss = 0.6968\n",
      "Epoch 2300: Loss = 0.6600\n",
      "Epoch 2300: Loss = 0.6744\n",
      "Epoch 2300: Loss = 0.6825\n"
     ]
    },
    {
     "name": "stderr",
     "output_type": "stream",
     "text": [
      " 23%|██▎       | 2312/10000 [03:10<10:46, 11.89it/s]"
     ]
    },
    {
     "name": "stdout",
     "output_type": "stream",
     "text": [
      "Epoch 2310: Loss = 0.6536\n",
      "Epoch 2310: Loss = 0.6776\n",
      "Epoch 2310: Loss = 0.6850\n",
      "Epoch 2310: Loss = 0.6742\n",
      "Epoch 2310: Loss = 0.6556\n"
     ]
    },
    {
     "name": "stderr",
     "output_type": "stream",
     "text": [
      " 23%|██▎       | 2322/10000 [03:11<11:57, 10.70it/s]"
     ]
    },
    {
     "name": "stdout",
     "output_type": "stream",
     "text": [
      "Epoch 2320: Loss = 0.6777\n",
      "Epoch 2320: Loss = 0.6811\n",
      "Epoch 2320: Loss = 0.6484\n",
      "Epoch 2320: Loss = 0.6868\n",
      "Epoch 2320: Loss = 0.6988\n"
     ]
    },
    {
     "name": "stderr",
     "output_type": "stream",
     "text": [
      " 23%|██▎       | 2332/10000 [03:11<11:13, 11.39it/s]"
     ]
    },
    {
     "name": "stdout",
     "output_type": "stream",
     "text": [
      "Epoch 2330: Loss = 0.6458\n",
      "Epoch 2330: Loss = 0.6501\n",
      "Epoch 2330: Loss = 0.6516\n",
      "Epoch 2330: Loss = 0.6491\n",
      "Epoch 2330: Loss = 0.6765\n"
     ]
    },
    {
     "name": "stderr",
     "output_type": "stream",
     "text": [
      " 23%|██▎       | 2342/10000 [03:12<10:15, 12.43it/s]"
     ]
    },
    {
     "name": "stdout",
     "output_type": "stream",
     "text": [
      "Epoch 2340: Loss = 0.6444\n",
      "Epoch 2340: Loss = 0.6904\n",
      "Epoch 2340: Loss = 0.6939\n",
      "Epoch 2340: Loss = 0.6672\n",
      "Epoch 2340: Loss = 0.6885\n"
     ]
    },
    {
     "name": "stderr",
     "output_type": "stream",
     "text": [
      " 24%|██▎       | 2352/10000 [03:13<09:54, 12.86it/s]"
     ]
    },
    {
     "name": "stdout",
     "output_type": "stream",
     "text": [
      "Epoch 2350: Loss = 0.6679\n",
      "Epoch 2350: Loss = 0.6594\n",
      "Epoch 2350: Loss = 0.6635\n",
      "Epoch 2350: Loss = 0.6521\n",
      "Epoch 2350: Loss = 0.7113\n"
     ]
    },
    {
     "name": "stderr",
     "output_type": "stream",
     "text": [
      " 24%|██▎       | 2362/10000 [03:14<11:17, 11.28it/s]"
     ]
    },
    {
     "name": "stdout",
     "output_type": "stream",
     "text": [
      "Epoch 2360: Loss = 0.7018\n",
      "Epoch 2360: Loss = 0.7030\n",
      "Epoch 2360: Loss = 0.6748\n",
      "Epoch 2360: Loss = 0.6756\n",
      "Epoch 2360: Loss = 0.6560\n"
     ]
    },
    {
     "name": "stderr",
     "output_type": "stream",
     "text": [
      " 24%|██▎       | 2372/10000 [03:15<10:29, 12.12it/s]"
     ]
    },
    {
     "name": "stdout",
     "output_type": "stream",
     "text": [
      "Epoch 2370: Loss = 0.6566\n",
      "Epoch 2370: Loss = 0.6570\n",
      "Epoch 2370: Loss = 0.6798\n",
      "Epoch 2370: Loss = 0.6891\n",
      "Epoch 2370: Loss = 0.6825\n"
     ]
    },
    {
     "name": "stderr",
     "output_type": "stream",
     "text": [
      " 24%|██▍       | 2382/10000 [03:16<09:37, 13.19it/s]"
     ]
    },
    {
     "name": "stdout",
     "output_type": "stream",
     "text": [
      "Epoch 2380: Loss = 0.6727\n",
      "Epoch 2380: Loss = 0.6426\n",
      "Epoch 2380: Loss = 0.6714\n",
      "Epoch 2380: Loss = 0.6656\n",
      "Epoch 2380: Loss = 0.6719\n"
     ]
    },
    {
     "name": "stderr",
     "output_type": "stream",
     "text": [
      " 24%|██▍       | 2392/10000 [03:16<10:03, 12.60it/s]"
     ]
    },
    {
     "name": "stdout",
     "output_type": "stream",
     "text": [
      "Epoch 2390: Loss = 0.6582\n",
      "Epoch 2390: Loss = 0.6924\n",
      "Epoch 2390: Loss = 0.6939\n",
      "Epoch 2390: Loss = 0.6740\n",
      "Epoch 2390: Loss = 0.6810\n"
     ]
    },
    {
     "name": "stderr",
     "output_type": "stream",
     "text": [
      " 24%|██▍       | 2402/10000 [03:17<10:17, 12.31it/s]"
     ]
    },
    {
     "name": "stdout",
     "output_type": "stream",
     "text": [
      "Epoch 2400: Loss = 0.6582\n",
      "Epoch 2400: Loss = 0.7066\n",
      "Epoch 2400: Loss = 0.6738\n",
      "Epoch 2400: Loss = 0.6764\n",
      "Epoch 2400: Loss = 0.6748\n"
     ]
    },
    {
     "name": "stderr",
     "output_type": "stream",
     "text": [
      " 24%|██▍       | 2412/10000 [03:18<11:24, 11.09it/s]"
     ]
    },
    {
     "name": "stdout",
     "output_type": "stream",
     "text": [
      "Epoch 2410: Loss = 0.6717\n",
      "Epoch 2410: Loss = 0.6616\n",
      "Epoch 2410: Loss = 0.6733\n",
      "Epoch 2410: Loss = 0.6747\n",
      "Epoch 2410: Loss = 0.6847\n"
     ]
    },
    {
     "name": "stderr",
     "output_type": "stream",
     "text": [
      " 24%|██▍       | 2422/10000 [03:19<10:39, 11.85it/s]"
     ]
    },
    {
     "name": "stdout",
     "output_type": "stream",
     "text": [
      "Epoch 2420: Loss = 0.6625\n",
      "Epoch 2420: Loss = 0.6965\n",
      "Epoch 2420: Loss = 0.6934\n",
      "Epoch 2420: Loss = 0.6333\n",
      "Epoch 2420: Loss = 0.6595\n"
     ]
    },
    {
     "name": "stderr",
     "output_type": "stream",
     "text": [
      " 24%|██▍       | 2432/10000 [03:20<10:21, 12.18it/s]"
     ]
    },
    {
     "name": "stdout",
     "output_type": "stream",
     "text": [
      "Epoch 2430: Loss = 0.6681\n",
      "Epoch 2430: Loss = 0.7089\n",
      "Epoch 2430: Loss = 0.6832\n",
      "Epoch 2430: Loss = 0.6934\n",
      "Epoch 2430: Loss = 0.6837\n"
     ]
    },
    {
     "name": "stderr",
     "output_type": "stream",
     "text": [
      " 24%|██▍       | 2442/10000 [03:21<10:06, 12.47it/s]"
     ]
    },
    {
     "name": "stdout",
     "output_type": "stream",
     "text": [
      "Epoch 2440: Loss = 0.6854\n",
      "Epoch 2440: Loss = 0.6691\n",
      "Epoch 2440: Loss = 0.6516\n",
      "Epoch 2440: Loss = 0.6823\n",
      "Epoch 2440: Loss = 0.6332\n"
     ]
    },
    {
     "name": "stderr",
     "output_type": "stream",
     "text": [
      " 25%|██▍       | 2452/10000 [03:21<10:53, 11.54it/s]"
     ]
    },
    {
     "name": "stdout",
     "output_type": "stream",
     "text": [
      "Epoch 2450: Loss = 0.6847\n",
      "Epoch 2450: Loss = 0.6898\n",
      "Epoch 2450: Loss = 0.6619\n",
      "Epoch 2450: Loss = 0.6737\n",
      "Epoch 2450: Loss = 0.6860\n"
     ]
    },
    {
     "name": "stderr",
     "output_type": "stream",
     "text": [
      " 25%|██▍       | 2462/10000 [03:22<09:40, 12.99it/s]"
     ]
    },
    {
     "name": "stdout",
     "output_type": "stream",
     "text": [
      "Epoch 2460: Loss = 0.6806\n",
      "Epoch 2460: Loss = 0.6805\n",
      "Epoch 2460: Loss = 0.6901\n",
      "Epoch 2460: Loss = 0.6744\n",
      "Epoch 2460: Loss = 0.6698\n"
     ]
    },
    {
     "name": "stderr",
     "output_type": "stream",
     "text": [
      " 25%|██▍       | 2472/10000 [03:23<10:30, 11.94it/s]"
     ]
    },
    {
     "name": "stdout",
     "output_type": "stream",
     "text": [
      "Epoch 2470: Loss = 0.6923\n",
      "Epoch 2470: Loss = 0.6721\n",
      "Epoch 2470: Loss = 0.6901\n",
      "Epoch 2470: Loss = 0.6830\n",
      "Epoch 2470: Loss = 0.7050\n"
     ]
    },
    {
     "name": "stderr",
     "output_type": "stream",
     "text": [
      " 25%|██▍       | 2482/10000 [03:24<10:11, 12.29it/s]"
     ]
    },
    {
     "name": "stdout",
     "output_type": "stream",
     "text": [
      "Epoch 2480: Loss = 0.6692\n",
      "Epoch 2480: Loss = 0.6905\n",
      "Epoch 2480: Loss = 0.6709\n",
      "Epoch 2480: Loss = 0.6527\n",
      "Epoch 2480: Loss = 0.6498\n"
     ]
    },
    {
     "name": "stderr",
     "output_type": "stream",
     "text": [
      " 25%|██▍       | 2492/10000 [03:25<09:27, 13.22it/s]"
     ]
    },
    {
     "name": "stdout",
     "output_type": "stream",
     "text": [
      "Epoch 2490: Loss = 0.6663\n",
      "Epoch 2490: Loss = 0.6552\n",
      "Epoch 2490: Loss = 0.6631\n",
      "Epoch 2490: Loss = 0.6586\n",
      "Epoch 2490: Loss = 0.6597\n"
     ]
    },
    {
     "name": "stderr",
     "output_type": "stream",
     "text": [
      " 25%|██▌       | 2502/10000 [03:25<10:44, 11.64it/s]"
     ]
    },
    {
     "name": "stdout",
     "output_type": "stream",
     "text": [
      "Epoch 2500: Loss = 0.6705\n",
      "Epoch 2500: Loss = 0.6674\n",
      "Epoch 2500: Loss = 0.6622\n",
      "Epoch 2500: Loss = 0.6543\n",
      "Epoch 2500: Loss = 0.6500\n"
     ]
    },
    {
     "name": "stderr",
     "output_type": "stream",
     "text": [
      " 25%|██▌       | 2512/10000 [03:26<09:31, 13.11it/s]"
     ]
    },
    {
     "name": "stdout",
     "output_type": "stream",
     "text": [
      "Epoch 2510: Loss = 0.6581\n",
      "Epoch 2510: Loss = 0.6919\n",
      "Epoch 2510: Loss = 0.6783\n",
      "Epoch 2510: Loss = 0.6731\n",
      "Epoch 2510: Loss = 0.6720\n"
     ]
    },
    {
     "name": "stderr",
     "output_type": "stream",
     "text": [
      " 25%|██▌       | 2522/10000 [03:27<11:03, 11.28it/s]"
     ]
    },
    {
     "name": "stdout",
     "output_type": "stream",
     "text": [
      "Epoch 2520: Loss = 0.6587\n",
      "Epoch 2520: Loss = 0.6683\n",
      "Epoch 2520: Loss = 0.6338\n",
      "Epoch 2520: Loss = 0.6748\n",
      "Epoch 2520: Loss = 0.6965\n"
     ]
    },
    {
     "name": "stderr",
     "output_type": "stream",
     "text": [
      " 25%|██▌       | 2532/10000 [03:28<10:27, 11.90it/s]"
     ]
    },
    {
     "name": "stdout",
     "output_type": "stream",
     "text": [
      "Epoch 2530: Loss = 0.6724\n",
      "Epoch 2530: Loss = 0.7114\n",
      "Epoch 2530: Loss = 0.6626\n",
      "Epoch 2530: Loss = 0.6601\n",
      "Epoch 2530: Loss = 0.6979\n"
     ]
    },
    {
     "name": "stderr",
     "output_type": "stream",
     "text": [
      " 25%|██▌       | 2542/10000 [03:29<11:57, 10.40it/s]"
     ]
    },
    {
     "name": "stdout",
     "output_type": "stream",
     "text": [
      "Epoch 2540: Loss = 0.7093\n",
      "Epoch 2540: Loss = 0.6722\n",
      "Epoch 2540: Loss = 0.6773\n",
      "Epoch 2540: Loss = 0.6723\n",
      "Epoch 2540: Loss = 0.6628\n"
     ]
    },
    {
     "name": "stderr",
     "output_type": "stream",
     "text": [
      " 26%|██▌       | 2552/10000 [03:30<10:11, 12.18it/s]"
     ]
    },
    {
     "name": "stdout",
     "output_type": "stream",
     "text": [
      "Epoch 2550: Loss = 0.6920\n",
      "Epoch 2550: Loss = 0.7094\n",
      "Epoch 2550: Loss = 0.6765\n",
      "Epoch 2550: Loss = 0.7075\n",
      "Epoch 2550: Loss = 0.7007\n"
     ]
    },
    {
     "name": "stderr",
     "output_type": "stream",
     "text": [
      " 26%|██▌       | 2562/10000 [03:30<08:57, 13.84it/s]"
     ]
    },
    {
     "name": "stdout",
     "output_type": "stream",
     "text": [
      "Epoch 2560: Loss = 0.6762\n",
      "Epoch 2560: Loss = 0.6913\n",
      "Epoch 2560: Loss = 0.6580\n",
      "Epoch 2560: Loss = 0.6682\n",
      "Epoch 2560: Loss = 0.6834\n"
     ]
    },
    {
     "name": "stderr",
     "output_type": "stream",
     "text": [
      " 26%|██▌       | 2572/10000 [03:31<08:48, 14.06it/s]"
     ]
    },
    {
     "name": "stdout",
     "output_type": "stream",
     "text": [
      "Epoch 2570: Loss = 0.6729\n",
      "Epoch 2570: Loss = 0.6386\n",
      "Epoch 2570: Loss = 0.6632\n",
      "Epoch 2570: Loss = 0.6830\n",
      "Epoch 2570: Loss = 0.6372\n"
     ]
    },
    {
     "name": "stderr",
     "output_type": "stream",
     "text": [
      " 26%|██▌       | 2582/10000 [03:32<09:07, 13.55it/s]"
     ]
    },
    {
     "name": "stdout",
     "output_type": "stream",
     "text": [
      "Epoch 2580: Loss = 0.6766\n",
      "Epoch 2580: Loss = 0.6682\n",
      "Epoch 2580: Loss = 0.6794\n",
      "Epoch 2580: Loss = 0.6705\n",
      "Epoch 2580: Loss = 0.6670\n"
     ]
    },
    {
     "name": "stderr",
     "output_type": "stream",
     "text": [
      " 26%|██▌       | 2592/10000 [03:33<10:37, 11.62it/s]"
     ]
    },
    {
     "name": "stdout",
     "output_type": "stream",
     "text": [
      "Epoch 2590: Loss = 0.6562\n",
      "Epoch 2590: Loss = 0.6604\n",
      "Epoch 2590: Loss = 0.6645\n",
      "Epoch 2590: Loss = 0.7046\n",
      "Epoch 2590: Loss = 0.6717\n"
     ]
    },
    {
     "name": "stderr",
     "output_type": "stream",
     "text": [
      " 26%|██▌       | 2602/10000 [03:34<10:22, 11.89it/s]"
     ]
    },
    {
     "name": "stdout",
     "output_type": "stream",
     "text": [
      "Epoch 2600: Loss = 0.6611\n",
      "Epoch 2600: Loss = 0.6344\n",
      "Epoch 2600: Loss = 0.6800\n",
      "Epoch 2600: Loss = 0.6646\n",
      "Epoch 2600: Loss = 0.6109\n"
     ]
    },
    {
     "name": "stderr",
     "output_type": "stream",
     "text": [
      " 26%|██▌       | 2612/10000 [03:35<11:11, 11.00it/s]"
     ]
    },
    {
     "name": "stdout",
     "output_type": "stream",
     "text": [
      "Epoch 2610: Loss = 0.6971\n",
      "Epoch 2610: Loss = 0.6763\n",
      "Epoch 2610: Loss = 0.6649\n",
      "Epoch 2610: Loss = 0.6529\n",
      "Epoch 2610: Loss = 0.6799\n"
     ]
    },
    {
     "name": "stderr",
     "output_type": "stream",
     "text": [
      " 26%|██▌       | 2622/10000 [03:35<10:15, 11.98it/s]"
     ]
    },
    {
     "name": "stdout",
     "output_type": "stream",
     "text": [
      "Epoch 2620: Loss = 0.6399\n",
      "Epoch 2620: Loss = 0.6827\n",
      "Epoch 2620: Loss = 0.7010\n",
      "Epoch 2620: Loss = 0.6617\n",
      "Epoch 2620: Loss = 0.6601\n"
     ]
    },
    {
     "name": "stderr",
     "output_type": "stream",
     "text": [
      " 26%|██▋       | 2632/10000 [03:36<09:03, 13.55it/s]"
     ]
    },
    {
     "name": "stdout",
     "output_type": "stream",
     "text": [
      "Epoch 2630: Loss = 0.6577\n",
      "Epoch 2630: Loss = 0.6746\n",
      "Epoch 2630: Loss = 0.6511\n",
      "Epoch 2630: Loss = 0.6744\n",
      "Epoch 2630: Loss = 0.7015\n"
     ]
    },
    {
     "name": "stderr",
     "output_type": "stream",
     "text": [
      " 26%|██▋       | 2642/10000 [03:37<08:40, 14.14it/s]"
     ]
    },
    {
     "name": "stdout",
     "output_type": "stream",
     "text": [
      "Epoch 2640: Loss = 0.6788\n",
      "Epoch 2640: Loss = 0.6795\n",
      "Epoch 2640: Loss = 0.6490\n",
      "Epoch 2640: Loss = 0.7127\n",
      "Epoch 2640: Loss = 0.6890\n"
     ]
    },
    {
     "name": "stderr",
     "output_type": "stream",
     "text": [
      " 27%|██▋       | 2652/10000 [03:38<09:13, 13.29it/s]"
     ]
    },
    {
     "name": "stdout",
     "output_type": "stream",
     "text": [
      "Epoch 2650: Loss = 0.6692\n",
      "Epoch 2650: Loss = 0.6482\n",
      "Epoch 2650: Loss = 0.6513\n",
      "Epoch 2650: Loss = 0.6840\n",
      "Epoch 2650: Loss = 0.6619\n"
     ]
    },
    {
     "name": "stderr",
     "output_type": "stream",
     "text": [
      " 27%|██▋       | 2662/10000 [03:38<08:45, 13.96it/s]"
     ]
    },
    {
     "name": "stdout",
     "output_type": "stream",
     "text": [
      "Epoch 2660: Loss = 0.6742\n",
      "Epoch 2660: Loss = 0.6788\n",
      "Epoch 2660: Loss = 0.6832\n",
      "Epoch 2660: Loss = 0.6816\n",
      "Epoch 2660: Loss = 0.7062\n"
     ]
    },
    {
     "name": "stderr",
     "output_type": "stream",
     "text": [
      " 27%|██▋       | 2672/10000 [03:39<08:49, 13.84it/s]"
     ]
    },
    {
     "name": "stdout",
     "output_type": "stream",
     "text": [
      "Epoch 2670: Loss = 0.6796\n",
      "Epoch 2670: Loss = 0.6686\n",
      "Epoch 2670: Loss = 0.6547\n",
      "Epoch 2670: Loss = 0.6574\n",
      "Epoch 2670: Loss = 0.6956\n"
     ]
    },
    {
     "name": "stderr",
     "output_type": "stream",
     "text": [
      " 27%|██▋       | 2682/10000 [03:40<09:04, 13.43it/s]"
     ]
    },
    {
     "name": "stdout",
     "output_type": "stream",
     "text": [
      "Epoch 2680: Loss = 0.6701\n",
      "Epoch 2680: Loss = 0.6331\n",
      "Epoch 2680: Loss = 0.6852\n",
      "Epoch 2680: Loss = 0.6490\n",
      "Epoch 2680: Loss = 0.6738\n"
     ]
    },
    {
     "name": "stderr",
     "output_type": "stream",
     "text": [
      " 27%|██▋       | 2692/10000 [03:41<08:43, 13.96it/s]"
     ]
    },
    {
     "name": "stdout",
     "output_type": "stream",
     "text": [
      "Epoch 2690: Loss = 0.6674\n",
      "Epoch 2690: Loss = 0.7288\n",
      "Epoch 2690: Loss = 0.7005\n",
      "Epoch 2690: Loss = 0.6884\n",
      "Epoch 2690: Loss = 0.6631\n"
     ]
    },
    {
     "name": "stderr",
     "output_type": "stream",
     "text": [
      " 27%|██▋       | 2702/10000 [03:41<08:47, 13.84it/s]"
     ]
    },
    {
     "name": "stdout",
     "output_type": "stream",
     "text": [
      "Epoch 2700: Loss = 0.6678\n",
      "Epoch 2700: Loss = 0.6885\n",
      "Epoch 2700: Loss = 0.6771\n",
      "Epoch 2700: Loss = 0.6910\n",
      "Epoch 2700: Loss = 0.7067\n"
     ]
    },
    {
     "name": "stderr",
     "output_type": "stream",
     "text": [
      " 27%|██▋       | 2712/10000 [03:42<08:47, 13.81it/s]"
     ]
    },
    {
     "name": "stdout",
     "output_type": "stream",
     "text": [
      "Epoch 2710: Loss = 0.7048\n",
      "Epoch 2710: Loss = 0.6861\n",
      "Epoch 2710: Loss = 0.6785\n",
      "Epoch 2710: Loss = 0.6694\n",
      "Epoch 2710: Loss = 0.6802\n"
     ]
    },
    {
     "name": "stderr",
     "output_type": "stream",
     "text": [
      " 27%|██▋       | 2722/10000 [03:43<08:37, 14.07it/s]"
     ]
    },
    {
     "name": "stdout",
     "output_type": "stream",
     "text": [
      "Epoch 2720: Loss = 0.6635\n",
      "Epoch 2720: Loss = 0.6565\n",
      "Epoch 2720: Loss = 0.6586\n",
      "Epoch 2720: Loss = 0.6353\n",
      "Epoch 2720: Loss = 0.6734\n"
     ]
    },
    {
     "name": "stderr",
     "output_type": "stream",
     "text": [
      " 27%|██▋       | 2732/10000 [03:44<08:32, 14.18it/s]"
     ]
    },
    {
     "name": "stdout",
     "output_type": "stream",
     "text": [
      "Epoch 2730: Loss = 0.6665\n",
      "Epoch 2730: Loss = 0.6900\n",
      "Epoch 2730: Loss = 0.6928\n",
      "Epoch 2730: Loss = 0.7215\n",
      "Epoch 2730: Loss = 0.6709\n"
     ]
    },
    {
     "name": "stderr",
     "output_type": "stream",
     "text": [
      " 27%|██▋       | 2742/10000 [03:44<08:47, 13.75it/s]"
     ]
    },
    {
     "name": "stdout",
     "output_type": "stream",
     "text": [
      "Epoch 2740: Loss = 0.6833\n",
      "Epoch 2740: Loss = 0.6332\n",
      "Epoch 2740: Loss = 0.6526\n",
      "Epoch 2740: Loss = 0.6733\n",
      "Epoch 2740: Loss = 0.6671\n"
     ]
    },
    {
     "name": "stderr",
     "output_type": "stream",
     "text": [
      " 28%|██▊       | 2752/10000 [03:45<09:09, 13.18it/s]"
     ]
    },
    {
     "name": "stdout",
     "output_type": "stream",
     "text": [
      "Epoch 2750: Loss = 0.6844\n",
      "Epoch 2750: Loss = 0.6855\n",
      "Epoch 2750: Loss = 0.6746\n",
      "Epoch 2750: Loss = 0.6622\n",
      "Epoch 2750: Loss = 0.6755\n"
     ]
    },
    {
     "name": "stderr",
     "output_type": "stream",
     "text": [
      " 28%|██▊       | 2762/10000 [03:46<08:58, 13.45it/s]"
     ]
    },
    {
     "name": "stdout",
     "output_type": "stream",
     "text": [
      "Epoch 2760: Loss = 0.7027\n",
      "Epoch 2760: Loss = 0.6538\n",
      "Epoch 2760: Loss = 0.6669\n",
      "Epoch 2760: Loss = 0.6710\n",
      "Epoch 2760: Loss = 0.6531\n"
     ]
    },
    {
     "name": "stderr",
     "output_type": "stream",
     "text": [
      " 28%|██▊       | 2772/10000 [03:47<09:23, 12.84it/s]"
     ]
    },
    {
     "name": "stdout",
     "output_type": "stream",
     "text": [
      "Epoch 2770: Loss = 0.6503\n",
      "Epoch 2770: Loss = 0.6606\n",
      "Epoch 2770: Loss = 0.6583\n",
      "Epoch 2770: Loss = 0.6931\n",
      "Epoch 2770: Loss = 0.6873\n"
     ]
    },
    {
     "name": "stderr",
     "output_type": "stream",
     "text": [
      " 28%|██▊       | 2782/10000 [03:47<08:37, 13.94it/s]"
     ]
    },
    {
     "name": "stdout",
     "output_type": "stream",
     "text": [
      "Epoch 2780: Loss = 0.6640\n",
      "Epoch 2780: Loss = 0.6613\n",
      "Epoch 2780: Loss = 0.6711\n",
      "Epoch 2780: Loss = 0.6626\n",
      "Epoch 2780: Loss = 0.6505\n"
     ]
    },
    {
     "name": "stderr",
     "output_type": "stream",
     "text": [
      " 28%|██▊       | 2792/10000 [03:48<08:25, 14.25it/s]"
     ]
    },
    {
     "name": "stdout",
     "output_type": "stream",
     "text": [
      "Epoch 2790: Loss = 0.7051\n",
      "Epoch 2790: Loss = 0.6945\n",
      "Epoch 2790: Loss = 0.6530\n",
      "Epoch 2790: Loss = 0.6372\n",
      "Epoch 2790: Loss = 0.6517\n"
     ]
    },
    {
     "name": "stderr",
     "output_type": "stream",
     "text": [
      " 28%|██▊       | 2802/10000 [03:49<08:32, 14.05it/s]"
     ]
    },
    {
     "name": "stdout",
     "output_type": "stream",
     "text": [
      "Epoch 2800: Loss = 0.6763\n",
      "Epoch 2800: Loss = 0.6620\n",
      "Epoch 2800: Loss = 0.6767\n",
      "Epoch 2800: Loss = 0.6572\n",
      "Epoch 2800: Loss = 0.6942\n"
     ]
    },
    {
     "name": "stderr",
     "output_type": "stream",
     "text": [
      " 28%|██▊       | 2812/10000 [03:50<10:36, 11.30it/s]"
     ]
    },
    {
     "name": "stdout",
     "output_type": "stream",
     "text": [
      "Epoch 2810: Loss = 0.6536\n",
      "Epoch 2810: Loss = 0.6605\n",
      "Epoch 2810: Loss = 0.6580\n",
      "Epoch 2810: Loss = 0.6660\n",
      "Epoch 2810: Loss = 0.6868\n"
     ]
    },
    {
     "name": "stderr",
     "output_type": "stream",
     "text": [
      " 28%|██▊       | 2822/10000 [03:51<10:14, 11.67it/s]"
     ]
    },
    {
     "name": "stdout",
     "output_type": "stream",
     "text": [
      "Epoch 2820: Loss = 0.6819\n",
      "Epoch 2820: Loss = 0.6631\n",
      "Epoch 2820: Loss = 0.6943\n",
      "Epoch 2820: Loss = 0.6610\n",
      "Epoch 2820: Loss = 0.6949\n"
     ]
    },
    {
     "name": "stderr",
     "output_type": "stream",
     "text": [
      " 28%|██▊       | 2832/10000 [03:51<09:17, 12.87it/s]"
     ]
    },
    {
     "name": "stdout",
     "output_type": "stream",
     "text": [
      "Epoch 2830: Loss = 0.6665\n",
      "Epoch 2830: Loss = 0.6483\n",
      "Epoch 2830: Loss = 0.6733\n",
      "Epoch 2830: Loss = 0.6754\n",
      "Epoch 2830: Loss = 0.6683\n"
     ]
    },
    {
     "name": "stderr",
     "output_type": "stream",
     "text": [
      " 28%|██▊       | 2842/10000 [03:52<08:35, 13.88it/s]"
     ]
    },
    {
     "name": "stdout",
     "output_type": "stream",
     "text": [
      "Epoch 2840: Loss = 0.6980\n",
      "Epoch 2840: Loss = 0.6675\n",
      "Epoch 2840: Loss = 0.6273\n",
      "Epoch 2840: Loss = 0.6656\n",
      "Epoch 2840: Loss = 0.6895\n"
     ]
    },
    {
     "name": "stderr",
     "output_type": "stream",
     "text": [
      " 29%|██▊       | 2852/10000 [03:53<08:26, 14.13it/s]"
     ]
    },
    {
     "name": "stdout",
     "output_type": "stream",
     "text": [
      "Epoch 2850: Loss = 0.6679\n",
      "Epoch 2850: Loss = 0.6957\n",
      "Epoch 2850: Loss = 0.6499\n",
      "Epoch 2850: Loss = 0.6798\n",
      "Epoch 2850: Loss = 0.7116\n"
     ]
    },
    {
     "name": "stderr",
     "output_type": "stream",
     "text": [
      " 29%|██▊       | 2862/10000 [03:54<09:59, 11.91it/s]"
     ]
    },
    {
     "name": "stdout",
     "output_type": "stream",
     "text": [
      "Epoch 2860: Loss = 0.6739\n",
      "Epoch 2860: Loss = 0.6750\n",
      "Epoch 2860: Loss = 0.7122\n",
      "Epoch 2860: Loss = 0.6706\n",
      "Epoch 2860: Loss = 0.6556\n"
     ]
    },
    {
     "name": "stderr",
     "output_type": "stream",
     "text": [
      " 29%|██▊       | 2872/10000 [03:54<09:18, 12.77it/s]"
     ]
    },
    {
     "name": "stdout",
     "output_type": "stream",
     "text": [
      "Epoch 2870: Loss = 0.6545\n",
      "Epoch 2870: Loss = 0.6723\n",
      "Epoch 2870: Loss = 0.6724\n",
      "Epoch 2870: Loss = 0.7036\n",
      "Epoch 2870: Loss = 0.6723\n"
     ]
    },
    {
     "name": "stderr",
     "output_type": "stream",
     "text": [
      " 29%|██▉       | 2882/10000 [03:55<10:05, 11.76it/s]"
     ]
    },
    {
     "name": "stdout",
     "output_type": "stream",
     "text": [
      "Epoch 2880: Loss = 0.6758\n",
      "Epoch 2880: Loss = 0.6598\n",
      "Epoch 2880: Loss = 0.7010\n",
      "Epoch 2880: Loss = 0.6635\n",
      "Epoch 2880: Loss = 0.6947\n"
     ]
    },
    {
     "name": "stderr",
     "output_type": "stream",
     "text": [
      " 29%|██▉       | 2892/10000 [03:56<09:11, 12.89it/s]"
     ]
    },
    {
     "name": "stdout",
     "output_type": "stream",
     "text": [
      "Epoch 2890: Loss = 0.6573\n",
      "Epoch 2890: Loss = 0.6503\n",
      "Epoch 2890: Loss = 0.7020\n",
      "Epoch 2890: Loss = 0.6729\n",
      "Epoch 2890: Loss = 0.6775\n"
     ]
    },
    {
     "name": "stderr",
     "output_type": "stream",
     "text": [
      " 29%|██▉       | 2902/10000 [03:57<08:26, 14.01it/s]"
     ]
    },
    {
     "name": "stdout",
     "output_type": "stream",
     "text": [
      "Epoch 2900: Loss = 0.6680\n",
      "Epoch 2900: Loss = 0.6491\n",
      "Epoch 2900: Loss = 0.6644\n",
      "Epoch 2900: Loss = 0.6932\n",
      "Epoch 2900: Loss = 0.6973\n"
     ]
    },
    {
     "name": "stderr",
     "output_type": "stream",
     "text": [
      " 29%|██▉       | 2912/10000 [03:57<08:12, 14.40it/s]"
     ]
    },
    {
     "name": "stdout",
     "output_type": "stream",
     "text": [
      "Epoch 2910: Loss = 0.6407\n",
      "Epoch 2910: Loss = 0.6438\n",
      "Epoch 2910: Loss = 0.6780\n",
      "Epoch 2910: Loss = 0.6603\n",
      "Epoch 2910: Loss = 0.6675\n"
     ]
    },
    {
     "name": "stderr",
     "output_type": "stream",
     "text": [
      " 29%|██▉       | 2922/10000 [03:58<08:24, 14.04it/s]"
     ]
    },
    {
     "name": "stdout",
     "output_type": "stream",
     "text": [
      "Epoch 2920: Loss = 0.6726\n",
      "Epoch 2920: Loss = 0.6914\n",
      "Epoch 2920: Loss = 0.6883\n",
      "Epoch 2920: Loss = 0.6565\n",
      "Epoch 2920: Loss = 0.6615\n"
     ]
    },
    {
     "name": "stderr",
     "output_type": "stream",
     "text": [
      " 29%|██▉       | 2932/10000 [03:59<08:45, 13.46it/s]"
     ]
    },
    {
     "name": "stdout",
     "output_type": "stream",
     "text": [
      "Epoch 2930: Loss = 0.6648\n",
      "Epoch 2930: Loss = 0.6744\n",
      "Epoch 2930: Loss = 0.6879\n",
      "Epoch 2930: Loss = 0.6697\n",
      "Epoch 2930: Loss = 0.7032\n"
     ]
    },
    {
     "name": "stderr",
     "output_type": "stream",
     "text": [
      " 29%|██▉       | 2942/10000 [04:00<08:20, 14.10it/s]"
     ]
    },
    {
     "name": "stdout",
     "output_type": "stream",
     "text": [
      "Epoch 2940: Loss = 0.6637\n",
      "Epoch 2940: Loss = 0.6830\n",
      "Epoch 2940: Loss = 0.6998\n",
      "Epoch 2940: Loss = 0.6441\n",
      "Epoch 2940: Loss = 0.6952\n"
     ]
    },
    {
     "name": "stderr",
     "output_type": "stream",
     "text": [
      " 30%|██▉       | 2952/10000 [04:00<08:39, 13.56it/s]"
     ]
    },
    {
     "name": "stdout",
     "output_type": "stream",
     "text": [
      "Epoch 2950: Loss = 0.6715\n",
      "Epoch 2950: Loss = 0.6848\n",
      "Epoch 2950: Loss = 0.6563\n",
      "Epoch 2950: Loss = 0.6904\n",
      "Epoch 2950: Loss = 0.6631\n"
     ]
    },
    {
     "name": "stderr",
     "output_type": "stream",
     "text": [
      " 30%|██▉       | 2962/10000 [04:01<08:44, 13.43it/s]"
     ]
    },
    {
     "name": "stdout",
     "output_type": "stream",
     "text": [
      "Epoch 2960: Loss = 0.6338\n",
      "Epoch 2960: Loss = 0.6879\n",
      "Epoch 2960: Loss = 0.6522\n",
      "Epoch 2960: Loss = 0.6504\n",
      "Epoch 2960: Loss = 0.6834\n"
     ]
    },
    {
     "name": "stderr",
     "output_type": "stream",
     "text": [
      " 30%|██▉       | 2972/10000 [04:02<08:23, 13.97it/s]"
     ]
    },
    {
     "name": "stdout",
     "output_type": "stream",
     "text": [
      "Epoch 2970: Loss = 0.6720\n",
      "Epoch 2970: Loss = 0.6644\n",
      "Epoch 2970: Loss = 0.6585\n",
      "Epoch 2970: Loss = 0.6656\n",
      "Epoch 2970: Loss = 0.6955\n"
     ]
    },
    {
     "name": "stderr",
     "output_type": "stream",
     "text": [
      " 30%|██▉       | 2982/10000 [04:03<09:21, 12.50it/s]"
     ]
    },
    {
     "name": "stdout",
     "output_type": "stream",
     "text": [
      "Epoch 2980: Loss = 0.6699\n",
      "Epoch 2980: Loss = 0.6561\n",
      "Epoch 2980: Loss = 0.6569\n",
      "Epoch 2980: Loss = 0.6755\n",
      "Epoch 2980: Loss = 0.6952\n"
     ]
    },
    {
     "name": "stderr",
     "output_type": "stream",
     "text": [
      " 30%|██▉       | 2992/10000 [04:03<10:19, 11.32it/s]"
     ]
    },
    {
     "name": "stdout",
     "output_type": "stream",
     "text": [
      "Epoch 2990: Loss = 0.6659\n",
      "Epoch 2990: Loss = 0.6914\n",
      "Epoch 2990: Loss = 0.6707\n",
      "Epoch 2990: Loss = 0.6763\n",
      "Epoch 2990: Loss = 0.6605\n"
     ]
    },
    {
     "name": "stderr",
     "output_type": "stream",
     "text": [
      " 30%|███       | 3002/10000 [04:04<09:56, 11.73it/s]"
     ]
    },
    {
     "name": "stdout",
     "output_type": "stream",
     "text": [
      "Epoch 3000: Loss = 0.6897\n",
      "Epoch 3000: Loss = 0.6671\n",
      "Epoch 3000: Loss = 0.6934\n",
      "Epoch 3000: Loss = 0.7136\n",
      "Epoch 3000: Loss = 0.6755\n"
     ]
    },
    {
     "name": "stderr",
     "output_type": "stream",
     "text": [
      " 30%|███       | 3012/10000 [04:05<10:20, 11.25it/s]"
     ]
    },
    {
     "name": "stdout",
     "output_type": "stream",
     "text": [
      "Epoch 3010: Loss = 0.6288\n",
      "Epoch 3010: Loss = 0.6513\n",
      "Epoch 3010: Loss = 0.6734\n",
      "Epoch 3010: Loss = 0.6649\n",
      "Epoch 3010: Loss = 0.6431\n"
     ]
    },
    {
     "name": "stderr",
     "output_type": "stream",
     "text": [
      " 30%|███       | 3022/10000 [04:06<11:05, 10.48it/s]"
     ]
    },
    {
     "name": "stdout",
     "output_type": "stream",
     "text": [
      "Epoch 3020: Loss = 0.6675\n",
      "Epoch 3020: Loss = 0.6735\n",
      "Epoch 3020: Loss = 0.6471\n",
      "Epoch 3020: Loss = 0.6841\n",
      "Epoch 3020: Loss = 0.7109\n"
     ]
    },
    {
     "name": "stderr",
     "output_type": "stream",
     "text": [
      " 30%|███       | 3032/10000 [04:07<09:57, 11.66it/s]"
     ]
    },
    {
     "name": "stdout",
     "output_type": "stream",
     "text": [
      "Epoch 3030: Loss = 0.6539\n",
      "Epoch 3030: Loss = 0.6439\n",
      "Epoch 3030: Loss = 0.6665\n",
      "Epoch 3030: Loss = 0.6721\n",
      "Epoch 3030: Loss = 0.6702\n"
     ]
    },
    {
     "name": "stderr",
     "output_type": "stream",
     "text": [
      " 30%|███       | 3042/10000 [04:08<09:24, 12.32it/s]"
     ]
    },
    {
     "name": "stdout",
     "output_type": "stream",
     "text": [
      "Epoch 3040: Loss = 0.6816\n",
      "Epoch 3040: Loss = 0.7076\n",
      "Epoch 3040: Loss = 0.6493\n",
      "Epoch 3040: Loss = 0.6560\n",
      "Epoch 3040: Loss = 0.6403\n"
     ]
    },
    {
     "name": "stderr",
     "output_type": "stream",
     "text": [
      " 31%|███       | 3052/10000 [04:09<11:13, 10.32it/s]"
     ]
    },
    {
     "name": "stdout",
     "output_type": "stream",
     "text": [
      "Epoch 3050: Loss = 0.6804\n",
      "Epoch 3050: Loss = 0.6755\n",
      "Epoch 3050: Loss = 0.6718\n",
      "Epoch 3050: Loss = 0.6739\n",
      "Epoch 3050: Loss = 0.6725\n"
     ]
    },
    {
     "name": "stderr",
     "output_type": "stream",
     "text": [
      " 31%|███       | 3060/10000 [04:10<10:52, 10.64it/s]"
     ]
    },
    {
     "name": "stdout",
     "output_type": "stream",
     "text": [
      "Epoch 3060: Loss = 0.6677\n",
      "Epoch 3060: Loss = 0.6494\n",
      "Epoch 3060: Loss = 0.7063\n",
      "Epoch 3060: Loss = 0.6640\n",
      "Epoch 3060: Loss = 0.6848\n"
     ]
    },
    {
     "name": "stderr",
     "output_type": "stream",
     "text": [
      " 31%|███       | 3072/10000 [04:11<11:05, 10.41it/s]"
     ]
    },
    {
     "name": "stdout",
     "output_type": "stream",
     "text": [
      "Epoch 3070: Loss = 0.6667\n",
      "Epoch 3070: Loss = 0.6950\n",
      "Epoch 3070: Loss = 0.6968\n",
      "Epoch 3070: Loss = 0.6580\n",
      "Epoch 3070: Loss = 0.6890\n"
     ]
    },
    {
     "name": "stderr",
     "output_type": "stream",
     "text": [
      " 31%|███       | 3082/10000 [04:12<10:00, 11.52it/s]"
     ]
    },
    {
     "name": "stdout",
     "output_type": "stream",
     "text": [
      "Epoch 3080: Loss = 0.6651\n",
      "Epoch 3080: Loss = 0.6784\n",
      "Epoch 3080: Loss = 0.6841\n",
      "Epoch 3080: Loss = 0.6444\n",
      "Epoch 3080: Loss = 0.6384\n"
     ]
    },
    {
     "name": "stderr",
     "output_type": "stream",
     "text": [
      " 31%|███       | 3092/10000 [04:13<10:53, 10.58it/s]"
     ]
    },
    {
     "name": "stdout",
     "output_type": "stream",
     "text": [
      "Epoch 3090: Loss = 0.6941\n",
      "Epoch 3090: Loss = 0.6586\n",
      "Epoch 3090: Loss = 0.6692\n",
      "Epoch 3090: Loss = 0.6920\n",
      "Epoch 3090: Loss = 0.6585\n"
     ]
    },
    {
     "name": "stderr",
     "output_type": "stream",
     "text": [
      " 31%|███       | 3102/10000 [04:13<09:17, 12.38it/s]"
     ]
    },
    {
     "name": "stdout",
     "output_type": "stream",
     "text": [
      "Epoch 3100: Loss = 0.6696\n",
      "Epoch 3100: Loss = 0.6749\n",
      "Epoch 3100: Loss = 0.6665\n",
      "Epoch 3100: Loss = 0.6897\n",
      "Epoch 3100: Loss = 0.6951\n"
     ]
    },
    {
     "name": "stderr",
     "output_type": "stream",
     "text": [
      " 31%|███       | 3112/10000 [04:14<09:42, 11.82it/s]"
     ]
    },
    {
     "name": "stdout",
     "output_type": "stream",
     "text": [
      "Epoch 3110: Loss = 0.6772\n",
      "Epoch 3110: Loss = 0.6546\n",
      "Epoch 3110: Loss = 0.6694\n",
      "Epoch 3110: Loss = 0.6829\n",
      "Epoch 3110: Loss = 0.6849\n"
     ]
    },
    {
     "name": "stderr",
     "output_type": "stream",
     "text": [
      " 31%|███       | 3122/10000 [04:15<08:49, 13.00it/s]"
     ]
    },
    {
     "name": "stdout",
     "output_type": "stream",
     "text": [
      "Epoch 3120: Loss = 0.6881\n",
      "Epoch 3120: Loss = 0.6233\n",
      "Epoch 3120: Loss = 0.6780\n",
      "Epoch 3120: Loss = 0.6648\n",
      "Epoch 3120: Loss = 0.6501\n"
     ]
    },
    {
     "name": "stderr",
     "output_type": "stream",
     "text": [
      " 31%|███▏      | 3132/10000 [04:16<10:08, 11.29it/s]"
     ]
    },
    {
     "name": "stdout",
     "output_type": "stream",
     "text": [
      "Epoch 3130: Loss = 0.6828\n",
      "Epoch 3130: Loss = 0.6689\n",
      "Epoch 3130: Loss = 0.6728\n",
      "Epoch 3130: Loss = 0.6810\n",
      "Epoch 3130: Loss = 0.6520\n"
     ]
    },
    {
     "name": "stderr",
     "output_type": "stream",
     "text": [
      " 31%|███▏      | 3141/10000 [04:17<10:46, 10.61it/s]"
     ]
    },
    {
     "name": "stdout",
     "output_type": "stream",
     "text": [
      "Epoch 3140: Loss = 0.6881\n",
      "Epoch 3140: Loss = 0.6954\n",
      "Epoch 3140: Loss = 0.6347\n",
      "Epoch 3140: Loss = 0.6238\n",
      "Epoch 3140: Loss = 0.6850\n"
     ]
    },
    {
     "name": "stderr",
     "output_type": "stream",
     "text": [
      " 32%|███▏      | 3153/10000 [04:18<08:54, 12.82it/s]"
     ]
    },
    {
     "name": "stdout",
     "output_type": "stream",
     "text": [
      "Epoch 3150: Loss = 0.6583\n",
      "Epoch 3150: Loss = 0.6460\n",
      "Epoch 3150: Loss = 0.6791\n",
      "Epoch 3150: Loss = 0.6437\n",
      "Epoch 3150: Loss = 0.6808\n"
     ]
    },
    {
     "name": "stderr",
     "output_type": "stream",
     "text": [
      " 32%|███▏      | 3163/10000 [04:18<08:13, 13.87it/s]"
     ]
    },
    {
     "name": "stdout",
     "output_type": "stream",
     "text": [
      "Epoch 3160: Loss = 0.6821\n",
      "Epoch 3160: Loss = 0.6515\n",
      "Epoch 3160: Loss = 0.6487\n",
      "Epoch 3160: Loss = 0.6477\n",
      "Epoch 3160: Loss = 0.6828\n"
     ]
    },
    {
     "name": "stderr",
     "output_type": "stream",
     "text": [
      " 32%|███▏      | 3173/10000 [04:19<08:03, 14.11it/s]"
     ]
    },
    {
     "name": "stdout",
     "output_type": "stream",
     "text": [
      "Epoch 3170: Loss = 0.6821\n",
      "Epoch 3170: Loss = 0.6715\n",
      "Epoch 3170: Loss = 0.6747\n",
      "Epoch 3170: Loss = 0.6506\n",
      "Epoch 3170: Loss = 0.6640\n"
     ]
    },
    {
     "name": "stderr",
     "output_type": "stream",
     "text": [
      " 32%|███▏      | 3183/10000 [04:20<08:03, 14.11it/s]"
     ]
    },
    {
     "name": "stdout",
     "output_type": "stream",
     "text": [
      "Epoch 3180: Loss = 0.6465\n",
      "Epoch 3180: Loss = 0.6413\n",
      "Epoch 3180: Loss = 0.6649\n",
      "Epoch 3180: Loss = 0.6810\n",
      "Epoch 3180: Loss = 0.6608\n"
     ]
    },
    {
     "name": "stderr",
     "output_type": "stream",
     "text": [
      " 32%|███▏      | 3193/10000 [04:21<08:06, 13.99it/s]"
     ]
    },
    {
     "name": "stdout",
     "output_type": "stream",
     "text": [
      "Epoch 3190: Loss = 0.7106\n",
      "Epoch 3190: Loss = 0.7082\n",
      "Epoch 3190: Loss = 0.6948\n",
      "Epoch 3190: Loss = 0.6723\n",
      "Epoch 3190: Loss = 0.7074\n"
     ]
    },
    {
     "name": "stderr",
     "output_type": "stream",
     "text": [
      " 32%|███▏      | 3201/10000 [04:21<09:53, 11.46it/s]"
     ]
    },
    {
     "name": "stdout",
     "output_type": "stream",
     "text": [
      "Epoch 3200: Loss = 0.6685\n",
      "Epoch 3200: Loss = 0.6783\n",
      "Epoch 3200: Loss = 0.6451\n",
      "Epoch 3200: Loss = 0.6635\n",
      "Epoch 3200: Loss = 0.6750\n"
     ]
    },
    {
     "name": "stderr",
     "output_type": "stream",
     "text": [
      " 32%|███▏      | 3211/10000 [04:22<09:43, 11.63it/s]"
     ]
    },
    {
     "name": "stdout",
     "output_type": "stream",
     "text": [
      "Epoch 3210: Loss = 0.6963\n",
      "Epoch 3210: Loss = 0.6675\n",
      "Epoch 3210: Loss = 0.7087\n",
      "Epoch 3210: Loss = 0.6590\n",
      "Epoch 3210: Loss = 0.6618\n"
     ]
    },
    {
     "name": "stderr",
     "output_type": "stream",
     "text": [
      " 32%|███▏      | 3221/10000 [04:23<11:11, 10.09it/s]"
     ]
    },
    {
     "name": "stdout",
     "output_type": "stream",
     "text": [
      "Epoch 3220: Loss = 0.6487\n",
      "Epoch 3220: Loss = 0.6748\n",
      "Epoch 3220: Loss = 0.6969\n",
      "Epoch 3220: Loss = 0.6755\n",
      "Epoch 3220: Loss = 0.6737\n"
     ]
    },
    {
     "name": "stderr",
     "output_type": "stream",
     "text": [
      " 32%|███▏      | 3231/10000 [04:24<09:52, 11.42it/s]"
     ]
    },
    {
     "name": "stdout",
     "output_type": "stream",
     "text": [
      "Epoch 3230: Loss = 0.6447\n",
      "Epoch 3230: Loss = 0.6764\n",
      "Epoch 3230: Loss = 0.7319\n",
      "Epoch 3230: Loss = 0.6917\n",
      "Epoch 3230: Loss = 0.6751\n"
     ]
    },
    {
     "name": "stderr",
     "output_type": "stream",
     "text": [
      " 32%|███▏      | 3241/10000 [04:25<09:34, 11.76it/s]"
     ]
    },
    {
     "name": "stdout",
     "output_type": "stream",
     "text": [
      "Epoch 3240: Loss = 0.6733\n",
      "Epoch 3240: Loss = 0.6690\n",
      "Epoch 3240: Loss = 0.6748\n",
      "Epoch 3240: Loss = 0.6918\n",
      "Epoch 3240: Loss = 0.6688\n"
     ]
    },
    {
     "name": "stderr",
     "output_type": "stream",
     "text": [
      " 33%|███▎      | 3251/10000 [04:26<09:11, 12.24it/s]"
     ]
    },
    {
     "name": "stdout",
     "output_type": "stream",
     "text": [
      "Epoch 3250: Loss = 0.6754\n",
      "Epoch 3250: Loss = 0.6943\n",
      "Epoch 3250: Loss = 0.6443\n",
      "Epoch 3250: Loss = 0.6681\n",
      "Epoch 3250: Loss = 0.6310\n"
     ]
    },
    {
     "name": "stderr",
     "output_type": "stream",
     "text": [
      " 33%|███▎      | 3261/10000 [04:26<08:43, 12.87it/s]"
     ]
    },
    {
     "name": "stdout",
     "output_type": "stream",
     "text": [
      "Epoch 3260: Loss = 0.6875\n",
      "Epoch 3260: Loss = 0.6531\n",
      "Epoch 3260: Loss = 0.6552\n",
      "Epoch 3260: Loss = 0.6534\n",
      "Epoch 3260: Loss = 0.6641\n"
     ]
    },
    {
     "name": "stderr",
     "output_type": "stream",
     "text": [
      " 33%|███▎      | 3273/10000 [04:27<08:23, 13.37it/s]"
     ]
    },
    {
     "name": "stdout",
     "output_type": "stream",
     "text": [
      "Epoch 3270: Loss = 0.6659\n",
      "Epoch 3270: Loss = 0.6737\n",
      "Epoch 3270: Loss = 0.6901\n",
      "Epoch 3270: Loss = 0.6658\n",
      "Epoch 3270: Loss = 0.6376\n"
     ]
    },
    {
     "name": "stderr",
     "output_type": "stream",
     "text": [
      " 33%|███▎      | 3283/10000 [04:28<07:54, 14.15it/s]"
     ]
    },
    {
     "name": "stdout",
     "output_type": "stream",
     "text": [
      "Epoch 3280: Loss = 0.6506\n",
      "Epoch 3280: Loss = 0.6574\n",
      "Epoch 3280: Loss = 0.6964\n",
      "Epoch 3280: Loss = 0.6700\n",
      "Epoch 3280: Loss = 0.6258\n"
     ]
    },
    {
     "name": "stderr",
     "output_type": "stream",
     "text": [
      " 33%|███▎      | 3293/10000 [04:29<08:30, 13.15it/s]"
     ]
    },
    {
     "name": "stdout",
     "output_type": "stream",
     "text": [
      "Epoch 3290: Loss = 0.6767\n",
      "Epoch 3290: Loss = 0.6825\n",
      "Epoch 3290: Loss = 0.6590\n",
      "Epoch 3290: Loss = 0.6684\n",
      "Epoch 3290: Loss = 0.6538\n"
     ]
    },
    {
     "name": "stderr",
     "output_type": "stream",
     "text": [
      " 33%|███▎      | 3303/10000 [04:30<07:50, 14.25it/s]"
     ]
    },
    {
     "name": "stdout",
     "output_type": "stream",
     "text": [
      "Epoch 3300: Loss = 0.6654\n",
      "Epoch 3300: Loss = 0.6777\n",
      "Epoch 3300: Loss = 0.6392\n",
      "Epoch 3300: Loss = 0.6898\n",
      "Epoch 3300: Loss = 0.6680\n"
     ]
    },
    {
     "name": "stderr",
     "output_type": "stream",
     "text": [
      " 33%|███▎      | 3313/10000 [04:30<07:56, 14.02it/s]"
     ]
    },
    {
     "name": "stdout",
     "output_type": "stream",
     "text": [
      "Epoch 3310: Loss = 0.6631\n",
      "Epoch 3310: Loss = 0.6602\n",
      "Epoch 3310: Loss = 0.6816\n",
      "Epoch 3310: Loss = 0.7132\n",
      "Epoch 3310: Loss = 0.6440\n"
     ]
    },
    {
     "name": "stderr",
     "output_type": "stream",
     "text": [
      " 33%|███▎      | 3323/10000 [04:31<08:15, 13.49it/s]"
     ]
    },
    {
     "name": "stdout",
     "output_type": "stream",
     "text": [
      "Epoch 3320: Loss = 0.6650\n",
      "Epoch 3320: Loss = 0.6749\n",
      "Epoch 3320: Loss = 0.6669\n",
      "Epoch 3320: Loss = 0.6597\n",
      "Epoch 3320: Loss = 0.6642\n"
     ]
    },
    {
     "name": "stderr",
     "output_type": "stream",
     "text": [
      " 33%|███▎      | 3333/10000 [04:32<08:02, 13.82it/s]"
     ]
    },
    {
     "name": "stdout",
     "output_type": "stream",
     "text": [
      "Epoch 3330: Loss = 0.6708\n",
      "Epoch 3330: Loss = 0.6829\n",
      "Epoch 3330: Loss = 0.6776\n",
      "Epoch 3330: Loss = 0.6879\n",
      "Epoch 3330: Loss = 0.6642\n"
     ]
    },
    {
     "name": "stderr",
     "output_type": "stream",
     "text": [
      " 33%|███▎      | 3341/10000 [04:32<08:21, 13.28it/s]"
     ]
    },
    {
     "name": "stdout",
     "output_type": "stream",
     "text": [
      "Epoch 3340: Loss = 0.6791\n",
      "Epoch 3340: Loss = 0.6583\n",
      "Epoch 3340: Loss = 0.6602\n",
      "Epoch 3340: Loss = 0.6554\n",
      "Epoch 3340: Loss = 0.6933\n"
     ]
    },
    {
     "name": "stderr",
     "output_type": "stream",
     "text": [
      " 34%|███▎      | 3353/10000 [04:33<07:58, 13.89it/s]"
     ]
    },
    {
     "name": "stdout",
     "output_type": "stream",
     "text": [
      "Epoch 3350: Loss = 0.6627\n",
      "Epoch 3350: Loss = 0.6593\n",
      "Epoch 3350: Loss = 0.7244\n",
      "Epoch 3350: Loss = 0.6261\n",
      "Epoch 3350: Loss = 0.6594\n"
     ]
    },
    {
     "name": "stderr",
     "output_type": "stream",
     "text": [
      " 34%|███▎      | 3363/10000 [04:34<08:47, 12.58it/s]"
     ]
    },
    {
     "name": "stdout",
     "output_type": "stream",
     "text": [
      "Epoch 3360: Loss = 0.7023\n",
      "Epoch 3360: Loss = 0.6447\n",
      "Epoch 3360: Loss = 0.6566\n",
      "Epoch 3360: Loss = 0.6997\n",
      "Epoch 3360: Loss = 0.6546\n"
     ]
    },
    {
     "name": "stderr",
     "output_type": "stream",
     "text": [
      " 34%|███▎      | 3371/10000 [04:35<08:59, 12.29it/s]"
     ]
    },
    {
     "name": "stdout",
     "output_type": "stream",
     "text": [
      "Epoch 3370: Loss = 0.6232\n",
      "Epoch 3370: Loss = 0.6544\n",
      "Epoch 3370: Loss = 0.6879\n",
      "Epoch 3370: Loss = 0.6978\n",
      "Epoch 3370: Loss = 0.6673\n"
     ]
    },
    {
     "name": "stderr",
     "output_type": "stream",
     "text": [
      " 34%|███▍      | 3383/10000 [04:36<08:18, 13.28it/s]"
     ]
    },
    {
     "name": "stdout",
     "output_type": "stream",
     "text": [
      "Epoch 3380: Loss = 0.6699\n",
      "Epoch 3380: Loss = 0.6615\n",
      "Epoch 3380: Loss = 0.6676\n",
      "Epoch 3380: Loss = 0.6591\n",
      "Epoch 3380: Loss = 0.6970\n"
     ]
    },
    {
     "name": "stderr",
     "output_type": "stream",
     "text": [
      " 34%|███▍      | 3393/10000 [04:36<07:46, 14.15it/s]"
     ]
    },
    {
     "name": "stdout",
     "output_type": "stream",
     "text": [
      "Epoch 3390: Loss = 0.6775\n",
      "Epoch 3390: Loss = 0.6285\n",
      "Epoch 3390: Loss = 0.7062\n",
      "Epoch 3390: Loss = 0.6642\n",
      "Epoch 3390: Loss = 0.6885\n"
     ]
    },
    {
     "name": "stderr",
     "output_type": "stream",
     "text": [
      " 34%|███▍      | 3401/10000 [04:37<08:16, 13.30it/s]"
     ]
    },
    {
     "name": "stdout",
     "output_type": "stream",
     "text": [
      "Epoch 3400: Loss = 0.6725\n",
      "Epoch 3400: Loss = 0.6623\n",
      "Epoch 3400: Loss = 0.6880\n",
      "Epoch 3400: Loss = 0.6767\n",
      "Epoch 3400: Loss = 0.6844\n"
     ]
    },
    {
     "name": "stderr",
     "output_type": "stream",
     "text": [
      " 34%|███▍      | 3413/10000 [04:38<07:49, 14.04it/s]"
     ]
    },
    {
     "name": "stdout",
     "output_type": "stream",
     "text": [
      "Epoch 3410: Loss = 0.6667\n",
      "Epoch 3410: Loss = 0.6649\n",
      "Epoch 3410: Loss = 0.6535\n",
      "Epoch 3410: Loss = 0.6710\n",
      "Epoch 3410: Loss = 0.6999\n"
     ]
    },
    {
     "name": "stderr",
     "output_type": "stream",
     "text": [
      " 34%|███▍      | 3423/10000 [04:39<07:58, 13.74it/s]"
     ]
    },
    {
     "name": "stdout",
     "output_type": "stream",
     "text": [
      "Epoch 3420: Loss = 0.7191\n",
      "Epoch 3420: Loss = 0.6552\n",
      "Epoch 3420: Loss = 0.6739\n",
      "Epoch 3420: Loss = 0.6401\n",
      "Epoch 3420: Loss = 0.6667\n"
     ]
    },
    {
     "name": "stderr",
     "output_type": "stream",
     "text": [
      " 34%|███▍      | 3431/10000 [04:39<09:28, 11.55it/s]"
     ]
    },
    {
     "name": "stdout",
     "output_type": "stream",
     "text": [
      "Epoch 3430: Loss = 0.6660\n",
      "Epoch 3430: Loss = 0.6662\n",
      "Epoch 3430: Loss = 0.6466\n",
      "Epoch 3430: Loss = 0.7043\n",
      "Epoch 3430: Loss = 0.6993\n"
     ]
    },
    {
     "name": "stderr",
     "output_type": "stream",
     "text": [
      " 34%|███▍      | 3441/10000 [04:40<07:56, 13.75it/s]"
     ]
    },
    {
     "name": "stdout",
     "output_type": "stream",
     "text": [
      "Epoch 3440: Loss = 0.6550\n",
      "Epoch 3440: Loss = 0.6488\n",
      "Epoch 3440: Loss = 0.6804\n",
      "Epoch 3440: Loss = 0.6726\n",
      "Epoch 3440: Loss = 0.6736\n"
     ]
    },
    {
     "name": "stderr",
     "output_type": "stream",
     "text": [
      " 35%|███▍      | 3453/10000 [04:41<07:45, 14.08it/s]"
     ]
    },
    {
     "name": "stdout",
     "output_type": "stream",
     "text": [
      "Epoch 3450: Loss = 0.6457\n",
      "Epoch 3450: Loss = 0.6575\n",
      "Epoch 3450: Loss = 0.6476\n",
      "Epoch 3450: Loss = 0.6549\n",
      "Epoch 3450: Loss = 0.6760\n"
     ]
    },
    {
     "name": "stderr",
     "output_type": "stream",
     "text": [
      " 35%|███▍      | 3463/10000 [04:42<07:41, 14.18it/s]"
     ]
    },
    {
     "name": "stdout",
     "output_type": "stream",
     "text": [
      "Epoch 3460: Loss = 0.6859\n",
      "Epoch 3460: Loss = 0.6570\n",
      "Epoch 3460: Loss = 0.6680\n",
      "Epoch 3460: Loss = 0.6758\n",
      "Epoch 3460: Loss = 0.6644\n"
     ]
    },
    {
     "name": "stderr",
     "output_type": "stream",
     "text": [
      " 35%|███▍      | 3473/10000 [04:42<08:05, 13.43it/s]"
     ]
    },
    {
     "name": "stdout",
     "output_type": "stream",
     "text": [
      "Epoch 3470: Loss = 0.6776\n",
      "Epoch 3470: Loss = 0.7141\n",
      "Epoch 3470: Loss = 0.6633\n",
      "Epoch 3470: Loss = 0.6658\n",
      "Epoch 3470: Loss = 0.6938\n"
     ]
    },
    {
     "name": "stderr",
     "output_type": "stream",
     "text": [
      " 35%|███▍      | 3483/10000 [04:43<07:44, 14.04it/s]"
     ]
    },
    {
     "name": "stdout",
     "output_type": "stream",
     "text": [
      "Epoch 3480: Loss = 0.6539\n",
      "Epoch 3480: Loss = 0.6448\n",
      "Epoch 3480: Loss = 0.6627\n",
      "Epoch 3480: Loss = 0.6711\n",
      "Epoch 3480: Loss = 0.6686\n"
     ]
    },
    {
     "name": "stderr",
     "output_type": "stream",
     "text": [
      " 35%|███▍      | 3491/10000 [04:44<07:39, 14.16it/s]"
     ]
    },
    {
     "name": "stdout",
     "output_type": "stream",
     "text": [
      "Epoch 3490: Loss = 0.6857\n",
      "Epoch 3490: Loss = 0.6931\n",
      "Epoch 3490: Loss = 0.6804\n",
      "Epoch 3490: Loss = 0.6609\n",
      "Epoch 3490: Loss = 0.6849\n"
     ]
    },
    {
     "name": "stderr",
     "output_type": "stream",
     "text": [
      " 35%|███▌      | 3503/10000 [04:45<08:12, 13.20it/s]"
     ]
    },
    {
     "name": "stdout",
     "output_type": "stream",
     "text": [
      "Epoch 3500: Loss = 0.6913\n",
      "Epoch 3500: Loss = 0.6774\n",
      "Epoch 3500: Loss = 0.7080\n",
      "Epoch 3500: Loss = 0.6735\n",
      "Epoch 3500: Loss = 0.6895\n"
     ]
    },
    {
     "name": "stderr",
     "output_type": "stream",
     "text": [
      " 35%|███▌      | 3513/10000 [04:45<07:38, 14.16it/s]"
     ]
    },
    {
     "name": "stdout",
     "output_type": "stream",
     "text": [
      "Epoch 3510: Loss = 0.7098\n",
      "Epoch 3510: Loss = 0.6642\n",
      "Epoch 3510: Loss = 0.7053\n",
      "Epoch 3510: Loss = 0.6907\n",
      "Epoch 3510: Loss = 0.6865\n"
     ]
    },
    {
     "name": "stderr",
     "output_type": "stream",
     "text": [
      " 35%|███▌      | 3521/10000 [04:46<08:49, 12.24it/s]"
     ]
    },
    {
     "name": "stdout",
     "output_type": "stream",
     "text": [
      "Epoch 3520: Loss = 0.6748\n",
      "Epoch 3520: Loss = 0.6950\n",
      "Epoch 3520: Loss = 0.6697\n",
      "Epoch 3520: Loss = 0.6535\n",
      "Epoch 3520: Loss = 0.6698\n"
     ]
    },
    {
     "name": "stderr",
     "output_type": "stream",
     "text": [
      " 35%|███▌      | 3533/10000 [04:47<07:56, 13.56it/s]"
     ]
    },
    {
     "name": "stdout",
     "output_type": "stream",
     "text": [
      "Epoch 3530: Loss = 0.6073\n",
      "Epoch 3530: Loss = 0.6735\n",
      "Epoch 3530: Loss = 0.6527\n",
      "Epoch 3530: Loss = 0.6524\n",
      "Epoch 3530: Loss = 0.6543\n"
     ]
    },
    {
     "name": "stderr",
     "output_type": "stream",
     "text": [
      " 35%|███▌      | 3543/10000 [04:48<07:41, 14.00it/s]"
     ]
    },
    {
     "name": "stdout",
     "output_type": "stream",
     "text": [
      "Epoch 3540: Loss = 0.6850\n",
      "Epoch 3540: Loss = 0.6705\n",
      "Epoch 3540: Loss = 0.6650\n",
      "Epoch 3540: Loss = 0.6665\n",
      "Epoch 3540: Loss = 0.6651\n"
     ]
    },
    {
     "name": "stderr",
     "output_type": "stream",
     "text": [
      " 36%|███▌      | 3553/10000 [04:48<07:31, 14.29it/s]"
     ]
    },
    {
     "name": "stdout",
     "output_type": "stream",
     "text": [
      "Epoch 3550: Loss = 0.6196\n",
      "Epoch 3550: Loss = 0.6410\n",
      "Epoch 3550: Loss = 0.6552\n",
      "Epoch 3550: Loss = 0.6679\n",
      "Epoch 3550: Loss = 0.6650\n"
     ]
    },
    {
     "name": "stderr",
     "output_type": "stream",
     "text": [
      " 36%|███▌      | 3561/10000 [04:49<08:10, 13.12it/s]"
     ]
    },
    {
     "name": "stdout",
     "output_type": "stream",
     "text": [
      "Epoch 3560: Loss = 0.6806\n",
      "Epoch 3560: Loss = 0.6461\n",
      "Epoch 3560: Loss = 0.6836\n",
      "Epoch 3560: Loss = 0.6827\n",
      "Epoch 3560: Loss = 0.6838\n"
     ]
    },
    {
     "name": "stderr",
     "output_type": "stream",
     "text": [
      " 36%|███▌      | 3573/10000 [04:50<07:43, 13.85it/s]"
     ]
    },
    {
     "name": "stdout",
     "output_type": "stream",
     "text": [
      "Epoch 3570: Loss = 0.6687\n",
      "Epoch 3570: Loss = 0.6743\n",
      "Epoch 3570: Loss = 0.6750\n",
      "Epoch 3570: Loss = 0.6645\n",
      "Epoch 3570: Loss = 0.6589\n"
     ]
    },
    {
     "name": "stderr",
     "output_type": "stream",
     "text": [
      " 36%|███▌      | 3581/10000 [04:50<07:55, 13.49it/s]"
     ]
    },
    {
     "name": "stdout",
     "output_type": "stream",
     "text": [
      "Epoch 3580: Loss = 0.6709\n",
      "Epoch 3580: Loss = 0.6834\n",
      "Epoch 3580: Loss = 0.6980\n",
      "Epoch 3580: Loss = 0.6762\n",
      "Epoch 3580: Loss = 0.6773\n"
     ]
    },
    {
     "name": "stderr",
     "output_type": "stream",
     "text": [
      " 36%|███▌      | 3591/10000 [04:51<08:48, 12.12it/s]"
     ]
    },
    {
     "name": "stdout",
     "output_type": "stream",
     "text": [
      "Epoch 3590: Loss = 0.6819\n",
      "Epoch 3590: Loss = 0.6889\n",
      "Epoch 3590: Loss = 0.6566\n",
      "Epoch 3590: Loss = 0.6658\n",
      "Epoch 3590: Loss = 0.6679\n"
     ]
    },
    {
     "name": "stderr",
     "output_type": "stream",
     "text": [
      " 36%|███▌      | 3601/10000 [04:52<08:14, 12.94it/s]"
     ]
    },
    {
     "name": "stdout",
     "output_type": "stream",
     "text": [
      "Epoch 3600: Loss = 0.6451\n",
      "Epoch 3600: Loss = 0.6760\n",
      "Epoch 3600: Loss = 0.6849\n",
      "Epoch 3600: Loss = 0.7008\n",
      "Epoch 3600: Loss = 0.6484\n"
     ]
    },
    {
     "name": "stderr",
     "output_type": "stream",
     "text": [
      " 36%|███▌      | 3613/10000 [04:53<08:24, 12.67it/s]"
     ]
    },
    {
     "name": "stdout",
     "output_type": "stream",
     "text": [
      "Epoch 3610: Loss = 0.6603\n",
      "Epoch 3610: Loss = 0.6510\n",
      "Epoch 3610: Loss = 0.6754\n",
      "Epoch 3610: Loss = 0.6552\n",
      "Epoch 3610: Loss = 0.6898\n"
     ]
    },
    {
     "name": "stderr",
     "output_type": "stream",
     "text": [
      " 36%|███▌      | 3621/10000 [04:54<08:19, 12.77it/s]"
     ]
    },
    {
     "name": "stdout",
     "output_type": "stream",
     "text": [
      "Epoch 3620: Loss = 0.6835\n",
      "Epoch 3620: Loss = 0.6879\n",
      "Epoch 3620: Loss = 0.6510\n",
      "Epoch 3620: Loss = 0.6881\n",
      "Epoch 3620: Loss = 0.6892\n"
     ]
    },
    {
     "name": "stderr",
     "output_type": "stream",
     "text": [
      " 36%|███▋      | 3631/10000 [04:55<10:00, 10.61it/s]"
     ]
    },
    {
     "name": "stdout",
     "output_type": "stream",
     "text": [
      "Epoch 3630: Loss = 0.7065\n",
      "Epoch 3630: Loss = 0.6925\n",
      "Epoch 3630: Loss = 0.6368\n",
      "Epoch 3630: Loss = 0.6741\n",
      "Epoch 3630: Loss = 0.6665\n"
     ]
    },
    {
     "name": "stderr",
     "output_type": "stream",
     "text": [
      " 36%|███▋      | 3641/10000 [04:56<10:42,  9.90it/s]"
     ]
    },
    {
     "name": "stdout",
     "output_type": "stream",
     "text": [
      "Epoch 3640: Loss = 0.6631\n",
      "Epoch 3640: Loss = 0.7011\n",
      "Epoch 3640: Loss = 0.6898\n",
      "Epoch 3640: Loss = 0.6590\n",
      "Epoch 3640: Loss = 0.6991\n"
     ]
    },
    {
     "name": "stderr",
     "output_type": "stream",
     "text": [
      " 37%|███▋      | 3651/10000 [04:57<10:14, 10.33it/s]"
     ]
    },
    {
     "name": "stdout",
     "output_type": "stream",
     "text": [
      "Epoch 3650: Loss = 0.6512\n",
      "Epoch 3650: Loss = 0.6565\n",
      "Epoch 3650: Loss = 0.6658\n",
      "Epoch 3650: Loss = 0.6615\n",
      "Epoch 3650: Loss = 0.6464\n"
     ]
    },
    {
     "name": "stderr",
     "output_type": "stream",
     "text": [
      " 37%|███▋      | 3661/10000 [04:57<08:42, 12.14it/s]"
     ]
    },
    {
     "name": "stdout",
     "output_type": "stream",
     "text": [
      "Epoch 3660: Loss = 0.6582\n",
      "Epoch 3660: Loss = 0.6784\n",
      "Epoch 3660: Loss = 0.6403\n",
      "Epoch 3660: Loss = 0.6663\n",
      "Epoch 3660: Loss = 0.7038\n"
     ]
    },
    {
     "name": "stderr",
     "output_type": "stream",
     "text": [
      " 37%|███▋      | 3671/10000 [04:58<09:07, 11.55it/s]"
     ]
    },
    {
     "name": "stdout",
     "output_type": "stream",
     "text": [
      "Epoch 3670: Loss = 0.6583\n",
      "Epoch 3670: Loss = 0.6935\n",
      "Epoch 3670: Loss = 0.6874\n",
      "Epoch 3670: Loss = 0.6299\n",
      "Epoch 3670: Loss = 0.6776\n"
     ]
    },
    {
     "name": "stderr",
     "output_type": "stream",
     "text": [
      " 37%|███▋      | 3681/10000 [04:59<10:18, 10.21it/s]"
     ]
    },
    {
     "name": "stdout",
     "output_type": "stream",
     "text": [
      "Epoch 3680: Loss = 0.6932\n",
      "Epoch 3680: Loss = 0.6726\n",
      "Epoch 3680: Loss = 0.6651\n",
      "Epoch 3680: Loss = 0.6331\n",
      "Epoch 3680: Loss = 0.6579\n"
     ]
    },
    {
     "name": "stderr",
     "output_type": "stream",
     "text": [
      " 37%|███▋      | 3691/10000 [05:00<10:21, 10.15it/s]"
     ]
    },
    {
     "name": "stdout",
     "output_type": "stream",
     "text": [
      "Epoch 3690: Loss = 0.7061\n",
      "Epoch 3690: Loss = 0.6792\n",
      "Epoch 3690: Loss = 0.6862\n",
      "Epoch 3690: Loss = 0.6813\n",
      "Epoch 3690: Loss = 0.6549\n"
     ]
    },
    {
     "name": "stderr",
     "output_type": "stream",
     "text": [
      " 37%|███▋      | 3700/10000 [05:01<09:02, 11.62it/s]"
     ]
    },
    {
     "name": "stdout",
     "output_type": "stream",
     "text": [
      "Epoch 3700: Loss = 0.6472\n",
      "Epoch 3700: Loss = 0.6903\n",
      "Epoch 3700: Loss = 0.6388\n",
      "Epoch 3700: Loss = 0.6928\n",
      "Epoch 3700: Loss = 0.7094\n"
     ]
    },
    {
     "name": "stderr",
     "output_type": "stream",
     "text": [
      " 37%|███▋      | 3712/10000 [05:02<09:35, 10.92it/s]"
     ]
    },
    {
     "name": "stdout",
     "output_type": "stream",
     "text": [
      "Epoch 3710: Loss = 0.6832\n",
      "Epoch 3710: Loss = 0.6671\n",
      "Epoch 3710: Loss = 0.6875\n",
      "Epoch 3710: Loss = 0.6595\n",
      "Epoch 3710: Loss = 0.7103\n"
     ]
    },
    {
     "name": "stderr",
     "output_type": "stream",
     "text": [
      " 37%|███▋      | 3722/10000 [05:03<08:11, 12.77it/s]"
     ]
    },
    {
     "name": "stdout",
     "output_type": "stream",
     "text": [
      "Epoch 3720: Loss = 0.6641\n",
      "Epoch 3720: Loss = 0.6901\n",
      "Epoch 3720: Loss = 0.6578\n",
      "Epoch 3720: Loss = 0.6737\n",
      "Epoch 3720: Loss = 0.6582\n"
     ]
    },
    {
     "name": "stderr",
     "output_type": "stream",
     "text": [
      " 37%|███▋      | 3732/10000 [05:04<09:30, 10.98it/s]"
     ]
    },
    {
     "name": "stdout",
     "output_type": "stream",
     "text": [
      "Epoch 3730: Loss = 0.6644\n",
      "Epoch 3730: Loss = 0.6917\n",
      "Epoch 3730: Loss = 0.6623\n",
      "Epoch 3730: Loss = 0.6781\n",
      "Epoch 3730: Loss = 0.6920\n"
     ]
    },
    {
     "name": "stderr",
     "output_type": "stream",
     "text": [
      " 37%|███▋      | 3742/10000 [05:05<08:20, 12.50it/s]"
     ]
    },
    {
     "name": "stdout",
     "output_type": "stream",
     "text": [
      "Epoch 3740: Loss = 0.6934\n",
      "Epoch 3740: Loss = 0.6580\n",
      "Epoch 3740: Loss = 0.6579\n",
      "Epoch 3740: Loss = 0.6605\n",
      "Epoch 3740: Loss = 0.6550\n"
     ]
    },
    {
     "name": "stderr",
     "output_type": "stream",
     "text": [
      " 38%|███▊      | 3752/10000 [05:05<07:42, 13.52it/s]"
     ]
    },
    {
     "name": "stdout",
     "output_type": "stream",
     "text": [
      "Epoch 3750: Loss = 0.6516\n",
      "Epoch 3750: Loss = 0.6774\n",
      "Epoch 3750: Loss = 0.6608\n",
      "Epoch 3750: Loss = 0.6499\n",
      "Epoch 3750: Loss = 0.6551\n"
     ]
    },
    {
     "name": "stderr",
     "output_type": "stream",
     "text": [
      " 38%|███▊      | 3762/10000 [05:06<08:11, 12.68it/s]"
     ]
    },
    {
     "name": "stdout",
     "output_type": "stream",
     "text": [
      "Epoch 3760: Loss = 0.6861\n",
      "Epoch 3760: Loss = 0.7085\n",
      "Epoch 3760: Loss = 0.6742\n",
      "Epoch 3760: Loss = 0.6547\n",
      "Epoch 3760: Loss = 0.6648\n"
     ]
    },
    {
     "name": "stderr",
     "output_type": "stream",
     "text": [
      " 38%|███▊      | 3772/10000 [05:07<07:43, 13.43it/s]"
     ]
    },
    {
     "name": "stdout",
     "output_type": "stream",
     "text": [
      "Epoch 3770: Loss = 0.6725\n",
      "Epoch 3770: Loss = 0.6703\n",
      "Epoch 3770: Loss = 0.7020\n",
      "Epoch 3770: Loss = 0.6590\n",
      "Epoch 3770: Loss = 0.6489\n"
     ]
    },
    {
     "name": "stderr",
     "output_type": "stream",
     "text": [
      " 38%|███▊      | 3782/10000 [05:08<09:18, 11.13it/s]"
     ]
    },
    {
     "name": "stdout",
     "output_type": "stream",
     "text": [
      "Epoch 3780: Loss = 0.6789\n",
      "Epoch 3780: Loss = 0.6588\n",
      "Epoch 3780: Loss = 0.7042\n",
      "Epoch 3780: Loss = 0.6810\n",
      "Epoch 3780: Loss = 0.6851\n"
     ]
    },
    {
     "name": "stderr",
     "output_type": "stream",
     "text": [
      " 38%|███▊      | 3792/10000 [05:09<08:50, 11.69it/s]"
     ]
    },
    {
     "name": "stdout",
     "output_type": "stream",
     "text": [
      "Epoch 3790: Loss = 0.6646\n",
      "Epoch 3790: Loss = 0.6640\n",
      "Epoch 3790: Loss = 0.6634\n",
      "Epoch 3790: Loss = 0.6492\n",
      "Epoch 3790: Loss = 0.7013\n"
     ]
    },
    {
     "name": "stderr",
     "output_type": "stream",
     "text": [
      " 38%|███▊      | 3802/10000 [05:10<08:04, 12.79it/s]"
     ]
    },
    {
     "name": "stdout",
     "output_type": "stream",
     "text": [
      "Epoch 3800: Loss = 0.6770\n",
      "Epoch 3800: Loss = 0.6749\n",
      "Epoch 3800: Loss = 0.6634\n",
      "Epoch 3800: Loss = 0.6874\n",
      "Epoch 3800: Loss = 0.6831\n"
     ]
    },
    {
     "name": "stderr",
     "output_type": "stream",
     "text": [
      " 38%|███▊      | 3812/10000 [05:10<07:32, 13.66it/s]"
     ]
    },
    {
     "name": "stdout",
     "output_type": "stream",
     "text": [
      "Epoch 3810: Loss = 0.6787\n",
      "Epoch 3810: Loss = 0.6898\n",
      "Epoch 3810: Loss = 0.6716\n",
      "Epoch 3810: Loss = 0.6600\n",
      "Epoch 3810: Loss = 0.6714\n"
     ]
    },
    {
     "name": "stderr",
     "output_type": "stream",
     "text": [
      " 38%|███▊      | 3822/10000 [05:11<07:49, 13.16it/s]"
     ]
    },
    {
     "name": "stdout",
     "output_type": "stream",
     "text": [
      "Epoch 3820: Loss = 0.7094\n",
      "Epoch 3820: Loss = 0.6765\n",
      "Epoch 3820: Loss = 0.6587\n",
      "Epoch 3820: Loss = 0.6568\n",
      "Epoch 3820: Loss = 0.6384\n"
     ]
    },
    {
     "name": "stderr",
     "output_type": "stream",
     "text": [
      " 38%|███▊      | 3832/10000 [05:12<07:38, 13.46it/s]"
     ]
    },
    {
     "name": "stdout",
     "output_type": "stream",
     "text": [
      "Epoch 3830: Loss = 0.6755\n",
      "Epoch 3830: Loss = 0.6795\n",
      "Epoch 3830: Loss = 0.6646\n",
      "Epoch 3830: Loss = 0.6577\n",
      "Epoch 3830: Loss = 0.6912\n"
     ]
    },
    {
     "name": "stderr",
     "output_type": "stream",
     "text": [
      " 38%|███▊      | 3842/10000 [05:13<08:43, 11.76it/s]"
     ]
    },
    {
     "name": "stdout",
     "output_type": "stream",
     "text": [
      "Epoch 3840: Loss = 0.6535\n",
      "Epoch 3840: Loss = 0.6772\n",
      "Epoch 3840: Loss = 0.6506\n",
      "Epoch 3840: Loss = 0.6536\n",
      "Epoch 3840: Loss = 0.6571\n"
     ]
    },
    {
     "name": "stderr",
     "output_type": "stream",
     "text": [
      " 39%|███▊      | 3852/10000 [05:13<07:41, 13.33it/s]"
     ]
    },
    {
     "name": "stdout",
     "output_type": "stream",
     "text": [
      "Epoch 3850: Loss = 0.6778\n",
      "Epoch 3850: Loss = 0.6632\n",
      "Epoch 3850: Loss = 0.6631\n",
      "Epoch 3850: Loss = 0.6553\n",
      "Epoch 3850: Loss = 0.6538\n"
     ]
    },
    {
     "name": "stderr",
     "output_type": "stream",
     "text": [
      " 39%|███▊      | 3862/10000 [05:14<08:22, 12.21it/s]"
     ]
    },
    {
     "name": "stdout",
     "output_type": "stream",
     "text": [
      "Epoch 3860: Loss = 0.6674\n",
      "Epoch 3860: Loss = 0.6765\n",
      "Epoch 3860: Loss = 0.7029\n",
      "Epoch 3860: Loss = 0.6900\n",
      "Epoch 3860: Loss = 0.6902\n"
     ]
    },
    {
     "name": "stderr",
     "output_type": "stream",
     "text": [
      " 39%|███▊      | 3872/10000 [05:15<08:31, 11.99it/s]"
     ]
    },
    {
     "name": "stdout",
     "output_type": "stream",
     "text": [
      "Epoch 3870: Loss = 0.6729\n",
      "Epoch 3870: Loss = 0.6453\n",
      "Epoch 3870: Loss = 0.6508\n",
      "Epoch 3870: Loss = 0.6894\n",
      "Epoch 3870: Loss = 0.6783\n"
     ]
    },
    {
     "name": "stderr",
     "output_type": "stream",
     "text": [
      " 39%|███▉      | 3882/10000 [05:16<07:44, 13.18it/s]"
     ]
    },
    {
     "name": "stdout",
     "output_type": "stream",
     "text": [
      "Epoch 3880: Loss = 0.7032\n",
      "Epoch 3880: Loss = 0.6379\n",
      "Epoch 3880: Loss = 0.6436\n",
      "Epoch 3880: Loss = 0.6832\n",
      "Epoch 3880: Loss = 0.6355\n"
     ]
    },
    {
     "name": "stderr",
     "output_type": "stream",
     "text": [
      " 39%|███▉      | 3892/10000 [05:17<08:33, 11.89it/s]"
     ]
    },
    {
     "name": "stdout",
     "output_type": "stream",
     "text": [
      "Epoch 3890: Loss = 0.6763\n",
      "Epoch 3890: Loss = 0.6313\n",
      "Epoch 3890: Loss = 0.6755\n",
      "Epoch 3890: Loss = 0.6452\n",
      "Epoch 3890: Loss = 0.6910\n"
     ]
    },
    {
     "name": "stderr",
     "output_type": "stream",
     "text": [
      " 39%|███▉      | 3900/10000 [05:17<09:46, 10.40it/s]"
     ]
    },
    {
     "name": "stdout",
     "output_type": "stream",
     "text": [
      "Epoch 3900: Loss = 0.6961\n",
      "Epoch 3900: Loss = 0.6507\n",
      "Epoch 3900: Loss = 0.6925\n",
      "Epoch 3900: Loss = 0.6900\n",
      "Epoch 3900: Loss = 0.7030\n"
     ]
    },
    {
     "name": "stderr",
     "output_type": "stream",
     "text": [
      " 39%|███▉      | 3912/10000 [05:19<08:50, 11.48it/s]"
     ]
    },
    {
     "name": "stdout",
     "output_type": "stream",
     "text": [
      "Epoch 3910: Loss = 0.6702\n",
      "Epoch 3910: Loss = 0.6964\n",
      "Epoch 3910: Loss = 0.6589\n",
      "Epoch 3910: Loss = 0.6598\n",
      "Epoch 3910: Loss = 0.6548\n"
     ]
    },
    {
     "name": "stderr",
     "output_type": "stream",
     "text": [
      " 39%|███▉      | 3922/10000 [05:19<07:49, 12.94it/s]"
     ]
    },
    {
     "name": "stdout",
     "output_type": "stream",
     "text": [
      "Epoch 3920: Loss = 0.7097\n",
      "Epoch 3920: Loss = 0.6811\n",
      "Epoch 3920: Loss = 0.6799\n",
      "Epoch 3920: Loss = 0.6953\n",
      "Epoch 3920: Loss = 0.6703\n"
     ]
    },
    {
     "name": "stderr",
     "output_type": "stream",
     "text": [
      " 39%|███▉      | 3932/10000 [05:20<09:12, 10.98it/s]"
     ]
    },
    {
     "name": "stdout",
     "output_type": "stream",
     "text": [
      "Epoch 3930: Loss = 0.7066\n",
      "Epoch 3930: Loss = 0.6924\n",
      "Epoch 3930: Loss = 0.6555\n",
      "Epoch 3930: Loss = 0.6442\n",
      "Epoch 3930: Loss = 0.6433\n"
     ]
    },
    {
     "name": "stderr",
     "output_type": "stream",
     "text": [
      " 39%|███▉      | 3942/10000 [05:21<07:49, 12.92it/s]"
     ]
    },
    {
     "name": "stdout",
     "output_type": "stream",
     "text": [
      "Epoch 3940: Loss = 0.6777\n",
      "Epoch 3940: Loss = 0.6440\n",
      "Epoch 3940: Loss = 0.6851\n",
      "Epoch 3940: Loss = 0.6295\n",
      "Epoch 3940: Loss = 0.6364\n"
     ]
    },
    {
     "name": "stderr",
     "output_type": "stream",
     "text": [
      " 40%|███▉      | 3952/10000 [05:22<07:30, 13.41it/s]"
     ]
    },
    {
     "name": "stdout",
     "output_type": "stream",
     "text": [
      "Epoch 3950: Loss = 0.7090\n",
      "Epoch 3950: Loss = 0.6595\n",
      "Epoch 3950: Loss = 0.6696\n",
      "Epoch 3950: Loss = 0.7006\n",
      "Epoch 3950: Loss = 0.6759\n"
     ]
    },
    {
     "name": "stderr",
     "output_type": "stream",
     "text": [
      " 40%|███▉      | 3962/10000 [05:23<08:19, 12.08it/s]"
     ]
    },
    {
     "name": "stdout",
     "output_type": "stream",
     "text": [
      "Epoch 3960: Loss = 0.6290\n",
      "Epoch 3960: Loss = 0.6343\n",
      "Epoch 3960: Loss = 0.6793\n",
      "Epoch 3960: Loss = 0.6656\n",
      "Epoch 3960: Loss = 0.6767\n"
     ]
    },
    {
     "name": "stderr",
     "output_type": "stream",
     "text": [
      " 40%|███▉      | 3972/10000 [05:23<07:51, 12.79it/s]"
     ]
    },
    {
     "name": "stdout",
     "output_type": "stream",
     "text": [
      "Epoch 3970: Loss = 0.6717\n",
      "Epoch 3970: Loss = 0.6678\n",
      "Epoch 3970: Loss = 0.6541\n",
      "Epoch 3970: Loss = 0.6840\n",
      "Epoch 3970: Loss = 0.6546\n"
     ]
    },
    {
     "name": "stderr",
     "output_type": "stream",
     "text": [
      " 40%|███▉      | 3982/10000 [05:24<07:48, 12.85it/s]"
     ]
    },
    {
     "name": "stdout",
     "output_type": "stream",
     "text": [
      "Epoch 3980: Loss = 0.6834\n",
      "Epoch 3980: Loss = 0.6631\n",
      "Epoch 3980: Loss = 0.6822\n",
      "Epoch 3980: Loss = 0.6582\n",
      "Epoch 3980: Loss = 0.6313\n"
     ]
    },
    {
     "name": "stderr",
     "output_type": "stream",
     "text": [
      " 40%|███▉      | 3992/10000 [05:25<07:36, 13.17it/s]"
     ]
    },
    {
     "name": "stdout",
     "output_type": "stream",
     "text": [
      "Epoch 3990: Loss = 0.6577\n",
      "Epoch 3990: Loss = 0.6572\n",
      "Epoch 3990: Loss = 0.6899\n",
      "Epoch 3990: Loss = 0.6694\n",
      "Epoch 3990: Loss = 0.6582\n"
     ]
    },
    {
     "name": "stderr",
     "output_type": "stream",
     "text": [
      " 40%|████      | 4002/10000 [05:26<07:10, 13.94it/s]"
     ]
    },
    {
     "name": "stdout",
     "output_type": "stream",
     "text": [
      "Epoch 4000: Loss = 0.6775\n",
      "Epoch 4000: Loss = 0.6774\n",
      "Epoch 4000: Loss = 0.6855\n",
      "Epoch 4000: Loss = 0.6742\n",
      "Epoch 4000: Loss = 0.6751\n"
     ]
    },
    {
     "name": "stderr",
     "output_type": "stream",
     "text": [
      " 40%|████      | 4012/10000 [05:26<07:58, 12.53it/s]"
     ]
    },
    {
     "name": "stdout",
     "output_type": "stream",
     "text": [
      "Epoch 4010: Loss = 0.6762\n",
      "Epoch 4010: Loss = 0.7026\n",
      "Epoch 4010: Loss = 0.6918\n",
      "Epoch 4010: Loss = 0.6682\n",
      "Epoch 4010: Loss = 0.6665\n"
     ]
    },
    {
     "name": "stderr",
     "output_type": "stream",
     "text": [
      " 40%|████      | 4022/10000 [05:27<07:21, 13.56it/s]"
     ]
    },
    {
     "name": "stdout",
     "output_type": "stream",
     "text": [
      "Epoch 4020: Loss = 0.6845\n",
      "Epoch 4020: Loss = 0.6641\n",
      "Epoch 4020: Loss = 0.6677\n",
      "Epoch 4020: Loss = 0.6391\n",
      "Epoch 4020: Loss = 0.6803\n"
     ]
    },
    {
     "name": "stderr",
     "output_type": "stream",
     "text": [
      " 40%|████      | 4032/10000 [05:28<07:13, 13.78it/s]"
     ]
    },
    {
     "name": "stdout",
     "output_type": "stream",
     "text": [
      "Epoch 4030: Loss = 0.6756\n",
      "Epoch 4030: Loss = 0.6829\n",
      "Epoch 4030: Loss = 0.6405\n",
      "Epoch 4030: Loss = 0.6810\n",
      "Epoch 4030: Loss = 0.6321\n"
     ]
    },
    {
     "name": "stderr",
     "output_type": "stream",
     "text": [
      " 40%|████      | 4042/10000 [05:29<06:59, 14.19it/s]"
     ]
    },
    {
     "name": "stdout",
     "output_type": "stream",
     "text": [
      "Epoch 4040: Loss = 0.6712\n",
      "Epoch 4040: Loss = 0.6651\n",
      "Epoch 4040: Loss = 0.6683\n",
      "Epoch 4040: Loss = 0.6835\n",
      "Epoch 4040: Loss = 0.6412\n"
     ]
    },
    {
     "name": "stderr",
     "output_type": "stream",
     "text": [
      " 41%|████      | 4052/10000 [05:29<07:38, 12.98it/s]"
     ]
    },
    {
     "name": "stdout",
     "output_type": "stream",
     "text": [
      "Epoch 4050: Loss = 0.6617\n",
      "Epoch 4050: Loss = 0.6479\n",
      "Epoch 4050: Loss = 0.6932\n",
      "Epoch 4050: Loss = 0.6468\n",
      "Epoch 4050: Loss = 0.6418\n"
     ]
    },
    {
     "name": "stderr",
     "output_type": "stream",
     "text": [
      " 41%|████      | 4062/10000 [05:30<07:16, 13.60it/s]"
     ]
    },
    {
     "name": "stdout",
     "output_type": "stream",
     "text": [
      "Epoch 4060: Loss = 0.6929\n",
      "Epoch 4060: Loss = 0.6622\n",
      "Epoch 4060: Loss = 0.6606\n",
      "Epoch 4060: Loss = 0.6977\n",
      "Epoch 4060: Loss = 0.6685\n"
     ]
    },
    {
     "name": "stderr",
     "output_type": "stream",
     "text": [
      " 41%|████      | 4072/10000 [05:31<07:02, 14.03it/s]"
     ]
    },
    {
     "name": "stdout",
     "output_type": "stream",
     "text": [
      "Epoch 4070: Loss = 0.6841\n",
      "Epoch 4070: Loss = 0.6702\n",
      "Epoch 4070: Loss = 0.7035\n",
      "Epoch 4070: Loss = 0.6905\n",
      "Epoch 4070: Loss = 0.6317\n"
     ]
    },
    {
     "name": "stderr",
     "output_type": "stream",
     "text": [
      " 41%|████      | 4082/10000 [05:32<07:08, 13.81it/s]"
     ]
    },
    {
     "name": "stdout",
     "output_type": "stream",
     "text": [
      "Epoch 4080: Loss = 0.6316\n",
      "Epoch 4080: Loss = 0.6519\n",
      "Epoch 4080: Loss = 0.7102\n",
      "Epoch 4080: Loss = 0.6956\n",
      "Epoch 4080: Loss = 0.6500\n"
     ]
    },
    {
     "name": "stderr",
     "output_type": "stream",
     "text": [
      " 41%|████      | 4092/10000 [05:32<07:08, 13.79it/s]"
     ]
    },
    {
     "name": "stdout",
     "output_type": "stream",
     "text": [
      "Epoch 4090: Loss = 0.6699\n",
      "Epoch 4090: Loss = 0.6637\n",
      "Epoch 4090: Loss = 0.7034\n",
      "Epoch 4090: Loss = 0.6782\n",
      "Epoch 4090: Loss = 0.6842\n"
     ]
    },
    {
     "name": "stderr",
     "output_type": "stream",
     "text": [
      " 41%|████      | 4102/10000 [05:33<07:01, 14.00it/s]"
     ]
    },
    {
     "name": "stdout",
     "output_type": "stream",
     "text": [
      "Epoch 4100: Loss = 0.6636\n",
      "Epoch 4100: Loss = 0.6937\n",
      "Epoch 4100: Loss = 0.6495\n",
      "Epoch 4100: Loss = 0.6881\n",
      "Epoch 4100: Loss = 0.6404\n"
     ]
    },
    {
     "name": "stderr",
     "output_type": "stream",
     "text": [
      " 41%|████      | 4112/10000 [05:34<07:47, 12.59it/s]"
     ]
    },
    {
     "name": "stdout",
     "output_type": "stream",
     "text": [
      "Epoch 4110: Loss = 0.6880\n",
      "Epoch 4110: Loss = 0.6633\n",
      "Epoch 4110: Loss = 0.6637\n",
      "Epoch 4110: Loss = 0.6645\n",
      "Epoch 4110: Loss = 0.6755\n"
     ]
    },
    {
     "name": "stderr",
     "output_type": "stream",
     "text": [
      " 41%|████      | 4122/10000 [05:35<08:45, 11.20it/s]"
     ]
    },
    {
     "name": "stdout",
     "output_type": "stream",
     "text": [
      "Epoch 4120: Loss = 0.6707\n",
      "Epoch 4120: Loss = 0.6387\n",
      "Epoch 4120: Loss = 0.6735\n",
      "Epoch 4120: Loss = 0.6552\n",
      "Epoch 4120: Loss = 0.6823\n"
     ]
    },
    {
     "name": "stderr",
     "output_type": "stream",
     "text": [
      " 41%|████▏     | 4132/10000 [05:36<08:15, 11.84it/s]"
     ]
    },
    {
     "name": "stdout",
     "output_type": "stream",
     "text": [
      "Epoch 4130: Loss = 0.6697\n",
      "Epoch 4130: Loss = 0.6656\n",
      "Epoch 4130: Loss = 0.6701\n",
      "Epoch 4130: Loss = 0.6734\n",
      "Epoch 4130: Loss = 0.6964\n"
     ]
    },
    {
     "name": "stderr",
     "output_type": "stream",
     "text": [
      " 41%|████▏     | 4142/10000 [05:37<07:46, 12.55it/s]"
     ]
    },
    {
     "name": "stdout",
     "output_type": "stream",
     "text": [
      "Epoch 4140: Loss = 0.6397\n",
      "Epoch 4140: Loss = 0.6569\n",
      "Epoch 4140: Loss = 0.6429\n",
      "Epoch 4140: Loss = 0.6510\n",
      "Epoch 4140: Loss = 0.6909\n"
     ]
    },
    {
     "name": "stderr",
     "output_type": "stream",
     "text": [
      " 42%|████▏     | 4152/10000 [05:37<07:06, 13.72it/s]"
     ]
    },
    {
     "name": "stdout",
     "output_type": "stream",
     "text": [
      "Epoch 4150: Loss = 0.6402\n",
      "Epoch 4150: Loss = 0.6825\n",
      "Epoch 4150: Loss = 0.6920\n",
      "Epoch 4150: Loss = 0.7117\n",
      "Epoch 4150: Loss = 0.6356\n"
     ]
    },
    {
     "name": "stderr",
     "output_type": "stream",
     "text": [
      " 42%|████▏     | 4162/10000 [05:38<07:07, 13.66it/s]"
     ]
    },
    {
     "name": "stdout",
     "output_type": "stream",
     "text": [
      "Epoch 4160: Loss = 0.6498\n",
      "Epoch 4160: Loss = 0.7008\n",
      "Epoch 4160: Loss = 0.6820\n",
      "Epoch 4160: Loss = 0.6377\n",
      "Epoch 4160: Loss = 0.6902\n"
     ]
    },
    {
     "name": "stderr",
     "output_type": "stream",
     "text": [
      " 42%|████▏     | 4172/10000 [05:39<07:36, 12.76it/s]"
     ]
    },
    {
     "name": "stdout",
     "output_type": "stream",
     "text": [
      "Epoch 4170: Loss = 0.6639\n",
      "Epoch 4170: Loss = 0.6959\n",
      "Epoch 4170: Loss = 0.6804\n",
      "Epoch 4170: Loss = 0.6781\n",
      "Epoch 4170: Loss = 0.6836\n"
     ]
    },
    {
     "name": "stderr",
     "output_type": "stream",
     "text": [
      " 42%|████▏     | 4182/10000 [05:40<08:10, 11.87it/s]"
     ]
    },
    {
     "name": "stdout",
     "output_type": "stream",
     "text": [
      "Epoch 4180: Loss = 0.6572\n",
      "Epoch 4180: Loss = 0.6757\n",
      "Epoch 4180: Loss = 0.7014\n",
      "Epoch 4180: Loss = 0.6643\n",
      "Epoch 4180: Loss = 0.6397\n"
     ]
    },
    {
     "name": "stderr",
     "output_type": "stream",
     "text": [
      " 42%|████▏     | 4192/10000 [05:40<07:44, 12.49it/s]"
     ]
    },
    {
     "name": "stdout",
     "output_type": "stream",
     "text": [
      "Epoch 4190: Loss = 0.6653\n",
      "Epoch 4190: Loss = 0.6678\n",
      "Epoch 4190: Loss = 0.6885\n",
      "Epoch 4190: Loss = 0.6768\n",
      "Epoch 4190: Loss = 0.6807\n"
     ]
    },
    {
     "name": "stderr",
     "output_type": "stream",
     "text": [
      " 42%|████▏     | 4202/10000 [05:41<07:05, 13.64it/s]"
     ]
    },
    {
     "name": "stdout",
     "output_type": "stream",
     "text": [
      "Epoch 4200: Loss = 0.6599\n",
      "Epoch 4200: Loss = 0.6792\n",
      "Epoch 4200: Loss = 0.6847\n",
      "Epoch 4200: Loss = 0.6531\n",
      "Epoch 4200: Loss = 0.7086\n"
     ]
    },
    {
     "name": "stderr",
     "output_type": "stream",
     "text": [
      " 42%|████▏     | 4212/10000 [05:42<07:20, 13.13it/s]"
     ]
    },
    {
     "name": "stdout",
     "output_type": "stream",
     "text": [
      "Epoch 4210: Loss = 0.6684\n",
      "Epoch 4210: Loss = 0.6798\n",
      "Epoch 4210: Loss = 0.6515\n",
      "Epoch 4210: Loss = 0.6752\n",
      "Epoch 4210: Loss = 0.6576\n"
     ]
    },
    {
     "name": "stderr",
     "output_type": "stream",
     "text": [
      " 42%|████▏     | 4222/10000 [05:43<07:13, 13.34it/s]"
     ]
    },
    {
     "name": "stdout",
     "output_type": "stream",
     "text": [
      "Epoch 4220: Loss = 0.6612\n",
      "Epoch 4220: Loss = 0.6534\n",
      "Epoch 4220: Loss = 0.6971\n",
      "Epoch 4220: Loss = 0.6465\n",
      "Epoch 4220: Loss = 0.6549\n"
     ]
    },
    {
     "name": "stderr",
     "output_type": "stream",
     "text": [
      " 42%|████▏     | 4232/10000 [05:43<06:57, 13.82it/s]"
     ]
    },
    {
     "name": "stdout",
     "output_type": "stream",
     "text": [
      "Epoch 4230: Loss = 0.6599\n",
      "Epoch 4230: Loss = 0.6886\n",
      "Epoch 4230: Loss = 0.6659\n",
      "Epoch 4230: Loss = 0.6917\n",
      "Epoch 4230: Loss = 0.6400\n"
     ]
    },
    {
     "name": "stderr",
     "output_type": "stream",
     "text": [
      " 42%|████▏     | 4242/10000 [05:44<07:16, 13.20it/s]"
     ]
    },
    {
     "name": "stdout",
     "output_type": "stream",
     "text": [
      "Epoch 4240: Loss = 0.6817\n",
      "Epoch 4240: Loss = 0.6568\n",
      "Epoch 4240: Loss = 0.6654\n",
      "Epoch 4240: Loss = 0.6720\n",
      "Epoch 4240: Loss = 0.6937\n"
     ]
    },
    {
     "name": "stderr",
     "output_type": "stream",
     "text": [
      " 43%|████▎     | 4252/10000 [05:45<07:37, 12.57it/s]"
     ]
    },
    {
     "name": "stdout",
     "output_type": "stream",
     "text": [
      "Epoch 4250: Loss = 0.6671\n",
      "Epoch 4250: Loss = 0.6797\n",
      "Epoch 4250: Loss = 0.6871\n",
      "Epoch 4250: Loss = 0.6414\n",
      "Epoch 4250: Loss = 0.6944\n"
     ]
    },
    {
     "name": "stderr",
     "output_type": "stream",
     "text": [
      " 43%|████▎     | 4262/10000 [05:46<08:21, 11.44it/s]"
     ]
    },
    {
     "name": "stdout",
     "output_type": "stream",
     "text": [
      "Epoch 4260: Loss = 0.6599\n",
      "Epoch 4260: Loss = 0.6722\n",
      "Epoch 4260: Loss = 0.6991\n",
      "Epoch 4260: Loss = 0.6402\n",
      "Epoch 4260: Loss = 0.6627\n"
     ]
    },
    {
     "name": "stderr",
     "output_type": "stream",
     "text": [
      " 43%|████▎     | 4272/10000 [05:47<07:14, 13.17it/s]"
     ]
    },
    {
     "name": "stdout",
     "output_type": "stream",
     "text": [
      "Epoch 4270: Loss = 0.6393\n",
      "Epoch 4270: Loss = 0.6876\n",
      "Epoch 4270: Loss = 0.6678\n",
      "Epoch 4270: Loss = 0.6995\n",
      "Epoch 4270: Loss = 0.6766\n"
     ]
    },
    {
     "name": "stderr",
     "output_type": "stream",
     "text": [
      " 43%|████▎     | 4282/10000 [05:47<07:14, 13.17it/s]"
     ]
    },
    {
     "name": "stdout",
     "output_type": "stream",
     "text": [
      "Epoch 4280: Loss = 0.6572\n",
      "Epoch 4280: Loss = 0.6776\n",
      "Epoch 4280: Loss = 0.6795\n",
      "Epoch 4280: Loss = 0.6739\n",
      "Epoch 4280: Loss = 0.6802\n"
     ]
    },
    {
     "name": "stderr",
     "output_type": "stream",
     "text": [
      " 43%|████▎     | 4292/10000 [05:48<06:58, 13.65it/s]"
     ]
    },
    {
     "name": "stdout",
     "output_type": "stream",
     "text": [
      "Epoch 4290: Loss = 0.6869\n",
      "Epoch 4290: Loss = 0.6568\n",
      "Epoch 4290: Loss = 0.6687\n",
      "Epoch 4290: Loss = 0.6689\n",
      "Epoch 4290: Loss = 0.6638\n"
     ]
    },
    {
     "name": "stderr",
     "output_type": "stream",
     "text": [
      " 43%|████▎     | 4302/10000 [05:49<06:45, 14.04it/s]"
     ]
    },
    {
     "name": "stdout",
     "output_type": "stream",
     "text": [
      "Epoch 4300: Loss = 0.6508\n",
      "Epoch 4300: Loss = 0.6739\n",
      "Epoch 4300: Loss = 0.6845\n",
      "Epoch 4300: Loss = 0.6974\n",
      "Epoch 4300: Loss = 0.6642\n"
     ]
    },
    {
     "name": "stderr",
     "output_type": "stream",
     "text": [
      " 43%|████▎     | 4312/10000 [05:50<06:46, 14.00it/s]"
     ]
    },
    {
     "name": "stdout",
     "output_type": "stream",
     "text": [
      "Epoch 4310: Loss = 0.6325\n",
      "Epoch 4310: Loss = 0.6388\n",
      "Epoch 4310: Loss = 0.6724\n",
      "Epoch 4310: Loss = 0.6580\n",
      "Epoch 4310: Loss = 0.6318\n"
     ]
    },
    {
     "name": "stderr",
     "output_type": "stream",
     "text": [
      " 43%|████▎     | 4322/10000 [05:51<08:29, 11.14it/s]"
     ]
    },
    {
     "name": "stdout",
     "output_type": "stream",
     "text": [
      "Epoch 4320: Loss = 0.6815\n",
      "Epoch 4320: Loss = 0.6556\n",
      "Epoch 4320: Loss = 0.6738\n",
      "Epoch 4320: Loss = 0.6914\n",
      "Epoch 4320: Loss = 0.6514\n"
     ]
    },
    {
     "name": "stderr",
     "output_type": "stream",
     "text": [
      " 43%|████▎     | 4332/10000 [05:51<07:00, 13.48it/s]"
     ]
    },
    {
     "name": "stdout",
     "output_type": "stream",
     "text": [
      "Epoch 4330: Loss = 0.6767\n",
      "Epoch 4330: Loss = 0.6981\n",
      "Epoch 4330: Loss = 0.6580\n",
      "Epoch 4330: Loss = 0.6419\n",
      "Epoch 4330: Loss = 0.6706\n"
     ]
    },
    {
     "name": "stderr",
     "output_type": "stream",
     "text": [
      " 43%|████▎     | 4342/10000 [05:52<06:48, 13.87it/s]"
     ]
    },
    {
     "name": "stdout",
     "output_type": "stream",
     "text": [
      "Epoch 4340: Loss = 0.6772\n",
      "Epoch 4340: Loss = 0.6604\n",
      "Epoch 4340: Loss = 0.6816\n",
      "Epoch 4340: Loss = 0.6774\n",
      "Epoch 4340: Loss = 0.6676\n"
     ]
    },
    {
     "name": "stderr",
     "output_type": "stream",
     "text": [
      " 44%|████▎     | 4352/10000 [05:53<06:41, 14.07it/s]"
     ]
    },
    {
     "name": "stdout",
     "output_type": "stream",
     "text": [
      "Epoch 4350: Loss = 0.6575\n",
      "Epoch 4350: Loss = 0.6465\n",
      "Epoch 4350: Loss = 0.6858\n",
      "Epoch 4350: Loss = 0.6503\n",
      "Epoch 4350: Loss = 0.6572\n"
     ]
    },
    {
     "name": "stderr",
     "output_type": "stream",
     "text": [
      " 44%|████▎     | 4362/10000 [05:53<06:45, 13.91it/s]"
     ]
    },
    {
     "name": "stdout",
     "output_type": "stream",
     "text": [
      "Epoch 4360: Loss = 0.6699\n",
      "Epoch 4360: Loss = 0.6907\n",
      "Epoch 4360: Loss = 0.6732\n",
      "Epoch 4360: Loss = 0.6803\n",
      "Epoch 4360: Loss = 0.6664\n"
     ]
    },
    {
     "name": "stderr",
     "output_type": "stream",
     "text": [
      " 44%|████▎     | 4372/10000 [05:54<07:45, 12.09it/s]"
     ]
    },
    {
     "name": "stdout",
     "output_type": "stream",
     "text": [
      "Epoch 4370: Loss = 0.6679\n",
      "Epoch 4370: Loss = 0.6478\n",
      "Epoch 4370: Loss = 0.6946\n",
      "Epoch 4370: Loss = 0.6692\n",
      "Epoch 4370: Loss = 0.6437\n"
     ]
    },
    {
     "name": "stderr",
     "output_type": "stream",
     "text": [
      " 44%|████▍     | 4382/10000 [05:55<06:49, 13.72it/s]"
     ]
    },
    {
     "name": "stdout",
     "output_type": "stream",
     "text": [
      "Epoch 4380: Loss = 0.6654\n",
      "Epoch 4380: Loss = 0.6748\n",
      "Epoch 4380: Loss = 0.6837\n",
      "Epoch 4380: Loss = 0.6837\n",
      "Epoch 4380: Loss = 0.6671\n"
     ]
    },
    {
     "name": "stderr",
     "output_type": "stream",
     "text": [
      " 44%|████▍     | 4392/10000 [05:56<07:45, 12.04it/s]"
     ]
    },
    {
     "name": "stdout",
     "output_type": "stream",
     "text": [
      "Epoch 4390: Loss = 0.6882\n",
      "Epoch 4390: Loss = 0.6828\n",
      "Epoch 4390: Loss = 0.6662\n",
      "Epoch 4390: Loss = 0.6851\n",
      "Epoch 4390: Loss = 0.6464\n"
     ]
    },
    {
     "name": "stderr",
     "output_type": "stream",
     "text": [
      " 44%|████▍     | 4402/10000 [05:57<06:47, 13.73it/s]"
     ]
    },
    {
     "name": "stdout",
     "output_type": "stream",
     "text": [
      "Epoch 4400: Loss = 0.6714\n",
      "Epoch 4400: Loss = 0.6691\n",
      "Epoch 4400: Loss = 0.6843\n",
      "Epoch 4400: Loss = 0.6752\n",
      "Epoch 4400: Loss = 0.6847\n"
     ]
    },
    {
     "name": "stderr",
     "output_type": "stream",
     "text": [
      " 44%|████▍     | 4412/10000 [05:57<08:15, 11.29it/s]"
     ]
    },
    {
     "name": "stdout",
     "output_type": "stream",
     "text": [
      "Epoch 4410: Loss = 0.6526\n",
      "Epoch 4410: Loss = 0.6531\n",
      "Epoch 4410: Loss = 0.6794\n",
      "Epoch 4410: Loss = 0.6751\n",
      "Epoch 4410: Loss = 0.6598\n"
     ]
    },
    {
     "name": "stderr",
     "output_type": "stream",
     "text": [
      " 44%|████▍     | 4422/10000 [05:58<07:17, 12.75it/s]"
     ]
    },
    {
     "name": "stdout",
     "output_type": "stream",
     "text": [
      "Epoch 4420: Loss = 0.6777\n",
      "Epoch 4420: Loss = 0.6847\n",
      "Epoch 4420: Loss = 0.6534\n",
      "Epoch 4420: Loss = 0.6650\n",
      "Epoch 4420: Loss = 0.6421\n"
     ]
    },
    {
     "name": "stderr",
     "output_type": "stream",
     "text": [
      " 44%|████▍     | 4432/10000 [05:59<07:10, 12.94it/s]"
     ]
    },
    {
     "name": "stdout",
     "output_type": "stream",
     "text": [
      "Epoch 4430: Loss = 0.6864\n",
      "Epoch 4430: Loss = 0.6897\n",
      "Epoch 4430: Loss = 0.6887\n",
      "Epoch 4430: Loss = 0.6955\n",
      "Epoch 4430: Loss = 0.6739\n"
     ]
    },
    {
     "name": "stderr",
     "output_type": "stream",
     "text": [
      " 44%|████▍     | 4442/10000 [06:00<06:42, 13.81it/s]"
     ]
    },
    {
     "name": "stdout",
     "output_type": "stream",
     "text": [
      "Epoch 4440: Loss = 0.6573\n",
      "Epoch 4440: Loss = 0.6982\n",
      "Epoch 4440: Loss = 0.6632\n",
      "Epoch 4440: Loss = 0.6712\n",
      "Epoch 4440: Loss = 0.6842\n"
     ]
    },
    {
     "name": "stderr",
     "output_type": "stream",
     "text": [
      " 45%|████▍     | 4452/10000 [06:00<06:42, 13.79it/s]"
     ]
    },
    {
     "name": "stdout",
     "output_type": "stream",
     "text": [
      "Epoch 4450: Loss = 0.6583\n",
      "Epoch 4450: Loss = 0.6599\n",
      "Epoch 4450: Loss = 0.7015\n",
      "Epoch 4450: Loss = 0.6556\n",
      "Epoch 4450: Loss = 0.6921\n"
     ]
    },
    {
     "name": "stderr",
     "output_type": "stream",
     "text": [
      " 45%|████▍     | 4462/10000 [06:01<06:48, 13.55it/s]"
     ]
    },
    {
     "name": "stdout",
     "output_type": "stream",
     "text": [
      "Epoch 4460: Loss = 0.6617\n",
      "Epoch 4460: Loss = 0.6473\n",
      "Epoch 4460: Loss = 0.6830\n",
      "Epoch 4460: Loss = 0.6916\n",
      "Epoch 4460: Loss = 0.6425\n"
     ]
    },
    {
     "name": "stderr",
     "output_type": "stream",
     "text": [
      " 45%|████▍     | 4472/10000 [06:02<06:57, 13.24it/s]"
     ]
    },
    {
     "name": "stdout",
     "output_type": "stream",
     "text": [
      "Epoch 4470: Loss = 0.6626\n",
      "Epoch 4470: Loss = 0.6617\n",
      "Epoch 4470: Loss = 0.6679\n",
      "Epoch 4470: Loss = 0.7067\n",
      "Epoch 4470: Loss = 0.6548\n"
     ]
    },
    {
     "name": "stderr",
     "output_type": "stream",
     "text": [
      " 45%|████▍     | 4482/10000 [06:03<07:03, 13.02it/s]"
     ]
    },
    {
     "name": "stdout",
     "output_type": "stream",
     "text": [
      "Epoch 4480: Loss = 0.7005\n",
      "Epoch 4480: Loss = 0.6729\n",
      "Epoch 4480: Loss = 0.6566\n",
      "Epoch 4480: Loss = 0.6604\n",
      "Epoch 4480: Loss = 0.6730\n"
     ]
    },
    {
     "name": "stderr",
     "output_type": "stream",
     "text": [
      " 45%|████▍     | 4492/10000 [06:04<06:45, 13.57it/s]"
     ]
    },
    {
     "name": "stdout",
     "output_type": "stream",
     "text": [
      "Epoch 4490: Loss = 0.6623\n",
      "Epoch 4490: Loss = 0.6432\n",
      "Epoch 4490: Loss = 0.6890\n",
      "Epoch 4490: Loss = 0.6901\n",
      "Epoch 4490: Loss = 0.6333\n"
     ]
    },
    {
     "name": "stderr",
     "output_type": "stream",
     "text": [
      " 45%|████▌     | 4502/10000 [06:04<06:30, 14.07it/s]"
     ]
    },
    {
     "name": "stdout",
     "output_type": "stream",
     "text": [
      "Epoch 4500: Loss = 0.6670\n",
      "Epoch 4500: Loss = 0.6609\n",
      "Epoch 4500: Loss = 0.6456\n",
      "Epoch 4500: Loss = 0.6583\n",
      "Epoch 4500: Loss = 0.6612\n"
     ]
    },
    {
     "name": "stderr",
     "output_type": "stream",
     "text": [
      " 45%|████▌     | 4512/10000 [06:05<07:11, 12.71it/s]"
     ]
    },
    {
     "name": "stdout",
     "output_type": "stream",
     "text": [
      "Epoch 4510: Loss = 0.6454\n",
      "Epoch 4510: Loss = 0.7091\n",
      "Epoch 4510: Loss = 0.6663\n",
      "Epoch 4510: Loss = 0.6465\n",
      "Epoch 4510: Loss = 0.6670\n"
     ]
    },
    {
     "name": "stderr",
     "output_type": "stream",
     "text": [
      " 45%|████▌     | 4522/10000 [06:06<06:50, 13.36it/s]"
     ]
    },
    {
     "name": "stdout",
     "output_type": "stream",
     "text": [
      "Epoch 4520: Loss = 0.6672\n",
      "Epoch 4520: Loss = 0.6831\n",
      "Epoch 4520: Loss = 0.6774\n",
      "Epoch 4520: Loss = 0.6654\n",
      "Epoch 4520: Loss = 0.6341\n"
     ]
    },
    {
     "name": "stderr",
     "output_type": "stream",
     "text": [
      " 45%|████▌     | 4532/10000 [06:07<07:07, 12.78it/s]"
     ]
    },
    {
     "name": "stdout",
     "output_type": "stream",
     "text": [
      "Epoch 4530: Loss = 0.6576\n",
      "Epoch 4530: Loss = 0.6870\n",
      "Epoch 4530: Loss = 0.6890\n",
      "Epoch 4530: Loss = 0.6949\n",
      "Epoch 4530: Loss = 0.7009\n"
     ]
    },
    {
     "name": "stderr",
     "output_type": "stream",
     "text": [
      " 45%|████▌     | 4542/10000 [06:07<07:05, 12.84it/s]"
     ]
    },
    {
     "name": "stdout",
     "output_type": "stream",
     "text": [
      "Epoch 4540: Loss = 0.6652\n",
      "Epoch 4540: Loss = 0.6632\n",
      "Epoch 4540: Loss = 0.6623\n",
      "Epoch 4540: Loss = 0.6730\n",
      "Epoch 4540: Loss = 0.6986\n"
     ]
    },
    {
     "name": "stderr",
     "output_type": "stream",
     "text": [
      " 46%|████▌     | 4552/10000 [06:08<08:23, 10.82it/s]"
     ]
    },
    {
     "name": "stdout",
     "output_type": "stream",
     "text": [
      "Epoch 4550: Loss = 0.6811\n",
      "Epoch 4550: Loss = 0.6860\n",
      "Epoch 4550: Loss = 0.6840\n",
      "Epoch 4550: Loss = 0.6666\n",
      "Epoch 4550: Loss = 0.7115\n"
     ]
    },
    {
     "name": "stderr",
     "output_type": "stream",
     "text": [
      " 46%|████▌     | 4562/10000 [06:09<06:57, 13.03it/s]"
     ]
    },
    {
     "name": "stdout",
     "output_type": "stream",
     "text": [
      "Epoch 4560: Loss = 0.6707\n",
      "Epoch 4560: Loss = 0.7020\n",
      "Epoch 4560: Loss = 0.6422\n",
      "Epoch 4560: Loss = 0.6797\n",
      "Epoch 4560: Loss = 0.6729\n"
     ]
    },
    {
     "name": "stderr",
     "output_type": "stream",
     "text": [
      " 46%|████▌     | 4572/10000 [06:10<06:34, 13.75it/s]"
     ]
    },
    {
     "name": "stdout",
     "output_type": "stream",
     "text": [
      "Epoch 4570: Loss = 0.6493\n",
      "Epoch 4570: Loss = 0.6856\n",
      "Epoch 4570: Loss = 0.6834\n",
      "Epoch 4570: Loss = 0.6711\n",
      "Epoch 4570: Loss = 0.6645\n"
     ]
    },
    {
     "name": "stderr",
     "output_type": "stream",
     "text": [
      " 46%|████▌     | 4582/10000 [06:11<06:57, 12.97it/s]"
     ]
    },
    {
     "name": "stdout",
     "output_type": "stream",
     "text": [
      "Epoch 4580: Loss = 0.6775\n",
      "Epoch 4580: Loss = 0.6425\n",
      "Epoch 4580: Loss = 0.6547\n",
      "Epoch 4580: Loss = 0.6334\n",
      "Epoch 4580: Loss = 0.6786\n"
     ]
    },
    {
     "name": "stderr",
     "output_type": "stream",
     "text": [
      " 46%|████▌     | 4592/10000 [06:11<06:30, 13.85it/s]"
     ]
    },
    {
     "name": "stdout",
     "output_type": "stream",
     "text": [
      "Epoch 4590: Loss = 0.6789\n",
      "Epoch 4590: Loss = 0.6760\n",
      "Epoch 4590: Loss = 0.7004\n",
      "Epoch 4590: Loss = 0.6793\n",
      "Epoch 4590: Loss = 0.7121\n"
     ]
    },
    {
     "name": "stderr",
     "output_type": "stream",
     "text": [
      " 46%|████▌     | 4602/10000 [06:12<06:51, 13.11it/s]"
     ]
    },
    {
     "name": "stdout",
     "output_type": "stream",
     "text": [
      "Epoch 4600: Loss = 0.6667\n",
      "Epoch 4600: Loss = 0.6729\n",
      "Epoch 4600: Loss = 0.6568\n",
      "Epoch 4600: Loss = 0.6615\n",
      "Epoch 4600: Loss = 0.6578\n"
     ]
    },
    {
     "name": "stderr",
     "output_type": "stream",
     "text": [
      " 46%|████▌     | 4612/10000 [06:13<06:31, 13.75it/s]"
     ]
    },
    {
     "name": "stdout",
     "output_type": "stream",
     "text": [
      "Epoch 4610: Loss = 0.6783\n",
      "Epoch 4610: Loss = 0.7001\n",
      "Epoch 4610: Loss = 0.7039\n",
      "Epoch 4610: Loss = 0.7031\n",
      "Epoch 4610: Loss = 0.6264\n"
     ]
    },
    {
     "name": "stderr",
     "output_type": "stream",
     "text": [
      " 46%|████▌     | 4622/10000 [06:14<06:20, 14.15it/s]"
     ]
    },
    {
     "name": "stdout",
     "output_type": "stream",
     "text": [
      "Epoch 4620: Loss = 0.6656\n",
      "Epoch 4620: Loss = 0.6345\n",
      "Epoch 4620: Loss = 0.6943\n",
      "Epoch 4620: Loss = 0.6984\n",
      "Epoch 4620: Loss = 0.6173\n"
     ]
    },
    {
     "name": "stderr",
     "output_type": "stream",
     "text": [
      " 46%|████▋     | 4632/10000 [06:14<06:40, 13.39it/s]"
     ]
    },
    {
     "name": "stdout",
     "output_type": "stream",
     "text": [
      "Epoch 4630: Loss = 0.6831\n",
      "Epoch 4630: Loss = 0.6714\n",
      "Epoch 4630: Loss = 0.6793\n",
      "Epoch 4630: Loss = 0.6524\n",
      "Epoch 4630: Loss = 0.6645\n"
     ]
    },
    {
     "name": "stderr",
     "output_type": "stream",
     "text": [
      " 46%|████▋     | 4642/10000 [06:15<06:21, 14.06it/s]"
     ]
    },
    {
     "name": "stdout",
     "output_type": "stream",
     "text": [
      "Epoch 4640: Loss = 0.6750\n",
      "Epoch 4640: Loss = 0.6776\n",
      "Epoch 4640: Loss = 0.7150\n",
      "Epoch 4640: Loss = 0.6591\n",
      "Epoch 4640: Loss = 0.6260\n"
     ]
    },
    {
     "name": "stderr",
     "output_type": "stream",
     "text": [
      " 47%|████▋     | 4652/10000 [06:16<06:32, 13.64it/s]"
     ]
    },
    {
     "name": "stdout",
     "output_type": "stream",
     "text": [
      "Epoch 4650: Loss = 0.6605\n",
      "Epoch 4650: Loss = 0.6915\n",
      "Epoch 4650: Loss = 0.6659\n",
      "Epoch 4650: Loss = 0.6861\n",
      "Epoch 4650: Loss = 0.6844\n"
     ]
    },
    {
     "name": "stderr",
     "output_type": "stream",
     "text": [
      " 47%|████▋     | 4662/10000 [06:17<06:43, 13.23it/s]"
     ]
    },
    {
     "name": "stdout",
     "output_type": "stream",
     "text": [
      "Epoch 4660: Loss = 0.6710\n",
      "Epoch 4660: Loss = 0.6526\n",
      "Epoch 4660: Loss = 0.6588\n",
      "Epoch 4660: Loss = 0.6689\n",
      "Epoch 4660: Loss = 0.7009\n"
     ]
    },
    {
     "name": "stderr",
     "output_type": "stream",
     "text": [
      " 47%|████▋     | 4672/10000 [06:17<06:46, 13.11it/s]"
     ]
    },
    {
     "name": "stdout",
     "output_type": "stream",
     "text": [
      "Epoch 4670: Loss = 0.6652\n",
      "Epoch 4670: Loss = 0.6530\n",
      "Epoch 4670: Loss = 0.6635\n",
      "Epoch 4670: Loss = 0.6838\n",
      "Epoch 4670: Loss = 0.6736\n"
     ]
    },
    {
     "name": "stderr",
     "output_type": "stream",
     "text": [
      " 47%|████▋     | 4682/10000 [06:18<06:22, 13.89it/s]"
     ]
    },
    {
     "name": "stdout",
     "output_type": "stream",
     "text": [
      "Epoch 4680: Loss = 0.6768\n",
      "Epoch 4680: Loss = 0.6579\n",
      "Epoch 4680: Loss = 0.6646\n",
      "Epoch 4680: Loss = 0.6433\n",
      "Epoch 4680: Loss = 0.6882\n"
     ]
    },
    {
     "name": "stderr",
     "output_type": "stream",
     "text": [
      " 47%|████▋     | 4692/10000 [06:19<06:15, 14.14it/s]"
     ]
    },
    {
     "name": "stdout",
     "output_type": "stream",
     "text": [
      "Epoch 4690: Loss = 0.6636\n",
      "Epoch 4690: Loss = 0.6741\n",
      "Epoch 4690: Loss = 0.6773\n",
      "Epoch 4690: Loss = 0.6842\n",
      "Epoch 4690: Loss = 0.6637\n"
     ]
    },
    {
     "name": "stderr",
     "output_type": "stream",
     "text": [
      " 47%|████▋     | 4702/10000 [06:19<06:15, 14.11it/s]"
     ]
    },
    {
     "name": "stdout",
     "output_type": "stream",
     "text": [
      "Epoch 4700: Loss = 0.6667\n",
      "Epoch 4700: Loss = 0.6703\n",
      "Epoch 4700: Loss = 0.6946\n",
      "Epoch 4700: Loss = 0.6566\n",
      "Epoch 4700: Loss = 0.6495\n"
     ]
    },
    {
     "name": "stderr",
     "output_type": "stream",
     "text": [
      " 47%|████▋     | 4712/10000 [06:20<07:02, 12.53it/s]"
     ]
    },
    {
     "name": "stdout",
     "output_type": "stream",
     "text": [
      "Epoch 4710: Loss = 0.6577\n",
      "Epoch 4710: Loss = 0.6685\n",
      "Epoch 4710: Loss = 0.7111\n",
      "Epoch 4710: Loss = 0.6961\n",
      "Epoch 4710: Loss = 0.6857\n"
     ]
    },
    {
     "name": "stderr",
     "output_type": "stream",
     "text": [
      " 47%|████▋     | 4722/10000 [06:21<06:40, 13.18it/s]"
     ]
    },
    {
     "name": "stdout",
     "output_type": "stream",
     "text": [
      "Epoch 4720: Loss = 0.6516\n",
      "Epoch 4720: Loss = 0.6524\n",
      "Epoch 4720: Loss = 0.6902\n",
      "Epoch 4720: Loss = 0.6796\n",
      "Epoch 4720: Loss = 0.6496\n"
     ]
    },
    {
     "name": "stderr",
     "output_type": "stream",
     "text": [
      " 47%|████▋     | 4732/10000 [06:22<07:23, 11.89it/s]"
     ]
    },
    {
     "name": "stdout",
     "output_type": "stream",
     "text": [
      "Epoch 4730: Loss = 0.6735\n",
      "Epoch 4730: Loss = 0.6860\n",
      "Epoch 4730: Loss = 0.6976\n",
      "Epoch 4730: Loss = 0.6594\n",
      "Epoch 4730: Loss = 0.6637\n"
     ]
    },
    {
     "name": "stderr",
     "output_type": "stream",
     "text": [
      " 47%|████▋     | 4742/10000 [06:23<06:27, 13.56it/s]"
     ]
    },
    {
     "name": "stdout",
     "output_type": "stream",
     "text": [
      "Epoch 4740: Loss = 0.6583\n",
      "Epoch 4740: Loss = 0.6565\n",
      "Epoch 4740: Loss = 0.6708\n",
      "Epoch 4740: Loss = 0.6750\n",
      "Epoch 4740: Loss = 0.6881\n"
     ]
    },
    {
     "name": "stderr",
     "output_type": "stream",
     "text": [
      " 48%|████▊     | 4752/10000 [06:23<06:32, 13.38it/s]"
     ]
    },
    {
     "name": "stdout",
     "output_type": "stream",
     "text": [
      "Epoch 4750: Loss = 0.6336\n",
      "Epoch 4750: Loss = 0.6674\n",
      "Epoch 4750: Loss = 0.6679\n",
      "Epoch 4750: Loss = 0.6438\n",
      "Epoch 4750: Loss = 0.6451\n"
     ]
    },
    {
     "name": "stderr",
     "output_type": "stream",
     "text": [
      " 48%|████▊     | 4762/10000 [06:24<06:48, 12.84it/s]"
     ]
    },
    {
     "name": "stdout",
     "output_type": "stream",
     "text": [
      "Epoch 4760: Loss = 0.6117\n",
      "Epoch 4760: Loss = 0.6453\n",
      "Epoch 4760: Loss = 0.6595\n",
      "Epoch 4760: Loss = 0.6847\n",
      "Epoch 4760: Loss = 0.6604\n"
     ]
    },
    {
     "name": "stderr",
     "output_type": "stream",
     "text": [
      " 48%|████▊     | 4772/10000 [06:25<06:22, 13.66it/s]"
     ]
    },
    {
     "name": "stdout",
     "output_type": "stream",
     "text": [
      "Epoch 4770: Loss = 0.7037\n",
      "Epoch 4770: Loss = 0.6629\n",
      "Epoch 4770: Loss = 0.6637\n",
      "Epoch 4770: Loss = 0.6577\n",
      "Epoch 4770: Loss = 0.6806\n"
     ]
    },
    {
     "name": "stderr",
     "output_type": "stream",
     "text": [
      " 48%|████▊     | 4782/10000 [06:26<06:12, 14.03it/s]"
     ]
    },
    {
     "name": "stdout",
     "output_type": "stream",
     "text": [
      "Epoch 4780: Loss = 0.6592\n",
      "Epoch 4780: Loss = 0.6749\n",
      "Epoch 4780: Loss = 0.6413\n",
      "Epoch 4780: Loss = 0.7031\n",
      "Epoch 4780: Loss = 0.7269\n"
     ]
    },
    {
     "name": "stderr",
     "output_type": "stream",
     "text": [
      " 48%|████▊     | 4792/10000 [06:26<06:15, 13.85it/s]"
     ]
    },
    {
     "name": "stdout",
     "output_type": "stream",
     "text": [
      "Epoch 4790: Loss = 0.6595\n",
      "Epoch 4790: Loss = 0.6680\n",
      "Epoch 4790: Loss = 0.6533\n",
      "Epoch 4790: Loss = 0.6919\n",
      "Epoch 4790: Loss = 0.6911\n"
     ]
    },
    {
     "name": "stderr",
     "output_type": "stream",
     "text": [
      " 48%|████▊     | 4802/10000 [06:27<06:22, 13.58it/s]"
     ]
    },
    {
     "name": "stdout",
     "output_type": "stream",
     "text": [
      "Epoch 4800: Loss = 0.6739\n",
      "Epoch 4800: Loss = 0.6961\n",
      "Epoch 4800: Loss = 0.6766\n",
      "Epoch 4800: Loss = 0.6624\n",
      "Epoch 4800: Loss = 0.6515\n"
     ]
    },
    {
     "name": "stderr",
     "output_type": "stream",
     "text": [
      " 48%|████▊     | 4812/10000 [06:28<06:29, 13.34it/s]"
     ]
    },
    {
     "name": "stdout",
     "output_type": "stream",
     "text": [
      "Epoch 4810: Loss = 0.6873\n",
      "Epoch 4810: Loss = 0.7045\n",
      "Epoch 4810: Loss = 0.6821\n",
      "Epoch 4810: Loss = 0.6327\n",
      "Epoch 4810: Loss = 0.6874\n"
     ]
    },
    {
     "name": "stderr",
     "output_type": "stream",
     "text": [
      " 48%|████▊     | 4822/10000 [06:29<06:38, 13.00it/s]"
     ]
    },
    {
     "name": "stdout",
     "output_type": "stream",
     "text": [
      "Epoch 4820: Loss = 0.6650\n",
      "Epoch 4820: Loss = 0.6850\n",
      "Epoch 4820: Loss = 0.6510\n",
      "Epoch 4820: Loss = 0.6903\n",
      "Epoch 4820: Loss = 0.6531\n"
     ]
    },
    {
     "name": "stderr",
     "output_type": "stream",
     "text": [
      " 48%|████▊     | 4832/10000 [06:29<06:17, 13.68it/s]"
     ]
    },
    {
     "name": "stdout",
     "output_type": "stream",
     "text": [
      "Epoch 4830: Loss = 0.6460\n",
      "Epoch 4830: Loss = 0.6984\n",
      "Epoch 4830: Loss = 0.6338\n",
      "Epoch 4830: Loss = 0.6936\n",
      "Epoch 4830: Loss = 0.6623\n"
     ]
    },
    {
     "name": "stderr",
     "output_type": "stream",
     "text": [
      " 48%|████▊     | 4842/10000 [06:30<06:37, 12.98it/s]"
     ]
    },
    {
     "name": "stdout",
     "output_type": "stream",
     "text": [
      "Epoch 4840: Loss = 0.6646\n",
      "Epoch 4840: Loss = 0.6671\n",
      "Epoch 4840: Loss = 0.6938\n",
      "Epoch 4840: Loss = 0.6545\n",
      "Epoch 4840: Loss = 0.6670\n"
     ]
    },
    {
     "name": "stderr",
     "output_type": "stream",
     "text": [
      " 49%|████▊     | 4852/10000 [06:31<06:15, 13.72it/s]"
     ]
    },
    {
     "name": "stdout",
     "output_type": "stream",
     "text": [
      "Epoch 4850: Loss = 0.6854\n",
      "Epoch 4850: Loss = 0.6758\n",
      "Epoch 4850: Loss = 0.6975\n",
      "Epoch 4850: Loss = 0.6658\n",
      "Epoch 4850: Loss = 0.6546\n"
     ]
    },
    {
     "name": "stderr",
     "output_type": "stream",
     "text": [
      " 49%|████▊     | 4862/10000 [06:32<06:05, 14.04it/s]"
     ]
    },
    {
     "name": "stdout",
     "output_type": "stream",
     "text": [
      "Epoch 4860: Loss = 0.6682\n",
      "Epoch 4860: Loss = 0.6988\n",
      "Epoch 4860: Loss = 0.6502\n",
      "Epoch 4860: Loss = 0.6759\n",
      "Epoch 4860: Loss = 0.6559\n"
     ]
    },
    {
     "name": "stderr",
     "output_type": "stream",
     "text": [
      " 49%|████▊     | 4872/10000 [06:32<06:40, 12.80it/s]"
     ]
    },
    {
     "name": "stdout",
     "output_type": "stream",
     "text": [
      "Epoch 4870: Loss = 0.6779\n",
      "Epoch 4870: Loss = 0.6771\n",
      "Epoch 4870: Loss = 0.6487\n",
      "Epoch 4870: Loss = 0.6806\n",
      "Epoch 4870: Loss = 0.6492\n"
     ]
    },
    {
     "name": "stderr",
     "output_type": "stream",
     "text": [
      " 49%|████▉     | 4882/10000 [06:33<07:03, 12.08it/s]"
     ]
    },
    {
     "name": "stdout",
     "output_type": "stream",
     "text": [
      "Epoch 4880: Loss = 0.6763\n",
      "Epoch 4880: Loss = 0.6723\n",
      "Epoch 4880: Loss = 0.6567\n",
      "Epoch 4880: Loss = 0.7108\n",
      "Epoch 4880: Loss = 0.6539\n"
     ]
    },
    {
     "name": "stderr",
     "output_type": "stream",
     "text": [
      " 49%|████▉     | 4892/10000 [06:34<06:58, 12.21it/s]"
     ]
    },
    {
     "name": "stdout",
     "output_type": "stream",
     "text": [
      "Epoch 4890: Loss = 0.6736\n",
      "Epoch 4890: Loss = 0.6325\n",
      "Epoch 4890: Loss = 0.6582\n",
      "Epoch 4890: Loss = 0.6631\n",
      "Epoch 4890: Loss = 0.6512\n"
     ]
    },
    {
     "name": "stderr",
     "output_type": "stream",
     "text": [
      " 49%|████▉     | 4902/10000 [06:35<06:39, 12.77it/s]"
     ]
    },
    {
     "name": "stdout",
     "output_type": "stream",
     "text": [
      "Epoch 4900: Loss = 0.6478\n",
      "Epoch 4900: Loss = 0.6501\n",
      "Epoch 4900: Loss = 0.6311\n",
      "Epoch 4900: Loss = 0.6841\n",
      "Epoch 4900: Loss = 0.6493\n"
     ]
    },
    {
     "name": "stderr",
     "output_type": "stream",
     "text": [
      " 49%|████▉     | 4912/10000 [06:36<06:56, 12.22it/s]"
     ]
    },
    {
     "name": "stdout",
     "output_type": "stream",
     "text": [
      "Epoch 4910: Loss = 0.6441\n",
      "Epoch 4910: Loss = 0.6476\n",
      "Epoch 4910: Loss = 0.6763\n",
      "Epoch 4910: Loss = 0.6722\n",
      "Epoch 4910: Loss = 0.6244\n"
     ]
    },
    {
     "name": "stderr",
     "output_type": "stream",
     "text": [
      " 49%|████▉     | 4922/10000 [06:36<06:26, 13.14it/s]"
     ]
    },
    {
     "name": "stdout",
     "output_type": "stream",
     "text": [
      "Epoch 4920: Loss = 0.6381\n",
      "Epoch 4920: Loss = 0.6404\n",
      "Epoch 4920: Loss = 0.6290\n",
      "Epoch 4920: Loss = 0.6764\n",
      "Epoch 4920: Loss = 0.6679\n"
     ]
    },
    {
     "name": "stderr",
     "output_type": "stream",
     "text": [
      " 49%|████▉     | 4932/10000 [06:37<06:25, 13.14it/s]"
     ]
    },
    {
     "name": "stdout",
     "output_type": "stream",
     "text": [
      "Epoch 4930: Loss = 0.6612\n",
      "Epoch 4930: Loss = 0.6742\n",
      "Epoch 4930: Loss = 0.6818\n",
      "Epoch 4930: Loss = 0.6433\n",
      "Epoch 4930: Loss = 0.6927\n"
     ]
    },
    {
     "name": "stderr",
     "output_type": "stream",
     "text": [
      " 49%|████▉     | 4942/10000 [06:38<07:20, 11.49it/s]"
     ]
    },
    {
     "name": "stdout",
     "output_type": "stream",
     "text": [
      "Epoch 4940: Loss = 0.6853\n",
      "Epoch 4940: Loss = 0.6685\n",
      "Epoch 4940: Loss = 0.6706\n",
      "Epoch 4940: Loss = 0.6482\n",
      "Epoch 4940: Loss = 0.6818\n"
     ]
    },
    {
     "name": "stderr",
     "output_type": "stream",
     "text": [
      " 50%|████▉     | 4952/10000 [06:39<07:22, 11.41it/s]"
     ]
    },
    {
     "name": "stdout",
     "output_type": "stream",
     "text": [
      "Epoch 4950: Loss = 0.6844\n",
      "Epoch 4950: Loss = 0.6691\n",
      "Epoch 4950: Loss = 0.6465\n",
      "Epoch 4950: Loss = 0.6650\n",
      "Epoch 4950: Loss = 0.6670\n"
     ]
    },
    {
     "name": "stderr",
     "output_type": "stream",
     "text": [
      " 50%|████▉     | 4962/10000 [06:40<06:28, 12.97it/s]"
     ]
    },
    {
     "name": "stdout",
     "output_type": "stream",
     "text": [
      "Epoch 4960: Loss = 0.6694\n",
      "Epoch 4960: Loss = 0.6862\n",
      "Epoch 4960: Loss = 0.6696\n",
      "Epoch 4960: Loss = 0.6622\n",
      "Epoch 4960: Loss = 0.6648\n"
     ]
    },
    {
     "name": "stderr",
     "output_type": "stream",
     "text": [
      " 50%|████▉     | 4972/10000 [06:40<06:41, 12.52it/s]"
     ]
    },
    {
     "name": "stdout",
     "output_type": "stream",
     "text": [
      "Epoch 4970: Loss = 0.6644\n",
      "Epoch 4970: Loss = 0.6499\n",
      "Epoch 4970: Loss = 0.6750\n",
      "Epoch 4970: Loss = 0.6800\n",
      "Epoch 4970: Loss = 0.6525\n"
     ]
    },
    {
     "name": "stderr",
     "output_type": "stream",
     "text": [
      " 50%|████▉     | 4982/10000 [06:41<07:01, 11.90it/s]"
     ]
    },
    {
     "name": "stdout",
     "output_type": "stream",
     "text": [
      "Epoch 4980: Loss = 0.7150\n",
      "Epoch 4980: Loss = 0.6432\n",
      "Epoch 4980: Loss = 0.6728\n",
      "Epoch 4980: Loss = 0.6738\n",
      "Epoch 4980: Loss = 0.6556\n"
     ]
    },
    {
     "name": "stderr",
     "output_type": "stream",
     "text": [
      " 50%|████▉     | 4992/10000 [06:42<06:13, 13.39it/s]"
     ]
    },
    {
     "name": "stdout",
     "output_type": "stream",
     "text": [
      "Epoch 4990: Loss = 0.6697\n",
      "Epoch 4990: Loss = 0.6984\n",
      "Epoch 4990: Loss = 0.6774\n",
      "Epoch 4990: Loss = 0.6889\n",
      "Epoch 4990: Loss = 0.6886\n"
     ]
    },
    {
     "name": "stderr",
     "output_type": "stream",
     "text": [
      " 50%|█████     | 5002/10000 [06:43<05:56, 14.01it/s]"
     ]
    },
    {
     "name": "stdout",
     "output_type": "stream",
     "text": [
      "Epoch 5000: Loss = 0.6589\n",
      "Epoch 5000: Loss = 0.6513\n",
      "Epoch 5000: Loss = 0.6985\n",
      "Epoch 5000: Loss = 0.6642\n",
      "Epoch 5000: Loss = 0.6795\n"
     ]
    },
    {
     "name": "stderr",
     "output_type": "stream",
     "text": [
      " 50%|█████     | 5012/10000 [06:44<06:05, 13.66it/s]"
     ]
    },
    {
     "name": "stdout",
     "output_type": "stream",
     "text": [
      "Epoch 5010: Loss = 0.6537\n",
      "Epoch 5010: Loss = 0.6438\n",
      "Epoch 5010: Loss = 0.6851\n",
      "Epoch 5010: Loss = 0.6586\n",
      "Epoch 5010: Loss = 0.6652\n"
     ]
    },
    {
     "name": "stderr",
     "output_type": "stream",
     "text": [
      " 50%|█████     | 5022/10000 [06:44<06:08, 13.50it/s]"
     ]
    },
    {
     "name": "stdout",
     "output_type": "stream",
     "text": [
      "Epoch 5020: Loss = 0.6853\n",
      "Epoch 5020: Loss = 0.6732\n",
      "Epoch 5020: Loss = 0.6601\n",
      "Epoch 5020: Loss = 0.6835\n",
      "Epoch 5020: Loss = 0.6517\n"
     ]
    },
    {
     "name": "stderr",
     "output_type": "stream",
     "text": [
      " 50%|█████     | 5032/10000 [06:45<06:18, 13.14it/s]"
     ]
    },
    {
     "name": "stdout",
     "output_type": "stream",
     "text": [
      "Epoch 5030: Loss = 0.6709\n",
      "Epoch 5030: Loss = 0.6591\n",
      "Epoch 5030: Loss = 0.6803\n",
      "Epoch 5030: Loss = 0.6646\n",
      "Epoch 5030: Loss = 0.6406\n"
     ]
    },
    {
     "name": "stderr",
     "output_type": "stream",
     "text": [
      " 50%|█████     | 5042/10000 [06:46<06:03, 13.64it/s]"
     ]
    },
    {
     "name": "stdout",
     "output_type": "stream",
     "text": [
      "Epoch 5040: Loss = 0.6670\n",
      "Epoch 5040: Loss = 0.6527\n",
      "Epoch 5040: Loss = 0.7048\n",
      "Epoch 5040: Loss = 0.6541\n",
      "Epoch 5040: Loss = 0.6775\n"
     ]
    },
    {
     "name": "stderr",
     "output_type": "stream",
     "text": [
      " 51%|█████     | 5052/10000 [06:46<05:53, 13.99it/s]"
     ]
    },
    {
     "name": "stdout",
     "output_type": "stream",
     "text": [
      "Epoch 5050: Loss = 0.6818\n",
      "Epoch 5050: Loss = 0.6695\n",
      "Epoch 5050: Loss = 0.6537\n",
      "Epoch 5050: Loss = 0.6722\n",
      "Epoch 5050: Loss = 0.6698\n"
     ]
    },
    {
     "name": "stderr",
     "output_type": "stream",
     "text": [
      " 51%|█████     | 5062/10000 [06:47<06:03, 13.60it/s]"
     ]
    },
    {
     "name": "stdout",
     "output_type": "stream",
     "text": [
      "Epoch 5060: Loss = 0.6926\n",
      "Epoch 5060: Loss = 0.6756\n",
      "Epoch 5060: Loss = 0.6713\n",
      "Epoch 5060: Loss = 0.6857\n",
      "Epoch 5060: Loss = 0.6544\n"
     ]
    },
    {
     "name": "stderr",
     "output_type": "stream",
     "text": [
      " 51%|█████     | 5072/10000 [06:48<06:10, 13.30it/s]"
     ]
    },
    {
     "name": "stdout",
     "output_type": "stream",
     "text": [
      "Epoch 5070: Loss = 0.6414\n",
      "Epoch 5070: Loss = 0.6822\n",
      "Epoch 5070: Loss = 0.6650\n",
      "Epoch 5070: Loss = 0.6529\n",
      "Epoch 5070: Loss = 0.6695\n"
     ]
    },
    {
     "name": "stderr",
     "output_type": "stream",
     "text": [
      " 51%|█████     | 5082/10000 [06:49<06:05, 13.45it/s]"
     ]
    },
    {
     "name": "stdout",
     "output_type": "stream",
     "text": [
      "Epoch 5080: Loss = 0.6379\n",
      "Epoch 5080: Loss = 0.6798\n",
      "Epoch 5080: Loss = 0.7028\n",
      "Epoch 5080: Loss = 0.6466\n",
      "Epoch 5080: Loss = 0.6929\n"
     ]
    },
    {
     "name": "stderr",
     "output_type": "stream",
     "text": [
      " 51%|█████     | 5092/10000 [06:50<05:53, 13.88it/s]"
     ]
    },
    {
     "name": "stdout",
     "output_type": "stream",
     "text": [
      "Epoch 5090: Loss = 0.6940\n",
      "Epoch 5090: Loss = 0.6624\n",
      "Epoch 5090: Loss = 0.6530\n",
      "Epoch 5090: Loss = 0.6603\n",
      "Epoch 5090: Loss = 0.6776\n"
     ]
    },
    {
     "name": "stderr",
     "output_type": "stream",
     "text": [
      " 51%|█████     | 5102/10000 [06:50<05:53, 13.87it/s]"
     ]
    },
    {
     "name": "stdout",
     "output_type": "stream",
     "text": [
      "Epoch 5100: Loss = 0.6973\n",
      "Epoch 5100: Loss = 0.6883\n",
      "Epoch 5100: Loss = 0.6784\n",
      "Epoch 5100: Loss = 0.6686\n",
      "Epoch 5100: Loss = 0.6515\n"
     ]
    },
    {
     "name": "stderr",
     "output_type": "stream",
     "text": [
      " 51%|█████     | 5112/10000 [06:51<06:21, 12.82it/s]"
     ]
    },
    {
     "name": "stdout",
     "output_type": "stream",
     "text": [
      "Epoch 5110: Loss = 0.6592\n",
      "Epoch 5110: Loss = 0.6564\n",
      "Epoch 5110: Loss = 0.6800\n",
      "Epoch 5110: Loss = 0.6795\n",
      "Epoch 5110: Loss = 0.6864\n"
     ]
    },
    {
     "name": "stderr",
     "output_type": "stream",
     "text": [
      " 51%|█████     | 5122/10000 [06:52<06:02, 13.45it/s]"
     ]
    },
    {
     "name": "stdout",
     "output_type": "stream",
     "text": [
      "Epoch 5120: Loss = 0.6909\n",
      "Epoch 5120: Loss = 0.6603\n",
      "Epoch 5120: Loss = 0.6836\n",
      "Epoch 5120: Loss = 0.6589\n",
      "Epoch 5120: Loss = 0.6603\n"
     ]
    },
    {
     "name": "stderr",
     "output_type": "stream",
     "text": [
      " 51%|█████▏    | 5132/10000 [06:53<06:50, 11.86it/s]"
     ]
    },
    {
     "name": "stdout",
     "output_type": "stream",
     "text": [
      "Epoch 5130: Loss = 0.6668\n",
      "Epoch 5130: Loss = 0.6715\n",
      "Epoch 5130: Loss = 0.6648\n",
      "Epoch 5130: Loss = 0.6267\n",
      "Epoch 5130: Loss = 0.6610\n"
     ]
    },
    {
     "name": "stderr",
     "output_type": "stream",
     "text": [
      " 51%|█████▏    | 5140/10000 [06:53<06:28, 12.52it/s]"
     ]
    },
    {
     "name": "stdout",
     "output_type": "stream",
     "text": [
      "Epoch 5140: Loss = 0.6633\n",
      "Epoch 5140: Loss = 0.6772\n",
      "Epoch 5140: Loss = 0.6710\n",
      "Epoch 5140: Loss = 0.6435\n",
      "Epoch 5140: Loss = 0.6531\n"
     ]
    },
    {
     "name": "stderr",
     "output_type": "stream",
     "text": [
      " 52%|█████▏    | 5152/10000 [06:54<06:58, 11.58it/s]"
     ]
    },
    {
     "name": "stdout",
     "output_type": "stream",
     "text": [
      "Epoch 5150: Loss = 0.6450\n",
      "Epoch 5150: Loss = 0.7028\n",
      "Epoch 5150: Loss = 0.6682\n",
      "Epoch 5150: Loss = 0.6729\n",
      "Epoch 5150: Loss = 0.6474\n"
     ]
    },
    {
     "name": "stderr",
     "output_type": "stream",
     "text": [
      " 52%|█████▏    | 5162/10000 [06:55<08:00, 10.07it/s]"
     ]
    },
    {
     "name": "stdout",
     "output_type": "stream",
     "text": [
      "Epoch 5160: Loss = 0.6961\n",
      "Epoch 5160: Loss = 0.6562\n",
      "Epoch 5160: Loss = 0.6436\n",
      "Epoch 5160: Loss = 0.6487\n",
      "Epoch 5160: Loss = 0.6892\n"
     ]
    },
    {
     "name": "stderr",
     "output_type": "stream",
     "text": [
      " 52%|█████▏    | 5172/10000 [06:56<06:28, 12.42it/s]"
     ]
    },
    {
     "name": "stdout",
     "output_type": "stream",
     "text": [
      "Epoch 5170: Loss = 0.6975\n",
      "Epoch 5170: Loss = 0.6811\n",
      "Epoch 5170: Loss = 0.6864\n",
      "Epoch 5170: Loss = 0.7053\n",
      "Epoch 5170: Loss = 0.6655\n"
     ]
    },
    {
     "name": "stderr",
     "output_type": "stream",
     "text": [
      " 52%|█████▏    | 5182/10000 [06:57<05:52, 13.67it/s]"
     ]
    },
    {
     "name": "stdout",
     "output_type": "stream",
     "text": [
      "Epoch 5180: Loss = 0.6328\n",
      "Epoch 5180: Loss = 0.6536\n",
      "Epoch 5180: Loss = 0.6740\n",
      "Epoch 5180: Loss = 0.6561\n",
      "Epoch 5180: Loss = 0.6628\n"
     ]
    },
    {
     "name": "stderr",
     "output_type": "stream",
     "text": [
      " 52%|█████▏    | 5192/10000 [06:58<05:40, 14.14it/s]"
     ]
    },
    {
     "name": "stdout",
     "output_type": "stream",
     "text": [
      "Epoch 5190: Loss = 0.6767\n",
      "Epoch 5190: Loss = 0.6593\n",
      "Epoch 5190: Loss = 0.6460\n",
      "Epoch 5190: Loss = 0.6549\n",
      "Epoch 5190: Loss = 0.6687\n"
     ]
    },
    {
     "name": "stderr",
     "output_type": "stream",
     "text": [
      " 52%|█████▏    | 5202/10000 [06:58<06:00, 13.29it/s]"
     ]
    },
    {
     "name": "stdout",
     "output_type": "stream",
     "text": [
      "Epoch 5200: Loss = 0.6889\n",
      "Epoch 5200: Loss = 0.6328\n",
      "Epoch 5200: Loss = 0.6812\n",
      "Epoch 5200: Loss = 0.6656\n",
      "Epoch 5200: Loss = 0.6428\n"
     ]
    },
    {
     "name": "stderr",
     "output_type": "stream",
     "text": [
      " 52%|█████▏    | 5212/10000 [06:59<05:42, 13.98it/s]"
     ]
    },
    {
     "name": "stdout",
     "output_type": "stream",
     "text": [
      "Epoch 5210: Loss = 0.6556\n",
      "Epoch 5210: Loss = 0.6734\n",
      "Epoch 5210: Loss = 0.6996\n",
      "Epoch 5210: Loss = 0.6522\n",
      "Epoch 5210: Loss = 0.6490\n"
     ]
    },
    {
     "name": "stderr",
     "output_type": "stream",
     "text": [
      " 52%|█████▏    | 5222/10000 [07:00<05:54, 13.49it/s]"
     ]
    },
    {
     "name": "stdout",
     "output_type": "stream",
     "text": [
      "Epoch 5220: Loss = 0.6812\n",
      "Epoch 5220: Loss = 0.6344\n",
      "Epoch 5220: Loss = 0.6792\n",
      "Epoch 5220: Loss = 0.6417\n",
      "Epoch 5220: Loss = 0.6902\n"
     ]
    },
    {
     "name": "stderr",
     "output_type": "stream",
     "text": [
      " 52%|█████▏    | 5232/10000 [07:01<05:51, 13.58it/s]"
     ]
    },
    {
     "name": "stdout",
     "output_type": "stream",
     "text": [
      "Epoch 5230: Loss = 0.6775\n",
      "Epoch 5230: Loss = 0.6546\n",
      "Epoch 5230: Loss = 0.6472\n",
      "Epoch 5230: Loss = 0.6735\n",
      "Epoch 5230: Loss = 0.6682\n"
     ]
    },
    {
     "name": "stderr",
     "output_type": "stream",
     "text": [
      " 52%|█████▏    | 5242/10000 [07:01<06:37, 11.96it/s]"
     ]
    },
    {
     "name": "stdout",
     "output_type": "stream",
     "text": [
      "Epoch 5240: Loss = 0.6952\n",
      "Epoch 5240: Loss = 0.6868\n",
      "Epoch 5240: Loss = 0.6807\n",
      "Epoch 5240: Loss = 0.6566\n",
      "Epoch 5240: Loss = 0.6648\n"
     ]
    },
    {
     "name": "stderr",
     "output_type": "stream",
     "text": [
      " 53%|█████▎    | 5252/10000 [07:02<06:17, 12.59it/s]"
     ]
    },
    {
     "name": "stdout",
     "output_type": "stream",
     "text": [
      "Epoch 5250: Loss = 0.6590\n",
      "Epoch 5250: Loss = 0.6634\n",
      "Epoch 5250: Loss = 0.6523\n",
      "Epoch 5250: Loss = 0.6695\n",
      "Epoch 5250: Loss = 0.6690\n"
     ]
    },
    {
     "name": "stderr",
     "output_type": "stream",
     "text": [
      " 53%|█████▎    | 5262/10000 [07:03<06:44, 11.72it/s]"
     ]
    },
    {
     "name": "stdout",
     "output_type": "stream",
     "text": [
      "Epoch 5260: Loss = 0.6792\n",
      "Epoch 5260: Loss = 0.6940\n",
      "Epoch 5260: Loss = 0.6568\n",
      "Epoch 5260: Loss = 0.6751\n",
      "Epoch 5260: Loss = 0.6605\n"
     ]
    },
    {
     "name": "stderr",
     "output_type": "stream",
     "text": [
      " 53%|█████▎    | 5272/10000 [07:04<06:10, 12.74it/s]"
     ]
    },
    {
     "name": "stdout",
     "output_type": "stream",
     "text": [
      "Epoch 5270: Loss = 0.6431\n",
      "Epoch 5270: Loss = 0.6811\n",
      "Epoch 5270: Loss = 0.6734\n",
      "Epoch 5270: Loss = 0.6931\n",
      "Epoch 5270: Loss = 0.6423\n"
     ]
    },
    {
     "name": "stderr",
     "output_type": "stream",
     "text": [
      " 53%|█████▎    | 5282/10000 [07:05<07:50, 10.03it/s]"
     ]
    },
    {
     "name": "stdout",
     "output_type": "stream",
     "text": [
      "Epoch 5280: Loss = 0.6760\n",
      "Epoch 5280: Loss = 0.6929\n",
      "Epoch 5280: Loss = 0.6418\n",
      "Epoch 5280: Loss = 0.6788\n",
      "Epoch 5280: Loss = 0.6474\n"
     ]
    },
    {
     "name": "stderr",
     "output_type": "stream",
     "text": [
      " 53%|█████▎    | 5292/10000 [07:06<06:19, 12.39it/s]"
     ]
    },
    {
     "name": "stdout",
     "output_type": "stream",
     "text": [
      "Epoch 5290: Loss = 0.6703\n",
      "Epoch 5290: Loss = 0.6710\n",
      "Epoch 5290: Loss = 0.6730\n",
      "Epoch 5290: Loss = 0.6904\n",
      "Epoch 5290: Loss = 0.6733\n"
     ]
    },
    {
     "name": "stderr",
     "output_type": "stream",
     "text": [
      " 53%|█████▎    | 5302/10000 [07:06<05:45, 13.61it/s]"
     ]
    },
    {
     "name": "stdout",
     "output_type": "stream",
     "text": [
      "Epoch 5300: Loss = 0.6430\n",
      "Epoch 5300: Loss = 0.6666\n",
      "Epoch 5300: Loss = 0.6590\n",
      "Epoch 5300: Loss = 0.6421\n",
      "Epoch 5300: Loss = 0.6766\n"
     ]
    },
    {
     "name": "stderr",
     "output_type": "stream",
     "text": [
      " 53%|█████▎    | 5312/10000 [07:07<05:55, 13.17it/s]"
     ]
    },
    {
     "name": "stdout",
     "output_type": "stream",
     "text": [
      "Epoch 5310: Loss = 0.6223\n",
      "Epoch 5310: Loss = 0.6597\n",
      "Epoch 5310: Loss = 0.6975\n",
      "Epoch 5310: Loss = 0.6457\n",
      "Epoch 5310: Loss = 0.6583\n"
     ]
    },
    {
     "name": "stderr",
     "output_type": "stream",
     "text": [
      " 53%|█████▎    | 5322/10000 [07:08<06:26, 12.09it/s]"
     ]
    },
    {
     "name": "stdout",
     "output_type": "stream",
     "text": [
      "Epoch 5320: Loss = 0.6489\n",
      "Epoch 5320: Loss = 0.6662\n",
      "Epoch 5320: Loss = 0.6714\n",
      "Epoch 5320: Loss = 0.7000\n",
      "Epoch 5320: Loss = 0.6544\n"
     ]
    },
    {
     "name": "stderr",
     "output_type": "stream",
     "text": [
      " 53%|█████▎    | 5332/10000 [07:09<06:25, 12.10it/s]"
     ]
    },
    {
     "name": "stdout",
     "output_type": "stream",
     "text": [
      "Epoch 5330: Loss = 0.6678\n",
      "Epoch 5330: Loss = 0.6900\n",
      "Epoch 5330: Loss = 0.6690\n",
      "Epoch 5330: Loss = 0.6899\n",
      "Epoch 5330: Loss = 0.6768\n"
     ]
    },
    {
     "name": "stderr",
     "output_type": "stream",
     "text": [
      " 53%|█████▎    | 5342/10000 [07:10<05:57, 13.01it/s]"
     ]
    },
    {
     "name": "stdout",
     "output_type": "stream",
     "text": [
      "Epoch 5340: Loss = 0.7024\n",
      "Epoch 5340: Loss = 0.7049\n",
      "Epoch 5340: Loss = 0.6719\n",
      "Epoch 5340: Loss = 0.6588\n",
      "Epoch 5340: Loss = 0.6623\n"
     ]
    },
    {
     "name": "stderr",
     "output_type": "stream",
     "text": [
      " 54%|█████▎    | 5352/10000 [07:11<06:31, 11.89it/s]"
     ]
    },
    {
     "name": "stdout",
     "output_type": "stream",
     "text": [
      "Epoch 5350: Loss = 0.6805\n",
      "Epoch 5350: Loss = 0.6500\n",
      "Epoch 5350: Loss = 0.6983\n",
      "Epoch 5350: Loss = 0.6605\n",
      "Epoch 5350: Loss = 0.6558\n"
     ]
    },
    {
     "name": "stderr",
     "output_type": "stream",
     "text": [
      " 54%|█████▎    | 5362/10000 [07:11<06:04, 12.73it/s]"
     ]
    },
    {
     "name": "stdout",
     "output_type": "stream",
     "text": [
      "Epoch 5360: Loss = 0.6907\n",
      "Epoch 5360: Loss = 0.6636\n",
      "Epoch 5360: Loss = 0.6769\n",
      "Epoch 5360: Loss = 0.6621\n",
      "Epoch 5360: Loss = 0.6920\n"
     ]
    },
    {
     "name": "stderr",
     "output_type": "stream",
     "text": [
      " 54%|█████▎    | 5372/10000 [07:12<05:51, 13.17it/s]"
     ]
    },
    {
     "name": "stdout",
     "output_type": "stream",
     "text": [
      "Epoch 5370: Loss = 0.6616\n",
      "Epoch 5370: Loss = 0.6672\n",
      "Epoch 5370: Loss = 0.6743\n",
      "Epoch 5370: Loss = 0.6767\n",
      "Epoch 5370: Loss = 0.6605\n"
     ]
    },
    {
     "name": "stderr",
     "output_type": "stream",
     "text": [
      " 54%|█████▍    | 5382/10000 [07:13<05:29, 14.03it/s]"
     ]
    },
    {
     "name": "stdout",
     "output_type": "stream",
     "text": [
      "Epoch 5380: Loss = 0.6806\n",
      "Epoch 5380: Loss = 0.6800\n",
      "Epoch 5380: Loss = 0.6642\n",
      "Epoch 5380: Loss = 0.6771\n",
      "Epoch 5380: Loss = 0.7001\n"
     ]
    },
    {
     "name": "stderr",
     "output_type": "stream",
     "text": [
      " 54%|█████▍    | 5392/10000 [07:13<05:30, 13.94it/s]"
     ]
    },
    {
     "name": "stdout",
     "output_type": "stream",
     "text": [
      "Epoch 5390: Loss = 0.6509\n",
      "Epoch 5390: Loss = 0.6657\n",
      "Epoch 5390: Loss = 0.6644\n",
      "Epoch 5390: Loss = 0.6718\n",
      "Epoch 5390: Loss = 0.6602\n"
     ]
    },
    {
     "name": "stderr",
     "output_type": "stream",
     "text": [
      " 54%|█████▍    | 5402/10000 [07:14<05:57, 12.86it/s]"
     ]
    },
    {
     "name": "stdout",
     "output_type": "stream",
     "text": [
      "Epoch 5400: Loss = 0.6705\n",
      "Epoch 5400: Loss = 0.6904\n",
      "Epoch 5400: Loss = 0.6993\n",
      "Epoch 5400: Loss = 0.6412\n",
      "Epoch 5400: Loss = 0.6820\n"
     ]
    },
    {
     "name": "stderr",
     "output_type": "stream",
     "text": [
      " 54%|█████▍    | 5412/10000 [07:15<05:36, 13.63it/s]"
     ]
    },
    {
     "name": "stdout",
     "output_type": "stream",
     "text": [
      "Epoch 5410: Loss = 0.6543\n",
      "Epoch 5410: Loss = 0.7163\n",
      "Epoch 5410: Loss = 0.6640\n",
      "Epoch 5410: Loss = 0.6344\n",
      "Epoch 5410: Loss = 0.6597\n"
     ]
    },
    {
     "name": "stderr",
     "output_type": "stream",
     "text": [
      " 54%|█████▍    | 5422/10000 [07:16<05:41, 13.39it/s]"
     ]
    },
    {
     "name": "stdout",
     "output_type": "stream",
     "text": [
      "Epoch 5420: Loss = 0.6392\n",
      "Epoch 5420: Loss = 0.6643\n",
      "Epoch 5420: Loss = 0.6802\n",
      "Epoch 5420: Loss = 0.6784\n",
      "Epoch 5420: Loss = 0.6421\n"
     ]
    },
    {
     "name": "stderr",
     "output_type": "stream",
     "text": [
      " 54%|█████▍    | 5432/10000 [07:16<05:26, 13.99it/s]"
     ]
    },
    {
     "name": "stdout",
     "output_type": "stream",
     "text": [
      "Epoch 5430: Loss = 0.6730\n",
      "Epoch 5430: Loss = 0.6942\n",
      "Epoch 5430: Loss = 0.7040\n",
      "Epoch 5430: Loss = 0.6566\n",
      "Epoch 5430: Loss = 0.6437\n"
     ]
    },
    {
     "name": "stderr",
     "output_type": "stream",
     "text": [
      " 54%|█████▍    | 5442/10000 [07:17<05:19, 14.25it/s]"
     ]
    },
    {
     "name": "stdout",
     "output_type": "stream",
     "text": [
      "Epoch 5440: Loss = 0.6670\n",
      "Epoch 5440: Loss = 0.6571\n",
      "Epoch 5440: Loss = 0.6784\n",
      "Epoch 5440: Loss = 0.6513\n",
      "Epoch 5440: Loss = 0.6735\n"
     ]
    },
    {
     "name": "stderr",
     "output_type": "stream",
     "text": [
      " 55%|█████▍    | 5452/10000 [07:18<05:25, 13.96it/s]"
     ]
    },
    {
     "name": "stdout",
     "output_type": "stream",
     "text": [
      "Epoch 5450: Loss = 0.6761\n",
      "Epoch 5450: Loss = 0.6771\n",
      "Epoch 5450: Loss = 0.6887\n",
      "Epoch 5450: Loss = 0.6617\n",
      "Epoch 5450: Loss = 0.6725\n"
     ]
    },
    {
     "name": "stderr",
     "output_type": "stream",
     "text": [
      " 55%|█████▍    | 5462/10000 [07:19<05:28, 13.82it/s]"
     ]
    },
    {
     "name": "stdout",
     "output_type": "stream",
     "text": [
      "Epoch 5460: Loss = 0.6493\n",
      "Epoch 5460: Loss = 0.6726\n",
      "Epoch 5460: Loss = 0.6622\n",
      "Epoch 5460: Loss = 0.6483\n",
      "Epoch 5460: Loss = 0.6523\n"
     ]
    },
    {
     "name": "stderr",
     "output_type": "stream",
     "text": [
      " 55%|█████▍    | 5472/10000 [07:19<06:00, 12.57it/s]"
     ]
    },
    {
     "name": "stdout",
     "output_type": "stream",
     "text": [
      "Epoch 5470: Loss = 0.6687\n",
      "Epoch 5470: Loss = 0.6626\n",
      "Epoch 5470: Loss = 0.6606\n",
      "Epoch 5470: Loss = 0.6696\n",
      "Epoch 5470: Loss = 0.6684\n"
     ]
    },
    {
     "name": "stderr",
     "output_type": "stream",
     "text": [
      " 55%|█████▍    | 5482/10000 [07:20<05:36, 13.42it/s]"
     ]
    },
    {
     "name": "stdout",
     "output_type": "stream",
     "text": [
      "Epoch 5480: Loss = 0.6926\n",
      "Epoch 5480: Loss = 0.6634\n",
      "Epoch 5480: Loss = 0.6420\n",
      "Epoch 5480: Loss = 0.6739\n",
      "Epoch 5480: Loss = 0.6684\n"
     ]
    },
    {
     "name": "stderr",
     "output_type": "stream",
     "text": [
      " 55%|█████▍    | 5492/10000 [07:21<05:49, 12.90it/s]"
     ]
    },
    {
     "name": "stdout",
     "output_type": "stream",
     "text": [
      "Epoch 5490: Loss = 0.6832\n",
      "Epoch 5490: Loss = 0.6396\n",
      "Epoch 5490: Loss = 0.6786\n",
      "Epoch 5490: Loss = 0.6891\n",
      "Epoch 5490: Loss = 0.6618\n"
     ]
    },
    {
     "name": "stderr",
     "output_type": "stream",
     "text": [
      " 55%|█████▌    | 5502/10000 [07:22<05:40, 13.22it/s]"
     ]
    },
    {
     "name": "stdout",
     "output_type": "stream",
     "text": [
      "Epoch 5500: Loss = 0.6394\n",
      "Epoch 5500: Loss = 0.6595\n",
      "Epoch 5500: Loss = 0.7035\n",
      "Epoch 5500: Loss = 0.6657\n",
      "Epoch 5500: Loss = 0.6738\n"
     ]
    },
    {
     "name": "stderr",
     "output_type": "stream",
     "text": [
      " 55%|█████▌    | 5512/10000 [07:22<05:21, 13.98it/s]"
     ]
    },
    {
     "name": "stdout",
     "output_type": "stream",
     "text": [
      "Epoch 5510: Loss = 0.6320\n",
      "Epoch 5510: Loss = 0.6528\n",
      "Epoch 5510: Loss = 0.6713\n",
      "Epoch 5510: Loss = 0.6525\n",
      "Epoch 5510: Loss = 0.6551\n"
     ]
    },
    {
     "name": "stderr",
     "output_type": "stream",
     "text": [
      " 55%|█████▌    | 5522/10000 [07:23<05:12, 14.34it/s]"
     ]
    },
    {
     "name": "stdout",
     "output_type": "stream",
     "text": [
      "Epoch 5520: Loss = 0.6748\n",
      "Epoch 5520: Loss = 0.6545\n",
      "Epoch 5520: Loss = 0.6826\n",
      "Epoch 5520: Loss = 0.6847\n",
      "Epoch 5520: Loss = 0.6496\n"
     ]
    },
    {
     "name": "stderr",
     "output_type": "stream",
     "text": [
      " 55%|█████▌    | 5532/10000 [07:24<05:18, 14.04it/s]"
     ]
    },
    {
     "name": "stdout",
     "output_type": "stream",
     "text": [
      "Epoch 5530: Loss = 0.6702\n",
      "Epoch 5530: Loss = 0.6689\n",
      "Epoch 5530: Loss = 0.6426\n",
      "Epoch 5530: Loss = 0.6636\n",
      "Epoch 5530: Loss = 0.6480\n"
     ]
    },
    {
     "name": "stderr",
     "output_type": "stream",
     "text": [
      " 55%|█████▌    | 5542/10000 [07:25<05:53, 12.63it/s]"
     ]
    },
    {
     "name": "stdout",
     "output_type": "stream",
     "text": [
      "Epoch 5540: Loss = 0.6688\n",
      "Epoch 5540: Loss = 0.6654\n",
      "Epoch 5540: Loss = 0.6645\n",
      "Epoch 5540: Loss = 0.6669\n",
      "Epoch 5540: Loss = 0.6923\n"
     ]
    },
    {
     "name": "stderr",
     "output_type": "stream",
     "text": [
      " 56%|█████▌    | 5552/10000 [07:25<05:21, 13.85it/s]"
     ]
    },
    {
     "name": "stdout",
     "output_type": "stream",
     "text": [
      "Epoch 5550: Loss = 0.6543\n",
      "Epoch 5550: Loss = 0.6687\n",
      "Epoch 5550: Loss = 0.6929\n",
      "Epoch 5550: Loss = 0.6710\n",
      "Epoch 5550: Loss = 0.6337\n"
     ]
    },
    {
     "name": "stderr",
     "output_type": "stream",
     "text": [
      " 56%|█████▌    | 5562/10000 [07:26<05:51, 12.61it/s]"
     ]
    },
    {
     "name": "stdout",
     "output_type": "stream",
     "text": [
      "Epoch 5560: Loss = 0.6791\n",
      "Epoch 5560: Loss = 0.6865\n",
      "Epoch 5560: Loss = 0.6726\n",
      "Epoch 5560: Loss = 0.6348\n",
      "Epoch 5560: Loss = 0.7078\n"
     ]
    },
    {
     "name": "stderr",
     "output_type": "stream",
     "text": [
      " 56%|█████▌    | 5572/10000 [07:27<05:21, 13.76it/s]"
     ]
    },
    {
     "name": "stdout",
     "output_type": "stream",
     "text": [
      "Epoch 5570: Loss = 0.6647\n",
      "Epoch 5570: Loss = 0.6658\n",
      "Epoch 5570: Loss = 0.6522\n",
      "Epoch 5570: Loss = 0.6593\n",
      "Epoch 5570: Loss = 0.6669\n"
     ]
    },
    {
     "name": "stderr",
     "output_type": "stream",
     "text": [
      " 56%|█████▌    | 5582/10000 [07:28<05:26, 13.54it/s]"
     ]
    },
    {
     "name": "stdout",
     "output_type": "stream",
     "text": [
      "Epoch 5580: Loss = 0.7033\n",
      "Epoch 5580: Loss = 0.6127\n",
      "Epoch 5580: Loss = 0.6645\n",
      "Epoch 5580: Loss = 0.6783\n",
      "Epoch 5580: Loss = 0.6773\n"
     ]
    },
    {
     "name": "stderr",
     "output_type": "stream",
     "text": [
      " 56%|█████▌    | 5592/10000 [07:29<05:27, 13.48it/s]"
     ]
    },
    {
     "name": "stdout",
     "output_type": "stream",
     "text": [
      "Epoch 5590: Loss = 0.6805\n",
      "Epoch 5590: Loss = 0.6640\n",
      "Epoch 5590: Loss = 0.6419\n",
      "Epoch 5590: Loss = 0.6679\n",
      "Epoch 5590: Loss = 0.6874\n"
     ]
    },
    {
     "name": "stderr",
     "output_type": "stream",
     "text": [
      " 56%|█████▌    | 5602/10000 [07:29<05:14, 13.97it/s]"
     ]
    },
    {
     "name": "stdout",
     "output_type": "stream",
     "text": [
      "Epoch 5600: Loss = 0.6735\n",
      "Epoch 5600: Loss = 0.6587\n",
      "Epoch 5600: Loss = 0.6730\n",
      "Epoch 5600: Loss = 0.6931\n",
      "Epoch 5600: Loss = 0.6729\n"
     ]
    },
    {
     "name": "stderr",
     "output_type": "stream",
     "text": [
      " 56%|█████▌    | 5612/10000 [07:30<05:08, 14.22it/s]"
     ]
    },
    {
     "name": "stdout",
     "output_type": "stream",
     "text": [
      "Epoch 5610: Loss = 0.6396\n",
      "Epoch 5610: Loss = 0.7024\n",
      "Epoch 5610: Loss = 0.6898\n",
      "Epoch 5610: Loss = 0.6647\n",
      "Epoch 5610: Loss = 0.6898\n"
     ]
    },
    {
     "name": "stderr",
     "output_type": "stream",
     "text": [
      " 56%|█████▌    | 5622/10000 [07:31<05:09, 14.13it/s]"
     ]
    },
    {
     "name": "stdout",
     "output_type": "stream",
     "text": [
      "Epoch 5620: Loss = 0.6777\n",
      "Epoch 5620: Loss = 0.6215\n",
      "Epoch 5620: Loss = 0.6193\n",
      "Epoch 5620: Loss = 0.6986\n",
      "Epoch 5620: Loss = 0.6727\n"
     ]
    },
    {
     "name": "stderr",
     "output_type": "stream",
     "text": [
      " 56%|█████▋    | 5632/10000 [07:31<05:25, 13.42it/s]"
     ]
    },
    {
     "name": "stdout",
     "output_type": "stream",
     "text": [
      "Epoch 5630: Loss = 0.7008\n",
      "Epoch 5630: Loss = 0.6216\n",
      "Epoch 5630: Loss = 0.6639\n",
      "Epoch 5630: Loss = 0.6558\n",
      "Epoch 5630: Loss = 0.6733\n"
     ]
    },
    {
     "name": "stderr",
     "output_type": "stream",
     "text": [
      " 56%|█████▋    | 5642/10000 [07:32<05:13, 13.92it/s]"
     ]
    },
    {
     "name": "stdout",
     "output_type": "stream",
     "text": [
      "Epoch 5640: Loss = 0.6628\n",
      "Epoch 5640: Loss = 0.6791\n",
      "Epoch 5640: Loss = 0.6707\n",
      "Epoch 5640: Loss = 0.6807\n",
      "Epoch 5640: Loss = 0.6597\n"
     ]
    },
    {
     "name": "stderr",
     "output_type": "stream",
     "text": [
      " 57%|█████▋    | 5652/10000 [07:33<05:33, 13.03it/s]"
     ]
    },
    {
     "name": "stdout",
     "output_type": "stream",
     "text": [
      "Epoch 5650: Loss = 0.6565\n",
      "Epoch 5650: Loss = 0.6585\n",
      "Epoch 5650: Loss = 0.6529\n",
      "Epoch 5650: Loss = 0.6417\n",
      "Epoch 5650: Loss = 0.6671\n"
     ]
    },
    {
     "name": "stderr",
     "output_type": "stream",
     "text": [
      " 57%|█████▋    | 5662/10000 [07:34<05:16, 13.69it/s]"
     ]
    },
    {
     "name": "stdout",
     "output_type": "stream",
     "text": [
      "Epoch 5660: Loss = 0.6409\n",
      "Epoch 5660: Loss = 0.6725\n",
      "Epoch 5660: Loss = 0.6246\n",
      "Epoch 5660: Loss = 0.6575\n",
      "Epoch 5660: Loss = 0.6954\n"
     ]
    },
    {
     "name": "stderr",
     "output_type": "stream",
     "text": [
      " 57%|█████▋    | 5672/10000 [07:34<05:39, 12.73it/s]"
     ]
    },
    {
     "name": "stdout",
     "output_type": "stream",
     "text": [
      "Epoch 5670: Loss = 0.6740\n",
      "Epoch 5670: Loss = 0.6654\n",
      "Epoch 5670: Loss = 0.6359\n",
      "Epoch 5670: Loss = 0.6740\n",
      "Epoch 5670: Loss = 0.6840\n"
     ]
    },
    {
     "name": "stderr",
     "output_type": "stream",
     "text": [
      " 57%|█████▋    | 5682/10000 [07:35<05:14, 13.74it/s]"
     ]
    },
    {
     "name": "stdout",
     "output_type": "stream",
     "text": [
      "Epoch 5680: Loss = 0.6339\n",
      "Epoch 5680: Loss = 0.6611\n",
      "Epoch 5680: Loss = 0.6327\n",
      "Epoch 5680: Loss = 0.6522\n",
      "Epoch 5680: Loss = 0.6530\n"
     ]
    },
    {
     "name": "stderr",
     "output_type": "stream",
     "text": [
      " 57%|█████▋    | 5692/10000 [07:36<06:21, 11.29it/s]"
     ]
    },
    {
     "name": "stdout",
     "output_type": "stream",
     "text": [
      "Epoch 5690: Loss = 0.6385\n",
      "Epoch 5690: Loss = 0.6530\n",
      "Epoch 5690: Loss = 0.6904\n",
      "Epoch 5690: Loss = 0.6952\n",
      "Epoch 5690: Loss = 0.6840\n"
     ]
    },
    {
     "name": "stderr",
     "output_type": "stream",
     "text": [
      " 57%|█████▋    | 5702/10000 [07:37<05:20, 13.41it/s]"
     ]
    },
    {
     "name": "stdout",
     "output_type": "stream",
     "text": [
      "Epoch 5700: Loss = 0.6909\n",
      "Epoch 5700: Loss = 0.7014\n",
      "Epoch 5700: Loss = 0.6389\n",
      "Epoch 5700: Loss = 0.6502\n",
      "Epoch 5700: Loss = 0.6714\n"
     ]
    },
    {
     "name": "stderr",
     "output_type": "stream",
     "text": [
      " 57%|█████▋    | 5712/10000 [07:38<05:49, 12.26it/s]"
     ]
    },
    {
     "name": "stdout",
     "output_type": "stream",
     "text": [
      "Epoch 5710: Loss = 0.6902\n",
      "Epoch 5710: Loss = 0.6873\n",
      "Epoch 5710: Loss = 0.6525\n",
      "Epoch 5710: Loss = 0.6677\n",
      "Epoch 5710: Loss = 0.6702\n"
     ]
    },
    {
     "name": "stderr",
     "output_type": "stream",
     "text": [
      " 57%|█████▋    | 5722/10000 [07:38<05:05, 13.98it/s]"
     ]
    },
    {
     "name": "stdout",
     "output_type": "stream",
     "text": [
      "Epoch 5720: Loss = 0.6557\n",
      "Epoch 5720: Loss = 0.6764\n",
      "Epoch 5720: Loss = 0.6586\n",
      "Epoch 5720: Loss = 0.6821\n",
      "Epoch 5720: Loss = 0.6512\n"
     ]
    },
    {
     "name": "stderr",
     "output_type": "stream",
     "text": [
      " 57%|█████▋    | 5732/10000 [07:39<05:06, 13.91it/s]"
     ]
    },
    {
     "name": "stdout",
     "output_type": "stream",
     "text": [
      "Epoch 5730: Loss = 0.6513\n",
      "Epoch 5730: Loss = 0.6781\n",
      "Epoch 5730: Loss = 0.6689\n",
      "Epoch 5730: Loss = 0.6507\n",
      "Epoch 5730: Loss = 0.6628\n"
     ]
    },
    {
     "name": "stderr",
     "output_type": "stream",
     "text": [
      " 57%|█████▋    | 5742/10000 [07:40<05:05, 13.93it/s]"
     ]
    },
    {
     "name": "stdout",
     "output_type": "stream",
     "text": [
      "Epoch 5740: Loss = 0.6528\n",
      "Epoch 5740: Loss = 0.6535\n",
      "Epoch 5740: Loss = 0.6689\n",
      "Epoch 5740: Loss = 0.6668\n",
      "Epoch 5740: Loss = 0.7030\n"
     ]
    },
    {
     "name": "stderr",
     "output_type": "stream",
     "text": [
      " 58%|█████▊    | 5752/10000 [07:41<05:28, 12.95it/s]"
     ]
    },
    {
     "name": "stdout",
     "output_type": "stream",
     "text": [
      "Epoch 5750: Loss = 0.6318\n",
      "Epoch 5750: Loss = 0.6872\n",
      "Epoch 5750: Loss = 0.6726\n",
      "Epoch 5750: Loss = 0.6968\n",
      "Epoch 5750: Loss = 0.6606\n"
     ]
    },
    {
     "name": "stderr",
     "output_type": "stream",
     "text": [
      " 58%|█████▊    | 5762/10000 [07:41<06:13, 11.34it/s]"
     ]
    },
    {
     "name": "stdout",
     "output_type": "stream",
     "text": [
      "Epoch 5760: Loss = 0.6429\n",
      "Epoch 5760: Loss = 0.6621\n",
      "Epoch 5760: Loss = 0.6542\n",
      "Epoch 5760: Loss = 0.6952\n",
      "Epoch 5760: Loss = 0.6777\n"
     ]
    },
    {
     "name": "stderr",
     "output_type": "stream",
     "text": [
      " 58%|█████▊    | 5772/10000 [07:42<05:14, 13.42it/s]"
     ]
    },
    {
     "name": "stdout",
     "output_type": "stream",
     "text": [
      "Epoch 5770: Loss = 0.6416\n",
      "Epoch 5770: Loss = 0.6578\n",
      "Epoch 5770: Loss = 0.6591\n",
      "Epoch 5770: Loss = 0.6921\n",
      "Epoch 5770: Loss = 0.6481\n"
     ]
    },
    {
     "name": "stderr",
     "output_type": "stream",
     "text": [
      " 58%|█████▊    | 5782/10000 [07:43<05:11, 13.55it/s]"
     ]
    },
    {
     "name": "stdout",
     "output_type": "stream",
     "text": [
      "Epoch 5780: Loss = 0.6861\n",
      "Epoch 5780: Loss = 0.6851\n",
      "Epoch 5780: Loss = 0.6719\n",
      "Epoch 5780: Loss = 0.6671\n",
      "Epoch 5780: Loss = 0.6736\n"
     ]
    },
    {
     "name": "stderr",
     "output_type": "stream",
     "text": [
      " 58%|█████▊    | 5792/10000 [07:44<05:56, 11.80it/s]"
     ]
    },
    {
     "name": "stdout",
     "output_type": "stream",
     "text": [
      "Epoch 5790: Loss = 0.6470\n",
      "Epoch 5790: Loss = 0.6394\n",
      "Epoch 5790: Loss = 0.6401\n",
      "Epoch 5790: Loss = 0.6548\n",
      "Epoch 5790: Loss = 0.6945\n"
     ]
    },
    {
     "name": "stderr",
     "output_type": "stream",
     "text": [
      " 58%|█████▊    | 5802/10000 [07:44<05:30, 12.69it/s]"
     ]
    },
    {
     "name": "stdout",
     "output_type": "stream",
     "text": [
      "Epoch 5800: Loss = 0.6727\n",
      "Epoch 5800: Loss = 0.6782\n",
      "Epoch 5800: Loss = 0.6526\n",
      "Epoch 5800: Loss = 0.6625\n",
      "Epoch 5800: Loss = 0.6318\n"
     ]
    },
    {
     "name": "stderr",
     "output_type": "stream",
     "text": [
      " 58%|█████▊    | 5812/10000 [07:45<05:24, 12.91it/s]"
     ]
    },
    {
     "name": "stdout",
     "output_type": "stream",
     "text": [
      "Epoch 5810: Loss = 0.6566\n",
      "Epoch 5810: Loss = 0.6545\n",
      "Epoch 5810: Loss = 0.6762\n",
      "Epoch 5810: Loss = 0.6692\n",
      "Epoch 5810: Loss = 0.6645\n"
     ]
    },
    {
     "name": "stderr",
     "output_type": "stream",
     "text": [
      " 58%|█████▊    | 5822/10000 [07:46<05:15, 13.24it/s]"
     ]
    },
    {
     "name": "stdout",
     "output_type": "stream",
     "text": [
      "Epoch 5820: Loss = 0.6951\n",
      "Epoch 5820: Loss = 0.6980\n",
      "Epoch 5820: Loss = 0.6828\n",
      "Epoch 5820: Loss = 0.6950\n",
      "Epoch 5820: Loss = 0.6706\n"
     ]
    },
    {
     "name": "stderr",
     "output_type": "stream",
     "text": [
      " 58%|█████▊    | 5832/10000 [07:47<05:29, 12.66it/s]"
     ]
    },
    {
     "name": "stdout",
     "output_type": "stream",
     "text": [
      "Epoch 5830: Loss = 0.6369\n",
      "Epoch 5830: Loss = 0.6780\n",
      "Epoch 5830: Loss = 0.6462\n",
      "Epoch 5830: Loss = 0.6765\n",
      "Epoch 5830: Loss = 0.6644\n"
     ]
    },
    {
     "name": "stderr",
     "output_type": "stream",
     "text": [
      " 58%|█████▊    | 5842/10000 [07:48<05:18, 13.07it/s]"
     ]
    },
    {
     "name": "stdout",
     "output_type": "stream",
     "text": [
      "Epoch 5840: Loss = 0.6542\n",
      "Epoch 5840: Loss = 0.6610\n",
      "Epoch 5840: Loss = 0.6718\n",
      "Epoch 5840: Loss = 0.6437\n",
      "Epoch 5840: Loss = 0.6662\n"
     ]
    },
    {
     "name": "stderr",
     "output_type": "stream",
     "text": [
      " 59%|█████▊    | 5852/10000 [07:48<05:00, 13.79it/s]"
     ]
    },
    {
     "name": "stdout",
     "output_type": "stream",
     "text": [
      "Epoch 5850: Loss = 0.6470\n",
      "Epoch 5850: Loss = 0.6757\n",
      "Epoch 5850: Loss = 0.6542\n",
      "Epoch 5850: Loss = 0.6619\n",
      "Epoch 5850: Loss = 0.6606\n"
     ]
    },
    {
     "name": "stderr",
     "output_type": "stream",
     "text": [
      " 59%|█████▊    | 5862/10000 [07:49<04:54, 14.03it/s]"
     ]
    },
    {
     "name": "stdout",
     "output_type": "stream",
     "text": [
      "Epoch 5860: Loss = 0.6339\n",
      "Epoch 5860: Loss = 0.6581\n",
      "Epoch 5860: Loss = 0.6554\n",
      "Epoch 5860: Loss = 0.7026\n",
      "Epoch 5860: Loss = 0.6619\n"
     ]
    },
    {
     "name": "stderr",
     "output_type": "stream",
     "text": [
      " 59%|█████▊    | 5872/10000 [07:50<05:17, 12.98it/s]"
     ]
    },
    {
     "name": "stdout",
     "output_type": "stream",
     "text": [
      "Epoch 5870: Loss = 0.6313\n",
      "Epoch 5870: Loss = 0.6710\n",
      "Epoch 5870: Loss = 0.7069\n",
      "Epoch 5870: Loss = 0.6851\n",
      "Epoch 5870: Loss = 0.6618\n"
     ]
    },
    {
     "name": "stderr",
     "output_type": "stream",
     "text": [
      " 59%|█████▉    | 5882/10000 [07:51<05:25, 12.63it/s]"
     ]
    },
    {
     "name": "stdout",
     "output_type": "stream",
     "text": [
      "Epoch 5880: Loss = 0.6360\n",
      "Epoch 5880: Loss = 0.6797\n",
      "Epoch 5880: Loss = 0.6690\n",
      "Epoch 5880: Loss = 0.6820\n",
      "Epoch 5880: Loss = 0.6504\n"
     ]
    },
    {
     "name": "stderr",
     "output_type": "stream",
     "text": [
      " 59%|█████▉    | 5892/10000 [07:51<05:06, 13.39it/s]"
     ]
    },
    {
     "name": "stdout",
     "output_type": "stream",
     "text": [
      "Epoch 5890: Loss = 0.6887\n",
      "Epoch 5890: Loss = 0.6249\n",
      "Epoch 5890: Loss = 0.6500\n",
      "Epoch 5890: Loss = 0.6274\n",
      "Epoch 5890: Loss = 0.6813\n"
     ]
    },
    {
     "name": "stderr",
     "output_type": "stream",
     "text": [
      " 59%|█████▉    | 5902/10000 [07:52<06:09, 11.10it/s]"
     ]
    },
    {
     "name": "stdout",
     "output_type": "stream",
     "text": [
      "Epoch 5900: Loss = 0.6795\n",
      "Epoch 5900: Loss = 0.6671\n",
      "Epoch 5900: Loss = 0.6718\n",
      "Epoch 5900: Loss = 0.6890\n",
      "Epoch 5900: Loss = 0.6264\n"
     ]
    },
    {
     "name": "stderr",
     "output_type": "stream",
     "text": [
      " 59%|█████▉    | 5912/10000 [07:53<05:39, 12.06it/s]"
     ]
    },
    {
     "name": "stdout",
     "output_type": "stream",
     "text": [
      "Epoch 5910: Loss = 0.6558\n",
      "Epoch 5910: Loss = 0.6867\n",
      "Epoch 5910: Loss = 0.6495\n",
      "Epoch 5910: Loss = 0.6713\n",
      "Epoch 5910: Loss = 0.6688\n"
     ]
    },
    {
     "name": "stderr",
     "output_type": "stream",
     "text": [
      " 59%|█████▉    | 5922/10000 [07:54<05:53, 11.55it/s]"
     ]
    },
    {
     "name": "stdout",
     "output_type": "stream",
     "text": [
      "Epoch 5920: Loss = 0.6834\n",
      "Epoch 5920: Loss = 0.6685\n",
      "Epoch 5920: Loss = 0.6641\n",
      "Epoch 5920: Loss = 0.6596\n",
      "Epoch 5920: Loss = 0.6997\n"
     ]
    },
    {
     "name": "stderr",
     "output_type": "stream",
     "text": [
      " 59%|█████▉    | 5932/10000 [07:55<05:01, 13.51it/s]"
     ]
    },
    {
     "name": "stdout",
     "output_type": "stream",
     "text": [
      "Epoch 5930: Loss = 0.6449\n",
      "Epoch 5930: Loss = 0.6247\n",
      "Epoch 5930: Loss = 0.7011\n",
      "Epoch 5930: Loss = 0.6738\n",
      "Epoch 5930: Loss = 0.6737\n"
     ]
    },
    {
     "name": "stderr",
     "output_type": "stream",
     "text": [
      " 59%|█████▉    | 5942/10000 [07:56<04:51, 13.91it/s]"
     ]
    },
    {
     "name": "stdout",
     "output_type": "stream",
     "text": [
      "Epoch 5940: Loss = 0.6604\n",
      "Epoch 5940: Loss = 0.6576\n",
      "Epoch 5940: Loss = 0.6709\n",
      "Epoch 5940: Loss = 0.6628\n",
      "Epoch 5940: Loss = 0.6392\n"
     ]
    },
    {
     "name": "stderr",
     "output_type": "stream",
     "text": [
      " 60%|█████▉    | 5952/10000 [07:56<06:10, 10.92it/s]"
     ]
    },
    {
     "name": "stdout",
     "output_type": "stream",
     "text": [
      "Epoch 5950: Loss = 0.6645\n",
      "Epoch 5950: Loss = 0.6712\n",
      "Epoch 5950: Loss = 0.6718\n",
      "Epoch 5950: Loss = 0.6372\n",
      "Epoch 5950: Loss = 0.6732\n"
     ]
    },
    {
     "name": "stderr",
     "output_type": "stream",
     "text": [
      " 60%|█████▉    | 5962/10000 [07:57<05:51, 11.48it/s]"
     ]
    },
    {
     "name": "stdout",
     "output_type": "stream",
     "text": [
      "Epoch 5960: Loss = 0.6607\n",
      "Epoch 5960: Loss = 0.6935\n",
      "Epoch 5960: Loss = 0.6583\n",
      "Epoch 5960: Loss = 0.6687\n",
      "Epoch 5960: Loss = 0.6889\n"
     ]
    },
    {
     "name": "stderr",
     "output_type": "stream",
     "text": [
      " 60%|█████▉    | 5972/10000 [07:58<06:16, 10.69it/s]"
     ]
    },
    {
     "name": "stdout",
     "output_type": "stream",
     "text": [
      "Epoch 5970: Loss = 0.6776\n",
      "Epoch 5970: Loss = 0.6757\n",
      "Epoch 5970: Loss = 0.6660\n",
      "Epoch 5970: Loss = 0.6645\n",
      "Epoch 5970: Loss = 0.6514\n"
     ]
    },
    {
     "name": "stderr",
     "output_type": "stream",
     "text": [
      " 60%|█████▉    | 5982/10000 [07:59<05:31, 12.11it/s]"
     ]
    },
    {
     "name": "stdout",
     "output_type": "stream",
     "text": [
      "Epoch 5980: Loss = 0.6636\n",
      "Epoch 5980: Loss = 0.6345\n",
      "Epoch 5980: Loss = 0.6595\n",
      "Epoch 5980: Loss = 0.6756\n",
      "Epoch 5980: Loss = 0.6411\n"
     ]
    },
    {
     "name": "stderr",
     "output_type": "stream",
     "text": [
      " 60%|█████▉    | 5992/10000 [08:00<06:15, 10.67it/s]"
     ]
    },
    {
     "name": "stdout",
     "output_type": "stream",
     "text": [
      "Epoch 5990: Loss = 0.6585\n",
      "Epoch 5990: Loss = 0.6600\n",
      "Epoch 5990: Loss = 0.6728\n",
      "Epoch 5990: Loss = 0.6537\n",
      "Epoch 5990: Loss = 0.6719\n"
     ]
    },
    {
     "name": "stderr",
     "output_type": "stream",
     "text": [
      " 60%|██████    | 6002/10000 [08:01<05:33, 11.98it/s]"
     ]
    },
    {
     "name": "stdout",
     "output_type": "stream",
     "text": [
      "Epoch 6000: Loss = 0.6740\n",
      "Epoch 6000: Loss = 0.6737\n",
      "Epoch 6000: Loss = 0.6656\n",
      "Epoch 6000: Loss = 0.6644\n",
      "Epoch 6000: Loss = 0.6925\n"
     ]
    },
    {
     "name": "stderr",
     "output_type": "stream",
     "text": [
      " 60%|██████    | 6012/10000 [08:02<04:57, 13.41it/s]"
     ]
    },
    {
     "name": "stdout",
     "output_type": "stream",
     "text": [
      "Epoch 6010: Loss = 0.6501\n",
      "Epoch 6010: Loss = 0.6574\n",
      "Epoch 6010: Loss = 0.6613\n",
      "Epoch 6010: Loss = 0.6837\n",
      "Epoch 6010: Loss = 0.6792\n"
     ]
    },
    {
     "name": "stderr",
     "output_type": "stream",
     "text": [
      " 60%|██████    | 6022/10000 [08:02<05:32, 11.98it/s]"
     ]
    },
    {
     "name": "stdout",
     "output_type": "stream",
     "text": [
      "Epoch 6020: Loss = 0.6916\n",
      "Epoch 6020: Loss = 0.6566\n",
      "Epoch 6020: Loss = 0.6687\n",
      "Epoch 6020: Loss = 0.6400\n",
      "Epoch 6020: Loss = 0.6687\n"
     ]
    },
    {
     "name": "stderr",
     "output_type": "stream",
     "text": [
      " 60%|██████    | 6032/10000 [08:03<05:58, 11.08it/s]"
     ]
    },
    {
     "name": "stdout",
     "output_type": "stream",
     "text": [
      "Epoch 6030: Loss = 0.6419\n",
      "Epoch 6030: Loss = 0.7095\n",
      "Epoch 6030: Loss = 0.7367\n",
      "Epoch 6030: Loss = 0.6667\n",
      "Epoch 6030: Loss = 0.6609\n"
     ]
    },
    {
     "name": "stderr",
     "output_type": "stream",
     "text": [
      " 60%|██████    | 6042/10000 [08:04<05:08, 12.81it/s]"
     ]
    },
    {
     "name": "stdout",
     "output_type": "stream",
     "text": [
      "Epoch 6040: Loss = 0.6527\n",
      "Epoch 6040: Loss = 0.6583\n",
      "Epoch 6040: Loss = 0.6372\n",
      "Epoch 6040: Loss = 0.6741\n",
      "Epoch 6040: Loss = 0.7026\n"
     ]
    },
    {
     "name": "stderr",
     "output_type": "stream",
     "text": [
      " 61%|██████    | 6052/10000 [08:05<05:17, 12.43it/s]"
     ]
    },
    {
     "name": "stdout",
     "output_type": "stream",
     "text": [
      "Epoch 6050: Loss = 0.7069\n",
      "Epoch 6050: Loss = 0.6526\n",
      "Epoch 6050: Loss = 0.6907\n",
      "Epoch 6050: Loss = 0.6662\n",
      "Epoch 6050: Loss = 0.6507\n"
     ]
    },
    {
     "name": "stderr",
     "output_type": "stream",
     "text": [
      " 61%|██████    | 6062/10000 [08:06<05:00, 13.09it/s]"
     ]
    },
    {
     "name": "stdout",
     "output_type": "stream",
     "text": [
      "Epoch 6060: Loss = 0.6539\n",
      "Epoch 6060: Loss = 0.6826\n",
      "Epoch 6060: Loss = 0.6798\n",
      "Epoch 6060: Loss = 0.7069\n",
      "Epoch 6060: Loss = 0.6823\n"
     ]
    },
    {
     "name": "stderr",
     "output_type": "stream",
     "text": [
      " 61%|██████    | 6072/10000 [08:07<05:32, 11.82it/s]"
     ]
    },
    {
     "name": "stdout",
     "output_type": "stream",
     "text": [
      "Epoch 6070: Loss = 0.6241\n",
      "Epoch 6070: Loss = 0.6621\n",
      "Epoch 6070: Loss = 0.6745\n",
      "Epoch 6070: Loss = 0.6767\n",
      "Epoch 6070: Loss = 0.7026\n"
     ]
    },
    {
     "name": "stderr",
     "output_type": "stream",
     "text": [
      " 61%|██████    | 6082/10000 [08:07<04:46, 13.67it/s]"
     ]
    },
    {
     "name": "stdout",
     "output_type": "stream",
     "text": [
      "Epoch 6080: Loss = 0.6762\n",
      "Epoch 6080: Loss = 0.6499\n",
      "Epoch 6080: Loss = 0.6757\n",
      "Epoch 6080: Loss = 0.6742\n",
      "Epoch 6080: Loss = 0.6972\n"
     ]
    },
    {
     "name": "stderr",
     "output_type": "stream",
     "text": [
      " 61%|██████    | 6092/10000 [08:08<04:58, 13.10it/s]"
     ]
    },
    {
     "name": "stdout",
     "output_type": "stream",
     "text": [
      "Epoch 6090: Loss = 0.6524\n",
      "Epoch 6090: Loss = 0.7096\n",
      "Epoch 6090: Loss = 0.6792\n",
      "Epoch 6090: Loss = 0.6499\n",
      "Epoch 6090: Loss = 0.6496\n"
     ]
    },
    {
     "name": "stderr",
     "output_type": "stream",
     "text": [
      " 61%|██████    | 6102/10000 [08:09<05:29, 11.83it/s]"
     ]
    },
    {
     "name": "stdout",
     "output_type": "stream",
     "text": [
      "Epoch 6100: Loss = 0.6635\n",
      "Epoch 6100: Loss = 0.6712\n",
      "Epoch 6100: Loss = 0.6918\n",
      "Epoch 6100: Loss = 0.6868\n",
      "Epoch 6100: Loss = 0.6650\n"
     ]
    },
    {
     "name": "stderr",
     "output_type": "stream",
     "text": [
      " 61%|██████    | 6112/10000 [08:10<05:52, 11.02it/s]"
     ]
    },
    {
     "name": "stdout",
     "output_type": "stream",
     "text": [
      "Epoch 6110: Loss = 0.6783\n",
      "Epoch 6110: Loss = 0.6801\n",
      "Epoch 6110: Loss = 0.6682\n",
      "Epoch 6110: Loss = 0.6833\n",
      "Epoch 6110: Loss = 0.6720\n"
     ]
    },
    {
     "name": "stderr",
     "output_type": "stream",
     "text": [
      " 61%|██████    | 6122/10000 [08:11<05:16, 12.24it/s]"
     ]
    },
    {
     "name": "stdout",
     "output_type": "stream",
     "text": [
      "Epoch 6120: Loss = 0.6667\n",
      "Epoch 6120: Loss = 0.6624\n",
      "Epoch 6120: Loss = 0.6502\n",
      "Epoch 6120: Loss = 0.6463\n",
      "Epoch 6120: Loss = 0.6783\n"
     ]
    },
    {
     "name": "stderr",
     "output_type": "stream",
     "text": [
      " 61%|██████▏   | 6132/10000 [08:12<06:01, 10.71it/s]"
     ]
    },
    {
     "name": "stdout",
     "output_type": "stream",
     "text": [
      "Epoch 6130: Loss = 0.6597\n",
      "Epoch 6130: Loss = 0.6889\n",
      "Epoch 6130: Loss = 0.6574\n",
      "Epoch 6130: Loss = 0.6859\n",
      "Epoch 6130: Loss = 0.6347\n"
     ]
    },
    {
     "name": "stderr",
     "output_type": "stream",
     "text": [
      " 61%|██████▏   | 6142/10000 [08:13<05:38, 11.38it/s]"
     ]
    },
    {
     "name": "stdout",
     "output_type": "stream",
     "text": [
      "Epoch 6140: Loss = 0.6726\n",
      "Epoch 6140: Loss = 0.6766\n",
      "Epoch 6140: Loss = 0.7227\n",
      "Epoch 6140: Loss = 0.6552\n",
      "Epoch 6140: Loss = 0.6759\n"
     ]
    },
    {
     "name": "stderr",
     "output_type": "stream",
     "text": [
      " 62%|██████▏   | 6152/10000 [08:13<05:39, 11.34it/s]"
     ]
    },
    {
     "name": "stdout",
     "output_type": "stream",
     "text": [
      "Epoch 6150: Loss = 0.6509\n",
      "Epoch 6150: Loss = 0.6715\n",
      "Epoch 6150: Loss = 0.6496\n",
      "Epoch 6150: Loss = 0.7005\n",
      "Epoch 6150: Loss = 0.6403\n"
     ]
    },
    {
     "name": "stderr",
     "output_type": "stream",
     "text": [
      " 62%|██████▏   | 6162/10000 [08:14<05:24, 11.84it/s]"
     ]
    },
    {
     "name": "stdout",
     "output_type": "stream",
     "text": [
      "Epoch 6160: Loss = 0.6504\n",
      "Epoch 6160: Loss = 0.6399\n",
      "Epoch 6160: Loss = 0.7008\n",
      "Epoch 6160: Loss = 0.6850\n",
      "Epoch 6160: Loss = 0.6898\n"
     ]
    },
    {
     "name": "stderr",
     "output_type": "stream",
     "text": [
      " 62%|██████▏   | 6172/10000 [08:15<05:42, 11.17it/s]"
     ]
    },
    {
     "name": "stdout",
     "output_type": "stream",
     "text": [
      "Epoch 6170: Loss = 0.6424\n",
      "Epoch 6170: Loss = 0.6477\n",
      "Epoch 6170: Loss = 0.6619\n",
      "Epoch 6170: Loss = 0.6754\n",
      "Epoch 6170: Loss = 0.6538\n"
     ]
    },
    {
     "name": "stderr",
     "output_type": "stream",
     "text": [
      " 62%|██████▏   | 6182/10000 [08:16<04:47, 13.27it/s]"
     ]
    },
    {
     "name": "stdout",
     "output_type": "stream",
     "text": [
      "Epoch 6180: Loss = 0.6602\n",
      "Epoch 6180: Loss = 0.6280\n",
      "Epoch 6180: Loss = 0.6677\n",
      "Epoch 6180: Loss = 0.6738\n",
      "Epoch 6180: Loss = 0.6673\n"
     ]
    },
    {
     "name": "stderr",
     "output_type": "stream",
     "text": [
      " 62%|██████▏   | 6192/10000 [08:17<05:09, 12.32it/s]"
     ]
    },
    {
     "name": "stdout",
     "output_type": "stream",
     "text": [
      "Epoch 6190: Loss = 0.6545\n",
      "Epoch 6190: Loss = 0.6936\n",
      "Epoch 6190: Loss = 0.6455\n",
      "Epoch 6190: Loss = 0.6384\n",
      "Epoch 6190: Loss = 0.6762\n"
     ]
    },
    {
     "name": "stderr",
     "output_type": "stream",
     "text": [
      " 62%|██████▏   | 6202/10000 [08:17<05:11, 12.21it/s]"
     ]
    },
    {
     "name": "stdout",
     "output_type": "stream",
     "text": [
      "Epoch 6200: Loss = 0.6785\n",
      "Epoch 6200: Loss = 0.6855\n",
      "Epoch 6200: Loss = 0.7138\n",
      "Epoch 6200: Loss = 0.6838\n",
      "Epoch 6200: Loss = 0.6878\n"
     ]
    },
    {
     "name": "stderr",
     "output_type": "stream",
     "text": [
      " 62%|██████▏   | 6212/10000 [08:18<05:06, 12.34it/s]"
     ]
    },
    {
     "name": "stdout",
     "output_type": "stream",
     "text": [
      "Epoch 6210: Loss = 0.6544\n",
      "Epoch 6210: Loss = 0.6733\n",
      "Epoch 6210: Loss = 0.6508\n",
      "Epoch 6210: Loss = 0.6801\n",
      "Epoch 6210: Loss = 0.6903\n"
     ]
    },
    {
     "name": "stderr",
     "output_type": "stream",
     "text": [
      " 62%|██████▏   | 6222/10000 [08:19<04:52, 12.91it/s]"
     ]
    },
    {
     "name": "stdout",
     "output_type": "stream",
     "text": [
      "Epoch 6220: Loss = 0.6647\n",
      "Epoch 6220: Loss = 0.7236\n",
      "Epoch 6220: Loss = 0.6586\n",
      "Epoch 6220: Loss = 0.6497\n",
      "Epoch 6220: Loss = 0.6966\n"
     ]
    },
    {
     "name": "stderr",
     "output_type": "stream",
     "text": [
      " 62%|██████▏   | 6232/10000 [08:20<04:44, 13.24it/s]"
     ]
    },
    {
     "name": "stdout",
     "output_type": "stream",
     "text": [
      "Epoch 6230: Loss = 0.6563\n",
      "Epoch 6230: Loss = 0.6570\n",
      "Epoch 6230: Loss = 0.6564\n",
      "Epoch 6230: Loss = 0.6916\n",
      "Epoch 6230: Loss = 0.7154\n"
     ]
    },
    {
     "name": "stderr",
     "output_type": "stream",
     "text": [
      " 62%|██████▏   | 6242/10000 [08:21<04:31, 13.85it/s]"
     ]
    },
    {
     "name": "stdout",
     "output_type": "stream",
     "text": [
      "Epoch 6240: Loss = 0.6547\n",
      "Epoch 6240: Loss = 0.6267\n",
      "Epoch 6240: Loss = 0.6261\n",
      "Epoch 6240: Loss = 0.6754\n",
      "Epoch 6240: Loss = 0.6741\n"
     ]
    },
    {
     "name": "stderr",
     "output_type": "stream",
     "text": [
      " 63%|██████▎   | 6252/10000 [08:21<05:21, 11.64it/s]"
     ]
    },
    {
     "name": "stdout",
     "output_type": "stream",
     "text": [
      "Epoch 6250: Loss = 0.6822\n",
      "Epoch 6250: Loss = 0.6768\n",
      "Epoch 6250: Loss = 0.6989\n",
      "Epoch 6250: Loss = 0.6449\n",
      "Epoch 6250: Loss = 0.6376\n"
     ]
    },
    {
     "name": "stderr",
     "output_type": "stream",
     "text": [
      " 63%|██████▎   | 6262/10000 [08:22<04:56, 12.59it/s]"
     ]
    },
    {
     "name": "stdout",
     "output_type": "stream",
     "text": [
      "Epoch 6260: Loss = 0.6271\n",
      "Epoch 6260: Loss = 0.6560\n",
      "Epoch 6260: Loss = 0.6637\n",
      "Epoch 6260: Loss = 0.6670\n",
      "Epoch 6260: Loss = 0.6641\n"
     ]
    },
    {
     "name": "stderr",
     "output_type": "stream",
     "text": [
      " 63%|██████▎   | 6272/10000 [08:23<05:06, 12.15it/s]"
     ]
    },
    {
     "name": "stdout",
     "output_type": "stream",
     "text": [
      "Epoch 6270: Loss = 0.6617\n",
      "Epoch 6270: Loss = 0.6573\n",
      "Epoch 6270: Loss = 0.6870\n",
      "Epoch 6270: Loss = 0.6633\n",
      "Epoch 6270: Loss = 0.6331\n"
     ]
    },
    {
     "name": "stderr",
     "output_type": "stream",
     "text": [
      " 63%|██████▎   | 6282/10000 [08:24<04:41, 13.20it/s]"
     ]
    },
    {
     "name": "stdout",
     "output_type": "stream",
     "text": [
      "Epoch 6280: Loss = 0.6678\n",
      "Epoch 6280: Loss = 0.7011\n",
      "Epoch 6280: Loss = 0.6645\n",
      "Epoch 6280: Loss = 0.6746\n",
      "Epoch 6280: Loss = 0.6490\n"
     ]
    },
    {
     "name": "stderr",
     "output_type": "stream",
     "text": [
      " 63%|██████▎   | 6292/10000 [08:25<04:26, 13.92it/s]"
     ]
    },
    {
     "name": "stdout",
     "output_type": "stream",
     "text": [
      "Epoch 6290: Loss = 0.6786\n",
      "Epoch 6290: Loss = 0.6685\n",
      "Epoch 6290: Loss = 0.6763\n",
      "Epoch 6290: Loss = 0.6845\n",
      "Epoch 6290: Loss = 0.6627\n"
     ]
    },
    {
     "name": "stderr",
     "output_type": "stream",
     "text": [
      " 63%|██████▎   | 6302/10000 [08:25<04:20, 14.18it/s]"
     ]
    },
    {
     "name": "stdout",
     "output_type": "stream",
     "text": [
      "Epoch 6300: Loss = 0.6750\n",
      "Epoch 6300: Loss = 0.6771\n",
      "Epoch 6300: Loss = 0.6835\n",
      "Epoch 6300: Loss = 0.6810\n",
      "Epoch 6300: Loss = 0.6881\n"
     ]
    },
    {
     "name": "stderr",
     "output_type": "stream",
     "text": [
      " 63%|██████▎   | 6312/10000 [08:26<05:01, 12.21it/s]"
     ]
    },
    {
     "name": "stdout",
     "output_type": "stream",
     "text": [
      "Epoch 6310: Loss = 0.6752\n",
      "Epoch 6310: Loss = 0.6811\n",
      "Epoch 6310: Loss = 0.6882\n",
      "Epoch 6310: Loss = 0.7135\n",
      "Epoch 6310: Loss = 0.6613\n"
     ]
    },
    {
     "name": "stderr",
     "output_type": "stream",
     "text": [
      " 63%|██████▎   | 6322/10000 [08:27<04:27, 13.75it/s]"
     ]
    },
    {
     "name": "stdout",
     "output_type": "stream",
     "text": [
      "Epoch 6320: Loss = 0.6824\n",
      "Epoch 6320: Loss = 0.6647\n",
      "Epoch 6320: Loss = 0.6471\n",
      "Epoch 6320: Loss = 0.6724\n",
      "Epoch 6320: Loss = 0.6736\n"
     ]
    },
    {
     "name": "stderr",
     "output_type": "stream",
     "text": [
      " 63%|██████▎   | 6332/10000 [08:28<05:09, 11.86it/s]"
     ]
    },
    {
     "name": "stdout",
     "output_type": "stream",
     "text": [
      "Epoch 6330: Loss = 0.6558\n",
      "Epoch 6330: Loss = 0.6736\n",
      "Epoch 6330: Loss = 0.6712\n",
      "Epoch 6330: Loss = 0.6691\n",
      "Epoch 6330: Loss = 0.6661\n"
     ]
    },
    {
     "name": "stderr",
     "output_type": "stream",
     "text": [
      " 63%|██████▎   | 6342/10000 [08:28<04:24, 13.80it/s]"
     ]
    },
    {
     "name": "stdout",
     "output_type": "stream",
     "text": [
      "Epoch 6340: Loss = 0.6578\n",
      "Epoch 6340: Loss = 0.6723\n",
      "Epoch 6340: Loss = 0.7031\n",
      "Epoch 6340: Loss = 0.6609\n",
      "Epoch 6340: Loss = 0.6728\n"
     ]
    },
    {
     "name": "stderr",
     "output_type": "stream",
     "text": [
      " 64%|██████▎   | 6352/10000 [08:29<04:51, 12.52it/s]"
     ]
    },
    {
     "name": "stdout",
     "output_type": "stream",
     "text": [
      "Epoch 6350: Loss = 0.6481\n",
      "Epoch 6350: Loss = 0.6557\n",
      "Epoch 6350: Loss = 0.6702\n",
      "Epoch 6350: Loss = 0.6817\n",
      "Epoch 6350: Loss = 0.6766\n"
     ]
    },
    {
     "name": "stderr",
     "output_type": "stream",
     "text": [
      " 64%|██████▎   | 6362/10000 [08:30<04:49, 12.57it/s]"
     ]
    },
    {
     "name": "stdout",
     "output_type": "stream",
     "text": [
      "Epoch 6360: Loss = 0.6634\n",
      "Epoch 6360: Loss = 0.6623\n",
      "Epoch 6360: Loss = 0.6859\n",
      "Epoch 6360: Loss = 0.6846\n",
      "Epoch 6360: Loss = 0.6448\n"
     ]
    },
    {
     "name": "stderr",
     "output_type": "stream",
     "text": [
      " 64%|██████▎   | 6372/10000 [08:31<04:55, 12.27it/s]"
     ]
    },
    {
     "name": "stdout",
     "output_type": "stream",
     "text": [
      "Epoch 6370: Loss = 0.6491\n",
      "Epoch 6370: Loss = 0.6807\n",
      "Epoch 6370: Loss = 0.6562\n",
      "Epoch 6370: Loss = 0.6633\n",
      "Epoch 6370: Loss = 0.7156\n"
     ]
    },
    {
     "name": "stderr",
     "output_type": "stream",
     "text": [
      " 64%|██████▍   | 6382/10000 [08:32<05:06, 11.80it/s]"
     ]
    },
    {
     "name": "stdout",
     "output_type": "stream",
     "text": [
      "Epoch 6380: Loss = 0.6682\n",
      "Epoch 6380: Loss = 0.6939\n",
      "Epoch 6380: Loss = 0.6742\n",
      "Epoch 6380: Loss = 0.6828\n",
      "Epoch 6380: Loss = 0.6410\n"
     ]
    },
    {
     "name": "stderr",
     "output_type": "stream",
     "text": [
      " 64%|██████▍   | 6392/10000 [08:33<05:01, 11.96it/s]"
     ]
    },
    {
     "name": "stdout",
     "output_type": "stream",
     "text": [
      "Epoch 6390: Loss = 0.7127\n",
      "Epoch 6390: Loss = 0.6752\n",
      "Epoch 6390: Loss = 0.6889\n",
      "Epoch 6390: Loss = 0.6862\n",
      "Epoch 6390: Loss = 0.6608\n"
     ]
    },
    {
     "name": "stderr",
     "output_type": "stream",
     "text": [
      " 64%|██████▍   | 6402/10000 [08:33<05:08, 11.65it/s]"
     ]
    },
    {
     "name": "stdout",
     "output_type": "stream",
     "text": [
      "Epoch 6400: Loss = 0.6596\n",
      "Epoch 6400: Loss = 0.6990\n",
      "Epoch 6400: Loss = 0.6865\n",
      "Epoch 6400: Loss = 0.6614\n",
      "Epoch 6400: Loss = 0.6918\n"
     ]
    },
    {
     "name": "stderr",
     "output_type": "stream",
     "text": [
      " 64%|██████▍   | 6412/10000 [08:34<05:13, 11.46it/s]"
     ]
    },
    {
     "name": "stdout",
     "output_type": "stream",
     "text": [
      "Epoch 6410: Loss = 0.6679\n",
      "Epoch 6410: Loss = 0.6747\n",
      "Epoch 6410: Loss = 0.6727\n",
      "Epoch 6410: Loss = 0.6815\n",
      "Epoch 6410: Loss = 0.6838\n"
     ]
    },
    {
     "name": "stderr",
     "output_type": "stream",
     "text": [
      " 64%|██████▍   | 6422/10000 [08:35<05:07, 11.65it/s]"
     ]
    },
    {
     "name": "stdout",
     "output_type": "stream",
     "text": [
      "Epoch 6420: Loss = 0.6743\n",
      "Epoch 6420: Loss = 0.6601\n",
      "Epoch 6420: Loss = 0.6581\n",
      "Epoch 6420: Loss = 0.6683\n",
      "Epoch 6420: Loss = 0.6834\n"
     ]
    },
    {
     "name": "stderr",
     "output_type": "stream",
     "text": [
      " 64%|██████▍   | 6432/10000 [08:36<04:33, 13.04it/s]"
     ]
    },
    {
     "name": "stdout",
     "output_type": "stream",
     "text": [
      "Epoch 6430: Loss = 0.6350\n",
      "Epoch 6430: Loss = 0.6487\n",
      "Epoch 6430: Loss = 0.6950\n",
      "Epoch 6430: Loss = 0.6701\n",
      "Epoch 6430: Loss = 0.6691\n"
     ]
    },
    {
     "name": "stderr",
     "output_type": "stream",
     "text": [
      " 64%|██████▍   | 6442/10000 [08:37<04:14, 13.99it/s]"
     ]
    },
    {
     "name": "stdout",
     "output_type": "stream",
     "text": [
      "Epoch 6440: Loss = 0.6712\n",
      "Epoch 6440: Loss = 0.6642\n",
      "Epoch 6440: Loss = 0.6881\n",
      "Epoch 6440: Loss = 0.6580\n",
      "Epoch 6440: Loss = 0.6745\n"
     ]
    },
    {
     "name": "stderr",
     "output_type": "stream",
     "text": [
      " 65%|██████▍   | 6452/10000 [08:37<04:42, 12.55it/s]"
     ]
    },
    {
     "name": "stdout",
     "output_type": "stream",
     "text": [
      "Epoch 6450: Loss = 0.6792\n",
      "Epoch 6450: Loss = 0.6774\n",
      "Epoch 6450: Loss = 0.6414\n",
      "Epoch 6450: Loss = 0.6620\n",
      "Epoch 6450: Loss = 0.6702\n"
     ]
    },
    {
     "name": "stderr",
     "output_type": "stream",
     "text": [
      " 65%|██████▍   | 6462/10000 [08:38<04:24, 13.38it/s]"
     ]
    },
    {
     "name": "stdout",
     "output_type": "stream",
     "text": [
      "Epoch 6460: Loss = 0.6506\n",
      "Epoch 6460: Loss = 0.6569\n",
      "Epoch 6460: Loss = 0.6678\n",
      "Epoch 6460: Loss = 0.6630\n",
      "Epoch 6460: Loss = 0.6341\n"
     ]
    },
    {
     "name": "stderr",
     "output_type": "stream",
     "text": [
      " 65%|██████▍   | 6472/10000 [08:39<04:24, 13.33it/s]"
     ]
    },
    {
     "name": "stdout",
     "output_type": "stream",
     "text": [
      "Epoch 6470: Loss = 0.6523\n",
      "Epoch 6470: Loss = 0.6574\n",
      "Epoch 6470: Loss = 0.6517\n",
      "Epoch 6470: Loss = 0.6393\n",
      "Epoch 6470: Loss = 0.6637\n"
     ]
    },
    {
     "name": "stderr",
     "output_type": "stream",
     "text": [
      " 65%|██████▍   | 6482/10000 [08:40<04:11, 13.99it/s]"
     ]
    },
    {
     "name": "stdout",
     "output_type": "stream",
     "text": [
      "Epoch 6480: Loss = 0.6636\n",
      "Epoch 6480: Loss = 0.6935\n",
      "Epoch 6480: Loss = 0.7056\n",
      "Epoch 6480: Loss = 0.6671\n",
      "Epoch 6480: Loss = 0.6646\n"
     ]
    },
    {
     "name": "stderr",
     "output_type": "stream",
     "text": [
      " 65%|██████▍   | 6492/10000 [08:40<04:26, 13.18it/s]"
     ]
    },
    {
     "name": "stdout",
     "output_type": "stream",
     "text": [
      "Epoch 6490: Loss = 0.6865\n",
      "Epoch 6490: Loss = 0.6897\n",
      "Epoch 6490: Loss = 0.6591\n",
      "Epoch 6490: Loss = 0.6535\n",
      "Epoch 6490: Loss = 0.6632\n"
     ]
    },
    {
     "name": "stderr",
     "output_type": "stream",
     "text": [
      " 65%|██████▌   | 6502/10000 [08:41<04:38, 12.55it/s]"
     ]
    },
    {
     "name": "stdout",
     "output_type": "stream",
     "text": [
      "Epoch 6500: Loss = 0.6591\n",
      "Epoch 6500: Loss = 0.6704\n",
      "Epoch 6500: Loss = 0.6399\n",
      "Epoch 6500: Loss = 0.6535\n",
      "Epoch 6500: Loss = 0.6854\n"
     ]
    },
    {
     "name": "stderr",
     "output_type": "stream",
     "text": [
      " 65%|██████▌   | 6510/10000 [08:42<04:38, 12.52it/s]"
     ]
    },
    {
     "name": "stdout",
     "output_type": "stream",
     "text": [
      "Epoch 6510: Loss = 0.6696\n",
      "Epoch 6510: Loss = 0.6825\n",
      "Epoch 6510: Loss = 0.6827\n",
      "Epoch 6510: Loss = 0.6564\n",
      "Epoch 6510: Loss = 0.6712\n"
     ]
    },
    {
     "name": "stderr",
     "output_type": "stream",
     "text": [
      " 65%|██████▌   | 6522/10000 [08:43<04:36, 12.57it/s]"
     ]
    },
    {
     "name": "stdout",
     "output_type": "stream",
     "text": [
      "Epoch 6520: Loss = 0.6659\n",
      "Epoch 6520: Loss = 0.6960\n",
      "Epoch 6520: Loss = 0.6774\n",
      "Epoch 6520: Loss = 0.6933\n",
      "Epoch 6520: Loss = 0.6434\n"
     ]
    },
    {
     "name": "stderr",
     "output_type": "stream",
     "text": [
      " 65%|██████▌   | 6532/10000 [08:44<04:23, 13.16it/s]"
     ]
    },
    {
     "name": "stdout",
     "output_type": "stream",
     "text": [
      "Epoch 6530: Loss = 0.6465\n",
      "Epoch 6530: Loss = 0.6417\n",
      "Epoch 6530: Loss = 0.6621\n",
      "Epoch 6530: Loss = 0.6646\n",
      "Epoch 6530: Loss = 0.6650\n"
     ]
    },
    {
     "name": "stderr",
     "output_type": "stream",
     "text": [
      " 65%|██████▌   | 6542/10000 [08:44<04:21, 13.25it/s]"
     ]
    },
    {
     "name": "stdout",
     "output_type": "stream",
     "text": [
      "Epoch 6540: Loss = 0.6645\n",
      "Epoch 6540: Loss = 0.6605\n",
      "Epoch 6540: Loss = 0.6520\n",
      "Epoch 6540: Loss = 0.6867\n",
      "Epoch 6540: Loss = 0.6388\n"
     ]
    },
    {
     "name": "stderr",
     "output_type": "stream",
     "text": [
      " 66%|██████▌   | 6552/10000 [08:45<04:20, 13.23it/s]"
     ]
    },
    {
     "name": "stdout",
     "output_type": "stream",
     "text": [
      "Epoch 6550: Loss = 0.6448\n",
      "Epoch 6550: Loss = 0.6311\n",
      "Epoch 6550: Loss = 0.6577\n",
      "Epoch 6550: Loss = 0.6625\n",
      "Epoch 6550: Loss = 0.6840\n"
     ]
    },
    {
     "name": "stderr",
     "output_type": "stream",
     "text": [
      " 66%|██████▌   | 6562/10000 [08:46<04:26, 12.90it/s]"
     ]
    },
    {
     "name": "stdout",
     "output_type": "stream",
     "text": [
      "Epoch 6560: Loss = 0.6616\n",
      "Epoch 6560: Loss = 0.6880\n",
      "Epoch 6560: Loss = 0.6441\n",
      "Epoch 6560: Loss = 0.6485\n",
      "Epoch 6560: Loss = 0.6820\n"
     ]
    },
    {
     "name": "stderr",
     "output_type": "stream",
     "text": [
      " 66%|██████▌   | 6572/10000 [08:47<04:27, 12.82it/s]"
     ]
    },
    {
     "name": "stdout",
     "output_type": "stream",
     "text": [
      "Epoch 6570: Loss = 0.6819\n",
      "Epoch 6570: Loss = 0.6506\n",
      "Epoch 6570: Loss = 0.6627\n",
      "Epoch 6570: Loss = 0.6770\n",
      "Epoch 6570: Loss = 0.6562\n"
     ]
    },
    {
     "name": "stderr",
     "output_type": "stream",
     "text": [
      " 66%|██████▌   | 6580/10000 [08:47<04:07, 13.80it/s]"
     ]
    },
    {
     "name": "stdout",
     "output_type": "stream",
     "text": [
      "Epoch 6580: Loss = 0.6968\n",
      "Epoch 6580: Loss = 0.6436\n",
      "Epoch 6580: Loss = 0.6588\n",
      "Epoch 6580: Loss = 0.6521\n",
      "Epoch 6580: Loss = 0.6445\n"
     ]
    },
    {
     "name": "stderr",
     "output_type": "stream",
     "text": [
      " 66%|██████▌   | 6592/10000 [08:48<04:44, 11.96it/s]"
     ]
    },
    {
     "name": "stdout",
     "output_type": "stream",
     "text": [
      "Epoch 6590: Loss = 0.6663\n",
      "Epoch 6590: Loss = 0.6665\n",
      "Epoch 6590: Loss = 0.7086\n",
      "Epoch 6590: Loss = 0.6635\n",
      "Epoch 6590: Loss = 0.6839\n"
     ]
    },
    {
     "name": "stderr",
     "output_type": "stream",
     "text": [
      " 66%|██████▌   | 6602/10000 [08:49<04:14, 13.33it/s]"
     ]
    },
    {
     "name": "stdout",
     "output_type": "stream",
     "text": [
      "Epoch 6600: Loss = 0.6768\n",
      "Epoch 6600: Loss = 0.6648\n",
      "Epoch 6600: Loss = 0.6943\n",
      "Epoch 6600: Loss = 0.6581\n",
      "Epoch 6600: Loss = 0.6842\n"
     ]
    },
    {
     "name": "stderr",
     "output_type": "stream",
     "text": [
      " 66%|██████▌   | 6612/10000 [08:50<04:04, 13.88it/s]"
     ]
    },
    {
     "name": "stdout",
     "output_type": "stream",
     "text": [
      "Epoch 6610: Loss = 0.6523\n",
      "Epoch 6610: Loss = 0.6684\n",
      "Epoch 6610: Loss = 0.6851\n",
      "Epoch 6610: Loss = 0.6621\n",
      "Epoch 6610: Loss = 0.6670\n"
     ]
    },
    {
     "name": "stderr",
     "output_type": "stream",
     "text": [
      " 66%|██████▌   | 6622/10000 [08:51<04:04, 13.80it/s]"
     ]
    },
    {
     "name": "stdout",
     "output_type": "stream",
     "text": [
      "Epoch 6620: Loss = 0.7243\n",
      "Epoch 6620: Loss = 0.6822\n",
      "Epoch 6620: Loss = 0.6742\n",
      "Epoch 6620: Loss = 0.6753\n",
      "Epoch 6620: Loss = 0.6989\n"
     ]
    },
    {
     "name": "stderr",
     "output_type": "stream",
     "text": [
      " 66%|██████▋   | 6632/10000 [08:51<04:12, 13.34it/s]"
     ]
    },
    {
     "name": "stdout",
     "output_type": "stream",
     "text": [
      "Epoch 6630: Loss = 0.6802\n",
      "Epoch 6630: Loss = 0.7126\n",
      "Epoch 6630: Loss = 0.6558\n",
      "Epoch 6630: Loss = 0.6408\n",
      "Epoch 6630: Loss = 0.6762\n"
     ]
    },
    {
     "name": "stderr",
     "output_type": "stream",
     "text": [
      " 66%|██████▋   | 6642/10000 [08:52<04:04, 13.73it/s]"
     ]
    },
    {
     "name": "stdout",
     "output_type": "stream",
     "text": [
      "Epoch 6640: Loss = 0.6550\n",
      "Epoch 6640: Loss = 0.6598\n",
      "Epoch 6640: Loss = 0.6690\n",
      "Epoch 6640: Loss = 0.6312\n",
      "Epoch 6640: Loss = 0.6683\n"
     ]
    },
    {
     "name": "stderr",
     "output_type": "stream",
     "text": [
      " 67%|██████▋   | 6652/10000 [08:53<04:00, 13.93it/s]"
     ]
    },
    {
     "name": "stdout",
     "output_type": "stream",
     "text": [
      "Epoch 6650: Loss = 0.6630\n",
      "Epoch 6650: Loss = 0.6875\n",
      "Epoch 6650: Loss = 0.6663\n",
      "Epoch 6650: Loss = 0.6390\n",
      "Epoch 6650: Loss = 0.6437\n"
     ]
    },
    {
     "name": "stderr",
     "output_type": "stream",
     "text": [
      " 67%|██████▋   | 6662/10000 [08:54<04:05, 13.58it/s]"
     ]
    },
    {
     "name": "stdout",
     "output_type": "stream",
     "text": [
      "Epoch 6660: Loss = 0.6465\n",
      "Epoch 6660: Loss = 0.6810\n",
      "Epoch 6660: Loss = 0.6744\n",
      "Epoch 6660: Loss = 0.6648\n",
      "Epoch 6660: Loss = 0.6539\n"
     ]
    },
    {
     "name": "stderr",
     "output_type": "stream",
     "text": [
      " 67%|██████▋   | 6672/10000 [08:54<04:14, 13.06it/s]"
     ]
    },
    {
     "name": "stdout",
     "output_type": "stream",
     "text": [
      "Epoch 6670: Loss = 0.6626\n",
      "Epoch 6670: Loss = 0.6630\n",
      "Epoch 6670: Loss = 0.6468\n",
      "Epoch 6670: Loss = 0.6678\n",
      "Epoch 6670: Loss = 0.6831\n"
     ]
    },
    {
     "name": "stderr",
     "output_type": "stream",
     "text": [
      " 67%|██████▋   | 6682/10000 [08:55<03:58, 13.90it/s]"
     ]
    },
    {
     "name": "stdout",
     "output_type": "stream",
     "text": [
      "Epoch 6680: Loss = 0.6895\n",
      "Epoch 6680: Loss = 0.6812\n",
      "Epoch 6680: Loss = 0.6734\n",
      "Epoch 6680: Loss = 0.6766\n",
      "Epoch 6680: Loss = 0.7011\n"
     ]
    },
    {
     "name": "stderr",
     "output_type": "stream",
     "text": [
      " 67%|██████▋   | 6692/10000 [08:56<03:52, 14.24it/s]"
     ]
    },
    {
     "name": "stdout",
     "output_type": "stream",
     "text": [
      "Epoch 6690: Loss = 0.6340\n",
      "Epoch 6690: Loss = 0.6548\n",
      "Epoch 6690: Loss = 0.6822\n",
      "Epoch 6690: Loss = 0.6677\n",
      "Epoch 6690: Loss = 0.6558\n"
     ]
    },
    {
     "name": "stderr",
     "output_type": "stream",
     "text": [
      " 67%|██████▋   | 6702/10000 [08:57<03:58, 13.83it/s]"
     ]
    },
    {
     "name": "stdout",
     "output_type": "stream",
     "text": [
      "Epoch 6700: Loss = 0.6595\n",
      "Epoch 6700: Loss = 0.6836\n",
      "Epoch 6700: Loss = 0.6689\n",
      "Epoch 6700: Loss = 0.6544\n",
      "Epoch 6700: Loss = 0.6393\n"
     ]
    },
    {
     "name": "stderr",
     "output_type": "stream",
     "text": [
      " 67%|██████▋   | 6712/10000 [08:57<04:08, 13.25it/s]"
     ]
    },
    {
     "name": "stdout",
     "output_type": "stream",
     "text": [
      "Epoch 6710: Loss = 0.6952\n",
      "Epoch 6710: Loss = 0.6614\n",
      "Epoch 6710: Loss = 0.6733\n",
      "Epoch 6710: Loss = 0.6198\n",
      "Epoch 6710: Loss = 0.6470\n"
     ]
    },
    {
     "name": "stderr",
     "output_type": "stream",
     "text": [
      " 67%|██████▋   | 6722/10000 [08:58<04:20, 12.56it/s]"
     ]
    },
    {
     "name": "stdout",
     "output_type": "stream",
     "text": [
      "Epoch 6720: Loss = 0.6702\n",
      "Epoch 6720: Loss = 0.6284\n",
      "Epoch 6720: Loss = 0.6603\n",
      "Epoch 6720: Loss = 0.6800\n",
      "Epoch 6720: Loss = 0.6851\n"
     ]
    },
    {
     "name": "stderr",
     "output_type": "stream",
     "text": [
      " 67%|██████▋   | 6732/10000 [08:59<04:08, 13.13it/s]"
     ]
    },
    {
     "name": "stdout",
     "output_type": "stream",
     "text": [
      "Epoch 6730: Loss = 0.6882\n",
      "Epoch 6730: Loss = 0.6842\n",
      "Epoch 6730: Loss = 0.6765\n",
      "Epoch 6730: Loss = 0.6841\n",
      "Epoch 6730: Loss = 0.7056\n"
     ]
    },
    {
     "name": "stderr",
     "output_type": "stream",
     "text": [
      " 67%|██████▋   | 6742/10000 [09:00<04:11, 12.93it/s]"
     ]
    },
    {
     "name": "stdout",
     "output_type": "stream",
     "text": [
      "Epoch 6740: Loss = 0.6557\n",
      "Epoch 6740: Loss = 0.6480\n",
      "Epoch 6740: Loss = 0.6535\n",
      "Epoch 6740: Loss = 0.7050\n",
      "Epoch 6740: Loss = 0.6836\n"
     ]
    },
    {
     "name": "stderr",
     "output_type": "stream",
     "text": [
      " 68%|██████▊   | 6752/10000 [09:00<03:58, 13.63it/s]"
     ]
    },
    {
     "name": "stdout",
     "output_type": "stream",
     "text": [
      "Epoch 6750: Loss = 0.6546\n",
      "Epoch 6750: Loss = 0.6532\n",
      "Epoch 6750: Loss = 0.7243\n",
      "Epoch 6750: Loss = 0.6787\n",
      "Epoch 6750: Loss = 0.6749\n"
     ]
    },
    {
     "name": "stderr",
     "output_type": "stream",
     "text": [
      " 68%|██████▊   | 6762/10000 [09:01<03:58, 13.56it/s]"
     ]
    },
    {
     "name": "stdout",
     "output_type": "stream",
     "text": [
      "Epoch 6760: Loss = 0.6567\n",
      "Epoch 6760: Loss = 0.6867\n",
      "Epoch 6760: Loss = 0.6659\n",
      "Epoch 6760: Loss = 0.6545\n",
      "Epoch 6760: Loss = 0.6432\n"
     ]
    },
    {
     "name": "stderr",
     "output_type": "stream",
     "text": [
      " 68%|██████▊   | 6772/10000 [09:02<04:11, 12.82it/s]"
     ]
    },
    {
     "name": "stdout",
     "output_type": "stream",
     "text": [
      "Epoch 6770: Loss = 0.6690\n",
      "Epoch 6770: Loss = 0.6463\n",
      "Epoch 6770: Loss = 0.6438\n",
      "Epoch 6770: Loss = 0.6778\n",
      "Epoch 6770: Loss = 0.6802\n"
     ]
    },
    {
     "name": "stderr",
     "output_type": "stream",
     "text": [
      " 68%|██████▊   | 6782/10000 [09:03<03:58, 13.49it/s]"
     ]
    },
    {
     "name": "stdout",
     "output_type": "stream",
     "text": [
      "Epoch 6780: Loss = 0.6589\n",
      "Epoch 6780: Loss = 0.6523\n",
      "Epoch 6780: Loss = 0.6446\n",
      "Epoch 6780: Loss = 0.6616\n",
      "Epoch 6780: Loss = 0.6786\n"
     ]
    },
    {
     "name": "stderr",
     "output_type": "stream",
     "text": [
      " 68%|██████▊   | 6792/10000 [09:04<04:37, 11.58it/s]"
     ]
    },
    {
     "name": "stdout",
     "output_type": "stream",
     "text": [
      "Epoch 6790: Loss = 0.6486\n",
      "Epoch 6790: Loss = 0.6590\n",
      "Epoch 6790: Loss = 0.6829\n",
      "Epoch 6790: Loss = 0.6997\n",
      "Epoch 6790: Loss = 0.6401\n"
     ]
    },
    {
     "name": "stderr",
     "output_type": "stream",
     "text": [
      " 68%|██████▊   | 6802/10000 [09:04<04:18, 12.39it/s]"
     ]
    },
    {
     "name": "stdout",
     "output_type": "stream",
     "text": [
      "Epoch 6800: Loss = 0.6625\n",
      "Epoch 6800: Loss = 0.7164\n",
      "Epoch 6800: Loss = 0.6696\n",
      "Epoch 6800: Loss = 0.6880\n",
      "Epoch 6800: Loss = 0.6437\n"
     ]
    },
    {
     "name": "stderr",
     "output_type": "stream",
     "text": [
      " 68%|██████▊   | 6812/10000 [09:05<04:17, 12.40it/s]"
     ]
    },
    {
     "name": "stdout",
     "output_type": "stream",
     "text": [
      "Epoch 6810: Loss = 0.6686\n",
      "Epoch 6810: Loss = 0.6606\n",
      "Epoch 6810: Loss = 0.6975\n",
      "Epoch 6810: Loss = 0.6421\n",
      "Epoch 6810: Loss = 0.6852\n"
     ]
    },
    {
     "name": "stderr",
     "output_type": "stream",
     "text": [
      " 68%|██████▊   | 6822/10000 [09:06<04:10, 12.67it/s]"
     ]
    },
    {
     "name": "stdout",
     "output_type": "stream",
     "text": [
      "Epoch 6820: Loss = 0.6564\n",
      "Epoch 6820: Loss = 0.6955\n",
      "Epoch 6820: Loss = 0.6918\n",
      "Epoch 6820: Loss = 0.6810\n",
      "Epoch 6820: Loss = 0.6599\n"
     ]
    },
    {
     "name": "stderr",
     "output_type": "stream",
     "text": [
      " 68%|██████▊   | 6832/10000 [09:07<04:22, 12.05it/s]"
     ]
    },
    {
     "name": "stdout",
     "output_type": "stream",
     "text": [
      "Epoch 6830: Loss = 0.6681\n",
      "Epoch 6830: Loss = 0.6576\n",
      "Epoch 6830: Loss = 0.6573\n",
      "Epoch 6830: Loss = 0.6497\n",
      "Epoch 6830: Loss = 0.6538\n"
     ]
    },
    {
     "name": "stderr",
     "output_type": "stream",
     "text": [
      " 68%|██████▊   | 6842/10000 [09:08<03:52, 13.56it/s]"
     ]
    },
    {
     "name": "stdout",
     "output_type": "stream",
     "text": [
      "Epoch 6840: Loss = 0.6789\n",
      "Epoch 6840: Loss = 0.6531\n",
      "Epoch 6840: Loss = 0.6705\n",
      "Epoch 6840: Loss = 0.6716\n",
      "Epoch 6840: Loss = 0.6737\n"
     ]
    },
    {
     "name": "stderr",
     "output_type": "stream",
     "text": [
      " 69%|██████▊   | 6852/10000 [09:08<03:59, 13.13it/s]"
     ]
    },
    {
     "name": "stdout",
     "output_type": "stream",
     "text": [
      "Epoch 6850: Loss = 0.6532\n",
      "Epoch 6850: Loss = 0.6629\n",
      "Epoch 6850: Loss = 0.6751\n",
      "Epoch 6850: Loss = 0.6756\n",
      "Epoch 6850: Loss = 0.6748\n"
     ]
    },
    {
     "name": "stderr",
     "output_type": "stream",
     "text": [
      " 69%|██████▊   | 6862/10000 [09:09<04:02, 12.93it/s]"
     ]
    },
    {
     "name": "stdout",
     "output_type": "stream",
     "text": [
      "Epoch 6860: Loss = 0.7137\n",
      "Epoch 6860: Loss = 0.6886\n",
      "Epoch 6860: Loss = 0.6491\n",
      "Epoch 6860: Loss = 0.6616\n",
      "Epoch 6860: Loss = 0.6622\n"
     ]
    },
    {
     "name": "stderr",
     "output_type": "stream",
     "text": [
      " 69%|██████▊   | 6872/10000 [09:10<04:13, 12.36it/s]"
     ]
    },
    {
     "name": "stdout",
     "output_type": "stream",
     "text": [
      "Epoch 6870: Loss = 0.6759\n",
      "Epoch 6870: Loss = 0.6434\n",
      "Epoch 6870: Loss = 0.6607\n",
      "Epoch 6870: Loss = 0.6858\n",
      "Epoch 6870: Loss = 0.6451\n"
     ]
    },
    {
     "name": "stderr",
     "output_type": "stream",
     "text": [
      " 69%|██████▉   | 6882/10000 [09:11<03:44, 13.88it/s]"
     ]
    },
    {
     "name": "stdout",
     "output_type": "stream",
     "text": [
      "Epoch 6880: Loss = 0.6920\n",
      "Epoch 6880: Loss = 0.6685\n",
      "Epoch 6880: Loss = 0.6333\n",
      "Epoch 6880: Loss = 0.6539\n",
      "Epoch 6880: Loss = 0.6611\n"
     ]
    },
    {
     "name": "stderr",
     "output_type": "stream",
     "text": [
      " 69%|██████▉   | 6892/10000 [09:11<03:57, 13.08it/s]"
     ]
    },
    {
     "name": "stdout",
     "output_type": "stream",
     "text": [
      "Epoch 6890: Loss = 0.6576\n",
      "Epoch 6890: Loss = 0.6711\n",
      "Epoch 6890: Loss = 0.6177\n",
      "Epoch 6890: Loss = 0.6542\n",
      "Epoch 6890: Loss = 0.6644\n"
     ]
    },
    {
     "name": "stderr",
     "output_type": "stream",
     "text": [
      " 69%|██████▉   | 6902/10000 [09:12<04:25, 11.66it/s]"
     ]
    },
    {
     "name": "stdout",
     "output_type": "stream",
     "text": [
      "Epoch 6900: Loss = 0.6524\n",
      "Epoch 6900: Loss = 0.6651\n",
      "Epoch 6900: Loss = 0.6558\n",
      "Epoch 6900: Loss = 0.6647\n",
      "Epoch 6900: Loss = 0.6762\n"
     ]
    },
    {
     "name": "stderr",
     "output_type": "stream",
     "text": [
      " 69%|██████▉   | 6912/10000 [09:13<03:54, 13.18it/s]"
     ]
    },
    {
     "name": "stdout",
     "output_type": "stream",
     "text": [
      "Epoch 6910: Loss = 0.6984\n",
      "Epoch 6910: Loss = 0.6898\n",
      "Epoch 6910: Loss = 0.6327\n",
      "Epoch 6910: Loss = 0.6560\n",
      "Epoch 6910: Loss = 0.6372\n"
     ]
    },
    {
     "name": "stderr",
     "output_type": "stream",
     "text": [
      " 69%|██████▉   | 6922/10000 [09:14<03:40, 13.98it/s]"
     ]
    },
    {
     "name": "stdout",
     "output_type": "stream",
     "text": [
      "Epoch 6920: Loss = 0.6666\n",
      "Epoch 6920: Loss = 0.6303\n",
      "Epoch 6920: Loss = 0.6562\n",
      "Epoch 6920: Loss = 0.6772\n",
      "Epoch 6920: Loss = 0.6998\n"
     ]
    },
    {
     "name": "stderr",
     "output_type": "stream",
     "text": [
      " 69%|██████▉   | 6932/10000 [09:15<04:26, 11.51it/s]"
     ]
    },
    {
     "name": "stdout",
     "output_type": "stream",
     "text": [
      "Epoch 6930: Loss = 0.6664\n",
      "Epoch 6930: Loss = 0.6901\n",
      "Epoch 6930: Loss = 0.6571\n",
      "Epoch 6930: Loss = 0.6917\n",
      "Epoch 6930: Loss = 0.7084\n"
     ]
    },
    {
     "name": "stderr",
     "output_type": "stream",
     "text": [
      " 69%|██████▉   | 6942/10000 [09:15<04:09, 12.27it/s]"
     ]
    },
    {
     "name": "stdout",
     "output_type": "stream",
     "text": [
      "Epoch 6940: Loss = 0.6663\n",
      "Epoch 6940: Loss = 0.6429\n",
      "Epoch 6940: Loss = 0.6718\n",
      "Epoch 6940: Loss = 0.6370\n",
      "Epoch 6940: Loss = 0.6977\n"
     ]
    },
    {
     "name": "stderr",
     "output_type": "stream",
     "text": [
      " 70%|██████▉   | 6952/10000 [09:16<04:00, 12.66it/s]"
     ]
    },
    {
     "name": "stdout",
     "output_type": "stream",
     "text": [
      "Epoch 6950: Loss = 0.6562\n",
      "Epoch 6950: Loss = 0.6527\n",
      "Epoch 6950: Loss = 0.6802\n",
      "Epoch 6950: Loss = 0.6606\n",
      "Epoch 6950: Loss = 0.6513\n"
     ]
    },
    {
     "name": "stderr",
     "output_type": "stream",
     "text": [
      " 70%|██████▉   | 6962/10000 [09:17<04:02, 12.51it/s]"
     ]
    },
    {
     "name": "stdout",
     "output_type": "stream",
     "text": [
      "Epoch 6960: Loss = 0.6605\n",
      "Epoch 6960: Loss = 0.6853\n",
      "Epoch 6960: Loss = 0.6875\n",
      "Epoch 6960: Loss = 0.6727\n",
      "Epoch 6960: Loss = 0.7183\n"
     ]
    },
    {
     "name": "stderr",
     "output_type": "stream",
     "text": [
      " 70%|██████▉   | 6972/10000 [09:18<03:40, 13.71it/s]"
     ]
    },
    {
     "name": "stdout",
     "output_type": "stream",
     "text": [
      "Epoch 6970: Loss = 0.6808\n",
      "Epoch 6970: Loss = 0.6545\n",
      "Epoch 6970: Loss = 0.6725\n",
      "Epoch 6970: Loss = 0.6806\n",
      "Epoch 6970: Loss = 0.6407\n"
     ]
    },
    {
     "name": "stderr",
     "output_type": "stream",
     "text": [
      " 70%|██████▉   | 6982/10000 [09:18<03:38, 13.84it/s]"
     ]
    },
    {
     "name": "stdout",
     "output_type": "stream",
     "text": [
      "Epoch 6980: Loss = 0.6387\n",
      "Epoch 6980: Loss = 0.6819\n",
      "Epoch 6980: Loss = 0.6654\n",
      "Epoch 6980: Loss = 0.6808\n",
      "Epoch 6980: Loss = 0.6553\n"
     ]
    },
    {
     "name": "stderr",
     "output_type": "stream",
     "text": [
      " 70%|██████▉   | 6992/10000 [09:19<03:53, 12.86it/s]"
     ]
    },
    {
     "name": "stdout",
     "output_type": "stream",
     "text": [
      "Epoch 6990: Loss = 0.6315\n",
      "Epoch 6990: Loss = 0.6650\n",
      "Epoch 6990: Loss = 0.6845\n",
      "Epoch 6990: Loss = 0.7050\n",
      "Epoch 6990: Loss = 0.6777\n"
     ]
    },
    {
     "name": "stderr",
     "output_type": "stream",
     "text": [
      " 70%|███████   | 7002/10000 [09:20<04:25, 11.28it/s]"
     ]
    },
    {
     "name": "stdout",
     "output_type": "stream",
     "text": [
      "Epoch 7000: Loss = 0.6282\n",
      "Epoch 7000: Loss = 0.6647\n",
      "Epoch 7000: Loss = 0.7183\n",
      "Epoch 7000: Loss = 0.6578\n",
      "Epoch 7000: Loss = 0.6871\n"
     ]
    },
    {
     "name": "stderr",
     "output_type": "stream",
     "text": [
      " 70%|███████   | 7012/10000 [09:21<03:41, 13.47it/s]"
     ]
    },
    {
     "name": "stdout",
     "output_type": "stream",
     "text": [
      "Epoch 7010: Loss = 0.6444\n",
      "Epoch 7010: Loss = 0.6771\n",
      "Epoch 7010: Loss = 0.6854\n",
      "Epoch 7010: Loss = 0.6538\n",
      "Epoch 7010: Loss = 0.6727\n"
     ]
    },
    {
     "name": "stderr",
     "output_type": "stream",
     "text": [
      " 70%|███████   | 7022/10000 [09:22<03:53, 12.73it/s]"
     ]
    },
    {
     "name": "stdout",
     "output_type": "stream",
     "text": [
      "Epoch 7020: Loss = 0.6583\n",
      "Epoch 7020: Loss = 0.6947\n",
      "Epoch 7020: Loss = 0.6529\n",
      "Epoch 7020: Loss = 0.6940\n",
      "Epoch 7020: Loss = 0.6321\n"
     ]
    },
    {
     "name": "stderr",
     "output_type": "stream",
     "text": [
      " 70%|███████   | 7032/10000 [09:23<03:59, 12.37it/s]"
     ]
    },
    {
     "name": "stdout",
     "output_type": "stream",
     "text": [
      "Epoch 7030: Loss = 0.6454\n",
      "Epoch 7030: Loss = 0.6765\n",
      "Epoch 7030: Loss = 0.6496\n",
      "Epoch 7030: Loss = 0.6478\n",
      "Epoch 7030: Loss = 0.6474\n"
     ]
    },
    {
     "name": "stderr",
     "output_type": "stream",
     "text": [
      " 70%|███████   | 7042/10000 [09:23<04:16, 11.51it/s]"
     ]
    },
    {
     "name": "stdout",
     "output_type": "stream",
     "text": [
      "Epoch 7040: Loss = 0.6800\n",
      "Epoch 7040: Loss = 0.6992\n",
      "Epoch 7040: Loss = 0.6826\n",
      "Epoch 7040: Loss = 0.6960\n",
      "Epoch 7040: Loss = 0.6466\n"
     ]
    },
    {
     "name": "stderr",
     "output_type": "stream",
     "text": [
      " 71%|███████   | 7052/10000 [09:24<04:04, 12.06it/s]"
     ]
    },
    {
     "name": "stdout",
     "output_type": "stream",
     "text": [
      "Epoch 7050: Loss = 0.6619\n",
      "Epoch 7050: Loss = 0.6609\n",
      "Epoch 7050: Loss = 0.6462\n",
      "Epoch 7050: Loss = 0.6690\n",
      "Epoch 7050: Loss = 0.6850\n"
     ]
    },
    {
     "name": "stderr",
     "output_type": "stream",
     "text": [
      " 71%|███████   | 7062/10000 [09:25<03:37, 13.51it/s]"
     ]
    },
    {
     "name": "stdout",
     "output_type": "stream",
     "text": [
      "Epoch 7060: Loss = 0.6984\n",
      "Epoch 7060: Loss = 0.6841\n",
      "Epoch 7060: Loss = 0.6574\n",
      "Epoch 7060: Loss = 0.6951\n",
      "Epoch 7060: Loss = 0.6517\n"
     ]
    },
    {
     "name": "stderr",
     "output_type": "stream",
     "text": [
      " 71%|███████   | 7072/10000 [09:26<03:54, 12.49it/s]"
     ]
    },
    {
     "name": "stdout",
     "output_type": "stream",
     "text": [
      "Epoch 7070: Loss = 0.6585\n",
      "Epoch 7070: Loss = 0.6807\n",
      "Epoch 7070: Loss = 0.6721\n",
      "Epoch 7070: Loss = 0.6687\n",
      "Epoch 7070: Loss = 0.6432\n"
     ]
    },
    {
     "name": "stderr",
     "output_type": "stream",
     "text": [
      " 71%|███████   | 7082/10000 [09:27<03:43, 13.06it/s]"
     ]
    },
    {
     "name": "stdout",
     "output_type": "stream",
     "text": [
      "Epoch 7080: Loss = 0.6553\n",
      "Epoch 7080: Loss = 0.6571\n",
      "Epoch 7080: Loss = 0.6644\n",
      "Epoch 7080: Loss = 0.6644\n",
      "Epoch 7080: Loss = 0.6810\n"
     ]
    },
    {
     "name": "stderr",
     "output_type": "stream",
     "text": [
      " 71%|███████   | 7092/10000 [09:27<03:36, 13.42it/s]"
     ]
    },
    {
     "name": "stdout",
     "output_type": "stream",
     "text": [
      "Epoch 7090: Loss = 0.6493\n",
      "Epoch 7090: Loss = 0.6500\n",
      "Epoch 7090: Loss = 0.6855\n",
      "Epoch 7090: Loss = 0.6247\n",
      "Epoch 7090: Loss = 0.6443\n"
     ]
    },
    {
     "name": "stderr",
     "output_type": "stream",
     "text": [
      " 71%|███████   | 7102/10000 [09:28<03:55, 12.33it/s]"
     ]
    },
    {
     "name": "stdout",
     "output_type": "stream",
     "text": [
      "Epoch 7100: Loss = 0.6487\n",
      "Epoch 7100: Loss = 0.6657\n",
      "Epoch 7100: Loss = 0.6858\n",
      "Epoch 7100: Loss = 0.6769\n",
      "Epoch 7100: Loss = 0.6824\n"
     ]
    },
    {
     "name": "stderr",
     "output_type": "stream",
     "text": [
      " 71%|███████   | 7112/10000 [09:29<03:44, 12.87it/s]"
     ]
    },
    {
     "name": "stdout",
     "output_type": "stream",
     "text": [
      "Epoch 7110: Loss = 0.6469\n",
      "Epoch 7110: Loss = 0.6731\n",
      "Epoch 7110: Loss = 0.6750\n",
      "Epoch 7110: Loss = 0.6464\n",
      "Epoch 7110: Loss = 0.6659\n"
     ]
    },
    {
     "name": "stderr",
     "output_type": "stream",
     "text": [
      " 71%|███████   | 7122/10000 [09:30<04:03, 11.81it/s]"
     ]
    },
    {
     "name": "stdout",
     "output_type": "stream",
     "text": [
      "Epoch 7120: Loss = 0.6525\n",
      "Epoch 7120: Loss = 0.6467\n",
      "Epoch 7120: Loss = 0.6606\n",
      "Epoch 7120: Loss = 0.6541\n",
      "Epoch 7120: Loss = 0.6716\n"
     ]
    },
    {
     "name": "stderr",
     "output_type": "stream",
     "text": [
      " 71%|███████▏  | 7132/10000 [09:31<04:12, 11.35it/s]"
     ]
    },
    {
     "name": "stdout",
     "output_type": "stream",
     "text": [
      "Epoch 7130: Loss = 0.6604\n",
      "Epoch 7130: Loss = 0.6546\n",
      "Epoch 7130: Loss = 0.6711\n",
      "Epoch 7130: Loss = 0.6359\n",
      "Epoch 7130: Loss = 0.6746\n"
     ]
    },
    {
     "name": "stderr",
     "output_type": "stream",
     "text": [
      " 71%|███████▏  | 7142/10000 [09:32<04:22, 10.88it/s]"
     ]
    },
    {
     "name": "stdout",
     "output_type": "stream",
     "text": [
      "Epoch 7140: Loss = 0.6913\n",
      "Epoch 7140: Loss = 0.6684\n",
      "Epoch 7140: Loss = 0.6479\n",
      "Epoch 7140: Loss = 0.6963\n",
      "Epoch 7140: Loss = 0.6797\n"
     ]
    },
    {
     "name": "stderr",
     "output_type": "stream",
     "text": [
      " 72%|███████▏  | 7152/10000 [09:32<03:41, 12.87it/s]"
     ]
    },
    {
     "name": "stdout",
     "output_type": "stream",
     "text": [
      "Epoch 7150: Loss = 0.6695\n",
      "Epoch 7150: Loss = 0.6821\n",
      "Epoch 7150: Loss = 0.6999\n",
      "Epoch 7150: Loss = 0.6588\n",
      "Epoch 7150: Loss = 0.6751\n"
     ]
    },
    {
     "name": "stderr",
     "output_type": "stream",
     "text": [
      " 72%|███████▏  | 7162/10000 [09:33<03:40, 12.89it/s]"
     ]
    },
    {
     "name": "stdout",
     "output_type": "stream",
     "text": [
      "Epoch 7160: Loss = 0.6655\n",
      "Epoch 7160: Loss = 0.6696\n",
      "Epoch 7160: Loss = 0.6857\n",
      "Epoch 7160: Loss = 0.6702\n",
      "Epoch 7160: Loss = 0.6712\n"
     ]
    },
    {
     "name": "stderr",
     "output_type": "stream",
     "text": [
      " 72%|███████▏  | 7172/10000 [09:34<03:27, 13.65it/s]"
     ]
    },
    {
     "name": "stdout",
     "output_type": "stream",
     "text": [
      "Epoch 7170: Loss = 0.6883\n",
      "Epoch 7170: Loss = 0.6656\n",
      "Epoch 7170: Loss = 0.6387\n",
      "Epoch 7170: Loss = 0.6544\n",
      "Epoch 7170: Loss = 0.6893\n"
     ]
    },
    {
     "name": "stderr",
     "output_type": "stream",
     "text": [
      " 72%|███████▏  | 7182/10000 [09:35<03:37, 12.99it/s]"
     ]
    },
    {
     "name": "stdout",
     "output_type": "stream",
     "text": [
      "Epoch 7180: Loss = 0.6729\n",
      "Epoch 7180: Loss = 0.6700\n",
      "Epoch 7180: Loss = 0.6697\n",
      "Epoch 7180: Loss = 0.6473\n",
      "Epoch 7180: Loss = 0.6709\n"
     ]
    },
    {
     "name": "stderr",
     "output_type": "stream",
     "text": [
      " 72%|███████▏  | 7192/10000 [09:35<03:23, 13.79it/s]"
     ]
    },
    {
     "name": "stdout",
     "output_type": "stream",
     "text": [
      "Epoch 7190: Loss = 0.6331\n",
      "Epoch 7190: Loss = 0.7011\n",
      "Epoch 7190: Loss = 0.6658\n",
      "Epoch 7190: Loss = 0.6367\n",
      "Epoch 7190: Loss = 0.6674\n"
     ]
    },
    {
     "name": "stderr",
     "output_type": "stream",
     "text": [
      " 72%|███████▏  | 7202/10000 [09:36<04:03, 11.48it/s]"
     ]
    },
    {
     "name": "stdout",
     "output_type": "stream",
     "text": [
      "Epoch 7200: Loss = 0.6724\n",
      "Epoch 7200: Loss = 0.6624\n",
      "Epoch 7200: Loss = 0.7039\n",
      "Epoch 7200: Loss = 0.6716\n",
      "Epoch 7200: Loss = 0.6436\n"
     ]
    },
    {
     "name": "stderr",
     "output_type": "stream",
     "text": [
      " 72%|███████▏  | 7212/10000 [09:37<03:37, 12.83it/s]"
     ]
    },
    {
     "name": "stdout",
     "output_type": "stream",
     "text": [
      "Epoch 7210: Loss = 0.6706\n",
      "Epoch 7210: Loss = 0.6319\n",
      "Epoch 7210: Loss = 0.6944\n",
      "Epoch 7210: Loss = 0.6682\n",
      "Epoch 7210: Loss = 0.6548\n"
     ]
    },
    {
     "name": "stderr",
     "output_type": "stream",
     "text": [
      " 72%|███████▏  | 7222/10000 [09:38<03:42, 12.51it/s]"
     ]
    },
    {
     "name": "stdout",
     "output_type": "stream",
     "text": [
      "Epoch 7220: Loss = 0.6963\n",
      "Epoch 7220: Loss = 0.6919\n",
      "Epoch 7220: Loss = 0.6852\n",
      "Epoch 7220: Loss = 0.6279\n",
      "Epoch 7220: Loss = 0.6435\n"
     ]
    },
    {
     "name": "stderr",
     "output_type": "stream",
     "text": [
      " 72%|███████▏  | 7232/10000 [09:39<03:41, 12.51it/s]"
     ]
    },
    {
     "name": "stdout",
     "output_type": "stream",
     "text": [
      "Epoch 7230: Loss = 0.6574\n",
      "Epoch 7230: Loss = 0.6638\n",
      "Epoch 7230: Loss = 0.6450\n",
      "Epoch 7230: Loss = 0.6622\n",
      "Epoch 7230: Loss = 0.6217\n"
     ]
    },
    {
     "name": "stderr",
     "output_type": "stream",
     "text": [
      " 72%|███████▏  | 7242/10000 [09:39<03:20, 13.77it/s]"
     ]
    },
    {
     "name": "stdout",
     "output_type": "stream",
     "text": [
      "Epoch 7240: Loss = 0.6661\n",
      "Epoch 7240: Loss = 0.6600\n",
      "Epoch 7240: Loss = 0.6778\n",
      "Epoch 7240: Loss = 0.6681\n",
      "Epoch 7240: Loss = 0.6370\n"
     ]
    },
    {
     "name": "stderr",
     "output_type": "stream",
     "text": [
      " 73%|███████▎  | 7252/10000 [09:40<03:20, 13.69it/s]"
     ]
    },
    {
     "name": "stdout",
     "output_type": "stream",
     "text": [
      "Epoch 7250: Loss = 0.6493\n",
      "Epoch 7250: Loss = 0.6910\n",
      "Epoch 7250: Loss = 0.6685\n",
      "Epoch 7250: Loss = 0.6787\n",
      "Epoch 7250: Loss = 0.6440\n"
     ]
    },
    {
     "name": "stderr",
     "output_type": "stream",
     "text": [
      " 73%|███████▎  | 7262/10000 [09:41<03:45, 12.15it/s]"
     ]
    },
    {
     "name": "stdout",
     "output_type": "stream",
     "text": [
      "Epoch 7260: Loss = 0.6517\n",
      "Epoch 7260: Loss = 0.6748\n",
      "Epoch 7260: Loss = 0.6848\n",
      "Epoch 7260: Loss = 0.6416\n",
      "Epoch 7260: Loss = 0.6744\n"
     ]
    },
    {
     "name": "stderr",
     "output_type": "stream",
     "text": [
      " 73%|███████▎  | 7272/10000 [09:42<03:17, 13.82it/s]"
     ]
    },
    {
     "name": "stdout",
     "output_type": "stream",
     "text": [
      "Epoch 7270: Loss = 0.6869\n",
      "Epoch 7270: Loss = 0.6483\n",
      "Epoch 7270: Loss = 0.6572\n",
      "Epoch 7270: Loss = 0.6422\n",
      "Epoch 7270: Loss = 0.6464\n"
     ]
    },
    {
     "name": "stderr",
     "output_type": "stream",
     "text": [
      " 73%|███████▎  | 7282/10000 [09:42<03:12, 14.14it/s]"
     ]
    },
    {
     "name": "stdout",
     "output_type": "stream",
     "text": [
      "Epoch 7280: Loss = 0.6558\n",
      "Epoch 7280: Loss = 0.6741\n",
      "Epoch 7280: Loss = 0.6576\n",
      "Epoch 7280: Loss = 0.6730\n",
      "Epoch 7280: Loss = 0.6819\n"
     ]
    },
    {
     "name": "stderr",
     "output_type": "stream",
     "text": [
      " 73%|███████▎  | 7292/10000 [09:43<03:25, 13.15it/s]"
     ]
    },
    {
     "name": "stdout",
     "output_type": "stream",
     "text": [
      "Epoch 7290: Loss = 0.6656\n",
      "Epoch 7290: Loss = 0.6527\n",
      "Epoch 7290: Loss = 0.6983\n",
      "Epoch 7290: Loss = 0.6441\n",
      "Epoch 7290: Loss = 0.6601\n"
     ]
    },
    {
     "name": "stderr",
     "output_type": "stream",
     "text": [
      " 73%|███████▎  | 7302/10000 [09:44<03:10, 14.17it/s]"
     ]
    },
    {
     "name": "stdout",
     "output_type": "stream",
     "text": [
      "Epoch 7300: Loss = 0.6424\n",
      "Epoch 7300: Loss = 0.6860\n",
      "Epoch 7300: Loss = 0.6727\n",
      "Epoch 7300: Loss = 0.6856\n",
      "Epoch 7300: Loss = 0.6399\n"
     ]
    },
    {
     "name": "stderr",
     "output_type": "stream",
     "text": [
      " 73%|███████▎  | 7312/10000 [09:45<03:17, 13.64it/s]"
     ]
    },
    {
     "name": "stdout",
     "output_type": "stream",
     "text": [
      "Epoch 7310: Loss = 0.6569\n",
      "Epoch 7310: Loss = 0.6675\n",
      "Epoch 7310: Loss = 0.6270\n",
      "Epoch 7310: Loss = 0.6328\n",
      "Epoch 7310: Loss = 0.6572\n"
     ]
    },
    {
     "name": "stderr",
     "output_type": "stream",
     "text": [
      " 73%|███████▎  | 7322/10000 [09:45<03:08, 14.22it/s]"
     ]
    },
    {
     "name": "stdout",
     "output_type": "stream",
     "text": [
      "Epoch 7320: Loss = 0.6840\n",
      "Epoch 7320: Loss = 0.6791\n",
      "Epoch 7320: Loss = 0.6783\n",
      "Epoch 7320: Loss = 0.6841\n",
      "Epoch 7320: Loss = 0.6685\n"
     ]
    },
    {
     "name": "stderr",
     "output_type": "stream",
     "text": [
      " 73%|███████▎  | 7332/10000 [09:46<03:17, 13.51it/s]"
     ]
    },
    {
     "name": "stdout",
     "output_type": "stream",
     "text": [
      "Epoch 7330: Loss = 0.6670\n",
      "Epoch 7330: Loss = 0.6220\n",
      "Epoch 7330: Loss = 0.6670\n",
      "Epoch 7330: Loss = 0.6433\n",
      "Epoch 7330: Loss = 0.6929\n"
     ]
    },
    {
     "name": "stderr",
     "output_type": "stream",
     "text": [
      " 73%|███████▎  | 7342/10000 [09:47<03:27, 12.81it/s]"
     ]
    },
    {
     "name": "stdout",
     "output_type": "stream",
     "text": [
      "Epoch 7340: Loss = 0.6883\n",
      "Epoch 7340: Loss = 0.6775\n",
      "Epoch 7340: Loss = 0.6831\n",
      "Epoch 7340: Loss = 0.6950\n",
      "Epoch 7340: Loss = 0.6649\n"
     ]
    },
    {
     "name": "stderr",
     "output_type": "stream",
     "text": [
      " 74%|███████▎  | 7352/10000 [09:48<03:38, 12.13it/s]"
     ]
    },
    {
     "name": "stdout",
     "output_type": "stream",
     "text": [
      "Epoch 7350: Loss = 0.6553\n",
      "Epoch 7350: Loss = 0.6739\n",
      "Epoch 7350: Loss = 0.6569\n",
      "Epoch 7350: Loss = 0.6482\n",
      "Epoch 7350: Loss = 0.6698\n"
     ]
    },
    {
     "name": "stderr",
     "output_type": "stream",
     "text": [
      " 74%|███████▎  | 7362/10000 [09:49<03:27, 12.70it/s]"
     ]
    },
    {
     "name": "stdout",
     "output_type": "stream",
     "text": [
      "Epoch 7360: Loss = 0.6832\n",
      "Epoch 7360: Loss = 0.6538\n",
      "Epoch 7360: Loss = 0.6722\n",
      "Epoch 7360: Loss = 0.6661\n",
      "Epoch 7360: Loss = 0.6778\n"
     ]
    },
    {
     "name": "stderr",
     "output_type": "stream",
     "text": [
      " 74%|███████▎  | 7372/10000 [09:49<03:18, 13.25it/s]"
     ]
    },
    {
     "name": "stdout",
     "output_type": "stream",
     "text": [
      "Epoch 7370: Loss = 0.6528\n",
      "Epoch 7370: Loss = 0.6879\n",
      "Epoch 7370: Loss = 0.6776\n",
      "Epoch 7370: Loss = 0.6932\n",
      "Epoch 7370: Loss = 0.6678\n"
     ]
    },
    {
     "name": "stderr",
     "output_type": "stream",
     "text": [
      " 74%|███████▍  | 7382/10000 [09:50<03:09, 13.85it/s]"
     ]
    },
    {
     "name": "stdout",
     "output_type": "stream",
     "text": [
      "Epoch 7380: Loss = 0.6637\n",
      "Epoch 7380: Loss = 0.6958\n",
      "Epoch 7380: Loss = 0.6918\n",
      "Epoch 7380: Loss = 0.6814\n",
      "Epoch 7380: Loss = 0.6675\n"
     ]
    },
    {
     "name": "stderr",
     "output_type": "stream",
     "text": [
      " 74%|███████▍  | 7392/10000 [09:51<03:11, 13.61it/s]"
     ]
    },
    {
     "name": "stdout",
     "output_type": "stream",
     "text": [
      "Epoch 7390: Loss = 0.6819\n",
      "Epoch 7390: Loss = 0.6711\n",
      "Epoch 7390: Loss = 0.6352\n",
      "Epoch 7390: Loss = 0.6630\n",
      "Epoch 7390: Loss = 0.6810\n"
     ]
    },
    {
     "name": "stderr",
     "output_type": "stream",
     "text": [
      " 74%|███████▍  | 7402/10000 [09:52<03:13, 13.45it/s]"
     ]
    },
    {
     "name": "stdout",
     "output_type": "stream",
     "text": [
      "Epoch 7400: Loss = 0.6397\n",
      "Epoch 7400: Loss = 0.6667\n",
      "Epoch 7400: Loss = 0.6822\n",
      "Epoch 7400: Loss = 0.6487\n",
      "Epoch 7400: Loss = 0.6675\n"
     ]
    },
    {
     "name": "stderr",
     "output_type": "stream",
     "text": [
      " 74%|███████▍  | 7412/10000 [09:52<03:22, 12.77it/s]"
     ]
    },
    {
     "name": "stdout",
     "output_type": "stream",
     "text": [
      "Epoch 7410: Loss = 0.6912\n",
      "Epoch 7410: Loss = 0.6600\n",
      "Epoch 7410: Loss = 0.6518\n",
      "Epoch 7410: Loss = 0.6400\n",
      "Epoch 7410: Loss = 0.6491\n"
     ]
    },
    {
     "name": "stderr",
     "output_type": "stream",
     "text": [
      " 74%|███████▍  | 7422/10000 [09:53<03:01, 14.18it/s]"
     ]
    },
    {
     "name": "stdout",
     "output_type": "stream",
     "text": [
      "Epoch 7420: Loss = 0.6860\n",
      "Epoch 7420: Loss = 0.7054\n",
      "Epoch 7420: Loss = 0.6676\n",
      "Epoch 7420: Loss = 0.6869\n",
      "Epoch 7420: Loss = 0.6493\n"
     ]
    },
    {
     "name": "stderr",
     "output_type": "stream",
     "text": [
      " 74%|███████▍  | 7432/10000 [09:54<03:27, 12.35it/s]"
     ]
    },
    {
     "name": "stdout",
     "output_type": "stream",
     "text": [
      "Epoch 7430: Loss = 0.6516\n",
      "Epoch 7430: Loss = 0.6817\n",
      "Epoch 7430: Loss = 0.6837\n",
      "Epoch 7430: Loss = 0.6622\n",
      "Epoch 7430: Loss = 0.6738\n"
     ]
    },
    {
     "name": "stderr",
     "output_type": "stream",
     "text": [
      " 74%|███████▍  | 7442/10000 [09:55<03:28, 12.28it/s]"
     ]
    },
    {
     "name": "stdout",
     "output_type": "stream",
     "text": [
      "Epoch 7440: Loss = 0.6475\n",
      "Epoch 7440: Loss = 0.6976\n",
      "Epoch 7440: Loss = 0.6798\n",
      "Epoch 7440: Loss = 0.7004\n",
      "Epoch 7440: Loss = 0.6537\n"
     ]
    },
    {
     "name": "stderr",
     "output_type": "stream",
     "text": [
      " 75%|███████▍  | 7452/10000 [09:55<03:02, 13.94it/s]"
     ]
    },
    {
     "name": "stdout",
     "output_type": "stream",
     "text": [
      "Epoch 7450: Loss = 0.6766\n",
      "Epoch 7450: Loss = 0.6623\n",
      "Epoch 7450: Loss = 0.6611\n",
      "Epoch 7450: Loss = 0.6946\n",
      "Epoch 7450: Loss = 0.6999\n"
     ]
    },
    {
     "name": "stderr",
     "output_type": "stream",
     "text": [
      " 75%|███████▍  | 7462/10000 [09:56<03:03, 13.86it/s]"
     ]
    },
    {
     "name": "stdout",
     "output_type": "stream",
     "text": [
      "Epoch 7460: Loss = 0.6532\n",
      "Epoch 7460: Loss = 0.6605\n",
      "Epoch 7460: Loss = 0.6680\n",
      "Epoch 7460: Loss = 0.6589\n",
      "Epoch 7460: Loss = 0.6563\n"
     ]
    },
    {
     "name": "stderr",
     "output_type": "stream",
     "text": [
      " 75%|███████▍  | 7472/10000 [09:57<03:26, 12.24it/s]"
     ]
    },
    {
     "name": "stdout",
     "output_type": "stream",
     "text": [
      "Epoch 7470: Loss = 0.6486\n",
      "Epoch 7470: Loss = 0.6593\n",
      "Epoch 7470: Loss = 0.6724\n",
      "Epoch 7470: Loss = 0.6766\n",
      "Epoch 7470: Loss = 0.6935\n"
     ]
    },
    {
     "name": "stderr",
     "output_type": "stream",
     "text": [
      " 75%|███████▍  | 7482/10000 [09:58<03:00, 13.93it/s]"
     ]
    },
    {
     "name": "stdout",
     "output_type": "stream",
     "text": [
      "Epoch 7480: Loss = 0.6465\n",
      "Epoch 7480: Loss = 0.6524\n",
      "Epoch 7480: Loss = 0.6826\n",
      "Epoch 7480: Loss = 0.6840\n",
      "Epoch 7480: Loss = 0.6755\n"
     ]
    },
    {
     "name": "stderr",
     "output_type": "stream",
     "text": [
      " 75%|███████▍  | 7492/10000 [09:58<02:53, 14.43it/s]"
     ]
    },
    {
     "name": "stdout",
     "output_type": "stream",
     "text": [
      "Epoch 7490: Loss = 0.6714\n",
      "Epoch 7490: Loss = 0.6536\n",
      "Epoch 7490: Loss = 0.6902\n",
      "Epoch 7490: Loss = 0.6129\n",
      "Epoch 7490: Loss = 0.6984\n"
     ]
    },
    {
     "name": "stderr",
     "output_type": "stream",
     "text": [
      " 75%|███████▌  | 7502/10000 [09:59<02:56, 14.11it/s]"
     ]
    },
    {
     "name": "stdout",
     "output_type": "stream",
     "text": [
      "Epoch 7500: Loss = 0.6675\n",
      "Epoch 7500: Loss = 0.6627\n",
      "Epoch 7500: Loss = 0.7032\n",
      "Epoch 7500: Loss = 0.6708\n",
      "Epoch 7500: Loss = 0.6436\n"
     ]
    },
    {
     "name": "stderr",
     "output_type": "stream",
     "text": [
      " 75%|███████▌  | 7512/10000 [10:00<03:03, 13.56it/s]"
     ]
    },
    {
     "name": "stdout",
     "output_type": "stream",
     "text": [
      "Epoch 7510: Loss = 0.6586\n",
      "Epoch 7510: Loss = 0.6740\n",
      "Epoch 7510: Loss = 0.6930\n",
      "Epoch 7510: Loss = 0.6423\n",
      "Epoch 7510: Loss = 0.6590\n"
     ]
    },
    {
     "name": "stderr",
     "output_type": "stream",
     "text": [
      " 75%|███████▌  | 7522/10000 [10:01<03:57, 10.45it/s]"
     ]
    },
    {
     "name": "stdout",
     "output_type": "stream",
     "text": [
      "Epoch 7520: Loss = 0.6336\n",
      "Epoch 7520: Loss = 0.6935\n",
      "Epoch 7520: Loss = 0.6277\n",
      "Epoch 7520: Loss = 0.6703\n",
      "Epoch 7520: Loss = 0.6800\n"
     ]
    },
    {
     "name": "stderr",
     "output_type": "stream",
     "text": [
      " 75%|███████▌  | 7532/10000 [10:02<03:14, 12.72it/s]"
     ]
    },
    {
     "name": "stdout",
     "output_type": "stream",
     "text": [
      "Epoch 7530: Loss = 0.6416\n",
      "Epoch 7530: Loss = 0.6609\n",
      "Epoch 7530: Loss = 0.6865\n",
      "Epoch 7530: Loss = 0.6595\n",
      "Epoch 7530: Loss = 0.6754\n"
     ]
    },
    {
     "name": "stderr",
     "output_type": "stream",
     "text": [
      " 75%|███████▌  | 7540/10000 [10:02<03:04, 13.36it/s]"
     ]
    },
    {
     "name": "stdout",
     "output_type": "stream",
     "text": [
      "Epoch 7540: Loss = 0.6673\n",
      "Epoch 7540: Loss = 0.6628\n",
      "Epoch 7540: Loss = 0.6629\n",
      "Epoch 7540: Loss = 0.6629\n",
      "Epoch 7540: Loss = 0.6459\n"
     ]
    },
    {
     "name": "stderr",
     "output_type": "stream",
     "text": [
      " 76%|███████▌  | 7552/10000 [10:03<03:09, 12.95it/s]"
     ]
    },
    {
     "name": "stdout",
     "output_type": "stream",
     "text": [
      "Epoch 7550: Loss = 0.6580\n",
      "Epoch 7550: Loss = 0.7061\n",
      "Epoch 7550: Loss = 0.6809\n",
      "Epoch 7550: Loss = 0.6493\n",
      "Epoch 7550: Loss = 0.6555\n"
     ]
    },
    {
     "name": "stderr",
     "output_type": "stream",
     "text": [
      " 76%|███████▌  | 7562/10000 [10:04<02:54, 13.97it/s]"
     ]
    },
    {
     "name": "stdout",
     "output_type": "stream",
     "text": [
      "Epoch 7560: Loss = 0.6512\n",
      "Epoch 7560: Loss = 0.6699\n",
      "Epoch 7560: Loss = 0.6831\n",
      "Epoch 7560: Loss = 0.6502\n",
      "Epoch 7560: Loss = 0.6643\n"
     ]
    },
    {
     "name": "stderr",
     "output_type": "stream",
     "text": [
      " 76%|███████▌  | 7572/10000 [10:05<03:13, 12.52it/s]"
     ]
    },
    {
     "name": "stdout",
     "output_type": "stream",
     "text": [
      "Epoch 7570: Loss = 0.6561\n",
      "Epoch 7570: Loss = 0.6471\n",
      "Epoch 7570: Loss = 0.6884\n",
      "Epoch 7570: Loss = 0.6791\n",
      "Epoch 7570: Loss = 0.6671\n"
     ]
    },
    {
     "name": "stderr",
     "output_type": "stream",
     "text": [
      " 76%|███████▌  | 7582/10000 [10:06<03:04, 13.12it/s]"
     ]
    },
    {
     "name": "stdout",
     "output_type": "stream",
     "text": [
      "Epoch 7580: Loss = 0.6742\n",
      "Epoch 7580: Loss = 0.6460\n",
      "Epoch 7580: Loss = 0.6697\n",
      "Epoch 7580: Loss = 0.6709\n",
      "Epoch 7580: Loss = 0.6832\n"
     ]
    },
    {
     "name": "stderr",
     "output_type": "stream",
     "text": [
      " 76%|███████▌  | 7592/10000 [10:06<03:04, 13.07it/s]"
     ]
    },
    {
     "name": "stdout",
     "output_type": "stream",
     "text": [
      "Epoch 7590: Loss = 0.6477\n",
      "Epoch 7590: Loss = 0.6626\n",
      "Epoch 7590: Loss = 0.6444\n",
      "Epoch 7590: Loss = 0.6671\n",
      "Epoch 7590: Loss = 0.6677\n"
     ]
    },
    {
     "name": "stderr",
     "output_type": "stream",
     "text": [
      " 76%|███████▌  | 7602/10000 [10:07<02:57, 13.51it/s]"
     ]
    },
    {
     "name": "stdout",
     "output_type": "stream",
     "text": [
      "Epoch 7600: Loss = 0.6498\n",
      "Epoch 7600: Loss = 0.6678\n",
      "Epoch 7600: Loss = 0.6846\n",
      "Epoch 7600: Loss = 0.6608\n",
      "Epoch 7600: Loss = 0.6888\n"
     ]
    },
    {
     "name": "stderr",
     "output_type": "stream",
     "text": [
      " 76%|███████▌  | 7610/10000 [10:08<03:05, 12.90it/s]"
     ]
    },
    {
     "name": "stdout",
     "output_type": "stream",
     "text": [
      "Epoch 7610: Loss = 0.6741\n",
      "Epoch 7610: Loss = 0.6750\n",
      "Epoch 7610: Loss = 0.6570\n",
      "Epoch 7610: Loss = 0.6410\n",
      "Epoch 7610: Loss = 0.6388\n"
     ]
    },
    {
     "name": "stderr",
     "output_type": "stream",
     "text": [
      " 76%|███████▌  | 7622/10000 [10:09<03:53, 10.18it/s]"
     ]
    },
    {
     "name": "stdout",
     "output_type": "stream",
     "text": [
      "Epoch 7620: Loss = 0.6936\n",
      "Epoch 7620: Loss = 0.6504\n",
      "Epoch 7620: Loss = 0.6807\n",
      "Epoch 7620: Loss = 0.6469\n",
      "Epoch 7620: Loss = 0.6828\n"
     ]
    },
    {
     "name": "stderr",
     "output_type": "stream",
     "text": [
      " 76%|███████▋  | 7632/10000 [10:10<03:25, 11.51it/s]"
     ]
    },
    {
     "name": "stdout",
     "output_type": "stream",
     "text": [
      "Epoch 7630: Loss = 0.6169\n",
      "Epoch 7630: Loss = 0.6840\n",
      "Epoch 7630: Loss = 0.6854\n",
      "Epoch 7630: Loss = 0.6861\n",
      "Epoch 7630: Loss = 0.6685\n"
     ]
    },
    {
     "name": "stderr",
     "output_type": "stream",
     "text": [
      " 76%|███████▋  | 7642/10000 [10:11<02:57, 13.25it/s]"
     ]
    },
    {
     "name": "stdout",
     "output_type": "stream",
     "text": [
      "Epoch 7640: Loss = 0.6774\n",
      "Epoch 7640: Loss = 0.6658\n",
      "Epoch 7640: Loss = 0.6592\n",
      "Epoch 7640: Loss = 0.6715\n",
      "Epoch 7640: Loss = 0.6882\n"
     ]
    },
    {
     "name": "stderr",
     "output_type": "stream",
     "text": [
      " 77%|███████▋  | 7652/10000 [10:12<03:26, 11.39it/s]"
     ]
    },
    {
     "name": "stdout",
     "output_type": "stream",
     "text": [
      "Epoch 7650: Loss = 0.6715\n",
      "Epoch 7650: Loss = 0.6506\n",
      "Epoch 7650: Loss = 0.6835\n",
      "Epoch 7650: Loss = 0.6687\n",
      "Epoch 7650: Loss = 0.6631\n"
     ]
    },
    {
     "name": "stderr",
     "output_type": "stream",
     "text": [
      " 77%|███████▋  | 7662/10000 [10:12<03:14, 12.02it/s]"
     ]
    },
    {
     "name": "stdout",
     "output_type": "stream",
     "text": [
      "Epoch 7660: Loss = 0.6435\n",
      "Epoch 7660: Loss = 0.6522\n",
      "Epoch 7660: Loss = 0.6426\n",
      "Epoch 7660: Loss = 0.6673\n",
      "Epoch 7660: Loss = 0.6563\n"
     ]
    },
    {
     "name": "stderr",
     "output_type": "stream",
     "text": [
      " 77%|███████▋  | 7672/10000 [10:13<02:50, 13.63it/s]"
     ]
    },
    {
     "name": "stdout",
     "output_type": "stream",
     "text": [
      "Epoch 7670: Loss = 0.6479\n",
      "Epoch 7670: Loss = 0.6140\n",
      "Epoch 7670: Loss = 0.7098\n",
      "Epoch 7670: Loss = 0.6736\n",
      "Epoch 7670: Loss = 0.6646\n"
     ]
    },
    {
     "name": "stderr",
     "output_type": "stream",
     "text": [
      " 77%|███████▋  | 7682/10000 [10:14<03:06, 12.44it/s]"
     ]
    },
    {
     "name": "stdout",
     "output_type": "stream",
     "text": [
      "Epoch 7680: Loss = 0.6662\n",
      "Epoch 7680: Loss = 0.6564\n",
      "Epoch 7680: Loss = 0.6970\n",
      "Epoch 7680: Loss = 0.6276\n",
      "Epoch 7680: Loss = 0.6619\n"
     ]
    },
    {
     "name": "stderr",
     "output_type": "stream",
     "text": [
      " 77%|███████▋  | 7692/10000 [10:15<02:49, 13.65it/s]"
     ]
    },
    {
     "name": "stdout",
     "output_type": "stream",
     "text": [
      "Epoch 7690: Loss = 0.6805\n",
      "Epoch 7690: Loss = 0.6769\n",
      "Epoch 7690: Loss = 0.6747\n",
      "Epoch 7690: Loss = 0.6665\n",
      "Epoch 7690: Loss = 0.6817\n"
     ]
    },
    {
     "name": "stderr",
     "output_type": "stream",
     "text": [
      " 77%|███████▋  | 7702/10000 [10:15<02:58, 12.90it/s]"
     ]
    },
    {
     "name": "stdout",
     "output_type": "stream",
     "text": [
      "Epoch 7700: Loss = 0.6588\n",
      "Epoch 7700: Loss = 0.6945\n",
      "Epoch 7700: Loss = 0.6582\n",
      "Epoch 7700: Loss = 0.6982\n",
      "Epoch 7700: Loss = 0.6727\n"
     ]
    },
    {
     "name": "stderr",
     "output_type": "stream",
     "text": [
      " 77%|███████▋  | 7712/10000 [10:16<02:44, 13.91it/s]"
     ]
    },
    {
     "name": "stdout",
     "output_type": "stream",
     "text": [
      "Epoch 7710: Loss = 0.6603\n",
      "Epoch 7710: Loss = 0.6702\n",
      "Epoch 7710: Loss = 0.6439\n",
      "Epoch 7710: Loss = 0.6967\n",
      "Epoch 7710: Loss = 0.6989\n"
     ]
    },
    {
     "name": "stderr",
     "output_type": "stream",
     "text": [
      " 77%|███████▋  | 7722/10000 [10:17<02:42, 13.99it/s]"
     ]
    },
    {
     "name": "stdout",
     "output_type": "stream",
     "text": [
      "Epoch 7720: Loss = 0.6416\n",
      "Epoch 7720: Loss = 0.6400\n",
      "Epoch 7720: Loss = 0.6432\n",
      "Epoch 7720: Loss = 0.6533\n",
      "Epoch 7720: Loss = 0.6386\n"
     ]
    },
    {
     "name": "stderr",
     "output_type": "stream",
     "text": [
      " 77%|███████▋  | 7732/10000 [10:18<02:59, 12.67it/s]"
     ]
    },
    {
     "name": "stdout",
     "output_type": "stream",
     "text": [
      "Epoch 7730: Loss = 0.6643\n",
      "Epoch 7730: Loss = 0.6955\n",
      "Epoch 7730: Loss = 0.7110\n",
      "Epoch 7730: Loss = 0.6915\n",
      "Epoch 7730: Loss = 0.6495\n"
     ]
    },
    {
     "name": "stderr",
     "output_type": "stream",
     "text": [
      " 77%|███████▋  | 7742/10000 [10:18<02:59, 12.59it/s]"
     ]
    },
    {
     "name": "stdout",
     "output_type": "stream",
     "text": [
      "Epoch 7740: Loss = 0.6491\n",
      "Epoch 7740: Loss = 0.7252\n",
      "Epoch 7740: Loss = 0.6687\n",
      "Epoch 7740: Loss = 0.6726\n",
      "Epoch 7740: Loss = 0.6350\n"
     ]
    },
    {
     "name": "stderr",
     "output_type": "stream",
     "text": [
      " 78%|███████▊  | 7752/10000 [10:19<03:07, 11.98it/s]"
     ]
    },
    {
     "name": "stdout",
     "output_type": "stream",
     "text": [
      "Epoch 7750: Loss = 0.6780\n",
      "Epoch 7750: Loss = 0.6700\n",
      "Epoch 7750: Loss = 0.6557\n",
      "Epoch 7750: Loss = 0.6629\n",
      "Epoch 7750: Loss = 0.6503\n"
     ]
    },
    {
     "name": "stderr",
     "output_type": "stream",
     "text": [
      " 78%|███████▊  | 7762/10000 [10:20<03:05, 12.05it/s]"
     ]
    },
    {
     "name": "stdout",
     "output_type": "stream",
     "text": [
      "Epoch 7760: Loss = 0.6633\n",
      "Epoch 7760: Loss = 0.6433\n",
      "Epoch 7760: Loss = 0.6759\n",
      "Epoch 7760: Loss = 0.6784\n",
      "Epoch 7760: Loss = 0.6482\n"
     ]
    },
    {
     "name": "stderr",
     "output_type": "stream",
     "text": [
      " 78%|███████▊  | 7772/10000 [10:21<02:45, 13.48it/s]"
     ]
    },
    {
     "name": "stdout",
     "output_type": "stream",
     "text": [
      "Epoch 7770: Loss = 0.6670\n",
      "Epoch 7770: Loss = 0.6622\n",
      "Epoch 7770: Loss = 0.6720\n",
      "Epoch 7770: Loss = 0.6633\n",
      "Epoch 7770: Loss = 0.6552\n"
     ]
    },
    {
     "name": "stderr",
     "output_type": "stream",
     "text": [
      " 78%|███████▊  | 7782/10000 [10:22<03:00, 12.28it/s]"
     ]
    },
    {
     "name": "stdout",
     "output_type": "stream",
     "text": [
      "Epoch 7780: Loss = 0.6706\n",
      "Epoch 7780: Loss = 0.6629\n",
      "Epoch 7780: Loss = 0.6360\n",
      "Epoch 7780: Loss = 0.6467\n",
      "Epoch 7780: Loss = 0.6566\n"
     ]
    },
    {
     "name": "stderr",
     "output_type": "stream",
     "text": [
      " 78%|███████▊  | 7792/10000 [10:22<02:54, 12.63it/s]"
     ]
    },
    {
     "name": "stdout",
     "output_type": "stream",
     "text": [
      "Epoch 7790: Loss = 0.6779\n",
      "Epoch 7790: Loss = 0.6534\n",
      "Epoch 7790: Loss = 0.6894\n",
      "Epoch 7790: Loss = 0.6441\n",
      "Epoch 7790: Loss = 0.6807\n"
     ]
    },
    {
     "name": "stderr",
     "output_type": "stream",
     "text": [
      " 78%|███████▊  | 7802/10000 [10:23<02:52, 12.75it/s]"
     ]
    },
    {
     "name": "stdout",
     "output_type": "stream",
     "text": [
      "Epoch 7800: Loss = 0.6809\n",
      "Epoch 7800: Loss = 0.6947\n",
      "Epoch 7800: Loss = 0.6573\n",
      "Epoch 7800: Loss = 0.6142\n",
      "Epoch 7800: Loss = 0.6907\n"
     ]
    },
    {
     "name": "stderr",
     "output_type": "stream",
     "text": [
      " 78%|███████▊  | 7812/10000 [10:24<02:41, 13.53it/s]"
     ]
    },
    {
     "name": "stdout",
     "output_type": "stream",
     "text": [
      "Epoch 7810: Loss = 0.6474\n",
      "Epoch 7810: Loss = 0.6627\n",
      "Epoch 7810: Loss = 0.6422\n",
      "Epoch 7810: Loss = 0.6675\n",
      "Epoch 7810: Loss = 0.6406\n"
     ]
    },
    {
     "name": "stderr",
     "output_type": "stream",
     "text": [
      " 78%|███████▊  | 7822/10000 [10:25<02:58, 12.21it/s]"
     ]
    },
    {
     "name": "stdout",
     "output_type": "stream",
     "text": [
      "Epoch 7820: Loss = 0.6283\n",
      "Epoch 7820: Loss = 0.6916\n",
      "Epoch 7820: Loss = 0.6550\n",
      "Epoch 7820: Loss = 0.6966\n",
      "Epoch 7820: Loss = 0.6470\n"
     ]
    },
    {
     "name": "stderr",
     "output_type": "stream",
     "text": [
      " 78%|███████▊  | 7832/10000 [10:26<02:36, 13.81it/s]"
     ]
    },
    {
     "name": "stdout",
     "output_type": "stream",
     "text": [
      "Epoch 7830: Loss = 0.6437\n",
      "Epoch 7830: Loss = 0.6772\n",
      "Epoch 7830: Loss = 0.6472\n",
      "Epoch 7830: Loss = 0.6838\n",
      "Epoch 7830: Loss = 0.6345\n"
     ]
    },
    {
     "name": "stderr",
     "output_type": "stream",
     "text": [
      " 78%|███████▊  | 7842/10000 [10:26<02:38, 13.65it/s]"
     ]
    },
    {
     "name": "stdout",
     "output_type": "stream",
     "text": [
      "Epoch 7840: Loss = 0.6851\n",
      "Epoch 7840: Loss = 0.6342\n",
      "Epoch 7840: Loss = 0.6829\n",
      "Epoch 7840: Loss = 0.6914\n",
      "Epoch 7840: Loss = 0.6216\n"
     ]
    },
    {
     "name": "stderr",
     "output_type": "stream",
     "text": [
      " 79%|███████▊  | 7852/10000 [10:27<02:32, 14.08it/s]"
     ]
    },
    {
     "name": "stdout",
     "output_type": "stream",
     "text": [
      "Epoch 7850: Loss = 0.6362\n",
      "Epoch 7850: Loss = 0.7038\n",
      "Epoch 7850: Loss = 0.6782\n",
      "Epoch 7850: Loss = 0.6671\n",
      "Epoch 7850: Loss = 0.6667\n"
     ]
    },
    {
     "name": "stderr",
     "output_type": "stream",
     "text": [
      " 79%|███████▊  | 7862/10000 [10:28<02:40, 13.30it/s]"
     ]
    },
    {
     "name": "stdout",
     "output_type": "stream",
     "text": [
      "Epoch 7860: Loss = 0.6737\n",
      "Epoch 7860: Loss = 0.6759\n",
      "Epoch 7860: Loss = 0.6704\n",
      "Epoch 7860: Loss = 0.6959\n",
      "Epoch 7860: Loss = 0.6535\n"
     ]
    },
    {
     "name": "stderr",
     "output_type": "stream",
     "text": [
      " 79%|███████▊  | 7872/10000 [10:29<02:43, 12.98it/s]"
     ]
    },
    {
     "name": "stdout",
     "output_type": "stream",
     "text": [
      "Epoch 7870: Loss = 0.6365\n",
      "Epoch 7870: Loss = 0.6436\n",
      "Epoch 7870: Loss = 0.6860\n",
      "Epoch 7870: Loss = 0.6644\n",
      "Epoch 7870: Loss = 0.6530\n"
     ]
    },
    {
     "name": "stderr",
     "output_type": "stream",
     "text": [
      " 79%|███████▉  | 7882/10000 [10:29<02:29, 14.12it/s]"
     ]
    },
    {
     "name": "stdout",
     "output_type": "stream",
     "text": [
      "Epoch 7880: Loss = 0.6828\n",
      "Epoch 7880: Loss = 0.6653\n",
      "Epoch 7880: Loss = 0.6741\n",
      "Epoch 7880: Loss = 0.6595\n",
      "Epoch 7880: Loss = 0.6941\n"
     ]
    },
    {
     "name": "stderr",
     "output_type": "stream",
     "text": [
      " 79%|███████▉  | 7892/10000 [10:30<02:45, 12.77it/s]"
     ]
    },
    {
     "name": "stdout",
     "output_type": "stream",
     "text": [
      "Epoch 7890: Loss = 0.6638\n",
      "Epoch 7890: Loss = 0.6585\n",
      "Epoch 7890: Loss = 0.6489\n",
      "Epoch 7890: Loss = 0.6731\n",
      "Epoch 7890: Loss = 0.6537\n"
     ]
    },
    {
     "name": "stderr",
     "output_type": "stream",
     "text": [
      " 79%|███████▉  | 7902/10000 [10:31<02:38, 13.26it/s]"
     ]
    },
    {
     "name": "stdout",
     "output_type": "stream",
     "text": [
      "Epoch 7900: Loss = 0.6840\n",
      "Epoch 7900: Loss = 0.6607\n",
      "Epoch 7900: Loss = 0.6809\n",
      "Epoch 7900: Loss = 0.6852\n",
      "Epoch 7900: Loss = 0.6689\n"
     ]
    },
    {
     "name": "stderr",
     "output_type": "stream",
     "text": [
      " 79%|███████▉  | 7912/10000 [10:32<02:36, 13.35it/s]"
     ]
    },
    {
     "name": "stdout",
     "output_type": "stream",
     "text": [
      "Epoch 7910: Loss = 0.6653\n",
      "Epoch 7910: Loss = 0.6567\n",
      "Epoch 7910: Loss = 0.6522\n",
      "Epoch 7910: Loss = 0.6911\n",
      "Epoch 7910: Loss = 0.6763\n"
     ]
    },
    {
     "name": "stderr",
     "output_type": "stream",
     "text": [
      " 79%|███████▉  | 7922/10000 [10:32<02:28, 14.02it/s]"
     ]
    },
    {
     "name": "stdout",
     "output_type": "stream",
     "text": [
      "Epoch 7920: Loss = 0.6751\n",
      "Epoch 7920: Loss = 0.6655\n",
      "Epoch 7920: Loss = 0.6817\n",
      "Epoch 7920: Loss = 0.6820\n",
      "Epoch 7920: Loss = 0.6778\n"
     ]
    },
    {
     "name": "stderr",
     "output_type": "stream",
     "text": [
      " 79%|███████▉  | 7932/10000 [10:33<02:35, 13.28it/s]"
     ]
    },
    {
     "name": "stdout",
     "output_type": "stream",
     "text": [
      "Epoch 7930: Loss = 0.6642\n",
      "Epoch 7930: Loss = 0.6813\n",
      "Epoch 7930: Loss = 0.6585\n",
      "Epoch 7930: Loss = 0.6937\n",
      "Epoch 7930: Loss = 0.6405\n"
     ]
    },
    {
     "name": "stderr",
     "output_type": "stream",
     "text": [
      " 79%|███████▉  | 7942/10000 [10:34<02:40, 12.80it/s]"
     ]
    },
    {
     "name": "stdout",
     "output_type": "stream",
     "text": [
      "Epoch 7940: Loss = 0.6456\n",
      "Epoch 7940: Loss = 0.6723\n",
      "Epoch 7940: Loss = 0.6812\n",
      "Epoch 7940: Loss = 0.6756\n",
      "Epoch 7940: Loss = 0.6900\n"
     ]
    },
    {
     "name": "stderr",
     "output_type": "stream",
     "text": [
      " 80%|███████▉  | 7952/10000 [10:35<02:31, 13.56it/s]"
     ]
    },
    {
     "name": "stdout",
     "output_type": "stream",
     "text": [
      "Epoch 7950: Loss = 0.6494\n",
      "Epoch 7950: Loss = 0.6751\n",
      "Epoch 7950: Loss = 0.6418\n",
      "Epoch 7950: Loss = 0.6582\n",
      "Epoch 7950: Loss = 0.6121\n"
     ]
    },
    {
     "name": "stderr",
     "output_type": "stream",
     "text": [
      " 80%|███████▉  | 7962/10000 [10:36<02:54, 11.68it/s]"
     ]
    },
    {
     "name": "stdout",
     "output_type": "stream",
     "text": [
      "Epoch 7960: Loss = 0.6810\n",
      "Epoch 7960: Loss = 0.6703\n",
      "Epoch 7960: Loss = 0.6570\n",
      "Epoch 7960: Loss = 0.6619\n",
      "Epoch 7960: Loss = 0.6552\n"
     ]
    },
    {
     "name": "stderr",
     "output_type": "stream",
     "text": [
      " 80%|███████▉  | 7972/10000 [10:36<02:46, 12.20it/s]"
     ]
    },
    {
     "name": "stdout",
     "output_type": "stream",
     "text": [
      "Epoch 7970: Loss = 0.6787\n",
      "Epoch 7970: Loss = 0.6487\n",
      "Epoch 7970: Loss = 0.6786\n",
      "Epoch 7970: Loss = 0.6483\n",
      "Epoch 7970: Loss = 0.6492\n"
     ]
    },
    {
     "name": "stderr",
     "output_type": "stream",
     "text": [
      " 80%|███████▉  | 7982/10000 [10:37<02:32, 13.27it/s]"
     ]
    },
    {
     "name": "stdout",
     "output_type": "stream",
     "text": [
      "Epoch 7980: Loss = 0.6848\n",
      "Epoch 7980: Loss = 0.6677\n",
      "Epoch 7980: Loss = 0.6593\n",
      "Epoch 7980: Loss = 0.6827\n",
      "Epoch 7980: Loss = 0.6500\n"
     ]
    },
    {
     "name": "stderr",
     "output_type": "stream",
     "text": [
      " 80%|███████▉  | 7992/10000 [10:38<02:25, 13.82it/s]"
     ]
    },
    {
     "name": "stdout",
     "output_type": "stream",
     "text": [
      "Epoch 7990: Loss = 0.6631\n",
      "Epoch 7990: Loss = 0.6550\n",
      "Epoch 7990: Loss = 0.6510\n",
      "Epoch 7990: Loss = 0.6614\n",
      "Epoch 7990: Loss = 0.6493\n"
     ]
    },
    {
     "name": "stderr",
     "output_type": "stream",
     "text": [
      " 80%|████████  | 8002/10000 [10:39<02:36, 12.78it/s]"
     ]
    },
    {
     "name": "stdout",
     "output_type": "stream",
     "text": [
      "Epoch 8000: Loss = 0.6937\n",
      "Epoch 8000: Loss = 0.6789\n",
      "Epoch 8000: Loss = 0.6521\n",
      "Epoch 8000: Loss = 0.6643\n",
      "Epoch 8000: Loss = 0.6569\n"
     ]
    },
    {
     "name": "stderr",
     "output_type": "stream",
     "text": [
      " 80%|████████  | 8012/10000 [10:40<02:27, 13.44it/s]"
     ]
    },
    {
     "name": "stdout",
     "output_type": "stream",
     "text": [
      "Epoch 8010: Loss = 0.6732\n",
      "Epoch 8010: Loss = 0.6722\n",
      "Epoch 8010: Loss = 0.6427\n",
      "Epoch 8010: Loss = 0.6654\n",
      "Epoch 8010: Loss = 0.6197\n"
     ]
    },
    {
     "name": "stderr",
     "output_type": "stream",
     "text": [
      " 80%|████████  | 8022/10000 [10:40<02:21, 13.94it/s]"
     ]
    },
    {
     "name": "stdout",
     "output_type": "stream",
     "text": [
      "Epoch 8020: Loss = 0.6750\n",
      "Epoch 8020: Loss = 0.6771\n",
      "Epoch 8020: Loss = 0.6741\n",
      "Epoch 8020: Loss = 0.6542\n",
      "Epoch 8020: Loss = 0.6598\n"
     ]
    },
    {
     "name": "stderr",
     "output_type": "stream",
     "text": [
      " 80%|████████  | 8032/10000 [10:41<02:27, 13.31it/s]"
     ]
    },
    {
     "name": "stdout",
     "output_type": "stream",
     "text": [
      "Epoch 8030: Loss = 0.6803\n",
      "Epoch 8030: Loss = 0.6436\n",
      "Epoch 8030: Loss = 0.6486\n",
      "Epoch 8030: Loss = 0.6487\n",
      "Epoch 8030: Loss = 0.6722\n"
     ]
    },
    {
     "name": "stderr",
     "output_type": "stream",
     "text": [
      " 80%|████████  | 8042/10000 [10:42<02:25, 13.48it/s]"
     ]
    },
    {
     "name": "stdout",
     "output_type": "stream",
     "text": [
      "Epoch 8040: Loss = 0.6788\n",
      "Epoch 8040: Loss = 0.6809\n",
      "Epoch 8040: Loss = 0.6621\n",
      "Epoch 8040: Loss = 0.6201\n",
      "Epoch 8040: Loss = 0.6697\n"
     ]
    },
    {
     "name": "stderr",
     "output_type": "stream",
     "text": [
      " 81%|████████  | 8052/10000 [10:43<02:17, 14.15it/s]"
     ]
    },
    {
     "name": "stdout",
     "output_type": "stream",
     "text": [
      "Epoch 8050: Loss = 0.6448\n",
      "Epoch 8050: Loss = 0.6517\n",
      "Epoch 8050: Loss = 0.6591\n",
      "Epoch 8050: Loss = 0.6515\n",
      "Epoch 8050: Loss = 0.6819\n"
     ]
    },
    {
     "name": "stderr",
     "output_type": "stream",
     "text": [
      " 81%|████████  | 8062/10000 [10:43<02:17, 14.10it/s]"
     ]
    },
    {
     "name": "stdout",
     "output_type": "stream",
     "text": [
      "Epoch 8060: Loss = 0.6685\n",
      "Epoch 8060: Loss = 0.6441\n",
      "Epoch 8060: Loss = 0.6647\n",
      "Epoch 8060: Loss = 0.7122\n",
      "Epoch 8060: Loss = 0.6874\n"
     ]
    },
    {
     "name": "stderr",
     "output_type": "stream",
     "text": [
      " 81%|████████  | 8072/10000 [10:44<02:16, 14.14it/s]"
     ]
    },
    {
     "name": "stdout",
     "output_type": "stream",
     "text": [
      "Epoch 8070: Loss = 0.6465\n",
      "Epoch 8070: Loss = 0.7090\n",
      "Epoch 8070: Loss = 0.6658\n",
      "Epoch 8070: Loss = 0.6649\n",
      "Epoch 8070: Loss = 0.6970\n"
     ]
    },
    {
     "name": "stderr",
     "output_type": "stream",
     "text": [
      " 81%|████████  | 8082/10000 [10:45<02:25, 13.20it/s]"
     ]
    },
    {
     "name": "stdout",
     "output_type": "stream",
     "text": [
      "Epoch 8080: Loss = 0.6864\n",
      "Epoch 8080: Loss = 0.6632\n",
      "Epoch 8080: Loss = 0.6740\n",
      "Epoch 8080: Loss = 0.7260\n",
      "Epoch 8080: Loss = 0.6411\n"
     ]
    },
    {
     "name": "stderr",
     "output_type": "stream",
     "text": [
      " 81%|████████  | 8092/10000 [10:45<02:16, 13.98it/s]"
     ]
    },
    {
     "name": "stdout",
     "output_type": "stream",
     "text": [
      "Epoch 8090: Loss = 0.6650\n",
      "Epoch 8090: Loss = 0.6660\n",
      "Epoch 8090: Loss = 0.6677\n",
      "Epoch 8090: Loss = 0.6715\n",
      "Epoch 8090: Loss = 0.6555\n"
     ]
    },
    {
     "name": "stderr",
     "output_type": "stream",
     "text": [
      " 81%|████████  | 8102/10000 [10:46<02:23, 13.22it/s]"
     ]
    },
    {
     "name": "stdout",
     "output_type": "stream",
     "text": [
      "Epoch 8100: Loss = 0.6803\n",
      "Epoch 8100: Loss = 0.6877\n",
      "Epoch 8100: Loss = 0.6805\n",
      "Epoch 8100: Loss = 0.6538\n",
      "Epoch 8100: Loss = 0.6622\n"
     ]
    },
    {
     "name": "stderr",
     "output_type": "stream",
     "text": [
      " 81%|████████  | 8112/10000 [10:47<02:22, 13.28it/s]"
     ]
    },
    {
     "name": "stdout",
     "output_type": "stream",
     "text": [
      "Epoch 8110: Loss = 0.6627\n",
      "Epoch 8110: Loss = 0.6432\n",
      "Epoch 8110: Loss = 0.6659\n",
      "Epoch 8110: Loss = 0.6859\n",
      "Epoch 8110: Loss = 0.7207\n"
     ]
    },
    {
     "name": "stderr",
     "output_type": "stream",
     "text": [
      " 81%|████████  | 8122/10000 [10:48<02:17, 13.65it/s]"
     ]
    },
    {
     "name": "stdout",
     "output_type": "stream",
     "text": [
      "Epoch 8120: Loss = 0.6517\n",
      "Epoch 8120: Loss = 0.6352\n",
      "Epoch 8120: Loss = 0.6903\n",
      "Epoch 8120: Loss = 0.6589\n",
      "Epoch 8120: Loss = 0.6709\n"
     ]
    },
    {
     "name": "stderr",
     "output_type": "stream",
     "text": [
      " 81%|████████▏ | 8132/10000 [10:48<02:22, 13.13it/s]"
     ]
    },
    {
     "name": "stdout",
     "output_type": "stream",
     "text": [
      "Epoch 8130: Loss = 0.6703\n",
      "Epoch 8130: Loss = 0.6718\n",
      "Epoch 8130: Loss = 0.6577\n",
      "Epoch 8130: Loss = 0.6493\n",
      "Epoch 8130: Loss = 0.6430\n"
     ]
    },
    {
     "name": "stderr",
     "output_type": "stream",
     "text": [
      " 81%|████████▏ | 8142/10000 [10:49<02:15, 13.76it/s]"
     ]
    },
    {
     "name": "stdout",
     "output_type": "stream",
     "text": [
      "Epoch 8140: Loss = 0.6541\n",
      "Epoch 8140: Loss = 0.6822\n",
      "Epoch 8140: Loss = 0.6592\n",
      "Epoch 8140: Loss = 0.6496\n",
      "Epoch 8140: Loss = 0.6317\n"
     ]
    },
    {
     "name": "stderr",
     "output_type": "stream",
     "text": [
      " 82%|████████▏ | 8152/10000 [10:50<02:15, 13.63it/s]"
     ]
    },
    {
     "name": "stdout",
     "output_type": "stream",
     "text": [
      "Epoch 8150: Loss = 0.6799\n",
      "Epoch 8150: Loss = 0.6706\n",
      "Epoch 8150: Loss = 0.6801\n",
      "Epoch 8150: Loss = 0.6697\n",
      "Epoch 8150: Loss = 0.6645\n"
     ]
    },
    {
     "name": "stderr",
     "output_type": "stream",
     "text": [
      " 82%|████████▏ | 8162/10000 [10:51<02:39, 11.52it/s]"
     ]
    },
    {
     "name": "stdout",
     "output_type": "stream",
     "text": [
      "Epoch 8160: Loss = 0.6550\n",
      "Epoch 8160: Loss = 0.6780\n",
      "Epoch 8160: Loss = 0.7009\n",
      "Epoch 8160: Loss = 0.6546\n",
      "Epoch 8160: Loss = 0.6878\n"
     ]
    },
    {
     "name": "stderr",
     "output_type": "stream",
     "text": [
      " 82%|████████▏ | 8172/10000 [10:52<02:26, 12.48it/s]"
     ]
    },
    {
     "name": "stdout",
     "output_type": "stream",
     "text": [
      "Epoch 8170: Loss = 0.6631\n",
      "Epoch 8170: Loss = 0.6744\n",
      "Epoch 8170: Loss = 0.6698\n",
      "Epoch 8170: Loss = 0.6862\n",
      "Epoch 8170: Loss = 0.6712\n"
     ]
    },
    {
     "name": "stderr",
     "output_type": "stream",
     "text": [
      " 82%|████████▏ | 8182/10000 [10:52<02:18, 13.17it/s]"
     ]
    },
    {
     "name": "stdout",
     "output_type": "stream",
     "text": [
      "Epoch 8180: Loss = 0.6745\n",
      "Epoch 8180: Loss = 0.6578\n",
      "Epoch 8180: Loss = 0.6265\n",
      "Epoch 8180: Loss = 0.6757\n",
      "Epoch 8180: Loss = 0.6831\n"
     ]
    },
    {
     "name": "stderr",
     "output_type": "stream",
     "text": [
      " 82%|████████▏ | 8192/10000 [10:53<02:10, 13.87it/s]"
     ]
    },
    {
     "name": "stdout",
     "output_type": "stream",
     "text": [
      "Epoch 8190: Loss = 0.6556\n",
      "Epoch 8190: Loss = 0.6422\n",
      "Epoch 8190: Loss = 0.6780\n",
      "Epoch 8190: Loss = 0.6811\n",
      "Epoch 8190: Loss = 0.6752\n"
     ]
    },
    {
     "name": "stderr",
     "output_type": "stream",
     "text": [
      " 82%|████████▏ | 8202/10000 [10:54<02:08, 13.97it/s]"
     ]
    },
    {
     "name": "stdout",
     "output_type": "stream",
     "text": [
      "Epoch 8200: Loss = 0.6916\n",
      "Epoch 8200: Loss = 0.6801\n",
      "Epoch 8200: Loss = 0.6520\n",
      "Epoch 8200: Loss = 0.6140\n",
      "Epoch 8200: Loss = 0.6478\n"
     ]
    },
    {
     "name": "stderr",
     "output_type": "stream",
     "text": [
      " 82%|████████▏ | 8212/10000 [10:55<02:08, 13.91it/s]"
     ]
    },
    {
     "name": "stdout",
     "output_type": "stream",
     "text": [
      "Epoch 8210: Loss = 0.6335\n",
      "Epoch 8210: Loss = 0.6494\n",
      "Epoch 8210: Loss = 0.6784\n",
      "Epoch 8210: Loss = 0.6437\n",
      "Epoch 8210: Loss = 0.6779\n"
     ]
    },
    {
     "name": "stderr",
     "output_type": "stream",
     "text": [
      " 82%|████████▏ | 8222/10000 [10:55<02:35, 11.42it/s]"
     ]
    },
    {
     "name": "stdout",
     "output_type": "stream",
     "text": [
      "Epoch 8220: Loss = 0.6622\n",
      "Epoch 8220: Loss = 0.6514\n",
      "Epoch 8220: Loss = 0.6495\n",
      "Epoch 8220: Loss = 0.6412\n",
      "Epoch 8220: Loss = 0.6996\n"
     ]
    },
    {
     "name": "stderr",
     "output_type": "stream",
     "text": [
      " 82%|████████▏ | 8232/10000 [10:56<02:34, 11.41it/s]"
     ]
    },
    {
     "name": "stdout",
     "output_type": "stream",
     "text": [
      "Epoch 8230: Loss = 0.6715\n",
      "Epoch 8230: Loss = 0.6461\n",
      "Epoch 8230: Loss = 0.6431\n",
      "Epoch 8230: Loss = 0.6648\n",
      "Epoch 8230: Loss = 0.6862\n"
     ]
    },
    {
     "name": "stderr",
     "output_type": "stream",
     "text": [
      " 82%|████████▏ | 8242/10000 [10:57<02:20, 12.53it/s]"
     ]
    },
    {
     "name": "stdout",
     "output_type": "stream",
     "text": [
      "Epoch 8240: Loss = 0.6853\n",
      "Epoch 8240: Loss = 0.6597\n",
      "Epoch 8240: Loss = 0.6459\n",
      "Epoch 8240: Loss = 0.6973\n",
      "Epoch 8240: Loss = 0.6805\n"
     ]
    },
    {
     "name": "stderr",
     "output_type": "stream",
     "text": [
      " 83%|████████▎ | 8252/10000 [10:58<02:26, 11.93it/s]"
     ]
    },
    {
     "name": "stdout",
     "output_type": "stream",
     "text": [
      "Epoch 8250: Loss = 0.6726\n",
      "Epoch 8250: Loss = 0.6644\n",
      "Epoch 8250: Loss = 0.6785\n",
      "Epoch 8250: Loss = 0.6355\n",
      "Epoch 8250: Loss = 0.6831\n"
     ]
    },
    {
     "name": "stderr",
     "output_type": "stream",
     "text": [
      " 83%|████████▎ | 8262/10000 [10:59<02:32, 11.36it/s]"
     ]
    },
    {
     "name": "stdout",
     "output_type": "stream",
     "text": [
      "Epoch 8260: Loss = 0.6532\n",
      "Epoch 8260: Loss = 0.6391\n",
      "Epoch 8260: Loss = 0.6584\n",
      "Epoch 8260: Loss = 0.6226\n",
      "Epoch 8260: Loss = 0.6912\n"
     ]
    },
    {
     "name": "stderr",
     "output_type": "stream",
     "text": [
      " 83%|████████▎ | 8272/10000 [11:00<02:14, 12.84it/s]"
     ]
    },
    {
     "name": "stdout",
     "output_type": "stream",
     "text": [
      "Epoch 8270: Loss = 0.6892\n",
      "Epoch 8270: Loss = 0.6701\n",
      "Epoch 8270: Loss = 0.6691\n",
      "Epoch 8270: Loss = 0.6809\n",
      "Epoch 8270: Loss = 0.6793\n"
     ]
    },
    {
     "name": "stderr",
     "output_type": "stream",
     "text": [
      " 83%|████████▎ | 8282/10000 [11:00<02:04, 13.79it/s]"
     ]
    },
    {
     "name": "stdout",
     "output_type": "stream",
     "text": [
      "Epoch 8280: Loss = 0.6511\n",
      "Epoch 8280: Loss = 0.6693\n",
      "Epoch 8280: Loss = 0.6538\n",
      "Epoch 8280: Loss = 0.6423\n",
      "Epoch 8280: Loss = 0.6490\n"
     ]
    },
    {
     "name": "stderr",
     "output_type": "stream",
     "text": [
      " 83%|████████▎ | 8292/10000 [11:01<02:06, 13.49it/s]"
     ]
    },
    {
     "name": "stdout",
     "output_type": "stream",
     "text": [
      "Epoch 8290: Loss = 0.7085\n",
      "Epoch 8290: Loss = 0.6494\n",
      "Epoch 8290: Loss = 0.6606\n",
      "Epoch 8290: Loss = 0.6681\n",
      "Epoch 8290: Loss = 0.6502\n"
     ]
    },
    {
     "name": "stderr",
     "output_type": "stream",
     "text": [
      " 83%|████████▎ | 8302/10000 [11:02<02:05, 13.58it/s]"
     ]
    },
    {
     "name": "stdout",
     "output_type": "stream",
     "text": [
      "Epoch 8300: Loss = 0.6629\n",
      "Epoch 8300: Loss = 0.6603\n",
      "Epoch 8300: Loss = 0.6760\n",
      "Epoch 8300: Loss = 0.6471\n",
      "Epoch 8300: Loss = 0.6687\n"
     ]
    },
    {
     "name": "stderr",
     "output_type": "stream",
     "text": [
      " 83%|████████▎ | 8312/10000 [11:03<02:27, 11.47it/s]"
     ]
    },
    {
     "name": "stdout",
     "output_type": "stream",
     "text": [
      "Epoch 8310: Loss = 0.6761\n",
      "Epoch 8310: Loss = 0.6650\n",
      "Epoch 8310: Loss = 0.6799\n",
      "Epoch 8310: Loss = 0.6359\n",
      "Epoch 8310: Loss = 0.6297\n"
     ]
    },
    {
     "name": "stderr",
     "output_type": "stream",
     "text": [
      " 83%|████████▎ | 8322/10000 [11:04<02:30, 11.16it/s]"
     ]
    },
    {
     "name": "stdout",
     "output_type": "stream",
     "text": [
      "Epoch 8320: Loss = 0.6729\n",
      "Epoch 8320: Loss = 0.6497\n",
      "Epoch 8320: Loss = 0.6627\n",
      "Epoch 8320: Loss = 0.6300\n",
      "Epoch 8320: Loss = 0.6623\n"
     ]
    },
    {
     "name": "stderr",
     "output_type": "stream",
     "text": [
      " 83%|████████▎ | 8332/10000 [11:05<02:27, 11.29it/s]"
     ]
    },
    {
     "name": "stdout",
     "output_type": "stream",
     "text": [
      "Epoch 8330: Loss = 0.6546\n",
      "Epoch 8330: Loss = 0.6451\n",
      "Epoch 8330: Loss = 0.6939\n",
      "Epoch 8330: Loss = 0.6937\n",
      "Epoch 8330: Loss = 0.6318\n"
     ]
    },
    {
     "name": "stderr",
     "output_type": "stream",
     "text": [
      " 83%|████████▎ | 8342/10000 [11:05<02:05, 13.23it/s]"
     ]
    },
    {
     "name": "stdout",
     "output_type": "stream",
     "text": [
      "Epoch 8340: Loss = 0.6668\n",
      "Epoch 8340: Loss = 0.7242\n",
      "Epoch 8340: Loss = 0.6797\n",
      "Epoch 8340: Loss = 0.6564\n",
      "Epoch 8340: Loss = 0.6523\n"
     ]
    },
    {
     "name": "stderr",
     "output_type": "stream",
     "text": [
      " 84%|████████▎ | 8352/10000 [11:06<02:04, 13.19it/s]"
     ]
    },
    {
     "name": "stdout",
     "output_type": "stream",
     "text": [
      "Epoch 8350: Loss = 0.6587\n",
      "Epoch 8350: Loss = 0.6790\n",
      "Epoch 8350: Loss = 0.6484\n",
      "Epoch 8350: Loss = 0.6535\n",
      "Epoch 8350: Loss = 0.6780\n"
     ]
    },
    {
     "name": "stderr",
     "output_type": "stream",
     "text": [
      " 84%|████████▎ | 8362/10000 [11:07<02:22, 11.51it/s]"
     ]
    },
    {
     "name": "stdout",
     "output_type": "stream",
     "text": [
      "Epoch 8360: Loss = 0.6948\n",
      "Epoch 8360: Loss = 0.6883\n",
      "Epoch 8360: Loss = 0.6838\n",
      "Epoch 8360: Loss = 0.6457\n",
      "Epoch 8360: Loss = 0.6624\n"
     ]
    },
    {
     "name": "stderr",
     "output_type": "stream",
     "text": [
      " 84%|████████▎ | 8372/10000 [11:08<02:40, 10.14it/s]"
     ]
    },
    {
     "name": "stdout",
     "output_type": "stream",
     "text": [
      "Epoch 8370: Loss = 0.6710\n",
      "Epoch 8370: Loss = 0.6355\n",
      "Epoch 8370: Loss = 0.6513\n",
      "Epoch 8370: Loss = 0.6690\n",
      "Epoch 8370: Loss = 0.6519\n"
     ]
    },
    {
     "name": "stderr",
     "output_type": "stream",
     "text": [
      " 84%|████████▍ | 8382/10000 [11:09<02:04, 13.00it/s]"
     ]
    },
    {
     "name": "stdout",
     "output_type": "stream",
     "text": [
      "Epoch 8380: Loss = 0.6614\n",
      "Epoch 8380: Loss = 0.6577\n",
      "Epoch 8380: Loss = 0.6448\n",
      "Epoch 8380: Loss = 0.6700\n",
      "Epoch 8380: Loss = 0.6381\n"
     ]
    },
    {
     "name": "stderr",
     "output_type": "stream",
     "text": [
      " 84%|████████▍ | 8392/10000 [11:09<01:57, 13.65it/s]"
     ]
    },
    {
     "name": "stdout",
     "output_type": "stream",
     "text": [
      "Epoch 8390: Loss = 0.6742\n",
      "Epoch 8390: Loss = 0.6455\n",
      "Epoch 8390: Loss = 0.6912\n",
      "Epoch 8390: Loss = 0.6358\n",
      "Epoch 8390: Loss = 0.6701\n"
     ]
    },
    {
     "name": "stderr",
     "output_type": "stream",
     "text": [
      " 84%|████████▍ | 8402/10000 [11:10<02:02, 13.04it/s]"
     ]
    },
    {
     "name": "stdout",
     "output_type": "stream",
     "text": [
      "Epoch 8400: Loss = 0.6529\n",
      "Epoch 8400: Loss = 0.6630\n",
      "Epoch 8400: Loss = 0.6453\n",
      "Epoch 8400: Loss = 0.6688\n",
      "Epoch 8400: Loss = 0.6711\n"
     ]
    },
    {
     "name": "stderr",
     "output_type": "stream",
     "text": [
      " 84%|████████▍ | 8412/10000 [11:11<01:54, 13.81it/s]"
     ]
    },
    {
     "name": "stdout",
     "output_type": "stream",
     "text": [
      "Epoch 8410: Loss = 0.6449\n",
      "Epoch 8410: Loss = 0.6312\n",
      "Epoch 8410: Loss = 0.6637\n",
      "Epoch 8410: Loss = 0.6186\n",
      "Epoch 8410: Loss = 0.6609\n"
     ]
    },
    {
     "name": "stderr",
     "output_type": "stream",
     "text": [
      " 84%|████████▍ | 8422/10000 [11:12<01:52, 13.98it/s]"
     ]
    },
    {
     "name": "stdout",
     "output_type": "stream",
     "text": [
      "Epoch 8420: Loss = 0.6647\n",
      "Epoch 8420: Loss = 0.6822\n",
      "Epoch 8420: Loss = 0.6815\n",
      "Epoch 8420: Loss = 0.6725\n",
      "Epoch 8420: Loss = 0.6355\n"
     ]
    },
    {
     "name": "stderr",
     "output_type": "stream",
     "text": [
      " 84%|████████▍ | 8432/10000 [11:13<02:08, 12.18it/s]"
     ]
    },
    {
     "name": "stdout",
     "output_type": "stream",
     "text": [
      "Epoch 8430: Loss = 0.6481\n",
      "Epoch 8430: Loss = 0.6798\n",
      "Epoch 8430: Loss = 0.6718\n",
      "Epoch 8430: Loss = 0.6522\n",
      "Epoch 8430: Loss = 0.6726\n"
     ]
    },
    {
     "name": "stderr",
     "output_type": "stream",
     "text": [
      " 84%|████████▍ | 8442/10000 [11:13<02:03, 12.62it/s]"
     ]
    },
    {
     "name": "stdout",
     "output_type": "stream",
     "text": [
      "Epoch 8440: Loss = 0.6780\n",
      "Epoch 8440: Loss = 0.7018\n",
      "Epoch 8440: Loss = 0.6961\n",
      "Epoch 8440: Loss = 0.6294\n",
      "Epoch 8440: Loss = 0.6950\n"
     ]
    },
    {
     "name": "stderr",
     "output_type": "stream",
     "text": [
      " 85%|████████▍ | 8452/10000 [11:14<01:59, 12.93it/s]"
     ]
    },
    {
     "name": "stdout",
     "output_type": "stream",
     "text": [
      "Epoch 8450: Loss = 0.6274\n",
      "Epoch 8450: Loss = 0.6463\n",
      "Epoch 8450: Loss = 0.6587\n",
      "Epoch 8450: Loss = 0.6468\n",
      "Epoch 8450: Loss = 0.6666\n"
     ]
    },
    {
     "name": "stderr",
     "output_type": "stream",
     "text": [
      " 85%|████████▍ | 8462/10000 [11:15<01:51, 13.81it/s]"
     ]
    },
    {
     "name": "stdout",
     "output_type": "stream",
     "text": [
      "Epoch 8460: Loss = 0.7106\n",
      "Epoch 8460: Loss = 0.6730\n",
      "Epoch 8460: Loss = 0.6675\n",
      "Epoch 8460: Loss = 0.6761\n",
      "Epoch 8460: Loss = 0.6808\n"
     ]
    },
    {
     "name": "stderr",
     "output_type": "stream",
     "text": [
      " 85%|████████▍ | 8472/10000 [11:16<02:02, 12.48it/s]"
     ]
    },
    {
     "name": "stdout",
     "output_type": "stream",
     "text": [
      "Epoch 8470: Loss = 0.6871\n",
      "Epoch 8470: Loss = 0.6581\n",
      "Epoch 8470: Loss = 0.6371\n",
      "Epoch 8470: Loss = 0.6537\n",
      "Epoch 8470: Loss = 0.6588\n"
     ]
    },
    {
     "name": "stderr",
     "output_type": "stream",
     "text": [
      " 85%|████████▍ | 8482/10000 [11:17<02:13, 11.35it/s]"
     ]
    },
    {
     "name": "stdout",
     "output_type": "stream",
     "text": [
      "Epoch 8480: Loss = 0.6778\n",
      "Epoch 8480: Loss = 0.6905\n",
      "Epoch 8480: Loss = 0.6638\n",
      "Epoch 8480: Loss = 0.6288\n",
      "Epoch 8480: Loss = 0.6428\n"
     ]
    },
    {
     "name": "stderr",
     "output_type": "stream",
     "text": [
      " 85%|████████▍ | 8492/10000 [11:17<01:58, 12.74it/s]"
     ]
    },
    {
     "name": "stdout",
     "output_type": "stream",
     "text": [
      "Epoch 8490: Loss = 0.6626\n",
      "Epoch 8490: Loss = 0.6535\n",
      "Epoch 8490: Loss = 0.6695\n",
      "Epoch 8490: Loss = 0.6566\n",
      "Epoch 8490: Loss = 0.6774\n"
     ]
    },
    {
     "name": "stderr",
     "output_type": "stream",
     "text": [
      " 85%|████████▌ | 8502/10000 [11:18<01:48, 13.80it/s]"
     ]
    },
    {
     "name": "stdout",
     "output_type": "stream",
     "text": [
      "Epoch 8500: Loss = 0.6746\n",
      "Epoch 8500: Loss = 0.6477\n",
      "Epoch 8500: Loss = 0.6857\n",
      "Epoch 8500: Loss = 0.6698\n",
      "Epoch 8500: Loss = 0.6854\n"
     ]
    },
    {
     "name": "stderr",
     "output_type": "stream",
     "text": [
      " 85%|████████▌ | 8512/10000 [11:19<02:01, 12.22it/s]"
     ]
    },
    {
     "name": "stdout",
     "output_type": "stream",
     "text": [
      "Epoch 8510: Loss = 0.6721\n",
      "Epoch 8510: Loss = 0.6707\n",
      "Epoch 8510: Loss = 0.6585\n",
      "Epoch 8510: Loss = 0.6566\n",
      "Epoch 8510: Loss = 0.6970\n"
     ]
    },
    {
     "name": "stderr",
     "output_type": "stream",
     "text": [
      " 85%|████████▌ | 8522/10000 [11:20<01:48, 13.64it/s]"
     ]
    },
    {
     "name": "stdout",
     "output_type": "stream",
     "text": [
      "Epoch 8520: Loss = 0.6730\n",
      "Epoch 8520: Loss = 0.6758\n",
      "Epoch 8520: Loss = 0.6302\n",
      "Epoch 8520: Loss = 0.6563\n",
      "Epoch 8520: Loss = 0.6391\n"
     ]
    },
    {
     "name": "stderr",
     "output_type": "stream",
     "text": [
      " 85%|████████▌ | 8532/10000 [11:20<01:47, 13.64it/s]"
     ]
    },
    {
     "name": "stdout",
     "output_type": "stream",
     "text": [
      "Epoch 8530: Loss = 0.6712\n",
      "Epoch 8530: Loss = 0.6560\n",
      "Epoch 8530: Loss = 0.6897\n",
      "Epoch 8530: Loss = 0.6579\n",
      "Epoch 8530: Loss = 0.6627\n"
     ]
    },
    {
     "name": "stderr",
     "output_type": "stream",
     "text": [
      " 85%|████████▌ | 8542/10000 [11:21<01:48, 13.45it/s]"
     ]
    },
    {
     "name": "stdout",
     "output_type": "stream",
     "text": [
      "Epoch 8540: Loss = 0.6146\n",
      "Epoch 8540: Loss = 0.6432\n",
      "Epoch 8540: Loss = 0.6823\n",
      "Epoch 8540: Loss = 0.6372\n",
      "Epoch 8540: Loss = 0.7004\n"
     ]
    },
    {
     "name": "stderr",
     "output_type": "stream",
     "text": [
      " 86%|████████▌ | 8552/10000 [11:22<01:48, 13.37it/s]"
     ]
    },
    {
     "name": "stdout",
     "output_type": "stream",
     "text": [
      "Epoch 8550: Loss = 0.6479\n",
      "Epoch 8550: Loss = 0.6808\n",
      "Epoch 8550: Loss = 0.6509\n",
      "Epoch 8550: Loss = 0.6705\n",
      "Epoch 8550: Loss = 0.6602\n"
     ]
    },
    {
     "name": "stderr",
     "output_type": "stream",
     "text": [
      " 86%|████████▌ | 8562/10000 [11:23<01:50, 12.99it/s]"
     ]
    },
    {
     "name": "stdout",
     "output_type": "stream",
     "text": [
      "Epoch 8560: Loss = 0.6891\n",
      "Epoch 8560: Loss = 0.6355\n",
      "Epoch 8560: Loss = 0.6472\n",
      "Epoch 8560: Loss = 0.6726\n",
      "Epoch 8560: Loss = 0.6559\n"
     ]
    },
    {
     "name": "stderr",
     "output_type": "stream",
     "text": [
      " 86%|████████▌ | 8570/10000 [11:24<02:28,  9.62it/s]"
     ]
    },
    {
     "name": "stdout",
     "output_type": "stream",
     "text": [
      "Epoch 8570: Loss = 0.6626\n",
      "Epoch 8570: Loss = 0.6724\n",
      "Epoch 8570: Loss = 0.6473\n",
      "Epoch 8570: Loss = 0.7064\n",
      "Epoch 8570: Loss = 0.6630\n"
     ]
    },
    {
     "name": "stderr",
     "output_type": "stream",
     "text": [
      " 86%|████████▌ | 8581/10000 [11:25<02:12, 10.75it/s]"
     ]
    },
    {
     "name": "stdout",
     "output_type": "stream",
     "text": [
      "Epoch 8580: Loss = 0.6726\n",
      "Epoch 8580: Loss = 0.6646\n",
      "Epoch 8580: Loss = 0.6283\n",
      "Epoch 8580: Loss = 0.6809\n",
      "Epoch 8580: Loss = 0.6810\n"
     ]
    },
    {
     "name": "stderr",
     "output_type": "stream",
     "text": [
      " 86%|████████▌ | 8593/10000 [11:25<01:44, 13.41it/s]"
     ]
    },
    {
     "name": "stdout",
     "output_type": "stream",
     "text": [
      "Epoch 8590: Loss = 0.6361\n",
      "Epoch 8590: Loss = 0.6777\n",
      "Epoch 8590: Loss = 0.6532\n",
      "Epoch 8590: Loss = 0.6581\n",
      "Epoch 8590: Loss = 0.6526\n"
     ]
    },
    {
     "name": "stderr",
     "output_type": "stream",
     "text": [
      " 86%|████████▌ | 8601/10000 [11:26<01:59, 11.74it/s]"
     ]
    },
    {
     "name": "stdout",
     "output_type": "stream",
     "text": [
      "Epoch 8600: Loss = 0.6456\n",
      "Epoch 8600: Loss = 0.6595\n",
      "Epoch 8600: Loss = 0.6975\n",
      "Epoch 8600: Loss = 0.6805\n",
      "Epoch 8600: Loss = 0.6753\n"
     ]
    },
    {
     "name": "stderr",
     "output_type": "stream",
     "text": [
      " 86%|████████▌ | 8611/10000 [11:27<01:45, 13.22it/s]"
     ]
    },
    {
     "name": "stdout",
     "output_type": "stream",
     "text": [
      "Epoch 8610: Loss = 0.6965\n",
      "Epoch 8610: Loss = 0.6684\n",
      "Epoch 8610: Loss = 0.6832\n",
      "Epoch 8610: Loss = 0.6257\n",
      "Epoch 8610: Loss = 0.6631\n"
     ]
    },
    {
     "name": "stderr",
     "output_type": "stream",
     "text": [
      " 86%|████████▌ | 8623/10000 [11:28<01:48, 12.66it/s]"
     ]
    },
    {
     "name": "stdout",
     "output_type": "stream",
     "text": [
      "Epoch 8620: Loss = 0.6611\n",
      "Epoch 8620: Loss = 0.6258\n",
      "Epoch 8620: Loss = 0.6707\n",
      "Epoch 8620: Loss = 0.6814\n",
      "Epoch 8620: Loss = 0.6547\n"
     ]
    },
    {
     "name": "stderr",
     "output_type": "stream",
     "text": [
      " 86%|████████▋ | 8633/10000 [11:29<01:42, 13.34it/s]"
     ]
    },
    {
     "name": "stdout",
     "output_type": "stream",
     "text": [
      "Epoch 8630: Loss = 0.6637\n",
      "Epoch 8630: Loss = 0.6406\n",
      "Epoch 8630: Loss = 0.6922\n",
      "Epoch 8630: Loss = 0.6603\n",
      "Epoch 8630: Loss = 0.6386\n"
     ]
    },
    {
     "name": "stderr",
     "output_type": "stream",
     "text": [
      " 86%|████████▋ | 8643/10000 [11:29<01:39, 13.67it/s]"
     ]
    },
    {
     "name": "stdout",
     "output_type": "stream",
     "text": [
      "Epoch 8640: Loss = 0.6612\n",
      "Epoch 8640: Loss = 0.6807\n",
      "Epoch 8640: Loss = 0.6697\n",
      "Epoch 8640: Loss = 0.6637\n",
      "Epoch 8640: Loss = 0.6501\n"
     ]
    },
    {
     "name": "stderr",
     "output_type": "stream",
     "text": [
      " 87%|████████▋ | 8653/10000 [11:30<01:37, 13.77it/s]"
     ]
    },
    {
     "name": "stdout",
     "output_type": "stream",
     "text": [
      "Epoch 8650: Loss = 0.6538\n",
      "Epoch 8650: Loss = 0.7016\n",
      "Epoch 8650: Loss = 0.6987\n",
      "Epoch 8650: Loss = 0.6529\n",
      "Epoch 8650: Loss = 0.6600\n"
     ]
    },
    {
     "name": "stderr",
     "output_type": "stream",
     "text": [
      " 87%|████████▋ | 8661/10000 [11:31<01:38, 13.62it/s]"
     ]
    },
    {
     "name": "stdout",
     "output_type": "stream",
     "text": [
      "Epoch 8660: Loss = 0.6252\n",
      "Epoch 8660: Loss = 0.6494\n",
      "Epoch 8660: Loss = 0.6553\n",
      "Epoch 8660: Loss = 0.6752\n",
      "Epoch 8660: Loss = 0.6884\n"
     ]
    },
    {
     "name": "stderr",
     "output_type": "stream",
     "text": [
      " 87%|████████▋ | 8671/10000 [11:32<01:37, 13.65it/s]"
     ]
    },
    {
     "name": "stdout",
     "output_type": "stream",
     "text": [
      "Epoch 8670: Loss = 0.6656\n",
      "Epoch 8670: Loss = 0.6522\n",
      "Epoch 8670: Loss = 0.6768\n",
      "Epoch 8670: Loss = 0.6321\n",
      "Epoch 8670: Loss = 0.6990\n"
     ]
    },
    {
     "name": "stderr",
     "output_type": "stream",
     "text": [
      " 87%|████████▋ | 8683/10000 [11:32<01:37, 13.55it/s]"
     ]
    },
    {
     "name": "stdout",
     "output_type": "stream",
     "text": [
      "Epoch 8680: Loss = 0.6934\n",
      "Epoch 8680: Loss = 0.6634\n",
      "Epoch 8680: Loss = 0.6304\n",
      "Epoch 8680: Loss = 0.6831\n",
      "Epoch 8680: Loss = 0.6468\n"
     ]
    },
    {
     "name": "stderr",
     "output_type": "stream",
     "text": [
      " 87%|████████▋ | 8691/10000 [11:33<01:50, 11.87it/s]"
     ]
    },
    {
     "name": "stdout",
     "output_type": "stream",
     "text": [
      "Epoch 8690: Loss = 0.6669\n",
      "Epoch 8690: Loss = 0.6914\n",
      "Epoch 8690: Loss = 0.6913\n",
      "Epoch 8690: Loss = 0.6722\n",
      "Epoch 8690: Loss = 0.7106\n"
     ]
    },
    {
     "name": "stderr",
     "output_type": "stream",
     "text": [
      " 87%|████████▋ | 8703/10000 [11:34<01:43, 12.48it/s]"
     ]
    },
    {
     "name": "stdout",
     "output_type": "stream",
     "text": [
      "Epoch 8700: Loss = 0.6513\n",
      "Epoch 8700: Loss = 0.6810\n",
      "Epoch 8700: Loss = 0.6754\n",
      "Epoch 8700: Loss = 0.6957\n",
      "Epoch 8700: Loss = 0.7059\n"
     ]
    },
    {
     "name": "stderr",
     "output_type": "stream",
     "text": [
      " 87%|████████▋ | 8713/10000 [11:35<01:43, 12.44it/s]"
     ]
    },
    {
     "name": "stdout",
     "output_type": "stream",
     "text": [
      "Epoch 8710: Loss = 0.6663\n",
      "Epoch 8710: Loss = 0.6236\n",
      "Epoch 8710: Loss = 0.6595\n",
      "Epoch 8710: Loss = 0.6679\n",
      "Epoch 8710: Loss = 0.6679\n"
     ]
    },
    {
     "name": "stderr",
     "output_type": "stream",
     "text": [
      " 87%|████████▋ | 8721/10000 [11:36<01:39, 12.91it/s]"
     ]
    },
    {
     "name": "stdout",
     "output_type": "stream",
     "text": [
      "Epoch 8720: Loss = 0.6361\n",
      "Epoch 8720: Loss = 0.6743\n",
      "Epoch 8720: Loss = 0.6788\n",
      "Epoch 8720: Loss = 0.6471\n",
      "Epoch 8720: Loss = 0.6621\n"
     ]
    },
    {
     "name": "stderr",
     "output_type": "stream",
     "text": [
      " 87%|████████▋ | 8731/10000 [11:37<01:39, 12.79it/s]"
     ]
    },
    {
     "name": "stdout",
     "output_type": "stream",
     "text": [
      "Epoch 8730: Loss = 0.6634\n",
      "Epoch 8730: Loss = 0.6966\n",
      "Epoch 8730: Loss = 0.6448\n",
      "Epoch 8730: Loss = 0.6778\n",
      "Epoch 8730: Loss = 0.6711\n"
     ]
    },
    {
     "name": "stderr",
     "output_type": "stream",
     "text": [
      " 87%|████████▋ | 8743/10000 [11:37<01:33, 13.44it/s]"
     ]
    },
    {
     "name": "stdout",
     "output_type": "stream",
     "text": [
      "Epoch 8740: Loss = 0.6791\n",
      "Epoch 8740: Loss = 0.6476\n",
      "Epoch 8740: Loss = 0.6794\n",
      "Epoch 8740: Loss = 0.6587\n",
      "Epoch 8740: Loss = 0.6544\n"
     ]
    },
    {
     "name": "stderr",
     "output_type": "stream",
     "text": [
      " 88%|████████▊ | 8753/10000 [11:38<01:29, 14.00it/s]"
     ]
    },
    {
     "name": "stdout",
     "output_type": "stream",
     "text": [
      "Epoch 8750: Loss = 0.6258\n",
      "Epoch 8750: Loss = 0.6316\n",
      "Epoch 8750: Loss = 0.6607\n",
      "Epoch 8750: Loss = 0.6590\n",
      "Epoch 8750: Loss = 0.6358\n"
     ]
    },
    {
     "name": "stderr",
     "output_type": "stream",
     "text": [
      " 88%|████████▊ | 8761/10000 [11:39<01:28, 13.96it/s]"
     ]
    },
    {
     "name": "stdout",
     "output_type": "stream",
     "text": [
      "Epoch 8760: Loss = 0.6548\n",
      "Epoch 8760: Loss = 0.6530\n",
      "Epoch 8760: Loss = 0.6548\n",
      "Epoch 8760: Loss = 0.6656\n",
      "Epoch 8760: Loss = 0.6820\n"
     ]
    },
    {
     "name": "stderr",
     "output_type": "stream",
     "text": [
      " 88%|████████▊ | 8771/10000 [11:40<01:40, 12.24it/s]"
     ]
    },
    {
     "name": "stdout",
     "output_type": "stream",
     "text": [
      "Epoch 8770: Loss = 0.6503\n",
      "Epoch 8770: Loss = 0.6321\n",
      "Epoch 8770: Loss = 0.6690\n",
      "Epoch 8770: Loss = 0.6173\n",
      "Epoch 8770: Loss = 0.6432\n"
     ]
    },
    {
     "name": "stderr",
     "output_type": "stream",
     "text": [
      " 88%|████████▊ | 8783/10000 [11:41<01:35, 12.79it/s]"
     ]
    },
    {
     "name": "stdout",
     "output_type": "stream",
     "text": [
      "Epoch 8780: Loss = 0.6406\n",
      "Epoch 8780: Loss = 0.6867\n",
      "Epoch 8780: Loss = 0.6421\n",
      "Epoch 8780: Loss = 0.6442\n",
      "Epoch 8780: Loss = 0.6477\n"
     ]
    },
    {
     "name": "stderr",
     "output_type": "stream",
     "text": [
      " 88%|████████▊ | 8791/10000 [11:41<01:50, 10.95it/s]"
     ]
    },
    {
     "name": "stdout",
     "output_type": "stream",
     "text": [
      "Epoch 8790: Loss = 0.6368\n",
      "Epoch 8790: Loss = 0.6387\n",
      "Epoch 8790: Loss = 0.6915\n",
      "Epoch 8790: Loss = 0.6853\n",
      "Epoch 8790: Loss = 0.6848\n"
     ]
    },
    {
     "name": "stderr",
     "output_type": "stream",
     "text": [
      " 88%|████████▊ | 8803/10000 [11:42<01:29, 13.39it/s]"
     ]
    },
    {
     "name": "stdout",
     "output_type": "stream",
     "text": [
      "Epoch 8800: Loss = 0.6572\n",
      "Epoch 8800: Loss = 0.6846\n",
      "Epoch 8800: Loss = 0.6492\n",
      "Epoch 8800: Loss = 0.6669\n",
      "Epoch 8800: Loss = 0.6380\n"
     ]
    },
    {
     "name": "stderr",
     "output_type": "stream",
     "text": [
      " 88%|████████▊ | 8811/10000 [11:43<01:37, 12.20it/s]"
     ]
    },
    {
     "name": "stdout",
     "output_type": "stream",
     "text": [
      "Epoch 8810: Loss = 0.7051\n",
      "Epoch 8810: Loss = 0.6783\n",
      "Epoch 8810: Loss = 0.6603\n",
      "Epoch 8810: Loss = 0.6583\n",
      "Epoch 8810: Loss = 0.6655\n"
     ]
    },
    {
     "name": "stderr",
     "output_type": "stream",
     "text": [
      " 88%|████████▊ | 8821/10000 [11:44<01:43, 11.40it/s]"
     ]
    },
    {
     "name": "stdout",
     "output_type": "stream",
     "text": [
      "Epoch 8820: Loss = 0.6901\n",
      "Epoch 8820: Loss = 0.6669\n",
      "Epoch 8820: Loss = 0.6832\n",
      "Epoch 8820: Loss = 0.6661\n",
      "Epoch 8820: Loss = 0.6591\n"
     ]
    },
    {
     "name": "stderr",
     "output_type": "stream",
     "text": [
      " 88%|████████▊ | 8831/10000 [11:45<01:40, 11.68it/s]"
     ]
    },
    {
     "name": "stdout",
     "output_type": "stream",
     "text": [
      "Epoch 8830: Loss = 0.6673\n",
      "Epoch 8830: Loss = 0.6683\n",
      "Epoch 8830: Loss = 0.6668\n",
      "Epoch 8830: Loss = 0.6683\n",
      "Epoch 8830: Loss = 0.6395\n"
     ]
    },
    {
     "name": "stderr",
     "output_type": "stream",
     "text": [
      " 88%|████████▊ | 8843/10000 [11:46<01:28, 13.11it/s]"
     ]
    },
    {
     "name": "stdout",
     "output_type": "stream",
     "text": [
      "Epoch 8840: Loss = 0.6574\n",
      "Epoch 8840: Loss = 0.6914\n",
      "Epoch 8840: Loss = 0.6794\n",
      "Epoch 8840: Loss = 0.6444\n",
      "Epoch 8840: Loss = 0.6799\n"
     ]
    },
    {
     "name": "stderr",
     "output_type": "stream",
     "text": [
      " 89%|████████▊ | 8851/10000 [11:46<01:32, 12.37it/s]"
     ]
    },
    {
     "name": "stdout",
     "output_type": "stream",
     "text": [
      "Epoch 8850: Loss = 0.6974\n",
      "Epoch 8850: Loss = 0.6628\n",
      "Epoch 8850: Loss = 0.6702\n",
      "Epoch 8850: Loss = 0.6508\n",
      "Epoch 8850: Loss = 0.6451\n"
     ]
    },
    {
     "name": "stderr",
     "output_type": "stream",
     "text": [
      " 89%|████████▊ | 8861/10000 [11:47<01:32, 12.27it/s]"
     ]
    },
    {
     "name": "stdout",
     "output_type": "stream",
     "text": [
      "Epoch 8860: Loss = 0.6797\n",
      "Epoch 8860: Loss = 0.6585\n",
      "Epoch 8860: Loss = 0.6333\n",
      "Epoch 8860: Loss = 0.6619\n",
      "Epoch 8860: Loss = 0.6333\n"
     ]
    },
    {
     "name": "stderr",
     "output_type": "stream",
     "text": [
      " 89%|████████▊ | 8873/10000 [11:48<01:21, 13.89it/s]"
     ]
    },
    {
     "name": "stdout",
     "output_type": "stream",
     "text": [
      "Epoch 8870: Loss = 0.6649\n",
      "Epoch 8870: Loss = 0.6541\n",
      "Epoch 8870: Loss = 0.6547\n",
      "Epoch 8870: Loss = 0.6468\n",
      "Epoch 8870: Loss = 0.6599\n"
     ]
    },
    {
     "name": "stderr",
     "output_type": "stream",
     "text": [
      " 89%|████████▉ | 8881/10000 [11:49<01:26, 13.00it/s]"
     ]
    },
    {
     "name": "stdout",
     "output_type": "stream",
     "text": [
      "Epoch 8880: Loss = 0.6348\n",
      "Epoch 8880: Loss = 0.6601\n",
      "Epoch 8880: Loss = 0.6616\n",
      "Epoch 8880: Loss = 0.6674\n",
      "Epoch 8880: Loss = 0.6564\n"
     ]
    },
    {
     "name": "stderr",
     "output_type": "stream",
     "text": [
      " 89%|████████▉ | 8893/10000 [11:49<01:20, 13.68it/s]"
     ]
    },
    {
     "name": "stdout",
     "output_type": "stream",
     "text": [
      "Epoch 8890: Loss = 0.6455\n",
      "Epoch 8890: Loss = 0.6844\n",
      "Epoch 8890: Loss = 0.6534\n",
      "Epoch 8890: Loss = 0.6261\n",
      "Epoch 8890: Loss = 0.6737\n"
     ]
    },
    {
     "name": "stderr",
     "output_type": "stream",
     "text": [
      " 89%|████████▉ | 8901/10000 [11:50<01:18, 14.08it/s]"
     ]
    },
    {
     "name": "stdout",
     "output_type": "stream",
     "text": [
      "Epoch 8900: Loss = 0.6555\n",
      "Epoch 8900: Loss = 0.6421\n",
      "Epoch 8900: Loss = 0.6531\n",
      "Epoch 8900: Loss = 0.6898\n",
      "Epoch 8900: Loss = 0.6643\n"
     ]
    },
    {
     "name": "stderr",
     "output_type": "stream",
     "text": [
      " 89%|████████▉ | 8911/10000 [11:51<01:16, 14.29it/s]"
     ]
    },
    {
     "name": "stdout",
     "output_type": "stream",
     "text": [
      "Epoch 8910: Loss = 0.6843\n",
      "Epoch 8910: Loss = 0.6685\n",
      "Epoch 8910: Loss = 0.6211\n",
      "Epoch 8910: Loss = 0.6904\n",
      "Epoch 8910: Loss = 0.6577\n"
     ]
    },
    {
     "name": "stderr",
     "output_type": "stream",
     "text": [
      " 89%|████████▉ | 8923/10000 [11:52<01:25, 12.58it/s]"
     ]
    },
    {
     "name": "stdout",
     "output_type": "stream",
     "text": [
      "Epoch 8920: Loss = 0.6618\n",
      "Epoch 8920: Loss = 0.6411\n",
      "Epoch 8920: Loss = 0.6853\n",
      "Epoch 8920: Loss = 0.6778\n",
      "Epoch 8920: Loss = 0.6694\n"
     ]
    },
    {
     "name": "stderr",
     "output_type": "stream",
     "text": [
      " 89%|████████▉ | 8931/10000 [11:52<01:19, 13.44it/s]"
     ]
    },
    {
     "name": "stdout",
     "output_type": "stream",
     "text": [
      "Epoch 8930: Loss = 0.6815\n",
      "Epoch 8930: Loss = 0.6362\n",
      "Epoch 8930: Loss = 0.6794\n",
      "Epoch 8930: Loss = 0.6497\n",
      "Epoch 8930: Loss = 0.6943\n"
     ]
    },
    {
     "name": "stderr",
     "output_type": "stream",
     "text": [
      " 89%|████████▉ | 8943/10000 [11:53<01:19, 13.29it/s]"
     ]
    },
    {
     "name": "stdout",
     "output_type": "stream",
     "text": [
      "Epoch 8940: Loss = 0.6515\n",
      "Epoch 8940: Loss = 0.6734\n",
      "Epoch 8940: Loss = 0.6836\n",
      "Epoch 8940: Loss = 0.6546\n",
      "Epoch 8940: Loss = 0.6928\n"
     ]
    },
    {
     "name": "stderr",
     "output_type": "stream",
     "text": [
      " 90%|████████▉ | 8951/10000 [11:54<01:34, 11.13it/s]"
     ]
    },
    {
     "name": "stdout",
     "output_type": "stream",
     "text": [
      "Epoch 8950: Loss = 0.6797\n",
      "Epoch 8950: Loss = 0.6956\n",
      "Epoch 8950: Loss = 0.6803\n",
      "Epoch 8950: Loss = 0.6818\n",
      "Epoch 8950: Loss = 0.6488\n"
     ]
    },
    {
     "name": "stderr",
     "output_type": "stream",
     "text": [
      " 90%|████████▉ | 8961/10000 [11:55<01:32, 11.26it/s]"
     ]
    },
    {
     "name": "stdout",
     "output_type": "stream",
     "text": [
      "Epoch 8960: Loss = 0.6563\n",
      "Epoch 8960: Loss = 0.7040\n",
      "Epoch 8960: Loss = 0.6593\n",
      "Epoch 8960: Loss = 0.6635\n",
      "Epoch 8960: Loss = 0.6646\n"
     ]
    },
    {
     "name": "stderr",
     "output_type": "stream",
     "text": [
      " 90%|████████▉ | 8973/10000 [11:56<01:17, 13.27it/s]"
     ]
    },
    {
     "name": "stdout",
     "output_type": "stream",
     "text": [
      "Epoch 8970: Loss = 0.6773\n",
      "Epoch 8970: Loss = 0.6606\n",
      "Epoch 8970: Loss = 0.7011\n",
      "Epoch 8970: Loss = 0.6755\n",
      "Epoch 8970: Loss = 0.6354\n"
     ]
    },
    {
     "name": "stderr",
     "output_type": "stream",
     "text": [
      " 90%|████████▉ | 8981/10000 [11:56<01:13, 13.88it/s]"
     ]
    },
    {
     "name": "stdout",
     "output_type": "stream",
     "text": [
      "Epoch 8980: Loss = 0.6774\n",
      "Epoch 8980: Loss = 0.6774\n",
      "Epoch 8980: Loss = 0.6666\n",
      "Epoch 8980: Loss = 0.6662\n",
      "Epoch 8980: Loss = 0.6792\n"
     ]
    },
    {
     "name": "stderr",
     "output_type": "stream",
     "text": [
      " 90%|████████▉ | 8991/10000 [11:57<01:16, 13.17it/s]"
     ]
    },
    {
     "name": "stdout",
     "output_type": "stream",
     "text": [
      "Epoch 8990: Loss = 0.6576\n",
      "Epoch 8990: Loss = 0.6445\n",
      "Epoch 8990: Loss = 0.6442\n",
      "Epoch 8990: Loss = 0.6402\n",
      "Epoch 8990: Loss = 0.6770\n"
     ]
    },
    {
     "name": "stderr",
     "output_type": "stream",
     "text": [
      " 90%|█████████ | 9003/10000 [11:58<01:10, 14.15it/s]"
     ]
    },
    {
     "name": "stdout",
     "output_type": "stream",
     "text": [
      "Epoch 9000: Loss = 0.6755\n",
      "Epoch 9000: Loss = 0.6560\n",
      "Epoch 9000: Loss = 0.6599\n",
      "Epoch 9000: Loss = 0.6509\n",
      "Epoch 9000: Loss = 0.6861\n"
     ]
    },
    {
     "name": "stderr",
     "output_type": "stream",
     "text": [
      " 90%|█████████ | 9011/10000 [11:59<01:18, 12.63it/s]"
     ]
    },
    {
     "name": "stdout",
     "output_type": "stream",
     "text": [
      "Epoch 9010: Loss = 0.6713\n",
      "Epoch 9010: Loss = 0.6737\n",
      "Epoch 9010: Loss = 0.6782\n",
      "Epoch 9010: Loss = 0.6716\n",
      "Epoch 9010: Loss = 0.6911\n"
     ]
    },
    {
     "name": "stderr",
     "output_type": "stream",
     "text": [
      " 90%|█████████ | 9021/10000 [12:00<01:27, 11.25it/s]"
     ]
    },
    {
     "name": "stdout",
     "output_type": "stream",
     "text": [
      "Epoch 9020: Loss = 0.6520\n",
      "Epoch 9020: Loss = 0.6720\n",
      "Epoch 9020: Loss = 0.6792\n",
      "Epoch 9020: Loss = 0.6799\n",
      "Epoch 9020: Loss = 0.6382\n"
     ]
    },
    {
     "name": "stderr",
     "output_type": "stream",
     "text": [
      " 90%|█████████ | 9031/10000 [12:01<01:22, 11.73it/s]"
     ]
    },
    {
     "name": "stdout",
     "output_type": "stream",
     "text": [
      "Epoch 9030: Loss = 0.6448\n",
      "Epoch 9030: Loss = 0.6543\n",
      "Epoch 9030: Loss = 0.6531\n",
      "Epoch 9030: Loss = 0.6845\n",
      "Epoch 9030: Loss = 0.6767\n"
     ]
    },
    {
     "name": "stderr",
     "output_type": "stream",
     "text": [
      " 90%|█████████ | 9041/10000 [12:02<01:32, 10.36it/s]"
     ]
    },
    {
     "name": "stdout",
     "output_type": "stream",
     "text": [
      "Epoch 9040: Loss = 0.6851\n",
      "Epoch 9040: Loss = 0.6589\n",
      "Epoch 9040: Loss = 0.6396\n",
      "Epoch 9040: Loss = 0.6503\n",
      "Epoch 9040: Loss = 0.6921\n"
     ]
    },
    {
     "name": "stderr",
     "output_type": "stream",
     "text": [
      " 91%|█████████ | 9051/10000 [12:03<01:30, 10.54it/s]"
     ]
    },
    {
     "name": "stdout",
     "output_type": "stream",
     "text": [
      "Epoch 9050: Loss = 0.6691\n",
      "Epoch 9050: Loss = 0.6651\n",
      "Epoch 9050: Loss = 0.6799\n",
      "Epoch 9050: Loss = 0.7003\n",
      "Epoch 9050: Loss = 0.6842\n"
     ]
    },
    {
     "name": "stderr",
     "output_type": "stream",
     "text": [
      " 91%|█████████ | 9061/10000 [12:03<01:15, 12.50it/s]"
     ]
    },
    {
     "name": "stdout",
     "output_type": "stream",
     "text": [
      "Epoch 9060: Loss = 0.6888\n",
      "Epoch 9060: Loss = 0.6687\n",
      "Epoch 9060: Loss = 0.6778\n",
      "Epoch 9060: Loss = 0.6428\n",
      "Epoch 9060: Loss = 0.6974\n"
     ]
    },
    {
     "name": "stderr",
     "output_type": "stream",
     "text": [
      " 91%|█████████ | 9071/10000 [12:04<01:18, 11.90it/s]"
     ]
    },
    {
     "name": "stdout",
     "output_type": "stream",
     "text": [
      "Epoch 9070: Loss = 0.6710\n",
      "Epoch 9070: Loss = 0.6710\n",
      "Epoch 9070: Loss = 0.6722\n",
      "Epoch 9070: Loss = 0.6577\n",
      "Epoch 9070: Loss = 0.6840\n"
     ]
    },
    {
     "name": "stderr",
     "output_type": "stream",
     "text": [
      " 91%|█████████ | 9081/10000 [12:05<01:24, 10.83it/s]"
     ]
    },
    {
     "name": "stdout",
     "output_type": "stream",
     "text": [
      "Epoch 9080: Loss = 0.6574\n",
      "Epoch 9080: Loss = 0.6874\n",
      "Epoch 9080: Loss = 0.6793\n",
      "Epoch 9080: Loss = 0.6240\n",
      "Epoch 9080: Loss = 0.6735\n"
     ]
    },
    {
     "name": "stderr",
     "output_type": "stream",
     "text": [
      " 91%|█████████ | 9091/10000 [12:06<01:25, 10.62it/s]"
     ]
    },
    {
     "name": "stdout",
     "output_type": "stream",
     "text": [
      "Epoch 9090: Loss = 0.6504\n",
      "Epoch 9090: Loss = 0.6637\n",
      "Epoch 9090: Loss = 0.6979\n",
      "Epoch 9090: Loss = 0.6828\n",
      "Epoch 9090: Loss = 0.6968\n"
     ]
    },
    {
     "name": "stderr",
     "output_type": "stream",
     "text": [
      " 91%|█████████ | 9101/10000 [12:07<01:20, 11.16it/s]"
     ]
    },
    {
     "name": "stdout",
     "output_type": "stream",
     "text": [
      "Epoch 9100: Loss = 0.6533\n",
      "Epoch 9100: Loss = 0.6668\n",
      "Epoch 9100: Loss = 0.6799\n",
      "Epoch 9100: Loss = 0.6862\n",
      "Epoch 9100: Loss = 0.6407\n"
     ]
    },
    {
     "name": "stderr",
     "output_type": "stream",
     "text": [
      " 91%|█████████ | 9111/10000 [12:08<01:09, 12.71it/s]"
     ]
    },
    {
     "name": "stdout",
     "output_type": "stream",
     "text": [
      "Epoch 9110: Loss = 0.6841\n",
      "Epoch 9110: Loss = 0.7021\n",
      "Epoch 9110: Loss = 0.6348\n",
      "Epoch 9110: Loss = 0.6552\n",
      "Epoch 9110: Loss = 0.6372\n"
     ]
    },
    {
     "name": "stderr",
     "output_type": "stream",
     "text": [
      " 91%|█████████ | 9121/10000 [12:09<01:30,  9.66it/s]"
     ]
    },
    {
     "name": "stdout",
     "output_type": "stream",
     "text": [
      "Epoch 9120: Loss = 0.6827\n",
      "Epoch 9120: Loss = 0.6588\n",
      "Epoch 9120: Loss = 0.6493\n",
      "Epoch 9120: Loss = 0.6590\n",
      "Epoch 9120: Loss = 0.6925\n"
     ]
    },
    {
     "name": "stderr",
     "output_type": "stream",
     "text": [
      " 91%|█████████▏| 9131/10000 [12:10<01:26, 10.08it/s]"
     ]
    },
    {
     "name": "stdout",
     "output_type": "stream",
     "text": [
      "Epoch 9130: Loss = 0.6401\n",
      "Epoch 9130: Loss = 0.6805\n",
      "Epoch 9130: Loss = 0.6596\n",
      "Epoch 9130: Loss = 0.6478\n",
      "Epoch 9130: Loss = 0.6509\n"
     ]
    },
    {
     "name": "stderr",
     "output_type": "stream",
     "text": [
      " 91%|█████████▏| 9143/10000 [12:11<01:09, 12.30it/s]"
     ]
    },
    {
     "name": "stdout",
     "output_type": "stream",
     "text": [
      "Epoch 9140: Loss = 0.6928\n",
      "Epoch 9140: Loss = 0.6432\n",
      "Epoch 9140: Loss = 0.6559\n",
      "Epoch 9140: Loss = 0.6427\n",
      "Epoch 9140: Loss = 0.6759\n"
     ]
    },
    {
     "name": "stderr",
     "output_type": "stream",
     "text": [
      " 92%|█████████▏| 9153/10000 [12:12<01:03, 13.32it/s]"
     ]
    },
    {
     "name": "stdout",
     "output_type": "stream",
     "text": [
      "Epoch 9150: Loss = 0.6877\n",
      "Epoch 9150: Loss = 0.6536\n",
      "Epoch 9150: Loss = 0.6796\n",
      "Epoch 9150: Loss = 0.6492\n",
      "Epoch 9150: Loss = 0.7042\n"
     ]
    },
    {
     "name": "stderr",
     "output_type": "stream",
     "text": [
      " 92%|█████████▏| 9161/10000 [12:12<01:01, 13.68it/s]"
     ]
    },
    {
     "name": "stdout",
     "output_type": "stream",
     "text": [
      "Epoch 9160: Loss = 0.6481\n",
      "Epoch 9160: Loss = 0.6626\n",
      "Epoch 9160: Loss = 0.6319\n",
      "Epoch 9160: Loss = 0.6738\n",
      "Epoch 9160: Loss = 0.6352\n"
     ]
    },
    {
     "name": "stderr",
     "output_type": "stream",
     "text": [
      " 92%|█████████▏| 9171/10000 [12:13<01:16, 10.79it/s]"
     ]
    },
    {
     "name": "stdout",
     "output_type": "stream",
     "text": [
      "Epoch 9170: Loss = 0.6613\n",
      "Epoch 9170: Loss = 0.6601\n",
      "Epoch 9170: Loss = 0.6723\n",
      "Epoch 9170: Loss = 0.6792\n",
      "Epoch 9170: Loss = 0.6426\n"
     ]
    },
    {
     "name": "stderr",
     "output_type": "stream",
     "text": [
      " 92%|█████████▏| 9181/10000 [12:14<01:24,  9.67it/s]"
     ]
    },
    {
     "name": "stdout",
     "output_type": "stream",
     "text": [
      "Epoch 9180: Loss = 0.6338\n",
      "Epoch 9180: Loss = 0.6399\n",
      "Epoch 9180: Loss = 0.6610\n",
      "Epoch 9180: Loss = 0.6557\n",
      "Epoch 9180: Loss = 0.6605\n"
     ]
    },
    {
     "name": "stderr",
     "output_type": "stream",
     "text": [
      " 92%|█████████▏| 9192/10000 [12:15<01:22,  9.82it/s]"
     ]
    },
    {
     "name": "stdout",
     "output_type": "stream",
     "text": [
      "Epoch 9190: Loss = 0.6650\n",
      "Epoch 9190: Loss = 0.6428\n",
      "Epoch 9190: Loss = 0.6401\n",
      "Epoch 9190: Loss = 0.6664\n",
      "Epoch 9190: Loss = 0.6579\n"
     ]
    },
    {
     "name": "stderr",
     "output_type": "stream",
     "text": [
      " 92%|█████████▏| 9197/10000 [12:16<01:04, 12.49it/s]\n"
     ]
    },
    {
     "ename": "KeyboardInterrupt",
     "evalue": "",
     "output_type": "error",
     "traceback": [
      "\u001b[0;31m---------------------------------------------------------------------------\u001b[0m",
      "\u001b[0;31mKeyboardInterrupt\u001b[0m                         Traceback (most recent call last)",
      "Cell \u001b[0;32mIn[11], line 22\u001b[0m\n\u001b[1;32m     20\u001b[0m \u001b[39m# 3. Treinamento\u001b[39;00m\n\u001b[1;32m     21\u001b[0m losses \u001b[39m=\u001b[39m []\n\u001b[0;32m---> 22\u001b[0m \u001b[39mfor\u001b[39;00m state \u001b[39min\u001b[39;00m training_loop(loader, model, schedule, epochs\u001b[39m=\u001b[39mEPOCHS, lr\u001b[39m=\u001b[39mLR):\n\u001b[1;32m     23\u001b[0m     losses\u001b[39m.\u001b[39mappend(state\u001b[39m.\u001b[39mloss\u001b[39m.\u001b[39mitem())\n\u001b[1;32m     24\u001b[0m     \u001b[39mif\u001b[39;00m state\u001b[39m.\u001b[39m_ \u001b[39m%\u001b[39m \u001b[39m10\u001b[39m \u001b[39m==\u001b[39m \u001b[39m0\u001b[39m:\n",
      "File \u001b[0;32m~/Documents/tiny_diffusion_model/tiny_diffusion_model/diff.py:75\u001b[0m, in \u001b[0;36mtraining_loop\u001b[0;34m(loader, model, schedule, accelerator, epochs, lr, conditional)\u001b[0m\n\u001b[1;32m     72\u001b[0m model, optimizer, loader \u001b[39m=\u001b[39m accelerator\u001b[39m.\u001b[39mprepare(model, optimizer, loader)\n\u001b[1;32m     74\u001b[0m \u001b[39mfor\u001b[39;00m _ \u001b[39min\u001b[39;00m (pbar \u001b[39m:=\u001b[39m tqdm(\u001b[39mrange\u001b[39m(epochs))):\n\u001b[0;32m---> 75\u001b[0m   \u001b[39mfor\u001b[39;00m x0 \u001b[39min\u001b[39;00m loader:\n\u001b[1;32m     76\u001b[0m     model\u001b[39m.\u001b[39mtrain()\n\u001b[1;32m     77\u001b[0m     optimizer\u001b[39m.\u001b[39mzero_grad()\n",
      "File \u001b[0;32m~/.local/lib/python3.10/site-packages/accelerate/data_loader.py:577\u001b[0m, in \u001b[0;36mDataLoaderShard.__iter__\u001b[0;34m(self)\u001b[0m\n\u001b[1;32m    575\u001b[0m     current_batch \u001b[39m=\u001b[39m send_to_device(current_batch, \u001b[39mself\u001b[39m\u001b[39m.\u001b[39mdevice, non_blocking\u001b[39m=\u001b[39m\u001b[39mself\u001b[39m\u001b[39m.\u001b[39m_non_blocking)\n\u001b[1;32m    576\u001b[0m \u001b[39mself\u001b[39m\u001b[39m.\u001b[39m_update_state_dict()\n\u001b[0;32m--> 577\u001b[0m next_batch \u001b[39m=\u001b[39m \u001b[39mnext\u001b[39;49m(dataloader_iter)\n\u001b[1;32m    578\u001b[0m \u001b[39mif\u001b[39;00m batch_index \u001b[39m>\u001b[39m\u001b[39m=\u001b[39m \u001b[39mself\u001b[39m\u001b[39m.\u001b[39mskip_batches:\n\u001b[1;32m    579\u001b[0m     \u001b[39myield\u001b[39;00m current_batch\n",
      "File \u001b[0;32m~/.local/lib/python3.10/site-packages/torch/utils/data/dataloader.py:631\u001b[0m, in \u001b[0;36m_BaseDataLoaderIter.__next__\u001b[0;34m(self)\u001b[0m\n\u001b[1;32m    628\u001b[0m \u001b[39mif\u001b[39;00m \u001b[39mself\u001b[39m\u001b[39m.\u001b[39m_sampler_iter \u001b[39mis\u001b[39;00m \u001b[39mNone\u001b[39;00m:\n\u001b[1;32m    629\u001b[0m     \u001b[39m# TODO(https://github.com/pytorch/pytorch/issues/76750)\u001b[39;00m\n\u001b[1;32m    630\u001b[0m     \u001b[39mself\u001b[39m\u001b[39m.\u001b[39m_reset()  \u001b[39m# type: ignore[call-arg]\u001b[39;00m\n\u001b[0;32m--> 631\u001b[0m data \u001b[39m=\u001b[39m \u001b[39mself\u001b[39;49m\u001b[39m.\u001b[39;49m_next_data()\n\u001b[1;32m    632\u001b[0m \u001b[39mself\u001b[39m\u001b[39m.\u001b[39m_num_yielded \u001b[39m+\u001b[39m\u001b[39m=\u001b[39m \u001b[39m1\u001b[39m\n\u001b[1;32m    633\u001b[0m \u001b[39mif\u001b[39;00m \u001b[39mself\u001b[39m\u001b[39m.\u001b[39m_dataset_kind \u001b[39m==\u001b[39m _DatasetKind\u001b[39m.\u001b[39mIterable \u001b[39mand\u001b[39;00m \\\n\u001b[1;32m    634\u001b[0m         \u001b[39mself\u001b[39m\u001b[39m.\u001b[39m_IterableDataset_len_called \u001b[39mis\u001b[39;00m \u001b[39mnot\u001b[39;00m \u001b[39mNone\u001b[39;00m \u001b[39mand\u001b[39;00m \\\n\u001b[1;32m    635\u001b[0m         \u001b[39mself\u001b[39m\u001b[39m.\u001b[39m_num_yielded \u001b[39m>\u001b[39m \u001b[39mself\u001b[39m\u001b[39m.\u001b[39m_IterableDataset_len_called:\n",
      "File \u001b[0;32m~/.local/lib/python3.10/site-packages/torch/utils/data/dataloader.py:675\u001b[0m, in \u001b[0;36m_SingleProcessDataLoaderIter._next_data\u001b[0;34m(self)\u001b[0m\n\u001b[1;32m    673\u001b[0m \u001b[39mdef\u001b[39;00m \u001b[39m_next_data\u001b[39m(\u001b[39mself\u001b[39m):\n\u001b[1;32m    674\u001b[0m     index \u001b[39m=\u001b[39m \u001b[39mself\u001b[39m\u001b[39m.\u001b[39m_next_index()  \u001b[39m# may raise StopIteration\u001b[39;00m\n\u001b[0;32m--> 675\u001b[0m     data \u001b[39m=\u001b[39m \u001b[39mself\u001b[39;49m\u001b[39m.\u001b[39;49m_dataset_fetcher\u001b[39m.\u001b[39;49mfetch(index)  \u001b[39m# may raise StopIteration\u001b[39;00m\n\u001b[1;32m    676\u001b[0m     \u001b[39mif\u001b[39;00m \u001b[39mself\u001b[39m\u001b[39m.\u001b[39m_pin_memory:\n\u001b[1;32m    677\u001b[0m         data \u001b[39m=\u001b[39m _utils\u001b[39m.\u001b[39mpin_memory\u001b[39m.\u001b[39mpin_memory(data, \u001b[39mself\u001b[39m\u001b[39m.\u001b[39m_pin_memory_device)\n",
      "File \u001b[0;32m~/.local/lib/python3.10/site-packages/torch/utils/data/_utils/fetch.py:51\u001b[0m, in \u001b[0;36m_MapDatasetFetcher.fetch\u001b[0;34m(self, possibly_batched_index)\u001b[0m\n\u001b[1;32m     49\u001b[0m         data \u001b[39m=\u001b[39m \u001b[39mself\u001b[39m\u001b[39m.\u001b[39mdataset\u001b[39m.\u001b[39m__getitems__(possibly_batched_index)\n\u001b[1;32m     50\u001b[0m     \u001b[39melse\u001b[39;00m:\n\u001b[0;32m---> 51\u001b[0m         data \u001b[39m=\u001b[39m [\u001b[39mself\u001b[39m\u001b[39m.\u001b[39mdataset[idx] \u001b[39mfor\u001b[39;00m idx \u001b[39min\u001b[39;00m possibly_batched_index]\n\u001b[1;32m     52\u001b[0m \u001b[39melse\u001b[39;00m:\n\u001b[1;32m     53\u001b[0m     data \u001b[39m=\u001b[39m \u001b[39mself\u001b[39m\u001b[39m.\u001b[39mdataset[possibly_batched_index]\n",
      "File \u001b[0;32m~/.local/lib/python3.10/site-packages/torch/utils/data/_utils/fetch.py:51\u001b[0m, in \u001b[0;36m<listcomp>\u001b[0;34m(.0)\u001b[0m\n\u001b[1;32m     49\u001b[0m         data \u001b[39m=\u001b[39m \u001b[39mself\u001b[39m\u001b[39m.\u001b[39mdataset\u001b[39m.\u001b[39m__getitems__(possibly_batched_index)\n\u001b[1;32m     50\u001b[0m     \u001b[39melse\u001b[39;00m:\n\u001b[0;32m---> 51\u001b[0m         data \u001b[39m=\u001b[39m [\u001b[39mself\u001b[39m\u001b[39m.\u001b[39mdataset[idx] \u001b[39mfor\u001b[39;00m idx \u001b[39min\u001b[39;00m possibly_batched_index]\n\u001b[1;32m     52\u001b[0m \u001b[39melse\u001b[39;00m:\n\u001b[1;32m     53\u001b[0m     data \u001b[39m=\u001b[39m \u001b[39mself\u001b[39m\u001b[39m.\u001b[39mdataset[possibly_batched_index]\n",
      "\u001b[0;31mKeyboardInterrupt\u001b[0m: "
     ]
    }
   ],
   "source": [
    "import torch\n",
    "from torch.utils.data import DataLoader\n",
    "import matplotlib.pyplot as plt\n",
    "import numpy as np\n",
    "\n",
    "# Configurações\n",
    "BATCH_SIZE = 2048\n",
    "EPOCHS = 10000\n",
    "LR = 1e-3\n",
    "DEVICE = 'cuda' if torch.cuda.is_available() else 'cpu'\n",
    "\n",
    "# 1. Dataset\n",
    "dataset = BarnsleyFern(10000)\n",
    "loader = DataLoader(dataset, batch_size=BATCH_SIZE, shuffle=True)\n",
    "\n",
    "# 2. Modelo e scheduler\n",
    "model = TimeInputMLP(dim=2).to(DEVICE)\n",
    "schedule = ScheduleLogLinear(N=200, sigma_min=0.01, sigma_max=10)\n",
    "\n",
    "# 3. Treinamento\n",
    "losses = []\n",
    "for state in training_loop(loader, model, schedule, epochs=EPOCHS, lr=LR):\n",
    "    losses.append(state.loss.item())\n",
    "    if state._ % 10 == 0:\n",
    "        print(f\"Epoch {state._}: Loss = {state.loss.item():.4f}\")\n",
    "\n",
    "# 4. Visualização da perda\n",
    "plt.plot(moving_average(losses, 10))\n",
    "plt.title(\"Training Loss (Moving Average)\")\n",
    "plt.xlabel(\"Step\")\n",
    "plt.ylabel(\"Loss\")\n",
    "plt.grid()\n",
    "plt.show()\n",
    "\n",
    "# 5. Geração de amostras\n",
    "sigmas = schedule.sample_sigmas(steps=50).to(DEVICE)\n",
    "\n",
    "samples_list = []\n",
    "for sample in samples(model, sigmas, batchsize=1024):\n",
    "    samples_list.append(sample.cpu())\n",
    "\n",
    "# 6. Visualizar imagem final\n",
    "final_sample = samples_list[-1].numpy()\n",
    "plt.scatter(final_sample[:, 0], final_sample[:, 1], s=0.5, alpha=0.7)\n",
    "plt.title(\"Generated Sample (Final Step)\")\n",
    "plt.axis('equal')\n",
    "plt.grid(True)\n",
    "plt.show()\n"
   ]
  },
  {
   "cell_type": "code",
   "execution_count": null,
   "metadata": {},
   "outputs": [],
   "source": []
  }
 ],
 "metadata": {
  "kernelspec": {
   "display_name": "Python 3",
   "language": "python",
   "name": "python3"
  },
  "language_info": {
   "codemirror_mode": {
    "name": "ipython",
    "version": 3
   },
   "file_extension": ".py",
   "mimetype": "text/x-python",
   "name": "python",
   "nbconvert_exporter": "python",
   "pygments_lexer": "ipython3",
   "version": "3.10.12"
  },
  "orig_nbformat": 4
 },
 "nbformat": 4,
 "nbformat_minor": 2
}
