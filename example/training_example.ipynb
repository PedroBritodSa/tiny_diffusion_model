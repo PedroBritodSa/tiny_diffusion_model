{
 "cells": [
  {
   "cell_type": "code",
   "execution_count": 1,
   "metadata": {},
   "outputs": [
    {
     "ename": "ModuleNotFoundError",
     "evalue": "No module named 'tiny_diffusion_model'",
     "output_type": "error",
     "traceback": [
      "\u001b[0;31m---------------------------------------------------------------------------\u001b[0m",
      "\u001b[0;31mModuleNotFoundError\u001b[0m                       Traceback (most recent call last)",
      "Cell \u001b[0;32mIn[1], line 2\u001b[0m\n\u001b[1;32m      1\u001b[0m \u001b[39m# Importações do seu pacote\u001b[39;00m\n\u001b[0;32m----> 2\u001b[0m \u001b[39mfrom\u001b[39;00m \u001b[39mtiny_diffusion_model\u001b[39;00m \u001b[39mimport\u001b[39;00m TimeInputMLP, ScheduleLogLinear, training_loop, samples\n\u001b[1;32m      3\u001b[0m \u001b[39mfrom\u001b[39;00m \u001b[39mtiny_diffusion_model\u001b[39;00m \u001b[39mimport\u001b[39;00m BarnsleyFern, plot_batch, moving_average\n\u001b[1;32m      5\u001b[0m \u001b[39mimport\u001b[39;00m \u001b[39mtorch\u001b[39;00m\n",
      "\u001b[0;31mModuleNotFoundError\u001b[0m: No module named 'tiny_diffusion_model'"
     ]
    }
   ],
   "source": [
    "# Importações do seu pacote\n",
    "from tiny_diffusion_model import TimeInputMLP, ScheduleLogLinear, training_loop, samples\n",
    "from tiny_diffusion_model import BarnsleyFern, plot_batch, moving_average\n",
    "\n",
    "import torch\n",
    "from torch.utils.data import DataLoader\n",
    "import matplotlib.pyplot as plt\n",
    "import numpy as np\n",
    "\n",
    "# Configurações\n",
    "BATCH_SIZE = 256\n",
    "EPOCHS = 200\n",
    "LR = 1e-3\n",
    "DEVICE = 'cuda' if torch.cuda.is_available() else 'cpu'\n",
    "\n",
    "# 1. Dataset\n",
    "dataset = BarnsleyFern(10000)\n",
    "loader = DataLoader(dataset, batch_size=BATCH_SIZE, shuffle=True)\n",
    "\n",
    "# 2. Modelo e scheduler\n",
    "model = TimeInputMLP(dim=2).to(DEVICE)\n",
    "schedule = ScheduleLogLinear(N=100)\n",
    "\n",
    "# 3. Treinamento\n",
    "losses = []\n",
    "for state in training_loop(loader, model, schedule, epochs=EPOCHS, lr=LR):\n",
    "    losses.append(state.loss.item())\n",
    "    if state._ % 10 == 0:\n",
    "        print(f\"Epoch {state._}: Loss = {state.loss.item():.4f}\")\n",
    "\n",
    "# 4. Visualização da perda\n",
    "plt.plot(moving_average(losses, 10))\n",
    "plt.title(\"Training Loss (Moving Average)\")\n",
    "plt.xlabel(\"Step\")\n",
    "plt.ylabel(\"Loss\")\n",
    "plt.grid()\n",
    "plt.show()\n",
    "\n",
    "# 5. Geração de amostras\n",
    "sigmas = schedule.sample_sigmas(steps=50).to(DEVICE)\n",
    "\n",
    "samples_list = []\n",
    "for sample in samples(model, sigmas, batchsize=1024):\n",
    "    samples_list.append(sample.cpu())\n",
    "\n",
    "# 6. Visualizar imagem final\n",
    "final_sample = samples_list[-1].numpy()\n",
    "plt.scatter(final_sample[:, 0], final_sample[:, 1], s=0.5, alpha=0.7)\n",
    "plt.title(\"Generated Sample (Final Step)\")\n",
    "plt.axis('equal')\n",
    "plt.grid(True)\n",
    "plt.show()\n"
   ]
  },
  {
   "cell_type": "code",
   "execution_count": null,
   "metadata": {},
   "outputs": [],
   "source": []
  }
 ],
 "metadata": {
  "kernelspec": {
   "display_name": "Python 3",
   "language": "python",
   "name": "python3"
  },
  "language_info": {
   "codemirror_mode": {
    "name": "ipython",
    "version": 3
   },
   "file_extension": ".py",
   "mimetype": "text/x-python",
   "name": "python",
   "nbconvert_exporter": "python",
   "pygments_lexer": "ipython3",
   "version": "3.10.12"
  },
  "orig_nbformat": 4
 },
 "nbformat": 4,
 "nbformat_minor": 2
}
